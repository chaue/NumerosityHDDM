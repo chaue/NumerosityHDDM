{
 "cells": [
  {
   "cell_type": "code",
   "execution_count": 3,
   "metadata": {},
   "outputs": [
    {
     "name": "stderr",
     "output_type": "stream",
     "text": [
      "C:\\Users\\Edwin\\miniconda3\\envs\\hddm\\lib\\site-packages\\IPython\\parallel.py:13: ShimWarning: The `IPython.parallel` package has been deprecated since IPython 4.0. You should import from ipyparallel instead.\n",
      "  \"You should import from ipyparallel instead.\", ShimWarning)\n"
     ]
    }
   ],
   "source": [
    "import scipy.io as sci\n",
    "import numpy as np\n",
    "import glob\n",
    "import pandas as pd\n",
    "import matplotlib.pyplot as plt\n",
    "from scipy import stats\n",
    "import pylab\n",
    "import hddm\n",
    "from functions import *"
   ]
  },
  {
   "cell_type": "markdown",
   "metadata": {},
   "source": [
    "# Data Format"
   ]
  },
  {
   "cell_type": "code",
   "execution_count": 4,
   "metadata": {},
   "outputs": [],
   "source": [
    "datapath = 'ExpData/*.mat'\n",
    "datafiles = np.array(glob.glob(datapath))"
   ]
  },
  {
   "cell_type": "code",
   "execution_count": 5,
   "metadata": {},
   "outputs": [],
   "source": [
    "flashdata = np.empty((1,5))\n",
    "beepdata = np.empty((1,5))\n",
    "for i in np.arange(0, len(datafiles)):\n",
    "    mat = sci.loadmat(datafiles[i])\n",
    "    matf = np.insert(mat['mixtrF'], 0, int(i + 1), axis=1)\n",
    "    accf = np.hstack((matf, mat['accMatF'], mat['resptimeF']))\n",
    "    matb = np.insert(mat['mixtrB'], 0, int(i + 1), axis=1)\n",
    "    accb = np.hstack((matb, mat['accMatB'], mat['resptimeB']))\n",
    "    flashdata = np.vstack((flashdata, accf))\n",
    "    beepdata = np.vstack((beepdata, accb))\n",
    "    \n",
    "flashdata = flashdata[1:]\n",
    "beepdata = beepdata[1:]"
   ]
  },
  {
   "cell_type": "code",
   "execution_count": 6,
   "metadata": {},
   "outputs": [],
   "source": [
    "flashframe = pd.DataFrame(flashdata, columns=['subj_idx', 'flashpres', 'beeppres', 'acc', 'rt'])\n",
    "beepframe = pd.DataFrame(beepdata, columns=['subj_idx', 'flashpres', 'beeppres', 'acc', 'rt'])\n",
    "\n",
    "congrf = flashframe.loc[flashframe['flashpres'] == flashframe['beeppres']]\n",
    "unif = flashframe.loc[flashframe['beeppres'] == 0]\n",
    "congrb = beepframe.loc[beepframe['flashpres'] == beepframe['beeppres']]\n",
    "unib = beepframe.loc[beepframe['flashpres'] == 0]"
   ]
  },
  {
   "cell_type": "code",
   "execution_count": 7,
   "metadata": {},
   "outputs": [],
   "source": [
    "fig = plt.figure(figsize=(14, 5))\n",
    "ax = fig.add_subplot(121, xlabel='RT', ylabel='count', title='Unisensory Flash RT distributions (2 flashes)')\n",
    "for i, subj_data in unif.loc[unif['flashpres'] == 2].groupby('subj_idx'):\n",
    "    subj_data.rt.hist(bins=20, histtype='step', ax=ax)\n",
    "    \n",
    "ax = fig.add_subplot(122, xlabel='RT', ylabel='count', title='Congruent Flash RT distributions (2 flashes)')\n",
    "for i, subj_data in congrf.loc[congrf['flashpres'] == 2].groupby('subj_idx'):\n",
    "    subj_data.rt.hist(bins=20, histtype='step', ax=ax)\n",
    "\n",
    "plt.close()"
   ]
  },
  {
   "cell_type": "code",
   "execution_count": 8,
   "metadata": {},
   "outputs": [],
   "source": [
    "fig = plt.figure(figsize=(14, 5))\n",
    "ax = fig.add_subplot(121, xlabel='RT', ylabel='count', title='Unisensory Flash RT distributions (3 flashes)')\n",
    "for i, subj_data in unif.loc[unif['flashpres'] == 3].groupby('subj_idx'):\n",
    "    subj_data.rt.hist(bins=20, histtype='step', ax=ax)\n",
    "ax.set_ylim([0, 30])\n",
    "    \n",
    "ax = fig.add_subplot(122, xlabel='RT', ylabel='count', title='Congruent Flash RT distributions (3 flashes)')\n",
    "for i, subj_data in congrf.loc[congrf['flashpres'] == 3].groupby('subj_idx'):\n",
    "    subj_data.rt.hist(bins=20, histtype='step', ax=ax)\n",
    "ax.set_ylim([0, 30])\n",
    "plt.close()"
   ]
  },
  {
   "cell_type": "code",
   "execution_count": 9,
   "metadata": {},
   "outputs": [],
   "source": [
    "fig = plt.figure(figsize=(14, 5))\n",
    "ax = fig.add_subplot(121, xlabel='RT', ylabel='count', title='Unisensory Beep RT distributions (2 beeps)')\n",
    "#for i, subj_data in unif.loc[unif['flashpres'] == 2].groupby('subj_idx'):\n",
    "#    subj_data.rt.hist(bins=20, histtype='step', ax=ax)\n",
    "unib.loc[unib['beeppres'] == 2].rt.hist(bins=20, histtype='step', ax=ax)\n",
    "ax.set_ylim([0, 200])\n",
    "    \n",
    "ax = fig.add_subplot(122, xlabel='RT', ylabel='count', title='Congruent Beep RT distributions (2 beeps)')\n",
    "#for i, subj_data in congrf.loc[congrf['flashpres'] == 2].groupby('subj_idx'):\n",
    "#    subj_data.rt.hist(bins=20, histtype='step', ax=ax)\n",
    "unib.loc[unib['beeppres'] == 3].rt.hist(bins=20, histtype='step', ax=ax)\n",
    "ax.set_ylim([0, 200])\n",
    "plt.close()"
   ]
  },
  {
   "cell_type": "code",
   "execution_count": 10,
   "metadata": {},
   "outputs": [],
   "source": [
    "uni2flashacc = sum(unif.loc[unif['flashpres'] == 2]['acc']) / len(unif.loc[unif['flashpres'] == 2])\n",
    "uni3flashacc = sum(unif.loc[unif['flashpres'] == 3]['acc']) / len(unif.loc[unif['flashpres'] == 3])\n",
    "congr2flashacc = sum(congrf.loc[congrf['flashpres'] == 2]['acc']) / len(congrf.loc[congrf['flashpres'] == 2])\n",
    "congr3flashacc = sum(congrf.loc[congrf['flashpres'] == 3]['acc']) / len(congrf.loc[congrf['flashpres'] == 3])\n",
    "\n",
    "fig = plt.figure(figsize = (14, 5))\n",
    "ax = fig.add_subplot(121, xlabel='condition', ylabel='% accurate', title='Accuracy for Unisensory Flash Trials')\n",
    "objects = ('Unisensory 2 Flash',  'Unisensory 3 Flash')\n",
    "y_pos = np.arange(len(objects))\n",
    "performance = [uni2flashacc, uni3flashacc]\n",
    "\n",
    "uni2flashaccstd = calcstderr(unif.loc[unif['flashpres'] == 2], 'acc')\n",
    "uni3flashaccstd = calcstderr(unif.loc[unif['flashpres'] == 3], 'acc')\n",
    "congr2flashaccstd = calcstderr(congrf.loc[congrf['flashpres'] == 2], 'acc')\n",
    "congr3flashaccstd = calcstderr(congrf.loc[congrf['flashpres'] == 3], 'acc')\n",
    "\n",
    "plt.bar(y_pos, performance, yerr=[uni2flashaccstd, uni3flashaccstd], \n",
    "        color=['#1f77b4', '#ff7f0e'], ecolor='black', capsize=10)\n",
    "\n",
    "plt.xticks(y_pos, objects)\n",
    "plt.ylim([0,1])\n",
    "\n",
    "ax = fig.add_subplot(122, xlabel='condition', ylabel='% accurate', title='Accuracy for Congruent Flash Trials')\n",
    "objects2 = ('Congruent 2 Flash', 'Congruent 3 Flash')\n",
    "y_pos2 = np.arange(len(objects2))\n",
    "performance2 = [congr2flashacc, congr3flashacc]\n",
    "plt.bar(y_pos2, performance2, yerr=[congr2flashaccstd, congr3flashaccstd], \n",
    "        color=['#1f77b4', '#ff7f0e'], ecolor='black', capsize=10)\n",
    "plt.xticks(y_pos2, objects2)\n",
    "plt.ylim([0,1])\n",
    "\n",
    "plt.close()"
   ]
  },
  {
   "cell_type": "code",
   "execution_count": 11,
   "metadata": {},
   "outputs": [],
   "source": [
    "fig = plt.figure(figsize=(14, 5))\n",
    "ax = fig.add_subplot(121, xlabel='RT', ylabel='count', title='Unisensory Beep RT distributions (3 flashes)')\n",
    "for i, subj_data in unib.loc[unib['beeppres'] == 3].groupby('subj_idx'):\n",
    "    subj_data.rt.hist(bins=20, histtype='step', ax=ax)\n",
    "ax.set_ylim([0, 70])\n",
    "    \n",
    "ax = fig.add_subplot(122, xlabel='RT', ylabel='count', title='Congruent Beep RT distributions (3 flashes)')\n",
    "for i, subj_data in congrb.loc[congrb['beeppres'] == 3].groupby('subj_idx'):\n",
    "    subj_data.rt.hist(bins=20, histtype='step', ax=ax)\n",
    "ax.set_ylim([0, 70])\n",
    "plt.close()"
   ]
  },
  {
   "cell_type": "code",
   "execution_count": 12,
   "metadata": {},
   "outputs": [],
   "source": [
    "uni2beepacc = sum(unib.loc[unib['beeppres'] == 2]['acc']) / len(unib.loc[unib['beeppres'] == 2])\n",
    "uni3beepacc = sum(unib.loc[unib['beeppres'] == 3]['acc']) / len(unib.loc[unib['beeppres'] == 3])\n",
    "congr2beepacc = sum(congrb.loc[congrb['beeppres'] == 2]['acc']) / len(congrb.loc[congrb['beeppres'] == 2])\n",
    "congr3beepacc = sum(congrb.loc[congrb['beeppres'] == 3]['acc']) / len(congrb.loc[congrb['beeppres'] == 3])\n",
    "\n",
    "fig = plt.figure(figsize = (14, 5))\n",
    "ax = fig.add_subplot(121, xlabel='condition', ylabel='% accurate', title='Accuracy for Unisensory Beep Trials')\n",
    "objects = ('Unisensory 2 Beep',  'Unisensory 3 Beep')\n",
    "y_pos = np.arange(len(objects))\n",
    "performance = [uni2beepacc, uni3beepacc]\n",
    "\n",
    "uni2beepaccstd = calcstderr(unib.loc[unib['beeppres'] == 2], 'acc')\n",
    "uni3beepaccstd = calcstderr(unib.loc[unib['beeppres'] == 3], 'acc')\n",
    "congr2beepaccstd = calcstderr(congrb.loc[congrb['beeppres'] == 2], 'acc')\n",
    "congr3beepaccstd = calcstderr(congrb.loc[congrb['beeppres'] == 3], 'acc')\n",
    "\n",
    "plt.bar(y_pos, performance, yerr=[uni2beepaccstd, uni3beepaccstd], \n",
    "        color=['#1f77b4', '#ff7f0e'], ecolor='black', capsize=10)\n",
    "\n",
    "plt.xticks(y_pos, objects)\n",
    "plt.ylim([0,1])\n",
    "\n",
    "ax = fig.add_subplot(122, xlabel='condition', ylabel='% accurate', title='Accuracy for Congruent Beep Trials')\n",
    "objects2 = ('Congruent 2 Beep', 'Congruent 3 Beep')\n",
    "y_pos2 = np.arange(len(objects2))\n",
    "performance2 = [congr2beepacc, congr3beepacc]\n",
    "plt.bar(y_pos2, performance2, yerr=[congr2beepaccstd, congr3beepaccstd], \n",
    "        color=['#1f77b4', '#ff7f0e'], ecolor='black', capsize=10)\n",
    "plt.xticks(y_pos2, objects2)\n",
    "plt.ylim([0,1])\n",
    "\n",
    "plt.close()"
   ]
  },
  {
   "cell_type": "markdown",
   "metadata": {},
   "source": [
    "# Plots"
   ]
  },
  {
   "cell_type": "code",
   "execution_count": 13,
   "metadata": {
    "scrolled": false
   },
   "outputs": [
    {
     "data": {
      "image/png": "[encoded data removed]",
      "text/plain": [
       "<Figure size 1080x360 with 2 Axes>"
      ]
     },
     "metadata": {
      "needs_background": "light"
     },
     "output_type": "display_data"
    },
    {
     "data": {
      "image/png": "[encoded data removed]",
      "text/plain": [
       "<Figure size 1080x360 with 2 Axes>"
      ]
     },
     "metadata": {
      "needs_background": "light"
     },
     "output_type": "display_data"
    },
    {
     "data": {
      "image/png": "[encoded data removed]",
      "text/plain": [
       "<Figure size 1080x360 with 2 Axes>"
      ]
     },
     "metadata": {
      "needs_background": "light"
     },
     "output_type": "display_data"
    },
    {
     "data": {
      "image/png": "[encoded data removed]",
      "text/plain": [
       "<Figure size 1080x360 with 2 Axes>"
      ]
     },
     "metadata": {
      "needs_background": "light"
     },
     "output_type": "display_data"
    },
    {
     "data": {
      "image/png": "[encoded data removed]",
      "text/plain": [
       "<Figure size 1080x360 with 2 Axes>"
      ]
     },
     "metadata": {
      "needs_background": "light"
     },
     "output_type": "display_data"
    },
    {
     "data": {
      "image/png": "[encoded data removed]",
      "text/plain": [
       "<Figure size 1080x360 with 2 Axes>"
      ]
     },
     "metadata": {
      "needs_background": "light"
     },
     "output_type": "display_data"
    },
    {
     "data": {
      "image/png": "[encoded data removed]",
      "text/plain": [
       "<Figure size 1080x360 with 2 Axes>"
      ]
     },
     "metadata": {
      "needs_background": "light"
     },
     "output_type": "display_data"
    },
    {
     "data": {
      "image/png": "[encoded data removed]",
      "text/plain": [
       "<Figure size 1080x360 with 2 Axes>"
      ]
     },
     "metadata": {
      "needs_background": "light"
     },
     "output_type": "display_data"
    },
    {
     "data": {
      "image/png": "[encoded data removed]",
      "text/plain": [
       "<Figure size 1080x360 with 2 Axes>"
      ]
     },
     "metadata": {
      "needs_background": "light"
     },
     "output_type": "display_data"
    },
    {
     "data": {
      "image/png": "[encoded data removed]",
      "text/plain": [
       "<Figure size 1080x360 with 2 Axes>"
      ]
     },
     "metadata": {
      "needs_background": "light"
     },
     "output_type": "display_data"
    },
    {
     "data": {
      "image/png": "[encoded data removed]",
      "text/plain": [
       "<Figure size 1080x360 with 2 Axes>"
      ]
     },
     "metadata": {
      "needs_background": "light"
     },
     "output_type": "display_data"
    },
    {
     "data": {
      "image/png": "[encoded data removed]",
      "text/plain": [
       "<Figure size 1080x360 with 2 Axes>"
      ]
     },
     "metadata": {
      "needs_background": "light"
     },
     "output_type": "display_data"
    },
    {
     "data": {
      "image/png": "[encoded data removed]",
      "text/plain": [
       "<Figure size 1080x360 with 2 Axes>"
      ]
     },
     "metadata": {
      "needs_background": "light"
     },
     "output_type": "display_data"
    },
    {
     "data": {
      "image/png": "[encoded data removed]",
      "text/plain": [
       "<Figure size 1080x360 with 2 Axes>"
      ]
     },
     "metadata": {
      "needs_background": "light"
     },
     "output_type": "display_data"
    },
    {
     "data": {
      "image/png": "[encoded data removed]",
      "text/plain": [
       "<Figure size 1080x360 with 2 Axes>"
      ]
     },
     "metadata": {
      "needs_background": "light"
     },
     "output_type": "display_data"
    },
    {
     "data": {
      "image/png": "[encoded data removed]",
      "text/plain": [
       "<Figure size 1080x360 with 2 Axes>"
      ]
     },
     "metadata": {
      "needs_background": "light"
     },
     "output_type": "display_data"
    },
    {
     "data": {
      "image/png": "[encoded data removed]",
      "text/plain": [
       "<Figure size 1080x360 with 2 Axes>"
      ]
     },
     "metadata": {
      "needs_background": "light"
     },
     "output_type": "display_data"
    }
   ],
   "source": [
    "for i in np.arange(max(unif['subj_idx'])):\n",
    "    plotbars(unif, unib, congrf, congrb, \"(Subj \" + str(int(i + 1)) + \") % Correct\", \n",
    "             \"(Subj \" + str(int(i + 1)) + \") mean RT\", int(i + 1))\n",
    "\n",
    "plotbars(unif, unib, congrf, congrb, \"Percent Correct\", \"mean RT\")\n",
    "plotbars(unif.loc[unif['subj_idx'] != 15], unib.loc[unib['subj_idx'] != 15], \n",
    "         congrf.loc[congrf['subj_idx'] != 15], congrb.loc[congrb['subj_idx'] != 15],\n",
    "        \"Percent Correct without Subj 15\", \"mean RT without Subj 15\")"
   ]
  },
  {
   "cell_type": "code",
   "execution_count": 14,
   "metadata": {},
   "outputs": [],
   "source": [
    "subject = 15\n",
    "\n",
    "flashframe = droprow(flashframe, 0.05)\n",
    "flashframe = dropsubj(flashframe, subject)\n",
    "flashframe = droprow(flashframe, 10, False)\n",
    "beepframe = droprow(beepframe, 0.05)\n",
    "beepframe = dropsubj(beepframe, subject)\n",
    "beepframe = droprow(beepframe, 10, False)\n",
    "\n",
    "congrf = flashframe.loc[flashframe['flashpres'] == flashframe['beeppres']]\n",
    "unif = flashframe.loc[flashframe['beeppres'] == 0]\n",
    "congrb = beepframe.loc[beepframe['flashpres'] == beepframe['beeppres']]\n",
    "unib = beepframe.loc[beepframe['flashpres'] == 0]"
   ]
  },
  {
   "cell_type": "markdown",
   "metadata": {},
   "source": [
    "# Pairwise t-tests"
   ]
  },
  {
   "cell_type": "markdown",
   "metadata": {},
   "source": [
    "Conduct t-test between accuracy or rt across all subjects (1400 pairs in each test, 100 from each subject)"
   ]
  },
  {
   "cell_type": "markdown",
   "metadata": {},
   "source": [
    "## Comparing accuracy for flash trials (unisensory vs. bisensory)"
   ]
  },
  {
   "cell_type": "code",
   "execution_count": 15,
   "metadata": {},
   "outputs": [
    {
     "name": "stdout",
     "output_type": "stream",
     "text": [
      "pvalue: 7.545208303580591e-33\n"
     ]
    }
   ],
   "source": [
    "print(\"pvalue: \" + str(stats.ttest_rel(unif[\"acc\"][1:], congrf[\"acc\"])[1]))"
   ]
  },
  {
   "cell_type": "markdown",
   "metadata": {},
   "source": [
    "## Comparing accuracy for beep trials (unisensory vs. bisensory)"
   ]
  },
  {
   "cell_type": "code",
   "execution_count": 16,
   "metadata": {},
   "outputs": [
    {
     "name": "stdout",
     "output_type": "stream",
     "text": [
      "pvalue: 0.4641157028835692\n"
     ]
    }
   ],
   "source": [
    "print(\"pvalue: \" + str(stats.ttest_rel(unib[\"acc\"][3:], congrb[\"acc\"])[1]))"
   ]
  },
  {
   "cell_type": "markdown",
   "metadata": {},
   "source": [
    "## Comparing rt for flash trials (unisensory vs. bisensory)"
   ]
  },
  {
   "cell_type": "code",
   "execution_count": 17,
   "metadata": {},
   "outputs": [
    {
     "name": "stdout",
     "output_type": "stream",
     "text": [
      "pvalue: 0.9112509628115936\n"
     ]
    }
   ],
   "source": [
    "print(\"pvalue: \" + str(stats.ttest_rel(unif[\"rt\"][1:], congrf[\"rt\"])[1]))"
   ]
  },
  {
   "cell_type": "markdown",
   "metadata": {},
   "source": [
    "## Comparing rt for beep trials (unisensory vs. bisensory)"
   ]
  },
  {
   "cell_type": "code",
   "execution_count": 18,
   "metadata": {},
   "outputs": [
    {
     "name": "stdout",
     "output_type": "stream",
     "text": [
      "pvalue: 0.08822721470776992\n"
     ]
    }
   ],
   "source": [
    "print(\"pvalue: \" + str(stats.ttest_rel(unib[\"rt\"][3:], congrb[\"rt\"])[1]))"
   ]
  },
  {
   "cell_type": "markdown",
   "metadata": {},
   "source": [
    "# HDDM"
   ]
  },
  {
   "cell_type": "code",
   "execution_count": 19,
   "metadata": {},
   "outputs": [],
   "source": [
    "alldata = pd.concat([flashframe, beepframe])\n",
    "alldata.columns = ['subj_idx', 'flashpres', 'beeppres', 'response', 'rt']\n",
    "conditions = [(alldata['flashpres'] == 0) & (alldata['beeppres'] == 2), \n",
    "              (alldata['flashpres'] == 0) & (alldata['beeppres'] == 3),\n",
    "              (alldata['flashpres'] == 2) & (alldata['beeppres'] == 0),\n",
    "              (alldata['flashpres'] == 3) & (alldata['beeppres'] == 0),\n",
    "              (alldata['flashpres'] == 2) & (alldata['beeppres'] == 2),\n",
    "              (alldata['flashpres'] == 3) & (alldata['beeppres'] == 3),]\n",
    "choices = ['A2', 'A3', 'V2', 'V3', 'A2V2', 'A3V3']\n",
    "alldata['stimName'] = np.select(conditions, choices)"
   ]
  },
  {
   "cell_type": "code",
   "execution_count": 20,
   "metadata": {},
   "outputs": [],
   "source": [
    "model_unif = formatmodeldata(unif, [(unif['flashpres'] == 2), (unif['flashpres'] == 3)], ['F2', 'F3'])\n",
    "model_unib = formatmodeldata(unib, [(unib['beeppres'] == 2), (unib['beeppres'] == 3)], ['B2', 'B3'])\n",
    "model_congrf = formatmodeldata(congrf, [(congrf['flashpres'] == 2) & (congrf['beeppres'] == 2),\n",
    "                                        (congrf['flashpres'] == 3) & (congrf['beeppres'] == 3)], ['F2B2', 'F3B3'])\n",
    "model_congrb = formatmodeldata(congrb, [(congrb['flashpres'] == 2) & (congrb['beeppres'] == 2),\n",
    "                                        (congrb['flashpres'] == 3) & (congrb['beeppres'] == 3)], ['F2B2', 'F3B3'])"
   ]
  },
  {
   "cell_type": "code",
   "execution_count": 21,
   "metadata": {},
   "outputs": [],
   "source": [
    "model_unif['type'] = 'u'\n",
    "model_congrf['type'] = 'c'\n",
    "model_f = pd.concat([model_unif, model_congrf], axis = 0)\n",
    "model_unib['type'] = 'u'\n",
    "model_congrb['type'] = 'c'\n",
    "model_b = pd.concat([model_unib, model_congrb], axis = 0)"
   ]
  },
  {
   "cell_type": "code",
   "execution_count": 22,
   "metadata": {},
   "outputs": [],
   "source": [
    "flashdata = np.empty((1,6))\n",
    "beepdata = np.empty((1,6))\n",
    "for i in np.arange(0, len(datafiles)):\n",
    "    mat = sci.loadmat(datafiles[i])\n",
    "    matf = np.insert(mat['mixtrF'], 0, int(i + 1), axis=1)\n",
    "    accf = np.hstack((matf, mat['respMatF'], mat['accMatF'], mat['resptimeF']))\n",
    "    matb = np.insert(mat['mixtrB'], 0, int(i + 1), axis=1)\n",
    "    accb = np.hstack((matb, mat['respMatB'], mat['accMatB'], mat['resptimeB']))\n",
    "    flashdata = np.vstack((flashdata, accf))\n",
    "    beepdata = np.vstack((beepdata, accb))\n",
    "    \n",
    "flashdata = flashdata[1:]\n",
    "beepdata = beepdata[1:]\n",
    "\n",
    "stimFdata = pd.DataFrame(flashdata, columns=['subj_idx', 'flashpres', 'beeppres', 'response', 'acc', 'rt'])\n",
    "stimBdata = pd.DataFrame(beepdata, columns=['subj_idx', 'flashpres', 'beeppres', 'response', 'acc', 'rt'])"
   ]
  },
  {
   "cell_type": "code",
   "execution_count": 23,
   "metadata": {},
   "outputs": [],
   "source": [
    "stimFdata.loc[stimFdata['response'] == 90, 'response'] = 0\n",
    "stimFdata.loc[stimFdata['response'] == 91, 'response'] = 1\n",
    "stimBdata.loc[stimBdata['response'] == 90, 'response'] = 0\n",
    "stimBdata.loc[stimBdata['response'] == 91, 'response'] = 1\n",
    "\n",
    "congrfstim = stimFdata.loc[stimFdata['flashpres'] == stimFdata['beeppres']]\n",
    "unifstim = stimFdata.loc[stimFdata['beeppres'] == 0]\n",
    "congrbstim = stimBdata.loc[stimBdata['flashpres'] == stimBdata['beeppres']]\n",
    "unibstim = stimBdata.loc[stimBdata['flashpres'] == 0]\n",
    "\n",
    "congrfstim = congrfstim.assign(trialtype = 'c')\n",
    "#df1.loc[:,'f'] = pd.Series(np.random.randn(sLength), index=df1.index) = 'c'\n",
    "unifstim = unifstim.assign(trialtype = 'u')\n",
    "congrbstim = congrbstim.assign(trialtype = 'c')\n",
    "unibstim = unibstim.assign(trialtype = 'u')\n"
   ]
  },
  {
   "cell_type": "code",
   "execution_count": 24,
   "metadata": {},
   "outputs": [],
   "source": [
    "# 0 means responded 2, 1 means responded 3\n",
    "def stimcode(df, conditions, choices):\n",
    "    dframe = df.copy()\n",
    "    dframe['stimCode'] = np.select(conditions, choices)\n",
    "    return(dframe)\n",
    "\n",
    "unifstim = stimcode(unifstim, [(unifstim['response'] == 0) & (unifstim['acc'] == 0), \n",
    "                                  (unifstim['response'] == 0) & (unifstim['acc'] == 1),\n",
    "                                  (unifstim['response'] == 1) & (unifstim['acc'] == 0),\n",
    "                                  (unifstim['response'] == 1) & (unifstim['acc'] == 1)], [1, 0, 0, 1])\n",
    "congrfstim = stimcode(congrfstim, [(congrfstim['response'] == 0) & (congrfstim['acc'] == 0), \n",
    "                                      (congrfstim['response'] == 0) & (congrfstim['acc'] == 1),\n",
    "                                      (congrfstim['response'] == 1) & (congrfstim['acc'] == 0),\n",
    "                                      (congrfstim['response'] == 1) & (congrfstim['acc'] == 1)], [1, 0, 0, 1])\n",
    "unibstim = stimcode(unibstim, [(unibstim['response'] == 0) & (unibstim['acc'] == 0), \n",
    "                                  (unibstim['response'] == 0) & (unibstim['acc'] == 1),\n",
    "                                  (unibstim['response'] == 1) & (unibstim['acc'] == 0),\n",
    "                                  (unibstim['response'] == 1) & (unibstim['acc'] == 1)], [1, 0, 0, 1])\n",
    "congrbstim = stimcode(congrbstim, [(congrbstim['response'] == 0) & (congrbstim['acc'] == 0), \n",
    "                                      (congrbstim['response'] == 0) & (congrbstim['acc'] == 1),\n",
    "                                      (congrbstim['response'] == 1) & (congrbstim['acc'] == 0),\n",
    "                                      (congrbstim['response'] == 1) & (congrbstim['acc'] == 1)], [1, 0, 0, 1])"
   ]
  },
  {
   "cell_type": "code",
   "execution_count": 25,
   "metadata": {},
   "outputs": [],
   "source": [
    "stim_f = pd.concat([unifstim, congrfstim], axis = 0)\n",
    "stim_b = pd.concat([unibstim, congrbstim], axis = 0)\n",
    "stim_f = stim_f.drop(stim_f[stim_f['subj_idx'] == 15].index)\n",
    "stim_b = stim_b.drop(stim_b[stim_b['subj_idx'] == 15].index)"
   ]
  },
  {
   "cell_type": "markdown",
   "metadata": {},
   "source": [
    "## Accuracy-coded flash model (same threshold)"
   ]
  },
  {
   "cell_type": "code",
   "execution_count": 64,
   "metadata": {},
   "outputs": [
    {
     "name": "stdout",
     "output_type": "stream",
     "text": [
      " [-----------------100%-----------------] 7001 of 7000 complete in 706.6 sec"
     ]
    },
    {
     "data": {
      "text/plain": [
       "<pymc.MCMC.MCMC at 0x12692608>"
      ]
     },
     "execution_count": 64,
     "metadata": {},
     "output_type": "execute_result"
    }
   ],
   "source": [
    "flash_acc = hddm.HDDM(model_f, include=['a', 'v', 't', 'p_outlier'], depends_on={'v': ['type'], 't': ['type']})\n",
    "flash_acc.sample(7000, burn=500)"
   ]
  },
  {
   "cell_type": "code",
   "execution_count": 236,
   "metadata": {
    "scrolled": true
   },
   "outputs": [],
   "source": [
    "#flash_acc.print_stats()\n",
    "#unif_acc.plot_posteriors()"
   ]
  },
  {
   "cell_type": "code",
   "execution_count": 123,
   "metadata": {},
   "outputs": [
    {
     "data": {
      "image/png": "[encoded data removed]",
      "text/plain": [
       "<Figure size 432x288 with 1 Axes>"
      ]
     },
     "metadata": {
      "needs_background": "light"
     },
     "output_type": "display_data"
    }
   ],
   "source": [
    "a = flash_acc.nodes_db.node['a']\n",
    "hddm.analyze.plot_posterior_nodes([a])\n",
    "plt.xlabel('threshold')\n",
    "plt.ylabel('Posterior probability')\n",
    "plt.title('(Acc Flash) Posterior of threshold group mean')\n",
    "plt.show()"
   ]
  },
  {
   "cell_type": "code",
   "execution_count": 124,
   "metadata": {
    "scrolled": false
   },
   "outputs": [
    {
     "data": {
      "image/png": "[encoded data removed]",
      "text/plain": [
       "<Figure size 432x288 with 1 Axes>"
      ]
     },
     "metadata": {
      "needs_background": "light"
     },
     "output_type": "display_data"
    }
   ],
   "source": [
    "v_u, v_c = flash_acc.nodes_db.node[['v(u)', 'v(c)']]\n",
    "hddm.analyze.plot_posterior_nodes([v_u, v_c])\n",
    "plt.xlabel('drift-rate')\n",
    "plt.ylabel('Posterior probability')\n",
    "plt.title('(Acc Flash) Posterior of drift-rate group means')\n",
    "plt.show()"
   ]
  },
  {
   "cell_type": "code",
   "execution_count": 125,
   "metadata": {},
   "outputs": [
    {
     "data": {
      "image/png": "[encoded data removed]",
      "text/plain": [
       "<Figure size 432x288 with 1 Axes>"
      ]
     },
     "metadata": {
      "needs_background": "light"
     },
     "output_type": "display_data"
    }
   ],
   "source": [
    "t_u, t_c = flash_acc.nodes_db.node[['t(u)', 't(c)']]\n",
    "hddm.analyze.plot_posterior_nodes([t_u, t_c])\n",
    "plt.xlabel('non-decision time')\n",
    "plt.ylabel('Posterior probability')\n",
    "plt.title('(Acc Flash) Posterior of non-decision time group means')\n",
    "plt.show()"
   ]
  },
  {
   "cell_type": "markdown",
   "metadata": {},
   "source": [
    "## Stimulus-coded flash models(same threshold)"
   ]
  },
  {
   "cell_type": "code",
   "execution_count": 103,
   "metadata": {},
   "outputs": [
    {
     "data": {
      "text/html": [
       "<div>\n",
       "<style scoped>\n",
       "    .dataframe tbody tr th:only-of-type {\n",
       "        vertical-align: middle;\n",
       "    }\n",
       "\n",
       "    .dataframe tbody tr th {\n",
       "        vertical-align: top;\n",
       "    }\n",
       "\n",
       "    .dataframe thead th {\n",
       "        text-align: right;\n",
       "    }\n",
       "</style>\n",
       "<table border=\"1\" class=\"dataframe\">\n",
       "  <thead>\n",
       "    <tr style=\"text-align: right;\">\n",
       "      <th></th>\n",
       "      <th>subj_idx</th>\n",
       "      <th>flashpres</th>\n",
       "      <th>beeppres</th>\n",
       "      <th>response</th>\n",
       "      <th>acc</th>\n",
       "      <th>rt</th>\n",
       "      <th>trialtype</th>\n",
       "      <th>stimCode</th>\n",
       "    </tr>\n",
       "  </thead>\n",
       "  <tbody>\n",
       "    <tr>\n",
       "      <th>2</th>\n",
       "      <td>1.0</td>\n",
       "      <td>3.0</td>\n",
       "      <td>0.0</td>\n",
       "      <td>1.0</td>\n",
       "      <td>1.0</td>\n",
       "      <td>1.341606</td>\n",
       "      <td>u</td>\n",
       "      <td>1</td>\n",
       "    </tr>\n",
       "    <tr>\n",
       "      <th>5</th>\n",
       "      <td>1.0</td>\n",
       "      <td>3.0</td>\n",
       "      <td>0.0</td>\n",
       "      <td>1.0</td>\n",
       "      <td>1.0</td>\n",
       "      <td>1.967426</td>\n",
       "      <td>u</td>\n",
       "      <td>1</td>\n",
       "    </tr>\n",
       "    <tr>\n",
       "      <th>7</th>\n",
       "      <td>1.0</td>\n",
       "      <td>3.0</td>\n",
       "      <td>0.0</td>\n",
       "      <td>1.0</td>\n",
       "      <td>1.0</td>\n",
       "      <td>0.869609</td>\n",
       "      <td>u</td>\n",
       "      <td>1</td>\n",
       "    </tr>\n",
       "    <tr>\n",
       "      <th>10</th>\n",
       "      <td>1.0</td>\n",
       "      <td>3.0</td>\n",
       "      <td>0.0</td>\n",
       "      <td>1.0</td>\n",
       "      <td>1.0</td>\n",
       "      <td>1.167405</td>\n",
       "      <td>u</td>\n",
       "      <td>1</td>\n",
       "    </tr>\n",
       "    <tr>\n",
       "      <th>12</th>\n",
       "      <td>1.0</td>\n",
       "      <td>3.0</td>\n",
       "      <td>0.0</td>\n",
       "      <td>1.0</td>\n",
       "      <td>1.0</td>\n",
       "      <td>1.050508</td>\n",
       "      <td>u</td>\n",
       "      <td>1</td>\n",
       "    </tr>\n",
       "  </tbody>\n",
       "</table>\n",
       "</div>"
      ],
      "text/plain": [
       "    subj_idx  flashpres  beeppres  response  acc        rt trialtype  stimCode\n",
       "2        1.0        3.0       0.0       1.0  1.0  1.341606         u         1\n",
       "5        1.0        3.0       0.0       1.0  1.0  1.967426         u         1\n",
       "7        1.0        3.0       0.0       1.0  1.0  0.869609         u         1\n",
       "10       1.0        3.0       0.0       1.0  1.0  1.167405         u         1\n",
       "12       1.0        3.0       0.0       1.0  1.0  1.050508         u         1"
      ]
     },
     "execution_count": 103,
     "metadata": {},
     "output_type": "execute_result"
    }
   ],
   "source": [
    "stim_f.head()"
   ]
  },
  {
   "cell_type": "code",
   "execution_count": 105,
   "metadata": {},
   "outputs": [
    {
     "name": "stdout",
     "output_type": "stream",
     "text": [
      " [-----------------100%-----------------] 7000 of 7000 complete in 737.6 sec"
     ]
    },
    {
     "data": {
      "text/plain": [
       "<pymc.MCMC.MCMC at 0x12a6db08>"
      ]
     },
     "execution_count": 105,
     "metadata": {},
     "output_type": "execute_result"
    }
   ],
   "source": [
    "flash_stim = hddm.HDDMStimCoding(stim_f, include=['z', 'p_outlier'], depends_on={'v': 'trialtype', 't': 'trialtype', 'z': 'trialtype'}, stim_col='stimCode', split_param = 'v')\n",
    "flash_stim.sample(7000, burn=500)"
   ]
  },
  {
   "cell_type": "code",
   "execution_count": 106,
   "metadata": {},
   "outputs": [
    {
     "name": "stdout",
     "output_type": "stream",
     "text": [
      "                    mean       std      2.5q       25q       50q       75q     97.5q    mc err\n",
      "a               1.688173  0.090209  1.518996  1.628076  1.685912  1.745305  1.873517  0.001424\n",
      "a_std           0.320984  0.078078  0.208485  0.267290  0.308171  0.360211  0.513353  0.001404\n",
      "a_subj.1.0      2.116047  0.103532  1.916446  2.045809  2.115322  2.183706  2.322991  0.002686\n",
      "a_subj.2.0      1.963731  0.081954  1.806676  1.907435  1.962928  2.017503  2.126271  0.001501\n",
      "a_subj.3.0      1.357182  0.063656  1.239403  1.313666  1.354651  1.397695  1.487782  0.001426\n",
      "a_subj.4.0      1.685749  0.080782  1.525618  1.631575  1.685617  1.739361  1.843995  0.002249\n",
      "a_subj.5.0      2.011753  0.097745  1.822844  1.945445  2.010048  2.075581  2.208777  0.002035\n",
      "a_subj.6.0      1.926913  0.083861  1.765811  1.869259  1.925349  1.983870  2.100920  0.001458\n",
      "a_subj.7.0      1.802831  0.086390  1.645952  1.742949  1.798717  1.860178  1.979398  0.002214\n",
      "a_subj.8.0      1.665693  0.082975  1.510569  1.609268  1.662691  1.719574  1.833665  0.001641\n",
      "a_subj.9.0      1.623600  0.076177  1.483763  1.571066  1.619658  1.672886  1.782760  0.001611\n",
      "a_subj.10.0     1.431608  0.069271  1.303852  1.382820  1.429370  1.478031  1.571273  0.001869\n",
      "a_subj.11.0     1.449937  0.061571  1.336443  1.406090  1.447281  1.490042  1.573891  0.001093\n",
      "a_subj.12.0     1.881770  0.085177  1.722908  1.823602  1.878785  1.938154  2.054918  0.001608\n",
      "a_subj.13.0     1.231946  0.053555  1.131667  1.194787  1.229523  1.267203  1.341261  0.000975\n",
      "a_subj.14.0     1.397101  0.055094  1.296242  1.358391  1.396381  1.434053  1.508226  0.001048\n",
      "v(c)            1.448321  0.160035  1.140387  1.342328  1.444974  1.555123  1.773003  0.002139\n",
      "v(u)            0.653901  0.154572  0.353355  0.551048  0.652779  0.756129  0.956714  0.001979\n",
      "v_std           0.563341  0.094429  0.405728  0.496859  0.553815  0.620303  0.770064  0.001655\n",
      "v_subj(c).1.0   1.181446  0.140440  0.920023  1.083422  1.176924  1.275301  1.461865  0.001843\n",
      "v_subj(u).1.0   0.591048  0.128795  0.341989  0.504275  0.590729  0.677387  0.846995  0.001679\n",
      "v_subj(c).2.0   0.988033  0.125560  0.744693  0.903067  0.985791  1.073361  1.233762  0.001484\n",
      "v_subj(u).2.0   0.523446  0.131881  0.268315  0.434443  0.521599  0.612336  0.788137  0.001567\n",
      "v_subj(c).3.0   2.864772  0.257030  2.361111  2.691645  2.859982  3.038622  3.371744  0.004619\n",
      "v_subj(u).3.0   0.966951  0.172234  0.628527  0.848004  0.965078  1.082254  1.308165  0.002266\n",
      "v_subj(c).4.0   0.478986  0.134761  0.215974  0.389527  0.477108  0.567773  0.751195  0.001830\n",
      "v_subj(u).4.0   0.258304  0.149108 -0.029370  0.158911  0.256892  0.356042  0.553393  0.002082\n",
      "v_subj(c).5.0   0.765702  0.128020  0.525789  0.677919  0.764479  0.848533  1.024994  0.001877\n",
      "v_subj(u).5.0   0.201482  0.132487 -0.052105  0.109959  0.199715  0.291474  0.466019  0.001364\n",
      "v_subj(c).6.0   1.161945  0.158144  0.867651  1.054405  1.157454  1.264772  1.481644  0.002152\n",
      "v_subj(u).6.0   0.604666  0.135423  0.344552  0.511822  0.602557  0.694758  0.876053  0.001695\n",
      "v_subj(c).7.0   1.661895  0.218391  1.249825  1.511090  1.658849  1.807873  2.103835  0.005019\n",
      "v_subj(u).7.0   0.443176  0.123991  0.202417  0.360446  0.441338  0.526168  0.684515  0.001628\n",
      "v_subj(c).8.0   1.917735  0.194609  1.551444  1.782077  1.915039  2.047029  2.314343  0.002787\n",
      "v_subj(u).8.0   0.619091  0.147750  0.330543  0.518591  0.618193  0.716863  0.907550  0.001726\n",
      "v_subj(c).9.0   2.035279  0.190550  1.671552  1.906775  2.031476  2.160871  2.415884  0.002717\n",
      "v_subj(u).9.0   0.886678  0.149824  0.597650  0.782842  0.882799  0.988137  1.182686  0.001958\n",
      "v_subj(c).10.0  1.501730  0.176929  1.153135  1.381636  1.501092  1.622361  1.852883  0.002297\n",
      "v_subj(u).10.0  0.440350  0.154756  0.138694  0.337346  0.440143  0.544752  0.743650  0.001794\n",
      "v_subj(c).11.0  1.297148  0.182375  0.941237  1.173822  1.292775  1.421435  1.659809  0.002536\n",
      "v_subj(u).11.0  0.752209  0.156270  0.444895  0.646592  0.753640  0.857008  1.056682  0.001948\n",
      "v_subj(c).12.0  1.159047  0.147057  0.880422  1.058115  1.157519  1.254626  1.456247  0.001909\n",
      "v_subj(u).12.0  0.641190  0.131403  0.383993  0.551948  0.641376  0.729186  0.903047  0.001757\n",
      "v_subj(c).13.0  2.420866  0.240160  1.952141  2.258206  2.422562  2.578107  2.887755  0.004102\n",
      "v_subj(u).13.0  0.847693  0.181076  0.492758  0.725656  0.845555  0.967896  1.206571  0.001967\n",
      "v_subj(c).14.0  0.816118  0.157700  0.512150  0.708356  0.815754  0.919067  1.133225  0.001813\n",
      "v_subj(u).14.0  1.265825  0.186323  0.912765  1.135585  1.262666  1.389737  1.637758  0.002140\n",
      "t(c)            0.266443  0.021949  0.224928  0.251581  0.265834  0.280879  0.311512  0.000443\n",
      "t(u)            0.309421  0.022339  0.267055  0.294487  0.308901  0.323926  0.354161  0.000368\n",
      "t_std           0.081045  0.013929  0.058871  0.071215  0.079303  0.089053  0.113512  0.000308\n",
      "t_subj(c).1.0   0.378668  0.024754  0.323579  0.363323  0.380606  0.396249  0.420492  0.000536\n",
      "t_subj(u).1.0   0.419968  0.034705  0.371308  0.401235  0.414298  0.427438  0.535203  0.001600\n",
      "t_subj(c).2.0   0.260972  0.022755  0.213388  0.247011  0.262855  0.276482  0.301540  0.000398\n",
      "t_subj(u).2.0   0.233791  0.023976  0.189858  0.219188  0.233307  0.245337  0.298414  0.000403\n",
      "t_subj(c).3.0   0.214013  0.007227  0.198410  0.209345  0.214584  0.219107  0.226558  0.000140\n",
      "t_subj(u).3.0   0.195013  0.010762  0.173108  0.188601  0.195444  0.201893  0.213758  0.000205\n",
      "t_subj(c).4.0   0.214431  0.037003  0.161284  0.185095  0.199492  0.247869  0.291685  0.001595\n",
      "t_subj(u).4.0   0.335680  0.022568  0.277315  0.321477  0.341678  0.350485  0.369860  0.000480\n",
      "t_subj(c).5.0   0.286929  0.025544  0.231782  0.270977  0.289217  0.305025  0.329975  0.000471\n",
      "t_subj(u).5.0   0.406104  0.012665  0.377340  0.398549  0.407910  0.415191  0.425844  0.000225\n",
      "t_subj(c).6.0   0.291574  0.017404  0.253463  0.280847  0.293356  0.303962  0.320694  0.000258\n",
      "t_subj(u).6.0   0.358501  0.014207  0.327163  0.350132  0.360085  0.368517  0.381429  0.000206\n",
      "t_subj(c).7.0   0.230240  0.043378  0.145164  0.191707  0.248157  0.264238  0.284952  0.001462\n",
      "t_subj(u).7.0   0.221631  0.026723  0.176665  0.205766  0.219119  0.232992  0.286688  0.000561\n",
      "t_subj(c).8.0   0.230189  0.014335  0.199381  0.221023  0.231342  0.240390  0.255301  0.000259\n",
      "t_subj(u).8.0   0.301981  0.025170  0.251057  0.282724  0.305163  0.321540  0.344076  0.000479\n",
      "t_subj(c).9.0   0.205334  0.015308  0.170691  0.196779  0.206913  0.215601  0.230717  0.000342\n",
      "t_subj(u).9.0   0.265172  0.020397  0.220993  0.253640  0.265302  0.276853  0.305886  0.000365\n",
      "t_subj(c).10.0  0.199359  0.011776  0.173411  0.192271  0.200290  0.207744  0.219476  0.000249\n",
      "t_subj(u).10.0  0.200189  0.028476  0.148370  0.173335  0.208576  0.224585  0.241491  0.000931\n",
      "t_subj(c).11.0  0.264509  0.012174  0.238892  0.258415  0.266065  0.272521  0.282538  0.000301\n",
      "t_subj(u).11.0  0.303832  0.012408  0.276434  0.296670  0.305145  0.312599  0.323687  0.000197\n",
      "t_subj(c).12.0  0.184953  0.019240  0.147503  0.172719  0.184821  0.196438  0.226187  0.000304\n",
      "t_subj(u).12.0  0.378697  0.036406  0.309952  0.351777  0.379767  0.406177  0.444156  0.000857\n",
      "t_subj(c).13.0  0.240936  0.008232  0.225321  0.236091  0.240820  0.245165  0.260708  0.000132\n",
      "t_subj(u).13.0  0.324241  0.009921  0.302301  0.318170  0.325078  0.331391  0.340802  0.000192\n",
      "t_subj(c).14.0  0.441591  0.011753  0.417007  0.434958  0.442139  0.448995  0.464480  0.000219\n",
      "t_subj(u).14.0  0.394067  0.012435  0.367200  0.386443  0.395161  0.402975  0.415174  0.000213\n",
      "z(c)            0.511692  0.018353  0.475190  0.499326  0.511818  0.524148  0.547152  0.000278\n",
      "z(u)            0.426777  0.018212  0.390537  0.414576  0.427136  0.438848  0.463055  0.000286\n",
      "z_std           0.251525  0.023562  0.207927  0.235049  0.250050  0.267111  0.300133  0.000400\n",
      "z_subj(c).1.0   0.421619  0.025858  0.372252  0.403943  0.421294  0.439034  0.473098  0.000357\n",
      "z_subj(u).1.0   0.335238  0.025908  0.285614  0.317541  0.335063  0.351962  0.387644  0.000527\n",
      "z_subj(c).2.0   0.506948  0.026783  0.454875  0.488411  0.506706  0.525334  0.558469  0.000324\n",
      "z_subj(u).2.0   0.397422  0.026446  0.346651  0.379440  0.397169  0.414786  0.449656  0.000379\n",
      "z_subj(c).3.0   0.598341  0.023531  0.551686  0.582505  0.598329  0.614864  0.644150  0.000327\n",
      "z_subj(u).3.0   0.512819  0.028170  0.457747  0.494048  0.513156  0.531513  0.568198  0.000394\n",
      "z_subj(c).4.0   0.400939  0.027560  0.348338  0.381995  0.400376  0.419753  0.455447  0.000424\n",
      "z_subj(u).4.0   0.331260  0.027318  0.278567  0.313456  0.330879  0.348741  0.388055  0.000509\n",
      "z_subj(c).5.0   0.536854  0.026185  0.485479  0.519157  0.536581  0.554473  0.587796  0.000319\n",
      "z_subj(u).5.0   0.283428  0.023977  0.238843  0.266594  0.283031  0.299170  0.332956  0.000500\n",
      "z_subj(c).6.0   0.376508  0.027035  0.324406  0.357711  0.376283  0.394432  0.431126  0.000428\n",
      "z_subj(u).6.0   0.331907  0.025551  0.282985  0.314683  0.330996  0.348999  0.383231  0.000422\n",
      "z_subj(c).7.0   0.535549  0.026766  0.482980  0.518082  0.535212  0.553744  0.587602  0.000434\n",
      "z_subj(u).7.0   0.531406  0.028896  0.475184  0.511943  0.531358  0.550734  0.587935  0.000411\n",
      "z_subj(c).8.0   0.482693  0.027128  0.430661  0.463998  0.482674  0.501184  0.535709  0.000381\n",
      "z_subj(u).8.0   0.397046  0.028670  0.341662  0.377737  0.396911  0.416418  0.453589  0.000424\n",
      "z_subj(c).9.0   0.509356  0.023935  0.462288  0.493522  0.509694  0.525442  0.556066  0.000309\n",
      "z_subj(u).9.0   0.507397  0.028002  0.452994  0.488644  0.507219  0.526086  0.563737  0.000375\n",
      "z_subj(c).10.0  0.511747  0.026876  0.459309  0.493416  0.512157  0.529964  0.564200  0.000356\n",
      "z_subj(u).10.0  0.472621  0.030546  0.413357  0.451533  0.472124  0.492939  0.533064  0.000555\n",
      "z_subj(c).11.0  0.603691  0.027421  0.549405  0.584956  0.604341  0.622708  0.656020  0.000383\n",
      "z_subj(u).11.0  0.422985  0.026429  0.372752  0.405033  0.422535  0.440542  0.475540  0.000349\n",
      "z_subj(c).12.0  0.562280  0.026956  0.508672  0.544280  0.561928  0.580449  0.615069  0.000359\n",
      "z_subj(u).12.0  0.393642  0.031537  0.330229  0.372951  0.394383  0.414912  0.454726  0.000631\n",
      "z_subj(c).13.0  0.540066  0.025740  0.489500  0.522537  0.540078  0.557375  0.591280  0.000355\n",
      "z_subj(u).13.0  0.556667  0.027779  0.502897  0.537425  0.556794  0.575582  0.611342  0.000440\n",
      "z_subj(c).14.0  0.575001  0.027447  0.520110  0.556211  0.574745  0.594208  0.627106  0.000401\n",
      "z_subj(u).14.0  0.515910  0.026560  0.463384  0.498617  0.516104  0.533531  0.569289  0.000375\n",
      "p_outlier       0.062913  0.006863  0.050183  0.058212  0.062593  0.067361  0.077011  0.000147\n",
      "DIC: 4522.872684\n",
      "deviance: 4445.075306\n",
      "pD: 77.797378\n"
     ]
    }
   ],
   "source": [
    "flash_stim.print_stats()"
   ]
  },
  {
   "cell_type": "code",
   "execution_count": 88,
   "metadata": {},
   "outputs": [
    {
     "data": {
      "image/png": "[encoded data removed]",
      "text/plain": [
       "<Figure size 432x288 with 1 Axes>"
      ]
     },
     "metadata": {
      "needs_background": "light"
     },
     "output_type": "display_data"
    }
   ],
   "source": [
    "a = flash_stim.nodes_db.node['a']\n",
    "hddm.analyze.plot_posterior_nodes([a])\n",
    "plt.xlabel('threshold')\n",
    "plt.ylabel('Posterior probability')\n",
    "plt.title('(Stim Flash) Posterior of threshold group mean')\n",
    "plt.show()"
   ]
  },
  {
   "cell_type": "code",
   "execution_count": 89,
   "metadata": {},
   "outputs": [
    {
     "data": {
      "image/png": "[encoded data removed]",
      "text/plain": [
       "<Figure size 432x288 with 1 Axes>"
      ]
     },
     "metadata": {
      "needs_background": "light"
     },
     "output_type": "display_data"
    }
   ],
   "source": [
    "v_u, v_c = flash_stim.nodes_db.node[['v(u)', 'v(c)']]\n",
    "hddm.analyze.plot_posterior_nodes([v_u, v_c])\n",
    "plt.xlabel('drift-rate')\n",
    "plt.ylabel('Posterior probability')\n",
    "plt.title('(Stim Flash) Posterior of drift-rate group means')\n",
    "plt.show()"
   ]
  },
  {
   "cell_type": "code",
   "execution_count": 90,
   "metadata": {},
   "outputs": [
    {
     "data": {
      "image/png": "[encoded data removed]",
      "text/plain": [
       "<Figure size 432x288 with 1 Axes>"
      ]
     },
     "metadata": {
      "needs_background": "light"
     },
     "output_type": "display_data"
    }
   ],
   "source": [
    "t_u, t_c = flash_stim.nodes_db.node[['t(u)', 't(c)']]\n",
    "hddm.analyze.plot_posterior_nodes([t_u, t_c])\n",
    "plt.xlabel('non-decision time')\n",
    "plt.ylabel('Posterior probability')\n",
    "plt.title('(Stim Flash) Posterior of non-decision time group means')\n",
    "plt.show()"
   ]
  },
  {
   "cell_type": "code",
   "execution_count": 91,
   "metadata": {},
   "outputs": [
    {
     "data": {
      "image/png": "[encoded data removed]",
      "text/plain": [
       "<Figure size 432x288 with 1 Axes>"
      ]
     },
     "metadata": {
      "needs_background": "light"
     },
     "output_type": "display_data"
    }
   ],
   "source": [
    "z_u, z_c = flash_stim.nodes_db.node[['z(u)', 'z(c)']]\n",
    "hddm.analyze.plot_posterior_nodes([z_u, z_c])\n",
    "plt.xlabel('bias')\n",
    "plt.ylabel('Posterior probability')\n",
    "plt.title('(Stim Flash) Posterior of bias group means')\n",
    "plt.show()"
   ]
  },
  {
   "cell_type": "markdown",
   "metadata": {},
   "source": [
    "## Posterior Predictive Check (Flash)"
   ]
  },
  {
   "cell_type": "markdown",
   "metadata": {},
   "source": [
    "### Accuracy-coded Flash"
   ]
  },
  {
   "cell_type": "code",
   "execution_count": 93,
   "metadata": {},
   "outputs": [
    {
     "name": "stdout",
     "output_type": "stream",
     "text": [
      " [-------------------110%-------------------] 31 of 28 complete in 1290.7 sec"
     ]
    }
   ],
   "source": [
    "fppc = hddm.utils.post_pred_gen(flash_acc)"
   ]
  },
  {
   "cell_type": "code",
   "execution_count": 98,
   "metadata": {},
   "outputs": [
    {
     "name": "stdout",
     "output_type": "stream",
     "text": [
      "          observed      mean       std       SEM       MSE credible  \\\n",
      "stat                                                                  \n",
      "accuracy  0.778135  0.795677  0.124663  0.000308  0.015849     True   \n",
      "mean_ub   0.855433  0.820834  0.211357  0.001197  0.045869     True   \n",
      "std_ub    0.665953  0.420534  0.161049  0.060231  0.086168     True   \n",
      "10q_ub    0.389500  0.435356  0.093755  0.002103  0.010893     True   \n",
      "30q_ub    0.537021  0.554826  0.126206  0.000317  0.016245     True   \n",
      "50q_ub    0.665879  0.697958  0.171988  0.001029  0.030609     True   \n",
      "70q_ub    0.849032  0.911364  0.245902  0.003885  0.064353     True   \n",
      "90q_ub    1.449996  1.359270  0.413300  0.008231  0.179048     True   \n",
      "mean_lb  -1.085988 -0.823607  0.234260  0.068844  0.123721     True   \n",
      "std_lb    0.903215  0.388901  0.200062  0.264519  0.304544    False   \n",
      "10q_lb    0.444976  0.465511  0.110517  0.000422  0.012636     True   \n",
      "30q_lb    0.630831  0.577676  0.144925  0.002825  0.023829     True   \n",
      "50q_lb    0.812548  0.713187  0.197634  0.009873  0.048932     True   \n",
      "70q_lb    1.069355  0.912523  0.284419  0.024596  0.105490     True   \n",
      "90q_lb    1.941313  1.303862  0.482884  0.406344  0.639521     True   \n",
      "\n",
      "           quantile  mahalanobis  \n",
      "stat                              \n",
      "accuracy  43.057144     0.140711  \n",
      "mean_ub   57.021427     0.163699  \n",
      "std_ub    92.535713     1.523876  \n",
      "10q_ub    34.835712     0.489111  \n",
      "30q_ub    45.942856     0.141079  \n",
      "50q_ub    44.128571     0.186518  \n",
      "70q_ub    42.200001     0.253482  \n",
      "90q_ub    60.085712     0.219516  \n",
      "mean_lb   13.965716     1.120041  \n",
      "std_lb    98.854797     2.570774  \n",
      "10q_lb    46.470757     0.185805  \n",
      "30q_lb    66.421783     0.366776  \n",
      "50q_lb    71.053009     0.502751  \n",
      "70q_lb    72.263039     0.551415  \n",
      "90q_lb    89.808411     1.320092  \n"
     ]
    }
   ],
   "source": [
    "fppc_compare = hddm.utils.post_pred_stats(model_f, fppc)\n",
    "print(fppc_compare)"
   ]
  },
  {
   "cell_type": "markdown",
   "metadata": {},
   "source": [
    "### Stimulus-coded Flash"
   ]
  },
  {
   "cell_type": "code",
   "execution_count": 52,
   "metadata": {},
   "outputs": [
    {
     "name": "stdout",
     "output_type": "stream",
     "text": [
      " [------------------105%------------------] 59 of 56 complete in 2478.1 sec"
     ]
    }
   ],
   "source": [
    "fppc2 = hddm.utils.post_pred_gen(flash_stim)"
   ]
  },
  {
   "cell_type": "code",
   "execution_count": 55,
   "metadata": {},
   "outputs": [
    {
     "name": "stdout",
     "output_type": "stream",
     "text": [
      "          observed      mean       std       SEM       MSE credible  \\\n",
      "stat                                                                  \n",
      "accuracy  0.778135  0.786028  0.128655  0.000062  0.016614     True   \n",
      "mean_ub   0.855433  0.920047  0.269142  0.004175  0.076612     True   \n",
      "std_ub    0.665953  0.523266  0.216317  0.020360  0.067152     True   \n",
      "10q_ub    0.389500  0.440812  0.129023  0.002633  0.019280     True   \n",
      "30q_ub    0.537021  0.588942  0.171498  0.002696  0.032107     True   \n",
      "50q_ub    0.665879  0.767402  0.229415  0.010307  0.062938     True   \n",
      "70q_ub    0.849032  1.032765  0.323504  0.033758  0.138412     True   \n",
      "90q_ub    1.449996  1.576562  0.532017  0.016019  0.299061     True   \n",
      "mean_lb  -1.085988 -0.926923  0.325185  0.025302  0.131047     True   \n",
      "std_lb    0.903215  0.453136  0.279067  0.202571  0.280450     True   \n",
      "10q_lb    0.444976  0.514913  0.209170  0.004891  0.048643     True   \n",
      "30q_lb    0.630831  0.646152  0.243953  0.000235  0.059748     True   \n",
      "50q_lb    0.812548  0.804650  0.301533  0.000062  0.090985     True   \n",
      "70q_lb    1.069355  1.033435  0.397583  0.001290  0.159362     True   \n",
      "90q_lb    1.941313  1.458242  0.619438  0.233358  0.617061     True   \n",
      "\n",
      "           quantile  mahalanobis  \n",
      "stat                              \n",
      "accuracy  45.724998     0.061349  \n",
      "mean_ub   43.296429     0.240072  \n",
      "std_ub    76.703575     0.659621  \n",
      "10q_ub    39.071430     0.397696  \n",
      "30q_ub    41.453571     0.302749  \n",
      "50q_ub    35.639286     0.442528  \n",
      "70q_ub    30.303572     0.567945  \n",
      "90q_ub    43.842857     0.237899  \n",
      "mean_lb   27.836111     0.489151  \n",
      "std_lb    93.597183     1.612798  \n",
      "10q_lb    40.436157     0.334351  \n",
      "30q_lb    53.550186     0.062804  \n",
      "50q_lb    57.063660     0.026194  \n",
      "70q_lb    58.936047     0.090347  \n",
      "90q_lb    79.991188     0.779855  \n"
     ]
    }
   ],
   "source": [
    "fppc_compare2 = hddm.utils.post_pred_stats(stim_f, fppc2)\n",
    "print(fppc_compare2)"
   ]
  },
  {
   "cell_type": "markdown",
   "metadata": {},
   "source": [
    "## Parameter Recovery (Flash)"
   ]
  },
  {
   "cell_type": "markdown",
   "metadata": {},
   "source": [
    "### Accuracy-coded Flash"
   ]
  },
  {
   "cell_type": "code",
   "execution_count": 68,
   "metadata": {},
   "outputs": [],
   "source": [
    "fsyndata, fparam = hddm.generate.gen_rand_data(params={'u': {'a': 1.613684  , 'v': 0.631853, 't': 0.291248},\n",
    "                                                       'c': {'a': 1.613684  , 'v': 1.411966, 't': 0.263438}}, \n",
    "                                               size = 200, subjs = 14)"
   ]
  },
  {
   "cell_type": "code",
   "execution_count": 69,
   "metadata": {},
   "outputs": [
    {
     "name": "stdout",
     "output_type": "stream",
     "text": [
      "a    1.568907\n",
      "t    0.304491\n",
      "v    0.682463\n",
      "dtype: float64\n",
      "a    1.568907\n",
      "t    0.276681\n",
      "v    1.462576\n",
      "dtype: float64\n"
     ]
    }
   ],
   "source": [
    "print(pd.DataFrame(data = fparam['u']).mean())\n",
    "print(pd.DataFrame(data = fparam['c']).mean())"
   ]
  },
  {
   "cell_type": "code",
   "execution_count": 73,
   "metadata": {},
   "outputs": [
    {
     "name": "stdout",
     "output_type": "stream",
     "text": [
      "0.8232142857142857\n",
      "0.7781350482315113\n"
     ]
    }
   ],
   "source": [
    "print(np.mean(fsyndata['response']))\n",
    "print(np.mean(model_f['response']))"
   ]
  },
  {
   "cell_type": "code",
   "execution_count": 234,
   "metadata": {},
   "outputs": [
    {
     "name": "stdout",
     "output_type": "stream",
     "text": [
      " [-----------------100%-----------------] 7000 of 7000 complete in 865.2 sec"
     ]
    },
    {
     "data": {
      "text/plain": [
       "<pymc.MCMC.MCMC at 0x1be4b288>"
      ]
     },
     "execution_count": 234,
     "metadata": {},
     "output_type": "execute_result"
    }
   ],
   "source": [
    "fparamrec = hddm.HDDM(fsyndata, include=['a', 'v', 't', 'p_outlier'], depends_on={'v': 'condition', 't': 'condition'})\n",
    "fparamrec.sample(7000, burn=500)"
   ]
  },
  {
   "cell_type": "code",
   "execution_count": 243,
   "metadata": {
    "scrolled": true
   },
   "outputs": [],
   "source": [
    "#fparamrec.print_stats()"
   ]
  },
  {
   "cell_type": "markdown",
   "metadata": {},
   "source": [
    "a: 0.2% diff\n",
    "\n",
    "v(c): 1.6% diff\n",
    "\n",
    "v(u): 0.6% diff\n",
    "\n",
    "t(c): 6.3% diff\n",
    "\n",
    "t(u): 5.7% diff"
   ]
  },
  {
   "cell_type": "markdown",
   "metadata": {},
   "source": [
    "### Stim-coded Flash"
   ]
  },
  {
   "cell_type": "code",
   "execution_count": 38,
   "metadata": {},
   "outputs": [
    {
     "data": {
      "text/plain": [
       "0.4992857142857143"
      ]
     },
     "execution_count": 38,
     "metadata": {},
     "output_type": "execute_result"
    }
   ],
   "source": [
    "np.mean(stim_f.loc[stim_f['trialtype'] == 'c']['stimCode'])"
   ]
  },
  {
   "cell_type": "code",
   "execution_count": 35,
   "metadata": {},
   "outputs": [
    {
     "data": {
      "text/html": [
       "<div>\n",
       "<style scoped>\n",
       "    .dataframe tbody tr th:only-of-type {\n",
       "        vertical-align: middle;\n",
       "    }\n",
       "\n",
       "    .dataframe tbody tr th {\n",
       "        vertical-align: top;\n",
       "    }\n",
       "\n",
       "    .dataframe thead th {\n",
       "        text-align: right;\n",
       "    }\n",
       "</style>\n",
       "<table border=\"1\" class=\"dataframe\">\n",
       "  <thead>\n",
       "    <tr style=\"text-align: right;\">\n",
       "      <th></th>\n",
       "      <th>subj_idx</th>\n",
       "      <th>flashpres</th>\n",
       "      <th>beeppres</th>\n",
       "      <th>response</th>\n",
       "      <th>acc</th>\n",
       "      <th>rt</th>\n",
       "      <th>trialtype</th>\n",
       "      <th>stimCode</th>\n",
       "    </tr>\n",
       "  </thead>\n",
       "  <tbody>\n",
       "    <tr>\n",
       "      <th>2</th>\n",
       "      <td>1.0</td>\n",
       "      <td>3.0</td>\n",
       "      <td>0.0</td>\n",
       "      <td>1.0</td>\n",
       "      <td>1.0</td>\n",
       "      <td>1.341606</td>\n",
       "      <td>u</td>\n",
       "      <td>1</td>\n",
       "    </tr>\n",
       "    <tr>\n",
       "      <th>5</th>\n",
       "      <td>1.0</td>\n",
       "      <td>3.0</td>\n",
       "      <td>0.0</td>\n",
       "      <td>1.0</td>\n",
       "      <td>1.0</td>\n",
       "      <td>1.967426</td>\n",
       "      <td>u</td>\n",
       "      <td>1</td>\n",
       "    </tr>\n",
       "    <tr>\n",
       "      <th>7</th>\n",
       "      <td>1.0</td>\n",
       "      <td>3.0</td>\n",
       "      <td>0.0</td>\n",
       "      <td>1.0</td>\n",
       "      <td>1.0</td>\n",
       "      <td>0.869609</td>\n",
       "      <td>u</td>\n",
       "      <td>1</td>\n",
       "    </tr>\n",
       "    <tr>\n",
       "      <th>10</th>\n",
       "      <td>1.0</td>\n",
       "      <td>3.0</td>\n",
       "      <td>0.0</td>\n",
       "      <td>1.0</td>\n",
       "      <td>1.0</td>\n",
       "      <td>1.167405</td>\n",
       "      <td>u</td>\n",
       "      <td>1</td>\n",
       "    </tr>\n",
       "    <tr>\n",
       "      <th>12</th>\n",
       "      <td>1.0</td>\n",
       "      <td>3.0</td>\n",
       "      <td>0.0</td>\n",
       "      <td>1.0</td>\n",
       "      <td>1.0</td>\n",
       "      <td>1.050508</td>\n",
       "      <td>u</td>\n",
       "      <td>1</td>\n",
       "    </tr>\n",
       "  </tbody>\n",
       "</table>\n",
       "</div>"
      ],
      "text/plain": [
       "    subj_idx  flashpres  beeppres  response  acc        rt trialtype  stimCode\n",
       "2        1.0        3.0       0.0       1.0  1.0  1.341606         u         1\n",
       "5        1.0        3.0       0.0       1.0  1.0  1.967426         u         1\n",
       "7        1.0        3.0       0.0       1.0  1.0  0.869609         u         1\n",
       "10       1.0        3.0       0.0       1.0  1.0  1.167405         u         1\n",
       "12       1.0        3.0       0.0       1.0  1.0  1.050508         u         1"
      ]
     },
     "execution_count": 35,
     "metadata": {},
     "output_type": "execute_result"
    }
   ],
   "source": [
    "stim_f.head()"
   ]
  },
  {
   "cell_type": "code",
   "execution_count": 115,
   "metadata": {},
   "outputs": [],
   "source": [
    "b1, b1param = hddm.generate.gen_rand_data(params={'u': {'a': 1.688173, 'v': 0.653901, 't': 0.309421, 'z': 0.426777},\n",
    "                                                  'c': {'a': 1.688173, 'v': 1.448321, 't': 0.266443, 'z': 0.511692}}, \n",
    "                                               size = 50, subjs = 14)\n",
    "b2, b2param = hddm.generate.gen_rand_data(params={'u': {'a': 1.688173, 'v': 0.653901, 't': 0.309421, 'z': 1 - 0.426777},\n",
    "                                                  'c': {'a': 1.688173, 'v': 1.448321, 't': 0.266443, 'z': 1 - 0.511692}}, \n",
    "                                               size = 50, subjs = 14)\n",
    "b1['stimCode'] = 1\n",
    "b2['stimCode'] = 0\n",
    "fsyndata2 = b1.append(b2, ignore_index = True)"
   ]
  },
  {
   "cell_type": "code",
   "execution_count": 112,
   "metadata": {},
   "outputs": [
    {
     "name": "stdout",
     "output_type": "stream",
     "text": [
      "a    1.724963\n",
      "t    0.326790\n",
      "v    0.637858\n",
      "z    0.586321\n",
      "dtype: float64\n",
      "a    1.724963\n",
      "t    0.283812\n",
      "v    1.432278\n",
      "z    0.501406\n",
      "dtype: float64\n"
     ]
    }
   ],
   "source": [
    "print(pd.DataFrame(data = b2param['u']).mean())\n",
    "print(pd.DataFrame(data = b2param['c']).mean())"
   ]
  },
  {
   "cell_type": "code",
   "execution_count": 116,
   "metadata": {},
   "outputs": [
    {
     "data": {
      "text/plain": [
       "rt          0.856694\n",
       "response    0.838214\n",
       "subj_idx    6.500000\n",
       "stimCode    0.500000\n",
       "dtype: float64"
      ]
     },
     "execution_count": 116,
     "metadata": {},
     "output_type": "execute_result"
    }
   ],
   "source": [
    "fsyndata2.mean()"
   ]
  },
  {
   "cell_type": "code",
   "execution_count": 117,
   "metadata": {},
   "outputs": [
    {
     "data": {
      "text/plain": [
       "rt          0.906268\n",
       "response    0.424643\n",
       "stimCode    0.499643\n",
       "dtype: float64"
      ]
     },
     "execution_count": 117,
     "metadata": {},
     "output_type": "execute_result"
    }
   ],
   "source": [
    "stim_f[['rt', 'response', 'stimCode']].mean()"
   ]
  },
  {
   "cell_type": "markdown",
   "metadata": {},
   "source": [
    "1, 0"
   ]
  },
  {
   "cell_type": "code",
   "execution_count": 119,
   "metadata": {},
   "outputs": [
    {
     "name": "stdout",
     "output_type": "stream",
     "text": [
      " [-----------------100%-----------------] 7000 of 7000 complete in 747.4 sec"
     ]
    },
    {
     "data": {
      "text/plain": [
       "<pymc.MCMC.MCMC at 0xf0c7b08>"
      ]
     },
     "execution_count": 119,
     "metadata": {},
     "output_type": "execute_result"
    }
   ],
   "source": [
    "flash_stim = hddm.HDDMStimCoding(fsyndata2, include=['z', 'p_outlier'], depends_on={'v': 'condition', 't': 'condition', 'z': 'condition'}, stim_col='stimCode', split_param = 'v')\n",
    "flash_stim.sample(7000, burn=500)"
   ]
  },
  {
   "cell_type": "code",
   "execution_count": 120,
   "metadata": {},
   "outputs": [
    {
     "name": "stdout",
     "output_type": "stream",
     "text": [
      "                   mean        std       2.5q        25q        50q        75q      97.5q       mc err\n",
      "a               1.79311  0.0302552     1.7365    1.77359    1.79268    1.81128    1.85622  0.000663417\n",
      "a_std         0.0826726  0.0332444  0.0254655  0.0599159  0.0800215    0.10189   0.155982   0.00139232\n",
      "a_subj.0        1.79325  0.0457346    1.70502     1.7638    1.79172     1.8225    1.88599  0.000773769\n",
      "a_subj.1        1.84057  0.0554221    1.74117    1.80229    1.83642    1.87612    1.96092    0.0013297\n",
      "a_subj.2        1.75161  0.0532709    1.64514    1.71669    1.75174    1.78791    1.85665   0.00120503\n",
      "a_subj.3        1.78092  0.0491442    1.68589    1.74828    1.78043    1.81249    1.88119  0.000958153\n",
      "a_subj.4        1.87734   0.070667    1.75941    1.82565    1.87149    1.92168    2.02991   0.00206717\n",
      "a_subj.5        1.78183    0.05062    1.68263    1.74901     1.7813    1.81494    1.88225  0.000961894\n",
      "a_subj.6        1.73828  0.0537091    1.63183    1.70232    1.73933    1.77472    1.84164    0.0013353\n",
      "a_subj.7        1.79411  0.0511748     1.6989    1.76035    1.79261    1.82724    1.89959  0.000884921\n",
      "a_subj.8        1.82633  0.0571749    1.72282    1.78707    1.82294    1.86182     1.9494   0.00131744\n",
      "a_subj.9        1.91065  0.0676864    1.78806    1.86188    1.90823    1.95484    2.05236    0.0024158\n",
      "a_subj.10       1.79801  0.0516909    1.69998    1.76393     1.7961    1.83072    1.90517   0.00114721\n",
      "a_subj.11       1.74974  0.0531047    1.64405    1.71404    1.75095    1.78546    1.85252   0.00134163\n",
      "a_subj.12       1.71602  0.0528465    1.60898    1.68084    1.71726    1.75313     1.8158   0.00143431\n",
      "a_subj.13       1.73211  0.0617683    1.60686    1.69147    1.73571    1.77561    1.84632   0.00170922\n",
      "v(c)            1.19068  0.0605109    1.06995    1.15036    1.19198    1.22964    1.30928   0.00205408\n",
      "v(u)           0.700157  0.0529474   0.594257   0.666325   0.699703   0.734462   0.804946   0.00159247\n",
      "v_std          0.122324  0.0473014  0.0347175  0.0889824   0.120568   0.153015   0.218641   0.00255352\n",
      "v_subj(c).0     1.12444   0.104478   0.901844    1.06215    1.12778    1.19564    1.31334   0.00257034\n",
      "v_subj(c).1       1.096     0.1096   0.864465    1.02803     1.1032    1.17207    1.29306   0.00338104\n",
      "v_subj(c).2     1.12379    0.11073   0.884478    1.05621    1.12992    1.19921      1.325   0.00286643\n",
      "v_subj(c).3      1.1664   0.100468   0.957638    1.10274    1.16907    1.23285     1.3592   0.00219497\n",
      "v_subj(c).4     1.29058   0.123262    1.07652    1.20432    1.28024    1.36723    1.55556   0.00406582\n",
      "v_subj(c).5     1.31813   0.122118    1.10656    1.23073    1.30593    1.39722    1.58216   0.00400905\n",
      "v_subj(c).6     1.13043   0.111949   0.890392    1.05911    1.13522    1.20564    1.34064   0.00283492\n",
      "v_subj(c).7     1.18375   0.103273   0.979385    1.11617    1.18466    1.25135    1.38979   0.00216933\n",
      "v_subj(c).8     1.27018   0.112058    1.06329    1.19385    1.26334    1.34262    1.50992   0.00310761\n",
      "v_subj(c).9     1.16991  0.0989151   0.970859    1.10548    1.17214    1.23527    1.36228   0.00238885\n",
      "v_subj(c).10    1.18325   0.104335   0.976846    1.11568     1.1839    1.24937    1.39673   0.00242257\n",
      "v_subj(c).11    1.23489   0.111754    1.02558    1.16176    1.23033    1.30461    1.46405    0.0028123\n",
      "v_subj(c).12    1.11529   0.108062    0.89164    1.04496    1.12154    1.18795    1.31538   0.00290969\n",
      "v_subj(c).13    1.25752   0.126646    1.02285    1.17527    1.24929    1.33394    1.53215   0.00347343\n",
      "v_subj(u).0     0.72609  0.0954201   0.540982   0.664265   0.722912   0.786631   0.922706   0.00206336\n",
      "v_subj(u).1      0.6028   0.103317   0.381518   0.539933   0.611377   0.673896   0.783687   0.00295014\n",
      "v_subj(u).2    0.679992  0.0991241   0.478412   0.618664    0.68111   0.743436   0.874768   0.00187611\n",
      "v_subj(u).3    0.579515    0.10921   0.337735   0.512204   0.589256    0.65709    0.77071   0.00377205\n",
      "v_subj(u).4    0.793718   0.104676   0.609308   0.719369   0.785838   0.860362    1.01727   0.00326767\n",
      "v_subj(u).5    0.773141   0.102472    0.58453   0.701844   0.766649   0.837497   0.995424   0.00296795\n",
      "v_subj(u).6    0.686933  0.0969694    0.49039   0.626443   0.687288   0.748497   0.880802   0.00204253\n",
      "v_subj(u).7     0.78652   0.101127    0.60638   0.713562   0.780562   0.851677    1.00474   0.00305299\n",
      "v_subj(u).8    0.749738  0.0974131   0.569414   0.683627   0.745215   0.811744   0.952031    0.0023619\n",
      "v_subj(u).9    0.600095  0.0978498   0.392252    0.53587   0.606188     0.6696   0.774409   0.00292553\n",
      "v_subj(u).10   0.724038  0.0944765   0.539138    0.66379   0.721182   0.784333   0.914068   0.00187702\n",
      "v_subj(u).11   0.625384   0.101589   0.406714   0.561393   0.632626    0.69286   0.812097   0.00260126\n",
      "v_subj(u).12   0.733419  0.0998062   0.544892   0.668377   0.728568   0.796823   0.938176   0.00215159\n",
      "v_subj(u).13   0.741516   0.107455   0.540508    0.67075   0.737015   0.805665   0.969634   0.00264938\n",
      "t(c)           0.157028  0.0214909   0.119322   0.142334   0.155611   0.170417   0.203587   0.00044805\n",
      "t(u)           0.194678  0.0223952   0.153758   0.179534   0.193474   0.208437   0.241155  0.000397175\n",
      "t_std         0.0867991  0.0175308  0.0600281  0.0743925  0.0841504  0.0963797   0.128183  0.000415308\n",
      "t_subj(c).0   0.0371404  0.0100571  0.0155119  0.0304722  0.0377579  0.0444361  0.0547345  0.000153051\n",
      "t_subj(c).1    0.139283  0.0204815   0.094937    0.12676   0.140689   0.154243   0.174248  0.000411916\n",
      "t_subj(c).2    0.127982  0.0190811  0.0861884   0.116016   0.129557   0.142076    0.15992  0.000450545\n",
      "t_subj(c).3   0.0623066  0.0150513  0.0312569  0.0521023  0.0631305  0.0733302   0.088693  0.000285398\n",
      "t_subj(c).4     0.23111  0.0192095   0.187717   0.219517   0.233335   0.244995   0.262505   0.00054629\n",
      "t_subj(c).5    0.104454  0.0137685  0.0732466  0.0961473   0.106093   0.114542   0.126746  0.000214227\n",
      "t_subj(c).6    0.296641  0.0203505   0.252955    0.28393   0.298091   0.311321   0.331355  0.000395221\n",
      "t_subj(c).7   0.0912631  0.0180922  0.0529743  0.0796023  0.0925514   0.104271   0.123146  0.000302978\n",
      "t_subj(c).8    0.150251  0.0195573   0.108214   0.137875    0.15192   0.164287   0.183898  0.000410178\n",
      "t_subj(c).9    0.183511  0.0234732   0.131774    0.16947   0.185272   0.200264   0.224139  0.000621052\n",
      "t_subj(c).10   0.137431  0.0200157  0.0952366   0.124505     0.1388   0.151881    0.17261  0.000369426\n",
      "t_subj(c).11   0.129498  0.0198375  0.0872688   0.116711    0.13077   0.143618    0.16489  0.000495122\n",
      "t_subj(c).12   0.121271  0.0157015   0.087451   0.111485   0.122413   0.132542   0.148562  0.000312915\n",
      "t_subj(c).13   0.178378  0.0162386   0.139281    0.16991   0.180566   0.189731   0.203478  0.000558691\n",
      "t_subj(u).0   0.0544984  0.0108486   0.031176  0.0474431  0.0553798  0.0623186  0.0734068  0.000175796\n",
      "t_subj(u).1    0.204303  0.0212103   0.155434    0.19195   0.206599   0.219397   0.239595  0.000494808\n",
      "t_subj(u).2     0.18666  0.0206387   0.143167   0.173544   0.188304   0.201103     0.2234  0.000338505\n",
      "t_subj(u).3   0.0957765  0.0179002  0.0569513  0.0846074  0.0966553   0.108226   0.128355  0.000280028\n",
      "t_subj(u).4    0.283407  0.0207005    0.23516   0.271562   0.285931   0.298552   0.315785  0.000501335\n",
      "t_subj(u).5    0.191715  0.0185597   0.151813    0.18014   0.193083   0.205085    0.22371  0.000284328\n",
      "t_subj(u).6    0.293269  0.0196871   0.249381   0.281042   0.295027   0.307418   0.327238  0.000402192\n",
      "t_subj(u).7    0.103881  0.0175821   0.065222  0.0928547   0.105337   0.116361   0.134334  0.000269062\n",
      "t_subj(u).8    0.183053  0.0217183   0.136232   0.169112   0.184855    0.19843   0.220547  0.000394564\n",
      "t_subj(u).9    0.259557  0.0220464    0.20941   0.246103   0.262361   0.275284   0.294934  0.000436751\n",
      "t_subj(u).10   0.144604  0.0197715   0.102631   0.131729   0.146161   0.158708   0.178799  0.000334509\n",
      "t_subj(u).11   0.210355   0.019652   0.166995   0.198022   0.211749   0.224526   0.243875  0.000368387\n",
      "t_subj(u).12    0.22183  0.0170699   0.183969    0.21147   0.223316   0.233784   0.251285  0.000280599\n",
      "t_subj(u).13   0.217942  0.0163183    0.18012   0.208694   0.219729   0.229573   0.243921   0.00041619\n",
      "z(c)           0.480494  0.0213923   0.438542   0.466015   0.480524   0.495191    0.52207  0.000504642\n",
      "z(u)           0.478812  0.0205181    0.43903   0.464795   0.478557   0.492312   0.519882  0.000409942\n",
      "z_std           0.27067  0.0252134   0.223227   0.253384   0.270109   0.286688   0.322978  0.000524542\n",
      "z_subj(c).0    0.331552  0.0254033   0.281874   0.314188   0.331397   0.348278   0.382535  0.000458501\n",
      "z_subj(c).1    0.507741  0.0353605   0.437094   0.484634   0.508703   0.531646   0.574879   0.00081727\n",
      "z_subj(c).2    0.568459  0.0365865   0.495892   0.543947   0.569057   0.594218   0.638168  0.000898816\n",
      "z_subj(c).3    0.449682  0.0314613   0.387923    0.42865   0.449251   0.470333   0.513714  0.000603275\n",
      "z_subj(c).4     0.60308  0.0381995   0.522569   0.578893   0.605093   0.629294   0.672354   0.00112342\n",
      "z_subj(c).5    0.377778  0.0286344   0.320819   0.358702   0.377345    0.39703   0.434063  0.000596775\n",
      "z_subj(c).6    0.488613  0.0320111   0.425899   0.467576   0.488519   0.509712   0.549834  0.000620591\n",
      "z_subj(c).7    0.453172  0.0297374   0.395155   0.433275   0.453291   0.473168   0.511882  0.000492578\n",
      "z_subj(c).8    0.503917  0.0335691   0.436365   0.481414   0.503959   0.527469   0.567607  0.000708437\n",
      "z_subj(c).9    0.447812  0.0314229   0.385546   0.426871   0.447906   0.468546   0.509854  0.000754457\n",
      "z_subj(c).10   0.446333  0.0299394   0.387972   0.426338   0.446343   0.466686   0.505174  0.000543085\n",
      "z_subj(c).11   0.514438   0.035702    0.44364   0.489781   0.515093   0.539008   0.582477  0.000919441\n",
      "z_subj(c).12   0.363151  0.0261194   0.313302   0.345368   0.362999    0.38032   0.415886  0.000500296\n",
      "z_subj(c).13   0.668605  0.0389652   0.583092   0.644167   0.672082   0.696103   0.736286   0.00135127\n",
      "z_subj(u).0    0.298167  0.0257711   0.249219   0.280702   0.297691   0.315766   0.349126  0.000478189\n",
      "z_subj(u).1    0.552775  0.0332585   0.487313   0.530821   0.552837   0.574858   0.617136  0.000859438\n",
      "z_subj(u).2    0.515146  0.0303533   0.454901   0.494849   0.515175   0.535526    0.57537  0.000535124\n",
      "z_subj(u).3    0.476184  0.0290919   0.419756   0.456236   0.476072   0.495723    0.53534  0.000620289\n",
      "z_subj(u).4    0.572587  0.0331595   0.505532   0.550468   0.573523   0.595268   0.635225  0.000823708\n",
      "z_subj(u).5    0.431301  0.0282481   0.375849   0.412277   0.431345   0.450173   0.486559  0.000501672\n",
      "z_subj(u).6    0.505498  0.0313128   0.443939   0.484561   0.505707   0.526462   0.566303  0.000598113\n",
      "z_subj(u).7    0.436634  0.0277868    0.38188   0.417911   0.436869   0.455841   0.490195  0.000507037\n",
      "z_subj(u).8    0.463552  0.0294758   0.404279   0.443563   0.463507   0.483583   0.520916  0.000580761\n",
      "z_subj(u).9    0.463157  0.0307842   0.402457   0.442728   0.462668   0.483838   0.522382  0.000590624\n",
      "z_subj(u).10    0.47478  0.0292607   0.418826   0.455164   0.474612   0.494192   0.533248  0.000420735\n",
      "z_subj(u).11   0.500094  0.0313194   0.438519   0.478836   0.500164   0.521597   0.560117  0.000598127\n",
      "z_subj(u).12   0.372013  0.0265816   0.319286   0.354101   0.371896   0.389716   0.425468  0.000434161\n",
      "z_subj(u).13   0.650872  0.0344851    0.57844   0.628352   0.651785   0.675439   0.713281   0.00101711\n",
      "DIC: 4789.954714\n",
      "deviance: 4721.093094\n",
      "pD: 68.861621\n"
     ]
    }
   ],
   "source": [
    "fparamrec2.print_stats()"
   ]
  },
  {
   "cell_type": "markdown",
   "metadata": {},
   "source": [
    "a: 2.4% diff\n",
    "\n",
    "v(c): 0.4% diff\n",
    "\n",
    "v(u): 6.7% diff\n",
    "\n",
    "t(c): 14% diff\n",
    "\n",
    "t(u): 9.8% diff\n",
    "\n",
    "z(c): 7.3% diff\n",
    "\n",
    "z(u): 5.7% diff"
   ]
  },
  {
   "cell_type": "markdown",
   "metadata": {},
   "source": [
    "0, 1"
   ]
  },
  {
   "cell_type": "code",
   "execution_count": 121,
   "metadata": {},
   "outputs": [],
   "source": [
    "b1, b1param = hddm.generate.gen_rand_data(params={'u': {'a': 1.688173, 'v': 0.653901, 't': 0.309421, 'z': 0.426777},\n",
    "                                                  'c': {'a': 1.688173, 'v': 1.448321, 't': 0.266443, 'z': 0.511692}}, \n",
    "                                               size = 50, subjs = 14)\n",
    "b2, b2param = hddm.generate.gen_rand_data(params={'u': {'a': 1.688173, 'v': 0.653901, 't': 0.309421, 'z': 1 - 0.426777},\n",
    "                                                  'c': {'a': 1.688173, 'v': 1.448321, 't': 0.266443, 'z': 1 - 0.511692}}, \n",
    "                                               size = 50, subjs = 14)\n",
    "b1['stimCode'] = 0\n",
    "b2['stimCode'] = 1\n",
    "fsyndata2 = b1.append(b2, ignore_index = True)"
   ]
  },
  {
   "cell_type": "code",
   "execution_count": 122,
   "metadata": {},
   "outputs": [
    {
     "name": "stdout",
     "output_type": "stream",
     "text": [
      " [-----------------100%-----------------] 7000 of 7000 complete in 765.9 sec                   mean        std       2.5q        25q        50q        75q      97.5q       mc err\n",
      "a               1.79311  0.0302552     1.7365    1.77359    1.79268    1.81128    1.85622  0.000663417\n",
      "a_std         0.0826726  0.0332444  0.0254655  0.0599159  0.0800215    0.10189   0.155982   0.00139232\n",
      "a_subj.0        1.79325  0.0457346    1.70502     1.7638    1.79172     1.8225    1.88599  0.000773769\n",
      "a_subj.1        1.84057  0.0554221    1.74117    1.80229    1.83642    1.87612    1.96092    0.0013297\n",
      "a_subj.2        1.75161  0.0532709    1.64514    1.71669    1.75174    1.78791    1.85665   0.00120503\n",
      "a_subj.3        1.78092  0.0491442    1.68589    1.74828    1.78043    1.81249    1.88119  0.000958153\n",
      "a_subj.4        1.87734   0.070667    1.75941    1.82565    1.87149    1.92168    2.02991   0.00206717\n",
      "a_subj.5        1.78183    0.05062    1.68263    1.74901     1.7813    1.81494    1.88225  0.000961894\n",
      "a_subj.6        1.73828  0.0537091    1.63183    1.70232    1.73933    1.77472    1.84164    0.0013353\n",
      "a_subj.7        1.79411  0.0511748     1.6989    1.76035    1.79261    1.82724    1.89959  0.000884921\n",
      "a_subj.8        1.82633  0.0571749    1.72282    1.78707    1.82294    1.86182     1.9494   0.00131744\n",
      "a_subj.9        1.91065  0.0676864    1.78806    1.86188    1.90823    1.95484    2.05236    0.0024158\n",
      "a_subj.10       1.79801  0.0516909    1.69998    1.76393     1.7961    1.83072    1.90517   0.00114721\n",
      "a_subj.11       1.74974  0.0531047    1.64405    1.71404    1.75095    1.78546    1.85252   0.00134163\n",
      "a_subj.12       1.71602  0.0528465    1.60898    1.68084    1.71726    1.75313     1.8158   0.00143431\n",
      "a_subj.13       1.73211  0.0617683    1.60686    1.69147    1.73571    1.77561    1.84632   0.00170922\n",
      "v(c)            1.19068  0.0605109    1.06995    1.15036    1.19198    1.22964    1.30928   0.00205408\n",
      "v(u)           0.700157  0.0529474   0.594257   0.666325   0.699703   0.734462   0.804946   0.00159247\n",
      "v_std          0.122324  0.0473014  0.0347175  0.0889824   0.120568   0.153015   0.218641   0.00255352\n",
      "v_subj(c).0     1.12444   0.104478   0.901844    1.06215    1.12778    1.19564    1.31334   0.00257034\n",
      "v_subj(c).1       1.096     0.1096   0.864465    1.02803     1.1032    1.17207    1.29306   0.00338104\n",
      "v_subj(c).2     1.12379    0.11073   0.884478    1.05621    1.12992    1.19921      1.325   0.00286643\n",
      "v_subj(c).3      1.1664   0.100468   0.957638    1.10274    1.16907    1.23285     1.3592   0.00219497\n",
      "v_subj(c).4     1.29058   0.123262    1.07652    1.20432    1.28024    1.36723    1.55556   0.00406582\n",
      "v_subj(c).5     1.31813   0.122118    1.10656    1.23073    1.30593    1.39722    1.58216   0.00400905\n",
      "v_subj(c).6     1.13043   0.111949   0.890392    1.05911    1.13522    1.20564    1.34064   0.00283492\n",
      "v_subj(c).7     1.18375   0.103273   0.979385    1.11617    1.18466    1.25135    1.38979   0.00216933\n",
      "v_subj(c).8     1.27018   0.112058    1.06329    1.19385    1.26334    1.34262    1.50992   0.00310761\n",
      "v_subj(c).9     1.16991  0.0989151   0.970859    1.10548    1.17214    1.23527    1.36228   0.00238885\n",
      "v_subj(c).10    1.18325   0.104335   0.976846    1.11568     1.1839    1.24937    1.39673   0.00242257\n",
      "v_subj(c).11    1.23489   0.111754    1.02558    1.16176    1.23033    1.30461    1.46405    0.0028123\n",
      "v_subj(c).12    1.11529   0.108062    0.89164    1.04496    1.12154    1.18795    1.31538   0.00290969\n",
      "v_subj(c).13    1.25752   0.126646    1.02285    1.17527    1.24929    1.33394    1.53215   0.00347343\n",
      "v_subj(u).0     0.72609  0.0954201   0.540982   0.664265   0.722912   0.786631   0.922706   0.00206336\n",
      "v_subj(u).1      0.6028   0.103317   0.381518   0.539933   0.611377   0.673896   0.783687   0.00295014\n",
      "v_subj(u).2    0.679992  0.0991241   0.478412   0.618664    0.68111   0.743436   0.874768   0.00187611\n",
      "v_subj(u).3    0.579515    0.10921   0.337735   0.512204   0.589256    0.65709    0.77071   0.00377205\n",
      "v_subj(u).4    0.793718   0.104676   0.609308   0.719369   0.785838   0.860362    1.01727   0.00326767\n",
      "v_subj(u).5    0.773141   0.102472    0.58453   0.701844   0.766649   0.837497   0.995424   0.00296795\n",
      "v_subj(u).6    0.686933  0.0969694    0.49039   0.626443   0.687288   0.748497   0.880802   0.00204253\n",
      "v_subj(u).7     0.78652   0.101127    0.60638   0.713562   0.780562   0.851677    1.00474   0.00305299\n",
      "v_subj(u).8    0.749738  0.0974131   0.569414   0.683627   0.745215   0.811744   0.952031    0.0023619\n",
      "v_subj(u).9    0.600095  0.0978498   0.392252    0.53587   0.606188     0.6696   0.774409   0.00292553\n",
      "v_subj(u).10   0.724038  0.0944765   0.539138    0.66379   0.721182   0.784333   0.914068   0.00187702\n",
      "v_subj(u).11   0.625384   0.101589   0.406714   0.561393   0.632626    0.69286   0.812097   0.00260126\n",
      "v_subj(u).12   0.733419  0.0998062   0.544892   0.668377   0.728568   0.796823   0.938176   0.00215159\n",
      "v_subj(u).13   0.741516   0.107455   0.540508    0.67075   0.737015   0.805665   0.969634   0.00264938\n",
      "t(c)           0.157028  0.0214909   0.119322   0.142334   0.155611   0.170417   0.203587   0.00044805\n",
      "t(u)           0.194678  0.0223952   0.153758   0.179534   0.193474   0.208437   0.241155  0.000397175\n",
      "t_std         0.0867991  0.0175308  0.0600281  0.0743925  0.0841504  0.0963797   0.128183  0.000415308\n",
      "t_subj(c).0   0.0371404  0.0100571  0.0155119  0.0304722  0.0377579  0.0444361  0.0547345  0.000153051\n",
      "t_subj(c).1    0.139283  0.0204815   0.094937    0.12676   0.140689   0.154243   0.174248  0.000411916\n",
      "t_subj(c).2    0.127982  0.0190811  0.0861884   0.116016   0.129557   0.142076    0.15992  0.000450545\n",
      "t_subj(c).3   0.0623066  0.0150513  0.0312569  0.0521023  0.0631305  0.0733302   0.088693  0.000285398\n",
      "t_subj(c).4     0.23111  0.0192095   0.187717   0.219517   0.233335   0.244995   0.262505   0.00054629\n",
      "t_subj(c).5    0.104454  0.0137685  0.0732466  0.0961473   0.106093   0.114542   0.126746  0.000214227\n",
      "t_subj(c).6    0.296641  0.0203505   0.252955    0.28393   0.298091   0.311321   0.331355  0.000395221\n",
      "t_subj(c).7   0.0912631  0.0180922  0.0529743  0.0796023  0.0925514   0.104271   0.123146  0.000302978\n",
      "t_subj(c).8    0.150251  0.0195573   0.108214   0.137875    0.15192   0.164287   0.183898  0.000410178\n",
      "t_subj(c).9    0.183511  0.0234732   0.131774    0.16947   0.185272   0.200264   0.224139  0.000621052\n",
      "t_subj(c).10   0.137431  0.0200157  0.0952366   0.124505     0.1388   0.151881    0.17261  0.000369426\n",
      "t_subj(c).11   0.129498  0.0198375  0.0872688   0.116711    0.13077   0.143618    0.16489  0.000495122\n",
      "t_subj(c).12   0.121271  0.0157015   0.087451   0.111485   0.122413   0.132542   0.148562  0.000312915\n",
      "t_subj(c).13   0.178378  0.0162386   0.139281    0.16991   0.180566   0.189731   0.203478  0.000558691\n",
      "t_subj(u).0   0.0544984  0.0108486   0.031176  0.0474431  0.0553798  0.0623186  0.0734068  0.000175796\n",
      "t_subj(u).1    0.204303  0.0212103   0.155434    0.19195   0.206599   0.219397   0.239595  0.000494808\n",
      "t_subj(u).2     0.18666  0.0206387   0.143167   0.173544   0.188304   0.201103     0.2234  0.000338505\n",
      "t_subj(u).3   0.0957765  0.0179002  0.0569513  0.0846074  0.0966553   0.108226   0.128355  0.000280028\n",
      "t_subj(u).4    0.283407  0.0207005    0.23516   0.271562   0.285931   0.298552   0.315785  0.000501335\n",
      "t_subj(u).5    0.191715  0.0185597   0.151813    0.18014   0.193083   0.205085    0.22371  0.000284328\n",
      "t_subj(u).6    0.293269  0.0196871   0.249381   0.281042   0.295027   0.307418   0.327238  0.000402192\n",
      "t_subj(u).7    0.103881  0.0175821   0.065222  0.0928547   0.105337   0.116361   0.134334  0.000269062\n",
      "t_subj(u).8    0.183053  0.0217183   0.136232   0.169112   0.184855    0.19843   0.220547  0.000394564\n",
      "t_subj(u).9    0.259557  0.0220464    0.20941   0.246103   0.262361   0.275284   0.294934  0.000436751\n",
      "t_subj(u).10   0.144604  0.0197715   0.102631   0.131729   0.146161   0.158708   0.178799  0.000334509\n",
      "t_subj(u).11   0.210355   0.019652   0.166995   0.198022   0.211749   0.224526   0.243875  0.000368387\n",
      "t_subj(u).12    0.22183  0.0170699   0.183969    0.21147   0.223316   0.233784   0.251285  0.000280599\n",
      "t_subj(u).13   0.217942  0.0163183    0.18012   0.208694   0.219729   0.229573   0.243921   0.00041619\n",
      "z(c)           0.480494  0.0213923   0.438542   0.466015   0.480524   0.495191    0.52207  0.000504642\n",
      "z(u)           0.478812  0.0205181    0.43903   0.464795   0.478557   0.492312   0.519882  0.000409942\n",
      "z_std           0.27067  0.0252134   0.223227   0.253384   0.270109   0.286688   0.322978  0.000524542\n",
      "z_subj(c).0    0.331552  0.0254033   0.281874   0.314188   0.331397   0.348278   0.382535  0.000458501\n",
      "z_subj(c).1    0.507741  0.0353605   0.437094   0.484634   0.508703   0.531646   0.574879   0.00081727\n",
      "z_subj(c).2    0.568459  0.0365865   0.495892   0.543947   0.569057   0.594218   0.638168  0.000898816\n",
      "z_subj(c).3    0.449682  0.0314613   0.387923    0.42865   0.449251   0.470333   0.513714  0.000603275\n",
      "z_subj(c).4     0.60308  0.0381995   0.522569   0.578893   0.605093   0.629294   0.672354   0.00112342\n",
      "z_subj(c).5    0.377778  0.0286344   0.320819   0.358702   0.377345    0.39703   0.434063  0.000596775\n",
      "z_subj(c).6    0.488613  0.0320111   0.425899   0.467576   0.488519   0.509712   0.549834  0.000620591\n",
      "z_subj(c).7    0.453172  0.0297374   0.395155   0.433275   0.453291   0.473168   0.511882  0.000492578\n",
      "z_subj(c).8    0.503917  0.0335691   0.436365   0.481414   0.503959   0.527469   0.567607  0.000708437\n",
      "z_subj(c).9    0.447812  0.0314229   0.385546   0.426871   0.447906   0.468546   0.509854  0.000754457\n",
      "z_subj(c).10   0.446333  0.0299394   0.387972   0.426338   0.446343   0.466686   0.505174  0.000543085\n",
      "z_subj(c).11   0.514438   0.035702    0.44364   0.489781   0.515093   0.539008   0.582477  0.000919441\n",
      "z_subj(c).12   0.363151  0.0261194   0.313302   0.345368   0.362999    0.38032   0.415886  0.000500296\n",
      "z_subj(c).13   0.668605  0.0389652   0.583092   0.644167   0.672082   0.696103   0.736286   0.00135127\n",
      "z_subj(u).0    0.298167  0.0257711   0.249219   0.280702   0.297691   0.315766   0.349126  0.000478189\n",
      "z_subj(u).1    0.552775  0.0332585   0.487313   0.530821   0.552837   0.574858   0.617136  0.000859438\n",
      "z_subj(u).2    0.515146  0.0303533   0.454901   0.494849   0.515175   0.535526    0.57537  0.000535124\n",
      "z_subj(u).3    0.476184  0.0290919   0.419756   0.456236   0.476072   0.495723    0.53534  0.000620289\n",
      "z_subj(u).4    0.572587  0.0331595   0.505532   0.550468   0.573523   0.595268   0.635225  0.000823708\n",
      "z_subj(u).5    0.431301  0.0282481   0.375849   0.412277   0.431345   0.450173   0.486559  0.000501672\n",
      "z_subj(u).6    0.505498  0.0313128   0.443939   0.484561   0.505707   0.526462   0.566303  0.000598113\n",
      "z_subj(u).7    0.436634  0.0277868    0.38188   0.417911   0.436869   0.455841   0.490195  0.000507037\n",
      "z_subj(u).8    0.463552  0.0294758   0.404279   0.443563   0.463507   0.483583   0.520916  0.000580761\n",
      "z_subj(u).9    0.463157  0.0307842   0.402457   0.442728   0.462668   0.483838   0.522382  0.000590624\n",
      "z_subj(u).10    0.47478  0.0292607   0.418826   0.455164   0.474612   0.494192   0.533248  0.000420735\n",
      "z_subj(u).11   0.500094  0.0313194   0.438519   0.478836   0.500164   0.521597   0.560117  0.000598127\n",
      "z_subj(u).12   0.372013  0.0265816   0.319286   0.354101   0.371896   0.389716   0.425468  0.000434161\n",
      "z_subj(u).13   0.650872  0.0344851    0.57844   0.628352   0.651785   0.675439   0.713281   0.00101711\n",
      "DIC: 4789.954714\n",
      "deviance: 4721.093094\n",
      "pD: 68.861621\n"
     ]
    }
   ],
   "source": [
    "bparamrec2 = hddm.HDDMStimCoding(bsyndata2, include=['z', 'p_outlier'], depends_on={'v': 'condition', 't': 'condition', 'z': 'condition'}, stim_col='stimCode', split_param='v')\n",
    "bparamrec2.sample(7000, burn=500)\n",
    "fparamrec2.print_stats()"
   ]
  },
  {
   "cell_type": "markdown",
   "metadata": {},
   "source": [
    "## Accuracy-coded beep model (same threshold)"
   ]
  },
  {
   "cell_type": "code",
   "execution_count": 26,
   "metadata": {},
   "outputs": [
    {
     "name": "stdout",
     "output_type": "stream",
     "text": [
      " [-----------------100%-----------------] 7000 of 7000 complete in 446.6 sec"
     ]
    },
    {
     "data": {
      "text/plain": [
       "<pymc.MCMC.MCMC at 0xff4afc8>"
      ]
     },
     "execution_count": 26,
     "metadata": {},
     "output_type": "execute_result"
    }
   ],
   "source": [
    "beep_acc = hddm.HDDM(model_b, include=['p_outlier'], depends_on={'v': ['type'], 't': ['type']})\n",
    "beep_acc.sample(7000, burn=500)"
   ]
  },
  {
   "cell_type": "code",
   "execution_count": 27,
   "metadata": {},
   "outputs": [
    {
     "name": "stdout",
     "output_type": "stream",
     "text": [
      "                    mean       std      2.5q       25q       50q       75q     97.5q    mc err\n",
      "a               2.331091  0.133770  2.091850  2.241198  2.322164  2.411720  2.621062  0.005894\n",
      "a_std           0.377992  0.118903  0.201023  0.295142  0.359520  0.440911  0.660586  0.005481\n",
      "a_subj.1.0      2.811820  0.217045  2.432069  2.656176  2.792620  2.951234  3.275456  0.009656\n",
      "a_subj.2.0      2.047333  0.110209  1.847267  1.968978  2.042503  2.118981  2.279434  0.002621\n",
      "a_subj.3.0      2.165646  0.242449  1.734900  1.992797  2.148609  2.323178  2.668886  0.012238\n",
      "a_subj.4.0      1.929467  0.083723  1.773113  1.871842  1.926840  1.984744  2.102359  0.001962\n",
      "a_subj.5.0      2.329502  0.093172  2.149783  2.265726  2.327588  2.391774  2.514094  0.001921\n",
      "a_subj.6.0      2.765281  0.262588  2.294929  2.584682  2.752829  2.929792  3.319848  0.013766\n",
      "a_subj.7.0      2.454822  0.181035  2.132914  2.329948  2.444015  2.563334  2.853196  0.006786\n",
      "a_subj.8.0      2.560988  0.236886  2.147677  2.387957  2.545843  2.722325  3.077315  0.011901\n",
      "a_subj.9.0      1.954836  0.148547  1.695355  1.847472  1.944049  2.048751  2.268539  0.005134\n",
      "a_subj.10.0     2.213101  0.176089  1.905835  2.090585  2.199839  2.320070  2.597572  0.006648\n",
      "a_subj.11.0     2.189474  0.263761  1.786184  2.006053  2.149634  2.330617  2.822793  0.013397\n",
      "a_subj.12.0     2.145135  0.150592  1.874850  2.042263  2.135692  2.238668  2.469799  0.005182\n",
      "a_subj.13.0     2.554166  0.361529  1.872479  2.313193  2.552516  2.774114  3.281017  0.025118\n",
      "a_subj.14.0     2.507994  0.280518  1.986883  2.313616  2.491221  2.691496  3.100219  0.015727\n",
      "v(c)            2.202170  0.283612  1.646158  2.017277  2.195692  2.387327  2.767404  0.004737\n",
      "v(u)            2.262253  0.288262  1.698523  2.072876  2.260380  2.450593  2.841278  0.006016\n",
      "v_std           1.011303  0.164037  0.739091  0.896449  0.994764  1.108013  1.384648  0.005007\n",
      "v_subj(c).1.0   1.560012  0.163882  1.256087  1.448189  1.554278  1.665282  1.898363  0.004083\n",
      "v_subj(u).1.0   2.112594  0.181639  1.764698  1.988517  2.112335  2.233778  2.476242  0.005368\n",
      "v_subj(c).2.0   1.337127  0.155466  1.036596  1.229858  1.336411  1.442904  1.649532  0.002390\n",
      "v_subj(u).2.0   1.487196  0.174802  1.155442  1.367657  1.482646  1.603941  1.842976  0.003021\n",
      "v_subj(c).3.0   2.944357  0.330597  2.289386  2.718308  2.949983  3.170395  3.588044  0.013024\n",
      "v_subj(u).3.0   2.982655  0.329126  2.361773  2.752001  2.976687  3.204148  3.637156  0.013366\n",
      "v_subj(c).4.0   0.809151  0.138068  0.546194  0.716474  0.803809  0.898560  1.096119  0.001927\n",
      "v_subj(u).4.0   0.564742  0.119318  0.333208  0.484044  0.564598  0.644683  0.798030  0.001489\n",
      "v_subj(c).5.0   0.618171  0.106708  0.410727  0.547136  0.615341  0.688779  0.831542  0.001220\n",
      "v_subj(u).5.0   0.863072  0.116987  0.640592  0.783242  0.860214  0.941685  1.099035  0.001504\n",
      "v_subj(c).6.0   2.515519  0.223983  2.086064  2.358978  2.513321  2.665222  2.965489  0.008117\n",
      "v_subj(u).6.0   2.352642  0.218986  1.936466  2.206777  2.347070  2.497605  2.798678  0.007973\n",
      "v_subj(c).7.0   2.408984  0.219432  2.001202  2.258619  2.401407  2.552146  2.862505  0.006009\n",
      "v_subj(u).7.0   2.055951  0.193610  1.674917  1.928858  2.054467  2.180856  2.448395  0.004519\n",
      "v_subj(c).8.0   2.483773  0.229813  2.046891  2.325766  2.481179  2.640223  2.937823  0.008368\n",
      "v_subj(u).8.0   2.819995  0.266178  2.314968  2.637563  2.817464  2.996387  3.356977  0.009925\n",
      "v_subj(c).9.0   2.422222  0.220161  2.009542  2.269873  2.418051  2.567850  2.863216  0.005009\n",
      "v_subj(u).9.0   2.417054  0.244152  1.948172  2.255619  2.410985  2.583228  2.905378  0.005479\n",
      "v_subj(c).10.0  2.353582  0.235475  1.911016  2.187649  2.348519  2.512972  2.825544  0.005204\n",
      "v_subj(u).10.0  2.268376  0.239531  1.811047  2.099760  2.267446  2.432530  2.743215  0.005024\n",
      "v_subj(c).11.0  2.846037  0.314593  2.264450  2.628218  2.835559  3.050286  3.489110  0.011149\n",
      "v_subj(u).11.0  2.192945  0.276868  1.715691  1.997606  2.170070  2.356940  2.805576  0.011379\n",
      "v_subj(c).12.0  1.441923  0.156628  1.149333  1.337895  1.436621  1.544941  1.765630  0.002645\n",
      "v_subj(u).12.0  1.886329  0.215482  1.498169  1.735160  1.877265  2.027774  2.332253  0.004141\n",
      "v_subj(c).13.0  3.778225  0.397067  3.002640  3.509375  3.777188  4.043796  4.569268  0.023142\n",
      "v_subj(u).13.0  3.553287  0.433512  2.618584  3.288446  3.572307  3.841835  4.369455  0.025617\n",
      "v_subj(c).14.0  3.378532  0.317603  2.754506  3.168792  3.379113  3.593835  4.005614  0.012821\n",
      "v_subj(u).14.0  4.162257  0.358292  3.452962  3.921404  4.161361  4.404963  4.863785  0.015454\n",
      "t(c)            0.141013  0.016887  0.108069  0.129851  0.140482  0.151769  0.176483  0.000561\n",
      "t(u)            0.225600  0.017143  0.193165  0.214235  0.225202  0.236810  0.260606  0.000506\n",
      "t_std           0.055897  0.012946  0.035117  0.046865  0.054407  0.063157  0.085534  0.000429\n",
      "t_subj(c).1.0   0.175452  0.041253  0.089696  0.147368  0.177251  0.204494  0.252325  0.001394\n",
      "t_subj(u).1.0   0.234081  0.028896  0.172806  0.215683  0.235753  0.254145  0.286706  0.001000\n",
      "t_subj(c).2.0   0.174014  0.024981  0.120496  0.157885  0.175839  0.191363  0.218334  0.000501\n",
      "t_subj(u).2.0   0.229504  0.020829  0.186291  0.215840  0.230708  0.244216  0.266247  0.000424\n",
      "t_subj(c).3.0   0.102334  0.021181  0.059189  0.088828  0.102931  0.116032  0.144167  0.000887\n",
      "t_subj(u).3.0   0.199092  0.019782  0.156012  0.186676  0.200614  0.212978  0.234017  0.000836\n",
      "t_subj(c).4.0   0.167296  0.039373  0.100354  0.136572  0.161794  0.201360  0.238993  0.000870\n",
      "t_subj(u).4.0   0.287042  0.028343  0.226158  0.269705  0.289156  0.307023  0.335074  0.000581\n",
      "t_subj(c).5.0   0.111094  0.026701  0.057478  0.093144  0.111831  0.129162  0.162943  0.000525\n",
      "t_subj(u).5.0   0.262428  0.029829  0.200869  0.243169  0.263909  0.283370  0.316200  0.000578\n",
      "t_subj(c).6.0   0.134097  0.028565  0.075529  0.115681  0.135099  0.153846  0.186791  0.001265\n",
      "t_subj(u).6.0   0.191377  0.026993  0.135120  0.174087  0.192682  0.209778  0.240851  0.001175\n",
      "t_subj(c).7.0   0.098887  0.021151  0.056580  0.085061  0.099120  0.113004  0.141621  0.000558\n",
      "t_subj(u).7.0   0.192268  0.024335  0.140382  0.176606  0.193674  0.208775  0.236882  0.000753\n",
      "t_subj(c).8.0   0.102525  0.024076  0.051785  0.086585  0.103364  0.119504  0.146402  0.000969\n",
      "t_subj(u).8.0   0.215199  0.023097  0.166514  0.200403  0.216849  0.232028  0.254789  0.000888\n",
      "t_subj(c).9.0   0.080869  0.016410  0.045980  0.070533  0.081653  0.092314  0.110553  0.000499\n",
      "t_subj(u).9.0   0.141637  0.017037  0.106338  0.131212  0.142114  0.152505  0.175667  0.000516\n",
      "t_subj(c).10.0  0.083060  0.021466  0.037836  0.069286  0.084446  0.098157  0.121310  0.000690\n",
      "t_subj(u).10.0  0.151751  0.024441  0.102181  0.135629  0.151500  0.168592  0.197926  0.000816\n",
      "t_subj(c).11.0  0.206199  0.026414  0.146283  0.190984  0.209682  0.224238  0.250779  0.001180\n",
      "t_subj(u).11.0  0.242125  0.024704  0.186571  0.227231  0.244727  0.259502  0.283483  0.001037\n",
      "t_subj(c).12.0  0.216214  0.032572  0.146461  0.195235  0.219468  0.239917  0.272241  0.000996\n",
      "t_subj(u).12.0  0.297919  0.027274  0.239670  0.280302  0.299515  0.316969  0.346782  0.000803\n",
      "t_subj(c).13.0  0.125571  0.024848  0.073741  0.109679  0.125684  0.142278  0.173450  0.001485\n",
      "t_subj(u).13.0  0.237396  0.025093  0.185319  0.221088  0.238329  0.255016  0.283306  0.001477\n",
      "t_subj(c).14.0  0.123667  0.023186  0.075457  0.109679  0.124487  0.139071  0.167729  0.001110\n",
      "t_subj(u).14.0  0.241127  0.020286  0.198129  0.227978  0.242327  0.255360  0.278159  0.000932\n",
      "p_outlier       0.065857  0.006188  0.054265  0.061606  0.065653  0.069935  0.078405  0.000115\n",
      "DIC: 2597.518823\n",
      "deviance: 2537.542186\n",
      "pD: 59.976637\n"
     ]
    }
   ],
   "source": [
    "beep_acc.print_stats()\n",
    "#unif_acc.plot_posteriors()"
   ]
  },
  {
   "cell_type": "code",
   "execution_count": 140,
   "metadata": {},
   "outputs": [
    {
     "data": {
      "image/png": "[encoded data removed]",
      "text/plain": [
       "<Figure size 432x288 with 1 Axes>"
      ]
     },
     "metadata": {
      "needs_background": "light"
     },
     "output_type": "display_data"
    }
   ],
   "source": [
    "a = beep_acc.nodes_db.node['a']\n",
    "hddm.analyze.plot_posterior_nodes([a])\n",
    "plt.xlabel('threshold')\n",
    "plt.ylabel('Posterior probability')\n",
    "plt.title('(Acc Beep) Posterior of threshold group mean')\n",
    "plt.show()"
   ]
  },
  {
   "cell_type": "code",
   "execution_count": 141,
   "metadata": {},
   "outputs": [
    {
     "data": {
      "image/png": "[encoded data removed]",
      "text/plain": [
       "<Figure size 432x288 with 1 Axes>"
      ]
     },
     "metadata": {
      "needs_background": "light"
     },
     "output_type": "display_data"
    }
   ],
   "source": [
    "v_u, v_c = beep_acc.nodes_db.node[['v(u)', 'v(c)']]\n",
    "hddm.analyze.plot_posterior_nodes([v_u, v_c])\n",
    "plt.xlabel('drift-rate')\n",
    "plt.ylabel('Posterior probability')\n",
    "plt.title('(Acc Beep) Posterior of drift-rate group means')\n",
    "plt.show()"
   ]
  },
  {
   "cell_type": "code",
   "execution_count": 142,
   "metadata": {},
   "outputs": [
    {
     "data": {
      "image/png": "[encoded data removed]",
      "text/plain": [
       "<Figure size 432x288 with 1 Axes>"
      ]
     },
     "metadata": {
      "needs_background": "light"
     },
     "output_type": "display_data"
    }
   ],
   "source": [
    "t_u, t_c = beep_acc.nodes_db.node[['t(u)', 't(c)']]\n",
    "hddm.analyze.plot_posterior_nodes([t_u, t_c])\n",
    "plt.xlabel('non-decision time')\n",
    "plt.ylabel('Posterior probability')\n",
    "plt.title('(Acc Beep) Posterior of non-decision time group means')\n",
    "plt.show()"
   ]
  },
  {
   "cell_type": "markdown",
   "metadata": {},
   "source": [
    "## Stim-coded beep model (same threshold)"
   ]
  },
  {
   "cell_type": "code",
   "execution_count": 42,
   "metadata": {},
   "outputs": [
    {
     "data": {
      "text/html": [
       "<div>\n",
       "<style scoped>\n",
       "    .dataframe tbody tr th:only-of-type {\n",
       "        vertical-align: middle;\n",
       "    }\n",
       "\n",
       "    .dataframe tbody tr th {\n",
       "        vertical-align: top;\n",
       "    }\n",
       "\n",
       "    .dataframe thead th {\n",
       "        text-align: right;\n",
       "    }\n",
       "</style>\n",
       "<table border=\"1\" class=\"dataframe\">\n",
       "  <thead>\n",
       "    <tr style=\"text-align: right;\">\n",
       "      <th></th>\n",
       "      <th>subj_idx</th>\n",
       "      <th>flashpres</th>\n",
       "      <th>beeppres</th>\n",
       "      <th>response</th>\n",
       "      <th>acc</th>\n",
       "      <th>rt</th>\n",
       "      <th>trialtype</th>\n",
       "      <th>stimCode</th>\n",
       "    </tr>\n",
       "  </thead>\n",
       "  <tbody>\n",
       "    <tr>\n",
       "      <th>0</th>\n",
       "      <td>1.0</td>\n",
       "      <td>0.0</td>\n",
       "      <td>2.0</td>\n",
       "      <td>0.0</td>\n",
       "      <td>1.0</td>\n",
       "      <td>0.968501</td>\n",
       "      <td>u</td>\n",
       "      <td>0</td>\n",
       "    </tr>\n",
       "    <tr>\n",
       "      <th>2</th>\n",
       "      <td>1.0</td>\n",
       "      <td>0.0</td>\n",
       "      <td>3.0</td>\n",
       "      <td>1.0</td>\n",
       "      <td>1.0</td>\n",
       "      <td>1.078786</td>\n",
       "      <td>u</td>\n",
       "      <td>1</td>\n",
       "    </tr>\n",
       "    <tr>\n",
       "      <th>4</th>\n",
       "      <td>1.0</td>\n",
       "      <td>0.0</td>\n",
       "      <td>2.0</td>\n",
       "      <td>0.0</td>\n",
       "      <td>1.0</td>\n",
       "      <td>1.231217</td>\n",
       "      <td>u</td>\n",
       "      <td>0</td>\n",
       "    </tr>\n",
       "    <tr>\n",
       "      <th>5</th>\n",
       "      <td>1.0</td>\n",
       "      <td>0.0</td>\n",
       "      <td>2.0</td>\n",
       "      <td>1.0</td>\n",
       "      <td>0.0</td>\n",
       "      <td>3.089116</td>\n",
       "      <td>u</td>\n",
       "      <td>0</td>\n",
       "    </tr>\n",
       "    <tr>\n",
       "      <th>6</th>\n",
       "      <td>1.0</td>\n",
       "      <td>0.0</td>\n",
       "      <td>2.0</td>\n",
       "      <td>0.0</td>\n",
       "      <td>1.0</td>\n",
       "      <td>1.536377</td>\n",
       "      <td>u</td>\n",
       "      <td>0</td>\n",
       "    </tr>\n",
       "  </tbody>\n",
       "</table>\n",
       "</div>"
      ],
      "text/plain": [
       "   subj_idx  flashpres  beeppres  response  acc        rt trialtype  stimCode\n",
       "0       1.0        0.0       2.0       0.0  1.0  0.968501         u         0\n",
       "2       1.0        0.0       3.0       1.0  1.0  1.078786         u         1\n",
       "4       1.0        0.0       2.0       0.0  1.0  1.231217         u         0\n",
       "5       1.0        0.0       2.0       1.0  0.0  3.089116         u         0\n",
       "6       1.0        0.0       2.0       0.0  1.0  1.536377         u         0"
      ]
     },
     "execution_count": 42,
     "metadata": {},
     "output_type": "execute_result"
    }
   ],
   "source": [
    "stim_b.head()"
   ]
  },
  {
   "cell_type": "code",
   "execution_count": 344,
   "metadata": {},
   "outputs": [
    {
     "name": "stdout",
     "output_type": "stream",
     "text": [
      " [-----------------100%-----------------] 7000 of 7000 complete in 676.4 sec"
     ]
    },
    {
     "data": {
      "text/plain": [
       "<pymc.MCMC.MCMC at 0x1292c848>"
      ]
     },
     "execution_count": 344,
     "metadata": {},
     "output_type": "execute_result"
    }
   ],
   "source": [
    "beep_stim = hddm.HDDMStimCoding(stim_b, include=['a', 'v', 't', 'z', 'p_outlier'], depends_on={'v': ['trialtype'], 't': ['trialtype'], 'z': ['trialtype']}, stim_col='stimCode', split_param='v')\n",
    "beep_stim.sample(7000, burn=500)"
   ]
  },
  {
   "cell_type": "code",
   "execution_count": 345,
   "metadata": {
    "scrolled": false
   },
   "outputs": [
    {
     "name": "stdout",
     "output_type": "stream",
     "text": [
      "                    mean       std      2.5q       25q       50q       75q     97.5q    mc err\n",
      "a               2.290058  0.124449  2.062961  2.206728  2.283485  2.365685  2.565154  0.005169\n",
      "a_std           0.353280  0.110812  0.186943  0.273599  0.335919  0.413506  0.617131  0.004924\n",
      "a_subj.1.0      2.748727  0.208789  2.384432  2.600183  2.737233  2.883532  3.197678  0.008094\n",
      "a_subj.2.0      2.039576  0.110760  1.837875  1.961138  2.032821  2.110825  2.276548  0.002530\n",
      "a_subj.3.0      2.067845  0.237558  1.672696  1.895113  2.045113  2.223492  2.586137  0.012887\n",
      "a_subj.4.0      1.983749  0.086311  1.816920  1.924654  1.982643  2.043160  2.153039  0.001736\n",
      "a_subj.5.0      2.401601  0.103526  2.206142  2.331970  2.397318  2.470099  2.610917  0.002087\n",
      "a_subj.6.0      2.738969  0.270640  2.293131  2.544759  2.705772  2.901136  3.352591  0.014063\n",
      "a_subj.7.0      2.449427  0.179202  2.130660  2.326465  2.438724  2.558876  2.844655  0.006155\n",
      "a_subj.8.0      2.498730  0.228199  2.090227  2.339767  2.489145  2.642271  3.001180  0.010347\n",
      "a_subj.9.0      1.930515  0.146250  1.668034  1.827305  1.926055  2.024036  2.248120  0.006032\n",
      "a_subj.10.0     2.228224  0.164360  1.921225  2.112830  2.220523  2.335847  2.566416  0.005810\n",
      "a_subj.11.0     2.097151  0.213704  1.764101  1.947708  2.069484  2.212491  2.590013  0.009658\n",
      "a_subj.12.0     2.114384  0.137338  1.872921  2.018815  2.103904  2.200552  2.413241  0.004658\n",
      "a_subj.13.0     2.373321  0.330711  1.777917  2.142958  2.353439  2.575151  3.103660  0.021567\n",
      "a_subj.14.0     2.424091  0.269494  1.935941  2.230946  2.412255  2.602961  2.988683  0.016327\n",
      "v(c)            2.196467  0.271225  1.676840  2.013831  2.192772  2.372589  2.750655  0.005394\n",
      "v(u)            2.242900  0.277266  1.687101  2.056868  2.239543  2.421903  2.806848  0.005120\n",
      "v_std           0.977050  0.158276  0.716817  0.866338  0.959966  1.071216  1.338192  0.004889\n",
      "v_subj(c).1.0   1.546992  0.164365  1.239048  1.430082  1.544666  1.654727  1.883106  0.003298\n",
      "v_subj(u).1.0   2.101324  0.177602  1.754642  1.979529  2.100526  2.220150  2.455780  0.004499\n",
      "v_subj(c).2.0   1.338799  0.157649  1.035330  1.231851  1.338587  1.443624  1.654252  0.002170\n",
      "v_subj(u).2.0   1.488896  0.176587  1.159825  1.368768  1.481077  1.604492  1.855176  0.002800\n",
      "v_subj(c).3.0   2.858259  0.336273  2.216189  2.622559  2.861598  3.090416  3.526887  0.014437\n",
      "v_subj(u).3.0   2.882062  0.326704  2.274314  2.650168  2.868647  3.102752  3.546547  0.014086\n",
      "v_subj(c).4.0   0.815317  0.132808  0.561089  0.722084  0.813387  0.903920  1.083594  0.001804\n",
      "v_subj(u).4.0   0.598253  0.122383  0.361693  0.512635  0.596958  0.683876  0.840361  0.001674\n",
      "v_subj(c).5.0   0.656465  0.109365  0.448243  0.582795  0.654886  0.728768  0.873480  0.001606\n",
      "v_subj(u).5.0   0.884124  0.117575  0.657007  0.803149  0.882959  0.961925  1.119855  0.001735\n",
      "v_subj(c).6.0   2.655956  0.237471  2.213767  2.491280  2.652523  2.814586  3.144457  0.008810\n",
      "v_subj(u).6.0   2.417650  0.231209  1.991740  2.255374  2.409114  2.570483  2.900274  0.009638\n",
      "v_subj(c).7.0   2.414677  0.216115  2.013424  2.267331  2.407478  2.553349  2.863587  0.005339\n",
      "v_subj(u).7.0   2.057179  0.193867  1.688219  1.926697  2.052925  2.180726  2.449951  0.004371\n",
      "v_subj(c).8.0   2.454952  0.229658  2.003099  2.298225  2.451350  2.608476  2.917164  0.007354\n",
      "v_subj(u).8.0   2.789622  0.258119  2.290360  2.619854  2.786162  2.963761  3.292405  0.008470\n",
      "v_subj(c).9.0   2.405741  0.224170  1.973194  2.254237  2.401437  2.552829  2.857644  0.005543\n",
      "v_subj(u).9.0   2.411597  0.248856  1.939847  2.241561  2.406492  2.576459  2.905171  0.006273\n",
      "v_subj(c).10.0  2.360313  0.232615  1.903930  2.206885  2.358061  2.518217  2.816691  0.005000\n",
      "v_subj(u).10.0  2.274085  0.242429  1.827184  2.105578  2.268634  2.430883  2.766897  0.005675\n",
      "v_subj(c).11.0  2.783702  0.292200  2.236873  2.581634  2.770787  2.974732  3.382782  0.009209\n",
      "v_subj(u).11.0  2.115315  0.244616  1.687696  1.948473  2.096059  2.268282  2.647762  0.008447\n",
      "v_subj(c).12.0  1.438512  0.154486  1.145927  1.333415  1.436122  1.539882  1.757113  0.002652\n",
      "v_subj(u).12.0  2.003474  0.213285  1.604087  1.853397  1.997549  2.148964  2.436624  0.004313\n",
      "v_subj(c).13.0  3.699108  0.384141  2.937564  3.442345  3.686866  3.951245  4.462725  0.019782\n",
      "v_subj(u).13.0  3.368767  0.437259  2.473427  3.079648  3.382143  3.668276  4.184176  0.023166\n",
      "v_subj(c).14.0  3.378835  0.321239  2.769653  3.156944  3.373805  3.601401  4.000688  0.015060\n",
      "v_subj(u).14.0  4.086128  0.365660  3.369744  3.834035  4.091608  4.335406  4.791801  0.016644\n",
      "t(c)            0.152843  0.017179  0.119820  0.141469  0.152438  0.163841  0.188866  0.000486\n",
      "t(u)            0.235728  0.017622  0.203457  0.223804  0.235296  0.246611  0.272206  0.000447\n",
      "t_std           0.059400  0.012316  0.039639  0.050851  0.057928  0.066397  0.086822  0.000378\n",
      "t_subj(c).1.0   0.187397  0.041084  0.104765  0.159332  0.188763  0.216993  0.262606  0.001305\n",
      "t_subj(u).1.0   0.242917  0.029179  0.181765  0.223839  0.244244  0.263049  0.296003  0.000899\n",
      "t_subj(c).2.0   0.176456  0.024760  0.122924  0.160680  0.178038  0.193848  0.219754  0.000494\n",
      "t_subj(u).2.0   0.231091  0.020922  0.187104  0.217968  0.232501  0.245611  0.267505  0.000389\n",
      "t_subj(c).3.0   0.112000  0.022489  0.068137  0.097332  0.111464  0.126299  0.157144  0.000950\n",
      "t_subj(u).3.0   0.205627  0.019848  0.161089  0.193362  0.207276  0.219658  0.240282  0.000880\n",
      "t_subj(c).4.0   0.162834  0.035281  0.105396  0.137934  0.156248  0.183747  0.237185  0.000622\n",
      "t_subj(u).4.0   0.316162  0.025547  0.261196  0.300669  0.318059  0.334227  0.359209  0.000531\n",
      "t_subj(c).5.0   0.147762  0.026858  0.090427  0.130455  0.149289  0.166147  0.195813  0.000523\n",
      "t_subj(u).5.0   0.264219  0.031799  0.197254  0.244260  0.266020  0.285921  0.322673  0.000501\n",
      "t_subj(c).6.0   0.170081  0.029317  0.107025  0.151625  0.172170  0.191511  0.220525  0.001256\n",
      "t_subj(u).6.0   0.211848  0.025670  0.157022  0.195310  0.213810  0.230199  0.256227  0.000958\n",
      "t_subj(c).7.0   0.101136  0.020635  0.060915  0.087647  0.101411  0.114218  0.141827  0.000524\n",
      "t_subj(u).7.0   0.198331  0.024291  0.146515  0.182664  0.199958  0.215618  0.241353  0.000724\n",
      "t_subj(c).8.0   0.108408  0.023701  0.059158  0.092977  0.109481  0.124921  0.151911  0.000878\n",
      "t_subj(u).8.0   0.221218  0.021977  0.174372  0.206740  0.222747  0.236516  0.260916  0.000763\n",
      "t_subj(c).9.0   0.083257  0.016419  0.048942  0.072422  0.084096  0.095142  0.112357  0.000571\n",
      "t_subj(u).9.0   0.148793  0.019444  0.111095  0.135070  0.148467  0.162722  0.185459  0.000628\n",
      "t_subj(c).10.0  0.084066  0.020380  0.042534  0.070293  0.084842  0.098322  0.122422  0.000619\n",
      "t_subj(u).10.0  0.152975  0.022218  0.112002  0.138162  0.151567  0.166679  0.199693  0.000613\n",
      "t_subj(c).11.0  0.214650  0.022913  0.164284  0.201525  0.217038  0.230696  0.253236  0.000858\n",
      "t_subj(u).11.0  0.249142  0.021788  0.201300  0.235732  0.251022  0.264377  0.286089  0.000779\n",
      "t_subj(c).12.0  0.223145  0.030105  0.157651  0.204410  0.225277  0.244878  0.275011  0.000867\n",
      "t_subj(u).12.0  0.333275  0.024479  0.280500  0.317814  0.335377  0.350751  0.376135  0.000687\n",
      "t_subj(c).13.0  0.143851  0.024923  0.092420  0.127914  0.144760  0.161155  0.190883  0.001393\n",
      "t_subj(u).13.0  0.248384  0.023438  0.196664  0.233724  0.250180  0.264872  0.289282  0.001342\n",
      "t_subj(c).14.0  0.138043  0.021302  0.093816  0.124026  0.139053  0.152526  0.178777  0.001042\n",
      "t_subj(u).14.0  0.246953  0.019941  0.205255  0.234241  0.248261  0.260901  0.282295  0.001040\n",
      "z(c)            0.504701  0.012884  0.479418  0.496195  0.504731  0.513077  0.530083  0.000207\n",
      "z(u)            0.471034  0.012921  0.445335  0.462515  0.471269  0.479735  0.496790  0.000220\n",
      "z_std           0.161514  0.022358  0.121455  0.145629  0.160384  0.176219  0.207971  0.000478\n",
      "z_subj(c).1.0   0.487006  0.022155  0.443464  0.471817  0.486864  0.502313  0.530856  0.000277\n",
      "z_subj(u).1.0   0.480501  0.020838  0.440087  0.466494  0.480283  0.493899  0.521146  0.000272\n",
      "z_subj(c).2.0   0.489069  0.022740  0.444932  0.473676  0.489154  0.504743  0.532943  0.000257\n",
      "z_subj(u).2.0   0.488400  0.022455  0.443983  0.473573  0.488153  0.503565  0.532109  0.000300\n",
      "z_subj(c).3.0   0.514168  0.021515  0.472975  0.499394  0.513947  0.528532  0.557896  0.000261\n",
      "z_subj(u).3.0   0.498714  0.021005  0.457901  0.484750  0.498443  0.512924  0.540629  0.000326\n",
      "z_subj(c).4.0   0.450519  0.025438  0.398846  0.433819  0.450845  0.467788  0.498965  0.000341\n",
      "z_subj(u).4.0   0.404986  0.024569  0.357157  0.388586  0.404892  0.421113  0.454602  0.000370\n",
      "z_subj(c).5.0   0.602636  0.026083  0.551371  0.585182  0.602734  0.620206  0.652806  0.000470\n",
      "z_subj(u).5.0   0.456854  0.024073  0.410112  0.440887  0.457016  0.473012  0.503502  0.000327\n",
      "z_subj(c).6.0   0.412468  0.022046  0.368741  0.397557  0.412921  0.427341  0.454661  0.000440\n",
      "z_subj(u).6.0   0.427167  0.021034  0.385519  0.413182  0.427264  0.441383  0.467830  0.000297\n",
      "z_subj(c).7.0   0.518115  0.020921  0.477820  0.504058  0.517892  0.532187  0.558410  0.000297\n",
      "z_subj(u).7.0   0.454169  0.020638  0.413291  0.440281  0.454148  0.468084  0.494003  0.000266\n",
      "z_subj(c).8.0   0.495352  0.020455  0.454729  0.481380  0.495867  0.509101  0.534036  0.000263\n",
      "z_subj(u).8.0   0.481320  0.020094  0.441505  0.467658  0.481445  0.494540  0.520317  0.000275\n",
      "z_subj(c).9.0   0.506587  0.021151  0.465126  0.492743  0.506295  0.520697  0.548042  0.000309\n",
      "z_subj(u).9.0   0.468926  0.023087  0.425079  0.453168  0.469077  0.484457  0.512987  0.000325\n",
      "z_subj(c).10.0  0.523772  0.021521  0.481375  0.509412  0.523750  0.538375  0.564972  0.000262\n",
      "z_subj(u).10.0  0.535992  0.023037  0.490738  0.520444  0.536095  0.551676  0.581058  0.000341\n",
      "z_subj(c).11.0  0.492905  0.020746  0.451820  0.479460  0.492758  0.506309  0.534272  0.000270\n",
      "z_subj(u).11.0  0.490251  0.022437  0.445476  0.475708  0.490310  0.505513  0.533751  0.000313\n",
      "z_subj(c).12.0  0.484579  0.022688  0.440354  0.469195  0.483799  0.500025  0.529397  0.000311\n",
      "z_subj(u).12.0  0.409608  0.022761  0.365739  0.394180  0.409597  0.424621  0.454405  0.000366\n",
      "z_subj(c).13.0  0.534639  0.020296  0.494476  0.521274  0.534545  0.548028  0.575361  0.000303\n",
      "z_subj(u).13.0  0.482340  0.019852  0.442806  0.468874  0.482504  0.496269  0.519763  0.000285\n",
      "z_subj(c).14.0  0.552509  0.019047  0.515010  0.539649  0.552530  0.565552  0.589521  0.000293\n",
      "z_subj(u).14.0  0.509385  0.018666  0.472573  0.496915  0.509274  0.521927  0.546302  0.000320\n",
      "p_outlier       0.065837  0.006286  0.053890  0.061558  0.065710  0.069971  0.078524  0.000134\n",
      "DIC: 2533.900456\n",
      "deviance: 2452.294606\n",
      "pD: 81.605850\n"
     ]
    }
   ],
   "source": [
    "beep_stim.print_stats()"
   ]
  },
  {
   "cell_type": "code",
   "execution_count": 346,
   "metadata": {},
   "outputs": [
    {
     "data": {
      "image/png": "[encoded data removed]",
      "text/plain": [
       "<Figure size 432x288 with 1 Axes>"
      ]
     },
     "metadata": {
      "needs_background": "light"
     },
     "output_type": "display_data"
    }
   ],
   "source": [
    "a = beep_stim.nodes_db.node['a']\n",
    "hddm.analyze.plot_posterior_nodes([a])\n",
    "plt.xlabel('threshold')\n",
    "plt.ylabel('Posterior probability')\n",
    "plt.title('(Stim Beep) Posterior of threshold group mean')\n",
    "plt.show()"
   ]
  },
  {
   "cell_type": "code",
   "execution_count": 347,
   "metadata": {},
   "outputs": [
    {
     "data": {
      "image/png": "[encoded data removed]",
      "text/plain": [
       "<Figure size 432x288 with 1 Axes>"
      ]
     },
     "metadata": {
      "needs_background": "light"
     },
     "output_type": "display_data"
    }
   ],
   "source": [
    "v_u, v_c = beep_stim.nodes_db.node[['v(u)', 'v(c)']]\n",
    "hddm.analyze.plot_posterior_nodes([v_u, v_c])\n",
    "plt.xlabel('drift-rate')\n",
    "plt.ylabel('Posterior probability')\n",
    "plt.title('(Stim Beep) Posterior of drift-rate group means')\n",
    "plt.show()"
   ]
  },
  {
   "cell_type": "code",
   "execution_count": 348,
   "metadata": {},
   "outputs": [
    {
     "data": {
      "image/png": "[encoded data removed]",
      "text/plain": [
       "<Figure size 432x288 with 1 Axes>"
      ]
     },
     "metadata": {
      "needs_background": "light"
     },
     "output_type": "display_data"
    }
   ],
   "source": [
    "t_u, t_c = beep_stim.nodes_db.node[['t(u)', 't(c)']]\n",
    "hddm.analyze.plot_posterior_nodes([t_u, t_c])\n",
    "plt.xlabel('non-decision time')\n",
    "plt.ylabel('Posterior probability')\n",
    "plt.title('(Stim Beep) Posterior of non-decision time group means')\n",
    "plt.show()"
   ]
  },
  {
   "cell_type": "code",
   "execution_count": 349,
   "metadata": {},
   "outputs": [
    {
     "data": {
      "image/png": "[encoded data removed]",
      "text/plain": [
       "<Figure size 432x288 with 1 Axes>"
      ]
     },
     "metadata": {
      "needs_background": "light"
     },
     "output_type": "display_data"
    }
   ],
   "source": [
    "z_u, z_c = beep_stim.nodes_db.node[['z(u)', 'z(c)']]\n",
    "hddm.analyze.plot_posterior_nodes([z_u, z_c])\n",
    "plt.xlabel('bias')\n",
    "plt.ylabel('Posterior probability')\n",
    "plt.title('(Stim Beep) Posterior of bias group means')\n",
    "plt.show()"
   ]
  },
  {
   "cell_type": "markdown",
   "metadata": {},
   "source": [
    "## Posterior Predictive Check (Beep)"
   ]
  },
  {
   "cell_type": "markdown",
   "metadata": {},
   "source": [
    "### Accuracy-coded beep"
   ]
  },
  {
   "cell_type": "code",
   "execution_count": 94,
   "metadata": {},
   "outputs": [
    {
     "name": "stdout",
     "output_type": "stream",
     "text": [
      " [-------------------110%-------------------] 31 of 28 complete in 1335.7 sec"
     ]
    }
   ],
   "source": [
    "bppc = hddm.utils.post_pred_gen(beep_acc)"
   ]
  },
  {
   "cell_type": "code",
   "execution_count": 97,
   "metadata": {},
   "outputs": [
    {
     "name": "stdout",
     "output_type": "stream",
     "text": [
      "          observed      mean       std       SEM       MSE credible  \\\n",
      "stat                                                                  \n",
      "accuracy  0.778135  0.795291  0.123737  0.000294  0.015605     True   \n",
      "mean_ub   0.855433  0.821188  0.212542  0.001173  0.046347     True   \n",
      "std_ub    0.665953  0.420464  0.162188  0.060265  0.086570     True   \n",
      "10q_ub    0.389500  0.435782  0.094601  0.002142  0.011091     True   \n",
      "30q_ub    0.537021  0.555186  0.127195  0.000330  0.016509     True   \n",
      "50q_ub    0.665879  0.698644  0.172780  0.001074  0.030926     True   \n",
      "70q_ub    0.849032  0.912208  0.248106  0.003991  0.065548     True   \n",
      "90q_ub    1.449996  1.359244  0.414484  0.008236  0.180033     True   \n",
      "mean_lb  -1.085988 -0.822176  0.232183  0.069597  0.123506     True   \n",
      "std_lb    0.903215  0.389508  0.200447  0.263896  0.304074    False   \n",
      "10q_lb    0.444976  0.465194  0.112444  0.000409  0.013052     True   \n",
      "30q_lb    0.630831  0.576500  0.145448  0.002952  0.024107     True   \n",
      "50q_lb    0.812548  0.712482  0.196037  0.010013  0.048444     True   \n",
      "70q_lb    1.069355  0.909337  0.279303  0.025606  0.103616     True   \n",
      "90q_lb    1.941313  1.296496  0.475204  0.415790  0.641609     True   \n",
      "\n",
      "           quantile  mahalanobis  \n",
      "stat                              \n",
      "accuracy  43.264286     0.138651  \n",
      "mean_ub   57.435715     0.161124  \n",
      "std_ub    92.264282     1.513615  \n",
      "10q_ub    34.871429     0.489237  \n",
      "30q_ub    46.342857     0.142809  \n",
      "50q_ub    44.178570     0.189636  \n",
      "70q_ub    42.564285     0.254631  \n",
      "90q_ub    59.964287     0.218952  \n",
      "mean_lb   13.328535     1.136223  \n",
      "std_lb    98.661392     2.562812  \n",
      "10q_lb    47.225620     0.179798  \n",
      "30q_lb    66.326019     0.373539  \n",
      "50q_lb    70.939186     0.510446  \n",
      "70q_lb    72.990288     0.572921  \n",
      "90q_lb    90.262688     1.356927  \n"
     ]
    }
   ],
   "source": [
    "bppc_compare = hddm.utils.post_pred_stats(model_b, bppc)\n",
    "print(bppc_compare)"
   ]
  },
  {
   "cell_type": "markdown",
   "metadata": {},
   "source": [
    "### Stim-coded Beep"
   ]
  },
  {
   "cell_type": "code",
   "execution_count": 108,
   "metadata": {},
   "outputs": [
    {
     "name": "stdout",
     "output_type": "stream",
     "text": [
      " [------------------105%------------------] 59 of 56 complete in 3179.1 sec"
     ]
    }
   ],
   "source": [
    "bppc2 = hddm.utils.post_pred_gen(beep_stim)"
   ]
  },
  {
   "cell_type": "code",
   "execution_count": 109,
   "metadata": {},
   "outputs": [
    {
     "name": "stdout",
     "output_type": "stream",
     "text": [
      "          observed      mean       std       SEM       MSE credible  \\\n",
      "stat                                                                  \n",
      "accuracy  0.936003  0.932646  0.071991  0.000011  0.005194     True   \n",
      "mean_ub   0.811824  0.850116  0.267236  0.001466  0.072882     True   \n",
      "std_ub    0.705276  0.482211  0.240484  0.049758  0.107591     True   \n",
      "10q_ub    0.364230  0.400436  0.098640  0.001311  0.011041     True   \n",
      "30q_ub    0.491178  0.546768  0.144118  0.003090  0.023860     True   \n",
      "50q_ub    0.613278  0.715256  0.212955  0.010399  0.055749     True   \n",
      "70q_ub    0.787827  0.959066  0.323825  0.029323  0.134185     True   \n",
      "90q_ub    1.393924  1.459930  0.569839  0.004357  0.329074     True   \n",
      "mean_lb  -1.516434 -0.878211  0.420975  0.407328  0.584548     True   \n",
      "std_lb    1.449590  0.314117  0.352153  1.289299  1.413310    False   \n",
      "10q_lb    0.498767  0.597810  0.318249  0.009809  0.111092     True   \n",
      "30q_lb    0.745144  0.695967  0.338326  0.002418  0.116883     True   \n",
      "50q_lb    1.002491  0.809195  0.393327  0.037363  0.192070     True   \n",
      "70q_lb    1.601099  0.966624  0.500046  0.402558  0.652604     True   \n",
      "90q_lb    2.775234  1.217269  0.747572  2.427255  2.986119     True   \n",
      "\n",
      "           quantile  mahalanobis  \n",
      "stat                              \n",
      "accuracy  36.125000     0.046624  \n",
      "mean_ub   49.400002     0.143288  \n",
      "std_ub    83.960716     0.927567  \n",
      "10q_ub    35.507141     0.367053  \n",
      "30q_ub    37.871429     0.385725  \n",
      "50q_ub    36.742859     0.478871  \n",
      "70q_ub    36.121429     0.528803  \n",
      "90q_ub    53.042858     0.115833  \n",
      "mean_lb    7.566568     1.516059  \n",
      "std_lb    98.847160     3.224373  \n",
      "10q_lb    45.713425     0.311211  \n",
      "30q_lb    67.393639     0.145353  \n",
      "50q_lb    76.009811     0.491439  \n",
      "70q_lb    89.577148     1.268832  \n",
      "90q_lb    95.672562     2.084033  \n"
     ]
    }
   ],
   "source": [
    "bppc_compare2 = hddm.utils.post_pred_stats(stim_b, bppc2)\n",
    "print(bppc_compare2)"
   ]
  },
  {
   "cell_type": "markdown",
   "metadata": {},
   "source": [
    "## Parameter Recovery (Beep)"
   ]
  },
  {
   "cell_type": "markdown",
   "metadata": {},
   "source": [
    "### Accuracy-coded beep"
   ]
  },
  {
   "cell_type": "code",
   "execution_count": 140,
   "metadata": {},
   "outputs": [
    {
     "name": "stdout",
     "output_type": "stream",
     "text": [
      "rt          0.773129\n",
      "response    0.993571\n",
      "subj_idx    6.500000\n",
      "dtype: float64\n",
      "rt          0.719551\n",
      "response    0.996429\n",
      "subj_idx    6.500000\n",
      "dtype: float64\n"
     ]
    }
   ],
   "source": [
    "bsyndata, bparam = hddm.generate.gen_rand_data(params={'u': {'a': 2.334434, 'v': 2.270080, 't': 0.225199},\n",
    "                                                       'c': {'a': 2.334434, 'v': 2.208667, 't': 0.140507}}, \n",
    "                                               size = 100, subjs = 14)\n",
    "print(bsyndata.loc[bsyndata['condition'] == 'u'].mean())\n",
    "print(bsyndata.loc[bsyndata['condition'] == 'c'].mean())"
   ]
  },
  {
   "cell_type": "code",
   "execution_count": 339,
   "metadata": {},
   "outputs": [
    {
     "name": "stdout",
     "output_type": "stream",
     "text": [
      " [-----------------100%-----------------] 10000 of 10000 complete in 802.2 sec"
     ]
    },
    {
     "data": {
      "text/plain": [
       "<pymc.MCMC.MCMC at 0x167f3748>"
      ]
     },
     "execution_count": 339,
     "metadata": {},
     "output_type": "execute_result"
    }
   ],
   "source": [
    "bparamrec = hddm.HDDM(bsyndata, include=['a', 'v', 't', 'p_outlier'], depends_on={'v': 'condition', 't': 'condition'})\n",
    "bparamrec.sample(10000, burn=500)"
   ]
  },
  {
   "cell_type": "code",
   "execution_count": 340,
   "metadata": {
    "scrolled": true
   },
   "outputs": [
    {
     "name": "stdout",
     "output_type": "stream",
     "text": [
      "                    mean          std         2.5q          25q          50q          75q       97.5q       mc err\n",
      "a                2.43205    0.0829788      2.28963      2.37476      2.42829      2.48306     2.60536   0.00410808\n",
      "a_std           0.161019    0.0885915   0.00958103     0.101527     0.158327     0.214693     0.35308   0.00570012\n",
      "a_subj.0         2.46351     0.136936      2.22858      2.36931      2.45113      2.54339     2.77352    0.0054951\n",
      "a_subj.1         2.58547     0.172595      2.31474      2.45975      2.56448      2.69334     2.97457   0.00939222\n",
      "a_subj.2          2.6195     0.190071       2.3175      2.47495      2.59958      2.73762     3.05111    0.0107563\n",
      "a_subj.3         2.49838     0.144024      2.25851       2.3978      2.48545      2.58355     2.81995   0.00651172\n",
      "a_subj.4         2.35377     0.114345      2.12544      2.27924      2.35292      2.43078     2.57754   0.00366104\n",
      "a_subj.5         2.38919     0.109512      2.17182      2.31646      2.38665      2.45854     2.61645   0.00376312\n",
      "a_subj.6         2.37181     0.115509      2.13833      2.30045      2.37184      2.44812     2.60547   0.00400562\n",
      "a_subj.7         2.49822     0.145627      2.26393      2.39507      2.47983        2.582     2.82686      0.00678\n",
      "a_subj.8         2.38813     0.135035      2.12588      2.30578      2.38638       2.4708     2.67156   0.00511122\n",
      "a_subj.9          2.3146     0.127512      2.05569      2.22945       2.3197      2.40212     2.55034   0.00511902\n",
      "a_subj.10        2.25943     0.141258       1.9694      2.15961      2.26898      2.35971     2.50798   0.00699148\n",
      "a_subj.11        2.38354     0.125088      2.13603      2.30623      2.38165      2.46169     2.63883   0.00450655\n",
      "a_subj.12        2.47236     0.145904      2.22601      2.37314      2.45636      2.55437     2.79888    0.0065601\n",
      "a_subj.13        2.44578     0.135112      2.20885      2.34968      2.43722      2.52616     2.74267   0.00509727\n",
      "v(c)             2.30658    0.0668027      2.17639      2.26003      2.30618       2.3521     2.43628   0.00256345\n",
      "v(u)             2.21144    0.0670885      2.08261      2.16575      2.21191      2.25642     2.34276     0.002715\n",
      "v_std             0.1337    0.0571781    0.0211639    0.0955743     0.133136     0.170641    0.250957   0.00317451\n",
      "v_subj(c).0      2.18367     0.120226      1.93258      2.10488      2.19309      2.26785     2.40085   0.00385768\n",
      "v_subj(c).1      2.27537     0.116305       2.0389      2.20216      2.27599      2.35218     2.49836   0.00359141\n",
      "v_subj(c).2      2.16901     0.126584      1.90319      2.08487      2.17817      2.25781      2.3928   0.00502144\n",
      "v_subj(c).3      2.24219     0.113538        2.006      2.16979      2.24828      2.31721     2.45337   0.00309154\n",
      "v_subj(c).4      2.19881     0.118802      1.94335      2.12261      2.20709      2.28045     2.41543   0.00340766\n",
      "v_subj(c).5      2.32667     0.113272      2.11193      2.25229       2.3213      2.39804     2.56053   0.00280675\n",
      "v_subj(c).6      2.31441     0.114567      2.09497      2.24019      2.31063      2.38505     2.55858   0.00271407\n",
      "v_subj(c).7      2.32316     0.114104      2.10444      2.24833      2.31982      2.39494     2.55624   0.00304656\n",
      "v_subj(c).8      2.40032     0.128264      2.18124      2.30861      2.38973      2.47988     2.68648   0.00413094\n",
      "v_subj(c).9      2.37249     0.122086      2.15166      2.28708      2.36364      2.44752      2.6314   0.00367028\n",
      "v_subj(c).10     2.43415       0.1412      2.20167      2.33007      2.42227      2.52383      2.7415   0.00531584\n",
      "v_subj(c).11     2.27879     0.113576      2.05056      2.20569      2.27897      2.35181      2.5014   0.00291843\n",
      "v_subj(c).12     2.46692     0.147128      2.22344      2.35901      2.45417      2.56137     2.78263   0.00596326\n",
      "v_subj(c).13     2.31455     0.115978      2.08994      2.23899      2.31142      2.38814     2.55264   0.00275867\n",
      "v_subj(u).0      2.26117     0.118415       2.0399      2.18442      2.25296      2.33214     2.51507   0.00294776\n",
      "v_subj(u).1      2.14718      0.11775      1.90045      2.07281       2.1531      2.22899     2.36662   0.00416266\n",
      "v_subj(u).2      2.13931     0.118235      1.89006      2.06379      2.14441      2.22395     2.35619    0.0042344\n",
      "v_subj(u).3      2.09117     0.120464      1.83807      2.01231      2.09854       2.1788     2.29817   0.00451556\n",
      "v_subj(u).4      2.29341     0.119748      2.07951       2.2127      2.28313       2.3712     2.54503   0.00325898\n",
      "v_subj(u).5      2.11687     0.116513       1.8663      2.04341      2.12312      2.19834     2.33034    0.0037293\n",
      "v_subj(u).6      2.16193      0.11004      1.93141       2.0919      2.16654      2.23752     2.36998   0.00307308\n",
      "v_subj(u).7      2.24815     0.115113      2.03055      2.17218      2.24416      2.31961     2.49008   0.00315956\n",
      "v_subj(u).8      2.26373     0.116791      2.04363      2.18714      2.25664      2.33584     2.51312   0.00310081\n",
      "v_subj(u).9      2.23968     0.114567      2.02654      2.16445      2.23711      2.31048     2.47948   0.00277748\n",
      "v_subj(u).10      2.2359     0.114962      2.01866      2.16022      2.23269      2.30883     2.47549   0.00294412\n",
      "v_subj(u).11     2.31383     0.126816      2.08873      2.22734      2.30413      2.39458     2.58603   0.00388635\n",
      "v_subj(u).12     2.22945     0.116006      2.00548      2.15544      2.22926      2.29938     2.46886   0.00334102\n",
      "v_subj(u).13     2.21222     0.113789      1.98488      2.13982      2.21333      2.28329     2.44117   0.00301777\n",
      "t(c)            0.184461    0.0243906     0.140008     0.167668      0.18344     0.200063    0.235725  0.000490412\n",
      "t(u)            0.259288     0.025259     0.211215     0.242046     0.258415     0.275377    0.310967  0.000546953\n",
      "t_std          0.0942379    0.0185715    0.0647786    0.0811771    0.0917151     0.104761    0.137389  0.000426678\n",
      "t_subj(c).0     0.232915      0.02128     0.185388     0.220202     0.234834     0.247795    0.269702  0.000573291\n",
      "t_subj(c).1     0.176085    0.0253402     0.120465     0.160275     0.178032     0.194354    0.219208   0.00101174\n",
      "t_subj(c).2     0.235089    0.0284621      0.17117     0.217892     0.237545     0.255505    0.282366   0.00123269\n",
      "t_subj(c).3      0.24224    0.0241851      0.18998     0.227219     0.243973     0.259245    0.284012   0.00077136\n",
      "t_subj(c).4    0.0713045    0.0179282    0.0342738    0.0596849     0.071972    0.0839641    0.104008  0.000417759\n",
      "t_subj(c).5    0.0619821    0.0163341    0.0283053    0.0509137    0.0624866    0.0736169   0.0920031  0.000387099\n",
      "t_subj(c).6      0.16612    0.0190644     0.125912     0.154072     0.167342     0.179447    0.200057   0.00043086\n",
      "t_subj(c).7     0.163334    0.0229367     0.113617     0.149138     0.164907     0.179554    0.202829  0.000778478\n",
      "t_subj(c).8     0.270243    0.0213614     0.224318     0.257068     0.271509     0.285063    0.309035  0.000558218\n",
      "t_subj(c).9     0.101566    0.0186902    0.0632339     0.089373     0.102084     0.114566    0.136321   0.00051319\n",
      "t_subj(c).10    0.208147    0.0215088     0.164865     0.193485     0.209003     0.223205    0.248553  0.000774776\n",
      "t_subj(c).11   0.0688755     0.017781     0.032298    0.0570638    0.0696027    0.0811631    0.102067   0.00044733\n",
      "t_subj(c).12    0.241537    0.0234743     0.189063      0.22745     0.243575     0.257775    0.281787  0.000820816\n",
      "t_subj(c).13    0.234561    0.0242582     0.182067     0.219476     0.236165     0.252032      0.2765  0.000654146\n",
      "t_subj(u).0     0.307272    0.0262376     0.250817      0.29111     0.309423      0.32574    0.352449  0.000821259\n",
      "t_subj(u).1     0.231748    0.0251645     0.176578     0.216063     0.233863     0.249935    0.274254  0.000995435\n",
      "t_subj(u).2     0.312191    0.0292528     0.246561      0.29414     0.315131     0.333518    0.360552   0.00126378\n",
      "t_subj(u).3     0.314403    0.0267873     0.256282       0.2978     0.315932     0.333281    0.361229   0.00083773\n",
      "t_subj(u).4     0.137639    0.0186456    0.0981906     0.125631     0.138518     0.150742    0.171525  0.000432032\n",
      "t_subj(u).5     0.106788    0.0177725    0.0699537    0.0957397     0.107622     0.119095    0.139151  0.000436973\n",
      "t_subj(u).6     0.243655    0.0202485     0.200859     0.230679     0.244723     0.257676    0.280384  0.000465225\n",
      "t_subj(u).7     0.256809    0.0227344     0.206816     0.242766      0.25885     0.272754    0.296313    0.0007225\n",
      "t_subj(u).8     0.317573    0.0234086     0.267802     0.302942     0.319029     0.333394    0.360261  0.000642509\n",
      "t_subj(u).9     0.182985    0.0211529     0.139364     0.168901     0.183757     0.197601    0.222455  0.000623511\n",
      "t_subj(u).10    0.283369    0.0226294      0.23659     0.268734     0.284536     0.299367    0.324449  0.000837471\n",
      "t_subj(u).11    0.184072    0.0210084     0.140507     0.170673     0.184829      0.19828    0.223201  0.000519639\n",
      "t_subj(u).12    0.331113    0.0213094     0.284681     0.318346     0.333239     0.346087    0.367295  0.000661581\n",
      "t_subj(u).13    0.322032     0.021929     0.274128      0.30872     0.323779     0.337417    0.360019  0.000570897\n",
      "p_outlier     0.00063416  0.000626937  1.64396e-05  0.000186297  0.000446328  0.000883355  0.00230507  1.19938e-05\n",
      "DIC: 472.844462\n",
      "deviance: 426.847416\n",
      "pD: 45.997047\n"
     ]
    }
   ],
   "source": [
    "bparamrec.print_stats()"
   ]
  },
  {
   "cell_type": "markdown",
   "metadata": {},
   "source": [
    "a: 6% diff\n",
    "\n",
    "v(c): 5% diff\n",
    "\n",
    "v(u): 4% diff\n",
    "\n",
    "t(c): 31.3% diff\n",
    "\n",
    "t(u): 15.1% diff"
   ]
  },
  {
   "cell_type": "markdown",
   "metadata": {},
   "source": [
    "### Stim-coded beep"
   ]
  },
  {
   "cell_type": "code",
   "execution_count": 100,
   "metadata": {},
   "outputs": [],
   "source": [
    "b1, b1param = hddm.generate.gen_rand_data(params={'u': {'a': 2.290058, 'v': 2.242900, 't': 0.235728, 'z': 0.471034},\n",
    "                                                  'c': {'a': 2.290058, 'v': 2.196467, 't': 0.152843, 'z': 0.504701}}, \n",
    "                                               size = 50, subjs = 14)\n",
    "b2, b2param = hddm.generate.gen_rand_data(params={'u': {'a': 2.290058, 'v': 2.242900, 't': 0.235728, 'z': 1 - 0.471034},\n",
    "                                                  'c': {'a': 2.290058, 'v': 2.196467, 't': 0.152843, 'z': 1 - 0.504701}}, \n",
    "                                               size = 50, subjs = 14)\n",
    "b1['stimCode'] = 1\n",
    "b2['stimCode'] = 0\n",
    "bsyndata2 = b1.append(b2, ignore_index = True)"
   ]
  },
  {
   "cell_type": "code",
   "execution_count": 101,
   "metadata": {},
   "outputs": [
    {
     "name": "stdout",
     "output_type": "stream",
     "text": [
      " [-----------------100%-----------------] 7000 of 7000 complete in 791.8 sec"
     ]
    },
    {
     "data": {
      "text/plain": [
       "<pymc.MCMC.MCMC at 0x12db5c88>"
      ]
     },
     "execution_count": 101,
     "metadata": {},
     "output_type": "execute_result"
    }
   ],
   "source": [
    "bparamrec2 = hddm.HDDMStimCoding(bsyndata2, include=['z', 'p_outlier'], depends_on={'v': 'condition', 't': 'condition', 'z': 'condition'}, stim_col='stimCode', split_param='v')\n",
    "bparamrec2.sample(7000, burn=500)"
   ]
  },
  {
   "cell_type": "code",
   "execution_count": 102,
   "metadata": {},
   "outputs": [
    {
     "name": "stdout",
     "output_type": "stream",
     "text": [
      "                    mean         std        2.5q         25q          50q         75q      97.5q       mc err\n",
      "a                2.01863   0.0625758     1.90189     1.97755       2.0166     2.05851    2.14756   0.00295302\n",
      "a_std           0.157337   0.0531848   0.0717336    0.119558     0.151332    0.187616    0.27889   0.00155193\n",
      "a_subj.0         2.05704    0.100784     1.87364     1.98782      2.05093     2.12176    2.26932   0.00347753\n",
      "a_subj.1         2.18476    0.114656     1.98344     2.10366      2.17663     2.25624     2.4296   0.00402716\n",
      "a_subj.2         1.94349   0.0941075     1.76316     1.87834      1.94234     2.00573    2.13407   0.00307496\n",
      "a_subj.3         1.88085   0.0869149     1.71379     1.82176      1.87945        1.94     2.0511     0.002818\n",
      "a_subj.4          2.1064    0.106392     1.91389     2.03385      2.10165     2.17232    2.33369   0.00353404\n",
      "a_subj.5         2.11664    0.105022     1.92957     2.04449      2.10897     2.18216    2.33659   0.00351511\n",
      "a_subj.6         2.06121    0.105765     1.87251     1.99091      2.05412     2.12483    2.28908   0.00354271\n",
      "a_subj.7         2.01049   0.0954696     1.83152     1.94498      2.00773     2.07444    2.20628   0.00336432\n",
      "a_subj.8         2.01348   0.0939608     1.83354     1.94955      2.01144     2.07455    2.20914   0.00302295\n",
      "a_subj.9         1.84749   0.0974532     1.65942     1.78006      1.84696     1.91453    2.03874   0.00352896\n",
      "a_subj.10        1.84407   0.0934242     1.66693     1.78084      1.84299     1.90705    2.02856    0.0030879\n",
      "a_subj.11        2.19519    0.116192     1.98904     2.11394      2.18758     2.26827    2.44302    0.0038564\n",
      "a_subj.12        1.99115    0.105165     1.78874     1.91967      1.99112      2.0595    2.20145   0.00428913\n",
      "a_subj.13        1.99289   0.0980938     1.80978     1.92691      1.98899     2.05716    2.19302   0.00353037\n",
      "v(c)         -0.00502669   0.0383301   -0.083127  -0.0292907    -0.001149   0.0203661   0.064939   0.00283786\n",
      "v(u)          -0.0246426   0.0427408    -0.10218  -0.0530747   -0.0256323  0.00506249  0.0586556   0.00343824\n",
      "v_std          0.0253312   0.0210356  0.00106606  0.00941031    0.0197171   0.0365099  0.0768665   0.00169998\n",
      "v_subj(c).0  -0.00648275   0.0472714   -0.107794  -0.0349681  -0.00115108   0.0235159  0.0807236   0.00280205\n",
      "v_subj(c).1  -0.00718478   0.0473361   -0.107685  -0.0373985   -0.0017898    0.023618  0.0822266   0.00284251\n",
      "v_subj(c).2  -0.00064532   0.0482581  -0.0987291  -0.0301514   0.00172996   0.0273321  0.0978847   0.00284283\n",
      "v_subj(c).3  -0.00336645   0.0478773   -0.101619  -0.0337217  1.41388e-06   0.0255574   0.092186   0.00287176\n",
      "v_subj(c).4  -0.00624216   0.0475691   -0.111077  -0.0348706  -0.00244985   0.0242566    0.08279    0.0028168\n",
      "v_subj(c).5  -0.00518988   0.0465553   -0.104696  -0.0344653 -0.000795914   0.0247444    0.08226   0.00283511\n",
      "v_subj(c).6  -0.00264296   0.0474421   -0.103523  -0.0325454   0.00136785   0.0270551  0.0873891   0.00284304\n",
      "v_subj(c).7   -0.0054508   0.0475042   -0.105987  -0.0345781  -0.00118056   0.0241052  0.0874808   0.00286482\n",
      "v_subj(c).8  -0.00478361   0.0482724   -0.109461  -0.0347188 -0.000140874   0.0251693  0.0879445   0.00290129\n",
      "v_subj(c).9  -0.00859217   0.0481635   -0.115296  -0.0370547  -0.00318613   0.0231636   0.078402   0.00288829\n",
      "v_subj(c).10 -0.00350708   0.0475054   -0.101262  -0.0339906  0.000443673   0.0256152  0.0885548   0.00284506\n",
      "v_subj(c).11  -0.0045909   0.0467083   -0.104038  -0.0333159 -0.000466481   0.0244216  0.0848677   0.00279091\n",
      "v_subj(c).12 -0.00513384   0.0479574   -0.105142  -0.0355256 -0.000925776   0.0245846  0.0881057   0.00282171\n",
      "v_subj(c).13 -0.00441811   0.0478559   -0.103873  -0.0331797  -0.00015026   0.0249707  0.0854298   0.00285773\n",
      "v_subj(u).0   -0.0251156    0.051548   -0.113558  -0.0593757   -0.0280042   0.0094934  0.0763946    0.0034211\n",
      "v_subj(u).1   -0.0246082   0.0505923   -0.112978   -0.057603   -0.0268227   0.0093324  0.0755022   0.00339984\n",
      "v_subj(u).2   -0.0247435    0.050638    -0.11414  -0.0587349   -0.0264734  0.00946402  0.0736866   0.00341692\n",
      "v_subj(u).3   -0.0275595   0.0510179   -0.116831   -0.061086   -0.0293601  0.00723679  0.0754605   0.00333922\n",
      "v_subj(u).4   -0.0240484   0.0514651   -0.113257  -0.0585146   -0.0262825   0.0106005  0.0771667   0.00347185\n",
      "v_subj(u).5   -0.0239379   0.0518393   -0.113228  -0.0581703   -0.0260575   0.0100285  0.0809147   0.00341975\n",
      "v_subj(u).6   -0.0235957   0.0510463   -0.110376  -0.0577917   -0.0258193  0.00900369  0.0793005   0.00346601\n",
      "v_subj(u).7   -0.0243163   0.0520469   -0.115012  -0.0585696   -0.0276381   0.0099129   0.081508   0.00345894\n",
      "v_subj(u).8   -0.0224712   0.0521925   -0.111135  -0.0568624   -0.0252445   0.0107769  0.0844898   0.00352528\n",
      "v_subj(u).9   -0.0272347   0.0508665   -0.116495  -0.0611819   -0.0286816  0.00694183   0.075274   0.00335416\n",
      "v_subj(u).10  -0.0221942   0.0522267   -0.112249  -0.0564591   -0.0250215   0.0116154  0.0840734   0.00351257\n",
      "v_subj(u).11   -0.023979   0.0511498   -0.114009  -0.0574345   -0.0260117   0.0109064  0.0772803   0.00346348\n",
      "v_subj(u).12  -0.0220597   0.0518712    -0.11212  -0.0566741   -0.0242902   0.0117533  0.0826819   0.00349925\n",
      "v_subj(u).13  -0.0255131   0.0513385     -0.1153  -0.0595275   -0.0275088  0.00836916  0.0764344    0.0033946\n",
      "t(c)            0.236798   0.0176292    0.202882    0.225264     0.236575     0.24818   0.272336  0.000348466\n",
      "t(u)            0.305664   0.0183891    0.269796    0.293481     0.305303    0.317478   0.343007  0.000295183\n",
      "t_std          0.0674343   0.0107385   0.0506064   0.0597822    0.0662746   0.0735303  0.0918011  0.000199272\n",
      "t_subj(c).0     0.300463  0.00805047    0.281628    0.295795      0.30152    0.306247   0.313249  0.000140944\n",
      "t_subj(c).1     0.311778  0.00958167    0.289742    0.306238     0.313043    0.318421   0.326956  0.000177658\n",
      "t_subj(c).2     0.205312  0.00678655     0.19013    0.201635     0.206145    0.210036   0.215867  0.000118288\n",
      "t_subj(c).3     0.162898  0.00643516    0.148332    0.158991     0.163589    0.167549    0.17342   0.00010864\n",
      "t_subj(c).4     0.209347   0.0271235    0.154136     0.19472     0.206857    0.234436   0.245908    0.0011154\n",
      "t_subj(c).5     0.145216  0.00777438    0.127261     0.14061     0.146101    0.150793   0.157734  0.000140757\n",
      "t_subj(c).6     0.274842   0.0167859    0.227653    0.270885     0.279242    0.285415   0.294225  0.000653823\n",
      "t_subj(c).7     0.285412  0.00718339    0.269496    0.281306     0.286132    0.290274    0.29719   0.00012562\n",
      "t_subj(c).8     0.230989  0.00731354    0.214568     0.22635     0.231831    0.236292   0.242823  0.000141949\n",
      "t_subj(c).9     0.239474  0.00672918     0.22341    0.235781     0.240472    0.244153   0.249766   0.00013478\n",
      "t_subj(c).10    0.325184  0.00790282    0.308976    0.321347     0.326207    0.330208   0.336581  0.000282814\n",
      "t_subj(c).11    0.172669   0.0167749    0.145399    0.160031     0.167518      0.1893   0.201953  0.000497255\n",
      "t_subj(c).12    0.194125  0.00892174    0.177761    0.189398     0.194366     0.19841   0.206148  0.000364063\n",
      "t_subj(c).13    0.194606   0.0278674     0.15393    0.166557     0.207052    0.221364   0.230131   0.00177629\n",
      "t_subj(u).0      0.40279   0.0209572    0.351011    0.399934     0.409686    0.415922   0.424007    0.0007893\n",
      "t_subj(u).1     0.426011   0.0100522    0.403057    0.420038     0.427193     0.43333   0.441901  0.000163934\n",
      "t_subj(u).2     0.332555   0.0189109    0.276402    0.329206     0.339454    0.344843   0.351548  0.000666772\n",
      "t_subj(u).3      0.23588  0.00663828    0.221441    0.232065     0.236396    0.240165   0.246983  0.000118293\n",
      "t_subj(u).4     0.292815   0.0105627     0.26685      0.2886     0.294517    0.299458   0.307153   0.00024404\n",
      "t_subj(u).5     0.240825  0.00801773    0.223065    0.235922     0.241769     0.24665   0.253819  0.000153539\n",
      "t_subj(u).6     0.344112   0.0153639    0.322993    0.335746     0.341292    0.347368   0.374236   0.00050832\n",
      "t_subj(u).7     0.354775  0.00716201    0.338531    0.350685     0.355656    0.359919   0.366118  0.000137493\n",
      "t_subj(u).8     0.250792   0.0125754    0.232572    0.244529     0.249333    0.253613   0.293486  0.000426408\n",
      "t_subj(u).9     0.284848   0.0162512    0.260016    0.272739     0.279136    0.301389    0.31365  0.000593868\n",
      "t_subj(u).10    0.342617   0.0100984    0.327069    0.337606     0.342136    0.346064   0.381399  0.000630683\n",
      "t_subj(u).11    0.205918   0.0090144    0.187595    0.200566     0.206396    0.211252   0.223415  0.000145581\n",
      "t_subj(u).12    0.313362   0.0247963    0.283946    0.295861     0.301755    0.342617    0.35862   0.00154383\n",
      "t_subj(u).13     0.24275  0.00759794    0.225714    0.238269     0.243621    0.248164   0.255041  0.000151722\n",
      "z(c)            0.759519  0.00782823    0.743572    0.754888     0.760421    0.764936   0.773115  0.000621995\n",
      "z(u)            0.757283  0.00703539    0.743016    0.753058     0.757042    0.761903   0.771133  0.000505806\n",
      "z_std          0.0275695   0.0214341  0.00233726   0.0104717    0.0225797   0.0390195  0.0826029   0.00171266\n",
      "z_subj(c).0     0.758546   0.0096874    0.737923    0.752426     0.759963    0.764983   0.775112  0.000629864\n",
      "z_subj(c).1     0.757594  0.00976856    0.736175    0.751221     0.759132     0.76439   0.774584  0.000644262\n",
      "z_subj(c).2     0.760109  0.00941503    0.740769    0.754349      0.76081    0.766141   0.778367  0.000611846\n",
      "z_subj(c).3     0.760394  0.00938882    0.741471    0.754875     0.761005    0.766078   0.778934  0.000603063\n",
      "z_subj(c).4     0.759007  0.00978424    0.737691    0.753033     0.760301    0.765236    0.77704  0.000641366\n",
      "z_subj(c).5     0.758961  0.00967849    0.738265    0.752863     0.760075    0.765295   0.776833  0.000625454\n",
      "z_subj(c).6     0.760991  0.00986211      0.7407    0.755603     0.761562    0.766916    0.78062  0.000638576\n",
      "z_subj(c).7     0.759781  0.00940205     0.73992     0.75421     0.760642    0.765686   0.777848  0.000616892\n",
      "z_subj(c).8     0.760067  0.00941559     0.74085    0.754374     0.760832    0.765991   0.778172  0.000619127\n",
      "z_subj(c).9     0.758602  0.00985763    0.737246     0.75247     0.760015    0.765065    0.77626  0.000646949\n",
      "z_subj(c).10    0.761993  0.00968144    0.743515    0.756587      0.76242    0.767535   0.782198  0.000654801\n",
      "z_subj(c).11    0.758949  0.00963443    0.738528    0.752944      0.76017     0.76521    0.77628  0.000624799\n",
      "z_subj(c).12    0.759544  0.00950457    0.739842    0.753643     0.760662    0.765485   0.776795  0.000620911\n",
      "z_subj(c).13    0.758854   0.0095982    0.738484    0.752739     0.760108    0.765073   0.776368   0.00064261\n",
      "z_subj(u).0     0.755465  0.00967665    0.734019    0.750772        0.756    0.761586   0.772398  0.000562872\n",
      "z_subj(u).1     0.757024  0.00889936    0.738303    0.752317     0.756914    0.762533   0.774537  0.000513899\n",
      "z_subj(u).2     0.758586  0.00904568    0.740895    0.753348     0.757948    0.763893   0.777665  0.000539719\n",
      "z_subj(u).3     0.758083  0.00872239    0.740372    0.753103     0.757738    0.763315   0.776467  0.000494882\n",
      "z_subj(u).4     0.757564  0.00894004    0.739563    0.752744     0.757326    0.762909   0.776027  0.000498486\n",
      "z_subj(u).5     0.758422   0.0090366    0.740573    0.753191     0.757855    0.763623    0.77748  0.000511239\n",
      "z_subj(u).6     0.755404  0.00912725    0.735474    0.750768     0.755919    0.761246   0.771944  0.000545912\n",
      "z_subj(u).7     0.758906  0.00880011    0.742309    0.753563     0.758214    0.764037   0.777599  0.000515771\n",
      "z_subj(u).8     0.757425  0.00878536    0.739068    0.752674     0.757086    0.762875   0.774889  0.000496319\n",
      "z_subj(u).9     0.755616  0.00915068    0.735302    0.750968     0.755989     0.76133   0.772284  0.000527401\n",
      "z_subj(u).10    0.756037  0.00902934    0.736699     0.75135     0.756193    0.761718   0.773264  0.000523526\n",
      "z_subj(u).11    0.756797  0.00914226    0.737669    0.751999     0.756825    0.762346   0.774588  0.000525294\n",
      "z_subj(u).12     0.75805   0.0090944    0.739871    0.752945     0.757641    0.763671     0.7769  0.000527781\n",
      "z_subj(u).13    0.759036  0.00889024    0.742053    0.753574     0.758433    0.764249   0.778772  0.000519793\n",
      "p_outlier      0.0101088  0.00260523  0.00556331   0.0082673   0.00989896   0.0117878  0.0157215  8.32675e-05\n",
      "DIC: 3759.461344\n",
      "deviance: 3738.857243\n",
      "pD: 20.604101\n"
     ]
    }
   ],
   "source": [
    "bparamrec2.print_stats()"
   ]
  },
  {
   "cell_type": "code",
   "execution_count": 5,
   "metadata": {},
   "outputs": [
    {
     "name": "stdout",
     "output_type": "stream",
     "text": [
      "            rt  response  subj_idx condition  stimulus\n",
      "4195  0.959125       1.0        13    level3       0.0\n",
      "4196  0.605125       0.0        13    level3       0.0\n",
      "4197  1.425125       1.0        13    level3       0.0\n",
      "4198  1.415125       1.0        13    level3       0.0\n",
      "4199  0.858125       1.0        13    level3       0.0\n"
     ]
    }
   ],
   "source": [
    "from pandas import Series\n",
    "n_subjects = 14\n",
    "trials_per_level = 50\n",
    "level1a = {'v':1.3, 'a':2, 't':.3, 'z':.5}\n",
    "level2a = {'v':1.4, 'a':2, 't':.3, 'z':.6}\n",
    "level3a = {'v':1.5, 'a':2, 't':.3, 'z':.7}\n",
    "\n",
    "data_a, params_a = hddm.generate.gen_rand_data({'level1': level1a,\n",
    "                                                'level2': level2a,\n",
    "                                                'level3': level3a},\n",
    "                                                size=trials_per_level,\n",
    "                                                subjs=n_subjects)\n",
    "level1b = {'v':1.3, 'a':2, 't':.3, 'z':.5}\n",
    "level2b = {'v':1.4, 'a':2, 't':.3, 'z':.4}\n",
    "level3b = {'v':1.5, 'a':2, 't':.3, 'z':.3}\n",
    "data_b, params_b = hddm.generate.gen_rand_data({'level1': level1b,\n",
    "                                                'level2': level2b,\n",
    "                                                'level3': level3b},\n",
    "                                                size=trials_per_level,\n",
    "                                                subjs=n_subjects)\n",
    "data_a['stimulus'] = Series(np.ones((len(data_a))), index=data_a.index)\n",
    "data_b['stimulus'] = Series(np.zeros((len(data_b))), index=data_a.index)\n",
    "mydata = data_a.append(data_b, ignore_index=True)\n",
    "print(mydata.tail())"
   ]
  },
  {
   "cell_type": "code",
   "execution_count": 6,
   "metadata": {},
   "outputs": [
    {
     "name": "stdout",
     "output_type": "stream",
     "text": [
      " [-----------------100%-----------------] 7000 of 7000 complete in 1014.7 sec                       mean       std      2.5q       25q       50q       75q     97.5q    mc err\n",
      "a                  1.735099  0.034591  1.669136  1.712540  1.734541  1.756630  1.805960  0.000704\n",
      "a_std              0.105221  0.032806  0.052787  0.082578  0.101118  0.123001  0.183786  0.000799\n",
      "a_subj.0           1.687317  0.047074  1.594640  1.655560  1.686124  1.719159  1.780229  0.000727\n",
      "a_subj.1           1.779277  0.051323  1.680783  1.744084  1.777253  1.813020  1.883912  0.000878\n",
      "a_subj.2           1.688943  0.059005  1.575627  1.648499  1.688154  1.728081  1.807071  0.001185\n",
      "a_subj.3           1.663106  0.047293  1.571940  1.630706  1.662972  1.695129  1.756716  0.000858\n",
      "a_subj.4           1.789498  0.053781  1.688026  1.752106  1.788410  1.823505  1.903024  0.000913\n",
      "a_subj.5           1.580311  0.051126  1.482390  1.545558  1.579759  1.613819  1.682306  0.001211\n",
      "a_subj.6           1.755760  0.053762  1.656040  1.718451  1.754236  1.790793  1.865504  0.000968\n",
      "a_subj.7           1.882428  0.073970  1.749478  1.831223  1.877050  1.930969  2.042536  0.002008\n",
      "a_subj.8           1.638271  0.046710  1.548751  1.606697  1.638169  1.669498  1.729937  0.000807\n",
      "a_subj.9           1.819481  0.060498  1.710623  1.777658  1.816768  1.859236  1.947966  0.001107\n",
      "a_subj.10          1.713284  0.066334  1.588365  1.668446  1.710304  1.756714  1.853855  0.001758\n",
      "a_subj.11          1.791616  0.055088  1.687854  1.753337  1.789983  1.828827  1.899933  0.001096\n",
      "a_subj.12          1.729550  0.057430  1.622093  1.690964  1.728153  1.765689  1.845900  0.001265\n",
      "a_subj.13          1.764024  0.052561  1.662963  1.728068  1.762610  1.797793  1.872846  0.000900\n",
      "v(level1)         -0.009307  0.037409 -0.083308 -0.033621 -0.009564  0.015389  0.064574  0.001926\n",
      "v(level2)          0.067945  0.041389 -0.008809  0.037782  0.068304  0.094694  0.148580  0.002322\n",
      "v(level3)          0.230200  0.038246  0.155518  0.205448  0.231244  0.255979  0.303402  0.001967\n",
      "v_std              0.049910  0.030912  0.003341  0.024884  0.047507  0.070588  0.116146  0.002507\n",
      "v_subj(level1).0   0.008200  0.060023 -0.103621 -0.029758  0.003622  0.041567  0.142211  0.002122\n",
      "v_subj(level1).1  -0.016550  0.058040 -0.139723 -0.049719 -0.015441  0.019324  0.094990  0.002002\n",
      "v_subj(level1).2  -0.003491  0.060273 -0.123705 -0.038912 -0.004687  0.030635  0.125096  0.002033\n",
      "v_subj(level1).3  -0.020326  0.059592 -0.154509 -0.051492 -0.017648  0.016196  0.093882  0.002015\n",
      "v_subj(level1).4   0.000983  0.058905 -0.114184 -0.035312 -0.002483  0.034654  0.129213  0.002014\n",
      "v_subj(level1).5   0.004614  0.061358 -0.111935 -0.033507  0.000156  0.038182  0.141580  0.002199\n",
      "v_subj(level1).6  -0.000711  0.060758 -0.117609 -0.038470 -0.004326  0.034589  0.129116  0.001998\n",
      "v_subj(level1).7  -0.011139  0.058204 -0.132757 -0.045138 -0.011709  0.023204  0.110028  0.001858\n",
      "v_subj(level1).8   0.016773  0.062130 -0.091701 -0.022914  0.009721  0.051289  0.157531  0.002512\n",
      "v_subj(level1).9  -0.008543  0.058895 -0.132449 -0.042501 -0.009144  0.027458  0.110887  0.001965\n",
      "v_subj(level1).10 -0.026357  0.063813 -0.171937 -0.058404 -0.021978  0.012064  0.091390  0.002370\n",
      "v_subj(level1).11 -0.002787  0.059023 -0.122154 -0.038182 -0.005391  0.032445  0.120210  0.001943\n",
      "v_subj(level1).12 -0.054639  0.071765 -0.227153 -0.094243 -0.041785 -0.006000  0.056177  0.003646\n",
      "v_subj(level1).13 -0.016892  0.057193 -0.142946 -0.047083 -0.015860  0.018646  0.095710  0.002034\n",
      "v_subj(level2).0   0.091345  0.063434 -0.017855  0.046865  0.085674  0.131136  0.232401  0.002916\n",
      "v_subj(level2).1   0.074466  0.061394 -0.037500  0.032573  0.072019  0.114733  0.203345  0.002426\n",
      "v_subj(level2).2   0.071055  0.064003 -0.055549  0.030455  0.069544  0.111395  0.203105  0.002447\n",
      "v_subj(level2).3   0.050040  0.062203 -0.085298  0.012026  0.052251  0.089176  0.161401  0.002425\n",
      "v_subj(level2).4   0.065305  0.060519 -0.054259  0.024939  0.065687  0.105006  0.181455  0.002235\n",
      "v_subj(level2).5   0.071904  0.063038 -0.048536  0.030710  0.071158  0.112938  0.201149  0.002456\n",
      "v_subj(level2).6   0.081722  0.064379 -0.036061  0.038816  0.078292  0.123983  0.218880  0.002639\n",
      "v_subj(level2).7   0.064577  0.062798 -0.062883  0.023914  0.064264  0.105913  0.187876  0.002290\n",
      "v_subj(level2).8   0.078437  0.061593 -0.040306  0.038640  0.076021  0.118805  0.206458  0.002502\n",
      "v_subj(level2).9   0.057953  0.061358 -0.067501  0.018581  0.058948  0.096231  0.175724  0.002311\n",
      "v_subj(level2).10  0.056303  0.065109 -0.082783  0.017052  0.057742  0.097469  0.176077  0.002446\n",
      "v_subj(level2).11  0.066491  0.063232 -0.061194  0.025792  0.065659  0.106374  0.190787  0.002330\n",
      "v_subj(level2).12  0.045044  0.065975 -0.102660  0.007223  0.047949  0.087604  0.159279  0.002709\n",
      "v_subj(level2).13  0.073646  0.061704 -0.044909  0.033520  0.071522  0.114114  0.198984  0.002381\n",
      "v_subj(level3).0   0.266062  0.066786  0.155371  0.221131  0.258015  0.302002  0.420965  0.003148\n",
      "v_subj(level3).1   0.219809  0.058460  0.089846  0.185323  0.222823  0.256847  0.329121  0.002054\n",
      "v_subj(level3).2   0.223862  0.061429  0.091990  0.187382  0.226583  0.261000  0.345591  0.002071\n",
      "v_subj(level3).3   0.229918  0.059243  0.106762  0.194203  0.231194  0.265384  0.348026  0.002012\n",
      "v_subj(level3).4   0.255293  0.063198  0.141454  0.214695  0.250597  0.290094  0.399808  0.002580\n",
      "v_subj(level3).5   0.258175  0.065928  0.143745  0.215389  0.252730  0.292331  0.415169  0.002744\n",
      "v_subj(level3).6   0.209600  0.062353  0.071821  0.174632  0.215075  0.251346  0.320114  0.002429\n",
      "v_subj(level3).7   0.208468  0.063835  0.062443  0.174396  0.215083  0.250919  0.320258  0.002516\n",
      "v_subj(level3).8   0.269349  0.070234  0.155732  0.221520  0.259422  0.308286  0.433130  0.003302\n",
      "v_subj(level3).9   0.191863  0.068557  0.032381  0.154318  0.202408  0.240035  0.301526  0.003368\n",
      "v_subj(level3).10  0.209299  0.065920  0.058992  0.173751  0.215668  0.252105  0.328522  0.002547\n",
      "v_subj(level3).11  0.234282  0.058390  0.116737  0.198397  0.235255  0.268246  0.354029  0.001899\n",
      "v_subj(level3).12  0.204868  0.063571  0.061943  0.169222  0.211713  0.248207  0.316636  0.002770\n",
      "v_subj(level3).13  0.239215  0.060393  0.121622  0.202805  0.237669  0.272550  0.367322  0.002144\n",
      "t(level1)          0.358269  0.015355  0.328004  0.348100  0.358187  0.368555  0.389639  0.000241\n",
      "t(level2)          0.354385  0.016233  0.322287  0.343678  0.354095  0.365142  0.386971  0.000289\n",
      "t(level3)          0.290290  0.015889  0.259590  0.279391  0.290170  0.300978  0.321800  0.000253\n",
      "t_std              0.058192  0.007537  0.045817  0.052824  0.057431  0.062689  0.075110  0.000149\n",
      "t_subj(level1).0   0.456930  0.011699  0.432604  0.450442  0.457530  0.463672  0.484665  0.000208\n",
      "t_subj(level1).1   0.428865  0.013696  0.397979  0.420477  0.430526  0.438732  0.450937  0.000239\n",
      "t_subj(level1).2   0.364263  0.006093  0.350446  0.360653  0.364872  0.368595  0.374016  0.000102\n",
      "t_subj(level1).3   0.306746  0.012405  0.279759  0.299136  0.307864  0.315637  0.327733  0.000204\n",
      "t_subj(level1).4   0.355547  0.013795  0.325230  0.347031  0.356834  0.365457  0.378663  0.000246\n",
      "t_subj(level1).5   0.351894  0.008322  0.332993  0.346973  0.352804  0.357871  0.365300  0.000142\n",
      "t_subj(level1).6   0.391603  0.019364  0.338344  0.387280  0.397190  0.403910  0.413461  0.000852\n",
      "t_subj(level1).7   0.268457  0.012092  0.225687  0.264208  0.270814  0.275857  0.283269  0.000454\n",
      "t_subj(level1).8   0.317660  0.011965  0.291045  0.310639  0.318614  0.326189  0.337771  0.000192\n",
      "t_subj(level1).9   0.370906  0.007449  0.353556  0.366447  0.371794  0.376266  0.382803  0.000147\n",
      "t_subj(level1).10  0.290225  0.005856  0.276746  0.286931  0.290846  0.294385  0.299400  0.000100\n",
      "t_subj(level1).11  0.340987  0.008716  0.321665  0.335756  0.341976  0.347280  0.355048  0.000146\n",
      "t_subj(level1).12  0.330370  0.015245  0.299373  0.320417  0.330712  0.339910  0.361359  0.000298\n",
      "t_subj(level1).13  0.435984  0.010665  0.411053  0.429683  0.437296  0.443479  0.452942  0.000168\n",
      "t_subj(level2).0   0.344360  0.016092  0.310754  0.334233  0.345239  0.355337  0.373637  0.000217\n",
      "t_subj(level2).1   0.448409  0.012398  0.420062  0.441077  0.449810  0.457162  0.468732  0.000221\n",
      "t_subj(level2).2   0.356665  0.011696  0.327272  0.350901  0.358702  0.364857  0.373601  0.000288\n",
      "t_subj(level2).3   0.324285  0.009755  0.302139  0.318555  0.325257  0.331406  0.339793  0.000159\n",
      "t_subj(level2).4   0.365605  0.010591  0.342730  0.361035  0.367262  0.372360  0.380009  0.000287\n",
      "t_subj(level2).5   0.325952  0.011845  0.306039  0.319432  0.325379  0.330520  0.361425  0.000290\n",
      "t_subj(level2).6   0.333326  0.008576  0.313843  0.328436  0.334347  0.339587  0.346952  0.000124\n",
      "t_subj(level2).7   0.404193  0.031590  0.325900  0.407030  0.416713  0.422471  0.429729  0.002978\n",
      "t_subj(level2).8   0.282358  0.008166  0.263563  0.277505  0.283381  0.288181  0.295250  0.000126\n",
      "t_subj(level2).9   0.301741  0.010956  0.281833  0.295903  0.301486  0.306438  0.327817  0.000210\n",
      "t_subj(level2).10  0.326564  0.005248  0.314869  0.323401  0.327217  0.330359  0.334998  0.000081\n",
      "t_subj(level2).11  0.322619  0.016562  0.278764  0.319622  0.327381  0.333265  0.340998  0.000687\n",
      "t_subj(level2).12  0.380793  0.018360  0.353277  0.366974  0.374097  0.399724  0.412365  0.000695\n",
      "t_subj(level2).13  0.401357  0.010945  0.376377  0.394996  0.402776  0.409359  0.418563  0.000195\n",
      "t_subj(level3).0   0.302416  0.018073  0.263591  0.291264  0.303537  0.315193  0.334424  0.000250\n",
      "t_subj(level3).1   0.342166  0.017841  0.304129  0.330947  0.343446  0.354554  0.374097  0.000260\n",
      "t_subj(level3).2   0.332874  0.015300  0.296416  0.324195  0.335327  0.344171  0.355337  0.000393\n",
      "t_subj(level3).3   0.243696  0.012012  0.217440  0.236335  0.244859  0.252162  0.264318  0.000173\n",
      "t_subj(level3).4   0.294289  0.013382  0.264215  0.286164  0.295695  0.303941  0.316152  0.000200\n",
      "t_subj(level3).5   0.202822  0.013694  0.173043  0.194032  0.203602  0.212549  0.227042  0.000241\n",
      "t_subj(level3).6   0.294775  0.009842  0.274059  0.289172  0.295539  0.300636  0.314183  0.000191\n",
      "t_subj(level3).7   0.379803  0.008995  0.358900  0.374505  0.380932  0.386271  0.393993  0.000178\n",
      "t_subj(level3).8   0.205307  0.015066  0.174360  0.195531  0.206086  0.215821  0.232740  0.000234\n",
      "t_subj(level3).9   0.288695  0.011760  0.261910  0.281849  0.290055  0.296997  0.307824  0.000221\n",
      "t_subj(level3).10  0.288477  0.009374  0.267539  0.282631  0.289315  0.295261  0.304302  0.000216\n",
      "t_subj(level3).11  0.199435  0.015684  0.165685  0.189580  0.200366  0.210066  0.227967  0.000229\n",
      "t_subj(level3).12  0.378203  0.023722  0.338957  0.356791  0.383360  0.400352  0.412284  0.001012\n",
      "t_subj(level3).13  0.338937  0.017483  0.302009  0.328099  0.340259  0.351071  0.369895  0.000289\n",
      "z(level1)          0.695037  0.013602  0.668442  0.686221  0.695060  0.704176  0.721196  0.000246\n",
      "z(level2)          0.701122  0.013435  0.673398  0.692226  0.701355  0.710415  0.726615  0.000306\n",
      "z(level3)          0.659411  0.014384  0.631197  0.649608  0.659315  0.669379  0.687176  0.000271\n",
      "z_std              0.202449  0.022493  0.161255  0.187034  0.201416  0.217324  0.248655  0.000571\n",
      "z_subj(level1).0   0.682543  0.022688  0.636077  0.667980  0.683141  0.697971  0.726062  0.000365\n",
      "z_subj(level1).1   0.656983  0.023784  0.609035  0.641088  0.657442  0.673382  0.701951  0.000414\n",
      "z_subj(level1).2   0.738632  0.020046  0.698722  0.725284  0.739415  0.752603  0.776595  0.000360\n",
      "z_subj(level1).3   0.649358  0.023852  0.602312  0.633338  0.649550  0.665870  0.694263  0.000357\n",
      "z_subj(level1).4   0.664964  0.023441  0.619040  0.649211  0.665486  0.680830  0.709881  0.000393\n",
      "z_subj(level1).5   0.689155  0.022625  0.643447  0.674174  0.689523  0.704498  0.733083  0.000401\n",
      "z_subj(level1).6   0.712844  0.023592  0.663569  0.697652  0.713848  0.729217  0.756670  0.000607\n",
      "z_subj(level1).7   0.727633  0.021336  0.683795  0.713256  0.728145  0.742596  0.767718  0.000469\n",
      "z_subj(level1).8   0.649576  0.024393  0.599366  0.633712  0.649926  0.666158  0.696012  0.000378\n",
      "z_subj(level1).9   0.757723  0.019542  0.718050  0.744661  0.758105  0.771199  0.794518  0.000422\n",
      "z_subj(level1).10  0.748840  0.019767  0.709441  0.735658  0.748903  0.762444  0.787262  0.000380\n",
      "z_subj(level1).11  0.707385  0.021979  0.663315  0.692697  0.707716  0.722844  0.748682  0.000382\n",
      "z_subj(level1).12  0.666166  0.025438  0.619177  0.648935  0.664881  0.682165  0.720705  0.000526\n",
      "z_subj(level1).13  0.687682  0.023454  0.640355  0.671895  0.688125  0.703756  0.731719  0.000380\n",
      "z_subj(level2).0   0.598601  0.025333  0.548096  0.581992  0.599051  0.615709  0.646968  0.000369\n",
      "z_subj(level2).1   0.688110  0.023104  0.641016  0.673286  0.688657  0.703753  0.732965  0.000400\n",
      "z_subj(level2).2   0.728263  0.024138  0.677508  0.712685  0.729688  0.744942  0.771541  0.000560\n",
      "z_subj(level2).3   0.673285  0.023600  0.625622  0.657554  0.674025  0.689636  0.717223  0.000369\n",
      "z_subj(level2).4   0.707466  0.021996  0.663162  0.692951  0.707643  0.722583  0.750161  0.000369\n",
      "z_subj(level2).5   0.678387  0.023215  0.631814  0.663351  0.678545  0.693571  0.724225  0.000436\n",
      "z_subj(level2).6   0.710388  0.021900  0.666217  0.696218  0.710734  0.725683  0.751330  0.000355\n",
      "z_subj(level2).7   0.742760  0.024629  0.688292  0.728055  0.744658  0.760028  0.785602  0.001373\n",
      "z_subj(level2).8   0.698613  0.022255  0.653736  0.683874  0.699277  0.714068  0.740850  0.000370\n",
      "z_subj(level2).9   0.712606  0.021404  0.669385  0.698274  0.713421  0.727257  0.753097  0.000357\n",
      "z_subj(level2).10  0.767057  0.018787  0.729392  0.754707  0.767354  0.780037  0.803244  0.000462\n",
      "z_subj(level2).11  0.722460  0.022151  0.677571  0.707810  0.723283  0.737716  0.764205  0.000485\n",
      "z_subj(level2).12  0.715287  0.022985  0.670160  0.699884  0.715480  0.730752  0.760487  0.000504\n",
      "z_subj(level2).13  0.680089  0.023149  0.633877  0.664465  0.680376  0.696286  0.724612  0.000375\n",
      "z_subj(level3).0   0.571429  0.024002  0.523471  0.555244  0.571638  0.587031  0.619625  0.000293\n",
      "z_subj(level3).1   0.611420  0.023183  0.565360  0.595729  0.611752  0.627181  0.656003  0.000321\n",
      "z_subj(level3).2   0.722909  0.030489  0.661459  0.702173  0.723929  0.745103  0.778220  0.000833\n",
      "z_subj(level3).3   0.640378  0.023369  0.594003  0.624833  0.640729  0.656120  0.685460  0.000360\n",
      "z_subj(level3).4   0.658659  0.023514  0.611263  0.642960  0.659387  0.674823  0.702664  0.000378\n",
      "z_subj(level3).5   0.589240  0.023757  0.541825  0.573213  0.589811  0.605902  0.634545  0.000377\n",
      "z_subj(level3).6   0.707064  0.022223  0.661816  0.691894  0.707760  0.722596  0.747569  0.000455\n",
      "z_subj(level3).7   0.748970  0.021053  0.706284  0.734884  0.749637  0.763438  0.788524  0.000489\n",
      "z_subj(level3).8   0.607211  0.022636  0.562140  0.591861  0.607706  0.622866  0.650575  0.000320\n",
      "z_subj(level3).9   0.679741  0.022829  0.634471  0.664791  0.679927  0.695216  0.722585  0.000397\n",
      "z_subj(level3).10  0.743839  0.025051  0.695218  0.726804  0.743545  0.760920  0.792578  0.000664\n",
      "z_subj(level3).11  0.619740  0.022398  0.575197  0.604428  0.619711  0.635373  0.662935  0.000275\n",
      "z_subj(level3).12  0.692519  0.024424  0.643596  0.675976  0.693009  0.709814  0.738573  0.000608\n",
      "z_subj(level3).13  0.627510  0.023363  0.580547  0.612223  0.627455  0.643738  0.671989  0.000294\n",
      "p_outlier          0.004751  0.001633  0.002050  0.003585  0.004576  0.005738  0.008405  0.000052\n",
      "DIC: 7053.146355\n",
      "deviance: 6974.996755\n",
      "pD: 78.149600\n"
     ]
    }
   ],
   "source": [
    "test = hddm.HDDMStimCoding(mydata, include=['z', 'p_outlier'], depends_on={'v': 'condition', 't': 'condition', 'z': 'condition'}, stim_col='stimulus', split_param='v')\n",
    "test.sample(7000, burn=500)\n",
    "test.print_stats()"
   ]
  },
  {
   "cell_type": "code",
   "execution_count": 290,
   "metadata": {},
   "outputs": [],
   "source": [
    "bsyndata2, bparam2 = hddm.generate.gen_rand_data(params={'u': {'a': 2.290058, 'v': 2.242900, 't': 0.235728, 'z': 0.471034},\n",
    "                                                         'c': {'a': 2.290058, 'v': 2.196467, 't': 0.152843, 'z': 0.504701}}, \n",
    "                                               size = 100, subjs = 14)"
   ]
  },
  {
   "cell_type": "code",
   "execution_count": 39,
   "metadata": {},
   "outputs": [
    {
     "name": "stdout",
     "output_type": "stream",
     "text": [
      "2800\n",
      "rt          0.796890\n",
      "response    0.987857\n",
      "dtype: float64\n",
      "rt          0.728930\n",
      "response    0.987143\n",
      "dtype: float64\n"
     ]
    }
   ],
   "source": [
    "n_subjects = 14\n",
    "trials_per_level = 50 # and per stimulus\n",
    "data_a, params_a = hddm.generate.gen_rand_data({'u': {'a': 2.290058, 'v': 2.242900, 't': 0.235728, 'z': 0.471034},\n",
    "                                               'c': {'a': 2.290058, 'v': 2.196467, 't': 0.152843, 'z': 0.504701}},\n",
    "                                                size=trials_per_level,\n",
    "                                                subjs=n_subjects)\n",
    "data_b, params_b = hddm.generate.gen_rand_data({'c': {'a': 2.290058, 'v': 2.196467, 't': 0.152843, 'z': 1 - 0.504701},\n",
    "                                               'u': {'a': 2.290058, 'v': 2.242900, 't': 0.235728, 'z': 1 - 0.471034}},\n",
    "                                                size=trials_per_level,\n",
    "                                                subjs=n_subjects)\n",
    "data_a['stimulus'] = Series(np.ones((len(data_a))), index=data_a.index)\n",
    "data_b['stimulus'] = Series(np.ones((len(data_b)))*2, index=data_a.index)\n",
    "bsyndata2 = data_a.append(data_b, ignore_index=True)\n",
    "print(len(bsyndata2))\n",
    "\n",
    "print(bsyndata2.loc[bsyndata2['condition'] == 'u'][['rt', 'response']].mean())\n",
    "print(bsyndata2.loc[bsyndata2['condition'] == 'c'][['rt', 'response']].mean())"
   ]
  },
  {
   "cell_type": "code",
   "execution_count": 40,
   "metadata": {},
   "outputs": [
    {
     "data": {
      "text/html": [
       "<div>\n",
       "<style scoped>\n",
       "    .dataframe tbody tr th:only-of-type {\n",
       "        vertical-align: middle;\n",
       "    }\n",
       "\n",
       "    .dataframe tbody tr th {\n",
       "        vertical-align: top;\n",
       "    }\n",
       "\n",
       "    .dataframe thead th {\n",
       "        text-align: right;\n",
       "    }\n",
       "</style>\n",
       "<table border=\"1\" class=\"dataframe\">\n",
       "  <thead>\n",
       "    <tr style=\"text-align: right;\">\n",
       "      <th></th>\n",
       "      <th>rt</th>\n",
       "      <th>response</th>\n",
       "      <th>subj_idx</th>\n",
       "      <th>condition</th>\n",
       "      <th>stimulus</th>\n",
       "    </tr>\n",
       "  </thead>\n",
       "  <tbody>\n",
       "    <tr>\n",
       "      <th>0</th>\n",
       "      <td>0.872583</td>\n",
       "      <td>1.0</td>\n",
       "      <td>0</td>\n",
       "      <td>c</td>\n",
       "      <td>1.0</td>\n",
       "    </tr>\n",
       "    <tr>\n",
       "      <th>1</th>\n",
       "      <td>0.828583</td>\n",
       "      <td>1.0</td>\n",
       "      <td>0</td>\n",
       "      <td>c</td>\n",
       "      <td>1.0</td>\n",
       "    </tr>\n",
       "    <tr>\n",
       "      <th>2</th>\n",
       "      <td>0.620583</td>\n",
       "      <td>1.0</td>\n",
       "      <td>0</td>\n",
       "      <td>c</td>\n",
       "      <td>1.0</td>\n",
       "    </tr>\n",
       "    <tr>\n",
       "      <th>3</th>\n",
       "      <td>0.784583</td>\n",
       "      <td>1.0</td>\n",
       "      <td>0</td>\n",
       "      <td>c</td>\n",
       "      <td>1.0</td>\n",
       "    </tr>\n",
       "    <tr>\n",
       "      <th>4</th>\n",
       "      <td>0.739583</td>\n",
       "      <td>1.0</td>\n",
       "      <td>0</td>\n",
       "      <td>c</td>\n",
       "      <td>1.0</td>\n",
       "    </tr>\n",
       "  </tbody>\n",
       "</table>\n",
       "</div>"
      ],
      "text/plain": [
       "         rt  response  subj_idx condition  stimulus\n",
       "0  0.872583       1.0         0         c       1.0\n",
       "1  0.828583       1.0         0         c       1.0\n",
       "2  0.620583       1.0         0         c       1.0\n",
       "3  0.784583       1.0         0         c       1.0\n",
       "4  0.739583       1.0         0         c       1.0"
      ]
     },
     "execution_count": 40,
     "metadata": {},
     "output_type": "execute_result"
    }
   ],
   "source": [
    "bsyndata2.head()"
   ]
  },
  {
   "cell_type": "code",
   "execution_count": 41,
   "metadata": {},
   "outputs": [
    {
     "name": "stdout",
     "output_type": "stream",
     "text": [
      " [-----------------100%-----------------] 7000 of 7000 complete in 664.0 sec                  mean       std      2.5q       25q       50q       75q     97.5q    mc err\n",
      "a             1.967613  0.045038  1.885560  1.934816  1.965006  2.001579  2.052436  0.003046\n",
      "a_std         0.054620  0.040874  0.001475  0.021036  0.048008  0.080827  0.148575  0.002847\n",
      "a_subj.0      1.937895  0.071286  1.780540  1.896654  1.942389  1.990831  2.058896  0.004013\n",
      "a_subj.1      1.965138  0.063798  1.836310  1.926734  1.963695  2.006130  2.089233  0.003260\n",
      "a_subj.2      1.936612  0.069494  1.782227  1.895301  1.941566  1.988284  2.057024  0.003922\n",
      "a_subj.3      1.932586  0.072053  1.771427  1.889944  1.937568  1.986018  2.053674  0.004094\n",
      "a_subj.4      1.981179  0.060677  1.870362  1.939188  1.979911  2.017789  2.111281  0.002885\n",
      "a_subj.5      1.968534  0.065285  1.835222  1.928226  1.965710  2.008579  2.100547  0.003163\n",
      "a_subj.6      2.014297  0.076408  1.896659  1.956897  2.004569  2.055014  2.198130  0.004087\n",
      "a_subj.7      1.993428  0.068610  1.871393  1.946153  1.990709  2.032283  2.147063  0.003396\n",
      "a_subj.8      1.949389  0.066229  1.807804  1.909021  1.950377  1.997221  2.069336  0.003555\n",
      "a_subj.9      1.969841  0.064761  1.840919  1.928910  1.968811  2.009645  2.099756  0.003113\n",
      "a_subj.10     1.968656  0.060836  1.849775  1.929860  1.965703  2.006604  2.093273  0.003119\n",
      "a_subj.11     1.958400  0.063957  1.823447  1.919963  1.956871  2.002617  2.079805  0.003189\n",
      "a_subj.12     2.002149  0.068052  1.893392  1.951944  1.997698  2.038737  2.162046  0.003399\n",
      "a_subj.13     1.968502  0.063165  1.844201  1.928569  1.964904  2.007873  2.098376  0.003062\n",
      "v(c)          0.006887  0.039907 -0.067446 -0.022624  0.004618  0.038387  0.078928  0.003098\n",
      "v(u)          0.036267  0.039032 -0.036192  0.010480  0.034512  0.062365  0.122955  0.002855\n",
      "v_std         0.026298  0.019691  0.001857  0.010852  0.022105  0.037272  0.073648  0.001591\n",
      "v_subj(c).0   0.006575  0.048736 -0.090745 -0.025996  0.005264  0.042008  0.098976  0.003079\n",
      "v_subj(c).1   0.007684  0.049050 -0.087747 -0.025150  0.006997  0.043219  0.099512  0.003083\n",
      "v_subj(c).2   0.008979  0.048614 -0.082569 -0.025135  0.006986  0.044059  0.101441  0.003043\n",
      "v_subj(c).3   0.011173  0.050148 -0.084287 -0.023719  0.009312  0.046941  0.110362  0.003064\n",
      "v_subj(c).4   0.008551  0.049337 -0.088734 -0.024688  0.007411  0.043390  0.100951  0.003027\n",
      "v_subj(c).5   0.006413  0.048855 -0.091520 -0.026197  0.005233  0.042135  0.094662  0.003060\n",
      "v_subj(c).6   0.003343  0.048126 -0.093308 -0.029098  0.002445  0.038798  0.089121  0.003080\n",
      "v_subj(c).7   0.008884  0.048483 -0.082597 -0.024892  0.006780  0.044299  0.100063  0.003097\n",
      "v_subj(c).8   0.008312  0.049312 -0.086204 -0.026129  0.006223  0.044315  0.101384  0.003123\n",
      "v_subj(c).9   0.006184  0.049591 -0.089929 -0.027260  0.004532  0.041948  0.100306  0.003086\n",
      "v_subj(c).10  0.008809  0.048336 -0.087270 -0.025418  0.008044  0.043545  0.099440  0.003010\n",
      "v_subj(c).11  0.004961  0.049333 -0.095105 -0.027620  0.004372  0.040542  0.093948  0.003118\n",
      "v_subj(c).12  0.002738  0.049277 -0.098237 -0.029523  0.001763  0.039534  0.089180  0.003119\n",
      "v_subj(c).13  0.005950  0.048867 -0.090899 -0.026901  0.004597  0.041124  0.095181  0.003091\n",
      "v_subj(u).0   0.035479  0.048518 -0.060591  0.005272  0.033485  0.066227  0.137463  0.002876\n",
      "v_subj(u).1   0.037048  0.048377 -0.060252  0.007792  0.035435  0.067160  0.138185  0.002861\n",
      "v_subj(u).2   0.035382  0.048186 -0.056042  0.005824  0.032615  0.066143  0.135646  0.002831\n",
      "v_subj(u).3   0.035544  0.049105 -0.060322  0.005828  0.033333  0.066868  0.139444  0.002907\n",
      "v_subj(u).4   0.041503  0.048855 -0.047979  0.010333  0.038283  0.071676  0.147133  0.002864\n",
      "v_subj(u).5   0.036597  0.048289 -0.058747  0.006944  0.033909  0.067332  0.139052  0.002882\n",
      "v_subj(u).6   0.033495  0.047170 -0.060316  0.004900  0.031822  0.063958  0.131348  0.002799\n",
      "v_subj(u).7   0.035561  0.048306 -0.059104  0.005834  0.033495  0.066207  0.134084  0.002802\n",
      "v_subj(u).8   0.032687  0.048179 -0.064368  0.003320  0.030941  0.063189  0.131546  0.002877\n",
      "v_subj(u).9   0.038780  0.049101 -0.055521  0.007781  0.037695  0.069167  0.141042  0.002859\n",
      "v_subj(u).10  0.036430  0.047512 -0.055607  0.007324  0.033308  0.066075  0.139551  0.002777\n",
      "v_subj(u).11  0.035229  0.049264 -0.060992  0.004944  0.033195  0.066881  0.137410  0.002860\n",
      "v_subj(u).12  0.033939  0.047256 -0.057504  0.004485  0.031504  0.064401  0.134282  0.002806\n",
      "v_subj(u).13  0.039233  0.046777 -0.047069  0.009478  0.036310  0.068472  0.142127  0.002800\n",
      "t(c)          0.257406  0.026890  0.208012  0.239160  0.256178  0.274387  0.313787  0.000503\n",
      "t(u)          0.317575  0.028561  0.264986  0.297905  0.315905  0.335630  0.378367  0.000509\n",
      "t_std         0.105943  0.018264  0.077323  0.093003  0.103764  0.116061  0.148555  0.000374\n",
      "t_subj(c).0   0.223070  0.007221  0.207030  0.218879  0.223799  0.227941  0.234123  0.000123\n",
      "t_subj(c).1   0.244572  0.008212  0.225920  0.239808  0.245528  0.250400  0.257883  0.000137\n",
      "t_subj(c).2   0.299326  0.008275  0.280698  0.294380  0.300086  0.305291  0.313251  0.000162\n",
      "t_subj(c).3   0.156323  0.015526  0.133518  0.145095  0.151061  0.171212  0.185049  0.000501\n",
      "t_subj(c).4   0.241557  0.008198  0.223282  0.236692  0.242417  0.247448  0.255176  0.000140\n",
      "t_subj(c).5   0.355890  0.008410  0.339232  0.351343  0.356484  0.360849  0.367974  0.000250\n",
      "t_subj(c).6   0.298477  0.009977  0.274683  0.292993  0.299954  0.305598  0.313661  0.000218\n",
      "t_subj(c).7   0.192164  0.024811  0.167240  0.180435  0.186111  0.191767  0.266757  0.002288\n",
      "t_subj(c).8   0.115494  0.006341  0.101378  0.111588  0.116148  0.119980  0.126213  0.000111\n",
      "t_subj(c).9   0.291783  0.015648  0.266990  0.279671  0.286546  0.307323  0.318517  0.000479\n",
      "t_subj(c).10  0.147482  0.007321  0.130929  0.143239  0.148335  0.152608  0.159066  0.000109\n",
      "t_subj(c).11  0.393215  0.007392  0.377168  0.388990  0.393808  0.398028  0.405783  0.000117\n",
      "t_subj(c).12  0.149932  0.008296  0.130958  0.144917  0.150888  0.155952  0.163254  0.000157\n",
      "t_subj(c).13  0.344102  0.017730  0.282178  0.340829  0.348256  0.353798  0.361960  0.000909\n",
      "t_subj(u).0   0.305163  0.007006  0.289213  0.301155  0.306084  0.310139  0.316094  0.000146\n",
      "t_subj(u).1   0.334922  0.009565  0.318323  0.329834  0.334816  0.339205  0.349126  0.000382\n",
      "t_subj(u).2   0.409751  0.007553  0.393019  0.405274  0.410600  0.415187  0.421998  0.000156\n",
      "t_subj(u).3   0.255056  0.006962  0.239077  0.251135  0.255867  0.259994  0.266230  0.000149\n",
      "t_subj(u).4   0.285703  0.008940  0.265518  0.280404  0.286710  0.292245  0.300053  0.000167\n",
      "t_subj(u).5   0.431544  0.013504  0.391019  0.428689  0.434945  0.439813  0.446549  0.000512\n",
      "t_subj(u).6   0.355359  0.031871  0.325714  0.341367  0.347373  0.353067  0.451612  0.002982\n",
      "t_subj(u).7   0.323226  0.017350  0.292423  0.306885  0.328960  0.338555  0.347275  0.000660\n",
      "t_subj(u).8   0.124026  0.006495  0.109164  0.120222  0.124661  0.128620  0.134707  0.000107\n",
      "t_subj(u).9   0.337778  0.015685  0.314141  0.326506  0.332765  0.353048  0.367360  0.000513\n",
      "t_subj(u).10  0.218920  0.007919  0.201808  0.213956  0.219681  0.224709  0.232120  0.000127\n",
      "t_subj(u).11  0.482984  0.007156  0.467138  0.478753  0.483798  0.488008  0.494693  0.000121\n",
      "t_subj(u).12  0.199565  0.014135  0.177224  0.190602  0.196379  0.203882  0.230447  0.000386\n",
      "t_subj(u).13  0.383838  0.011400  0.357532  0.377351  0.385132  0.392111  0.401565  0.000237\n",
      "z(c)          0.746611  0.008252  0.730467  0.741151  0.746387  0.752085  0.763342  0.000546\n",
      "z(u)          0.748008  0.007604  0.732565  0.742894  0.748018  0.753410  0.762121  0.000474\n",
      "z_std         0.044798  0.025739  0.006447  0.024716  0.041350  0.062384  0.100680  0.001886\n",
      "z_subj(c).0   0.749850  0.011244  0.729342  0.742479  0.749078  0.756470  0.774293  0.000584\n",
      "z_subj(c).1   0.748983  0.011545  0.726611  0.741684  0.748617  0.755661  0.773867  0.000587\n",
      "z_subj(c).2   0.748379  0.011379  0.726746  0.740953  0.747948  0.755324  0.772103  0.000580\n",
      "z_subj(c).3   0.745330  0.011283  0.720996  0.738425  0.745533  0.752439  0.767243  0.000521\n",
      "z_subj(c).4   0.745652  0.011105  0.723538  0.738848  0.745777  0.752531  0.767953  0.000554\n",
      "z_subj(c).5   0.746944  0.011110  0.724228  0.739929  0.746909  0.753691  0.769705  0.000536\n",
      "z_subj(c).6   0.742359  0.012266  0.714043  0.735700  0.743477  0.750499  0.763637  0.000612\n",
      "z_subj(c).7   0.742682  0.011698  0.716322  0.736178  0.743522  0.750458  0.763259  0.000562\n",
      "z_subj(c).8   0.750502  0.011270  0.729968  0.742897  0.749668  0.757182  0.774733  0.000594\n",
      "z_subj(c).9   0.746584  0.011509  0.722595  0.739996  0.746612  0.753517  0.769244  0.000542\n",
      "z_subj(c).10  0.747362  0.011159  0.724736  0.740482  0.747191  0.754227  0.770018  0.000539\n",
      "z_subj(c).11  0.747665  0.011057  0.726180  0.740574  0.747267  0.754294  0.770538  0.000541\n",
      "z_subj(c).12  0.745851  0.011258  0.721592  0.739370  0.746015  0.752670  0.767977  0.000537\n",
      "z_subj(c).13  0.744962  0.012483  0.717351  0.738175  0.745277  0.752554  0.769110  0.000645\n",
      "z_subj(u).0   0.752824  0.011491  0.732658  0.744905  0.751756  0.759756  0.777859  0.000597\n",
      "z_subj(u).1   0.748706  0.010820  0.727187  0.741929  0.748650  0.755373  0.770725  0.000496\n",
      "z_subj(u).2   0.753211  0.011474  0.733505  0.745274  0.752090  0.760194  0.778154  0.000605\n",
      "z_subj(u).3   0.751290  0.011177  0.730698  0.743690  0.750679  0.758328  0.775628  0.000547\n",
      "z_subj(u).4   0.742639  0.011889  0.714676  0.736321  0.743756  0.750439  0.762907  0.000534\n",
      "z_subj(u).5   0.751306  0.011345  0.730224  0.743833  0.750754  0.758198  0.775596  0.000560\n",
      "z_subj(u).6   0.741907  0.012221  0.712530  0.735492  0.743299  0.750239  0.762127  0.000595\n",
      "z_subj(u).7   0.750074  0.011086  0.728359  0.743095  0.749799  0.756858  0.772906  0.000512\n",
      "z_subj(u).8   0.747427  0.010690  0.725903  0.740836  0.747629  0.754040  0.768949  0.000469\n",
      "z_subj(u).9   0.747185  0.010616  0.725406  0.740690  0.747289  0.753934  0.768316  0.000478\n",
      "z_subj(u).10  0.750285  0.010942  0.729442  0.743206  0.749938  0.756927  0.773435  0.000524\n",
      "z_subj(u).11  0.749856  0.010946  0.728568  0.742839  0.749403  0.756752  0.772997  0.000506\n",
      "z_subj(u).12  0.745922  0.011009  0.722004  0.739580  0.746466  0.752823  0.766802  0.000483\n",
      "z_subj(u).13  0.739485  0.013417  0.707360  0.732410  0.741590  0.748586  0.760532  0.000683\n",
      "p_outlier     0.007082  0.002315  0.003377  0.005433  0.006803  0.008436  0.012400  0.000112\n",
      "DIC: 3868.605890\n",
      "deviance: 3839.558267\n",
      "pD: 29.047623\n"
     ]
    }
   ],
   "source": [
    "bparamrec2 = hddm.HDDMStimCoding(bsyndata2, include=['z', 'p_outlier'], depends_on={'v': 'condition', 't': 'condition', 'z': 'condition'}, stim_col='stimulus', split_param='v')\n",
    "bparamrec2.sample(7000, burn=500)\n",
    "bparamrec2.print_stats()"
   ]
  },
  {
   "cell_type": "code",
   "execution_count": 390,
   "metadata": {},
   "outputs": [
    {
     "name": "stdout",
     "output_type": "stream",
     "text": [
      "2800\n",
      "rt          0.761740\n",
      "response    0.993571\n",
      "dtype: float64\n",
      "rt          0.688320\n",
      "response    0.992857\n",
      "dtype: float64\n"
     ]
    }
   ],
   "source": [
    "from pandas import Series\n",
    "n_subjects = 14\n",
    "trials_per_level = 50 # and per stimulus\n",
    "data_a, params_a = hddm.generate.gen_rand_data({'u': {'a': 2.290058, 'v': 2.242900, 't': 0.235728, 'z': 0.471034},\n",
    "                                                'c': {'a': 2.290058, 'v': 2.196467, 't': 0.152843, 'z': 0.504701}},\n",
    "                                                size=trials_per_level,\n",
    "                                                subjs=n_subjects)\n",
    "data_b, params_b = hddm.generate.gen_rand_data({'u': {'a': 2.290058, 'v': 2.242900, 't': 0.235728, 'z': 0.529066},\n",
    "                                                'c': {'a': 2.290058, 'v': 2.196467, 't': 0.152843, 'z': 0.495299}},\n",
    "                                                size=trials_per_level,\n",
    "                                                subjs=n_subjects)\n",
    "data_a['stimulus'] = Series(np.ones((len(data_a)))*0, index=data_a.index)\n",
    "data_b['stimulus'] = Series(np.ones((len(data_b))), index=data_a.index)\n",
    "bsyndata2 = data_a.append(data_b, ignore_index=True)\n",
    "print(len(bsyndata2))\n",
    "\n",
    "print(bsyndata2.loc[bsyndata2['condition'] == 'u'][['rt', 'response']].mean())\n",
    "print(bsyndata2.loc[bsyndata2['condition'] == 'c'][['rt', 'response']].mean())"
   ]
  },
  {
   "cell_type": "code",
   "execution_count": 429,
   "metadata": {},
   "outputs": [
    {
     "name": "stdout",
     "output_type": "stream",
     "text": [
      "rt          0.730870\n",
      "response    0.984286\n",
      "dtype: float64\n",
      "rt          0.708549\n",
      "response    0.987143\n",
      "dtype: float64\n"
     ]
    }
   ],
   "source": [
    "from pandas import Series\n",
    "n_subjects = 14\n",
    "trials_per_level = 50 # and per stimulus\n",
    "data_b, params_b = hddm.generate.gen_rand_data({'u': {'a': 2.290058, 'v': 2.242900, 't': 0.235728, 'z': 0.471034}},\n",
    "                                                size=trials_per_level,\n",
    "                                                subjs=n_subjects)\n",
    "data_bc, params_bc = hddm.generate.gen_rand_data({'c': {'a': 2.290058, 'v': 2.196467, 't': 0.152843, 'z': 0.504701}},\n",
    "                                                  size=trials_per_level,\n",
    "                                                  subjs=n_subjects)\n",
    "data_a, params_a = hddm.generate.gen_rand_data({'u': {'a': 2.290058, 'v': 2.242900, 't': 0.235728, 'z': 0.529066}},\n",
    "                                                size=trials_per_level,\n",
    "                                                subjs=n_subjects)\n",
    "data_ac, params_ac = hddm.generate.gen_rand_data({'c': {'a': 2.290058, 'v': 2.196467, 't': 0.152843, 'z': 0.495299}},\n",
    "                                                  size=trials_per_level,\n",
    "                                                  subjs=n_subjects)\n",
    "data_a['stimulus'] = Series(np.ones(len(data_a)), index = data_a.index)\n",
    "data_ac['stimulus'] = Series(np.ones(len(data_ac)), index = data_ac.index)\n",
    "data_b['stimulus'] = Series(np.zeros((len(data_b))), index=data_b.index)\n",
    "data_bc['stimulus'] = Series(np.zeros((len(data_b))), index=data_bc.index)\n",
    "bsyndata2 = data_a.append([data_ac, data_b, data_bc], ignore_index = True)\n",
    "print(bsyndata2.loc[bsyndata2['condition'] == 'u'][['rt', 'response']].mean())\n",
    "print(bsyndata2.loc[bsyndata2['condition'] == 'c'][['rt', 'response']].mean())"
   ]
  },
  {
   "cell_type": "code",
   "execution_count": 400,
   "metadata": {},
   "outputs": [
    {
     "name": "stdout",
     "output_type": "stream",
     "text": [
      "rt     0.881617\n",
      "acc    0.932857\n",
      "dtype: float64\n",
      "rt     0.861380\n",
      "acc    0.938571\n",
      "dtype: float64\n"
     ]
    }
   ],
   "source": [
    "print(stim_b.loc[stim_b['trialtype'] == 'u'][['rt', 'acc']].mean())\n",
    "print(stim_b.loc[stim_b['trialtype'] == 'c'][['rt', 'acc']].mean())"
   ]
  },
  {
   "cell_type": "code",
   "execution_count": 430,
   "metadata": {},
   "outputs": [
    {
     "name": "stdout",
     "output_type": "stream",
     "text": [
      " [-----------------100%-----------------] 7000 of 7000 complete in 669.7 sec"
     ]
    },
    {
     "data": {
      "text/plain": [
       "<pymc.MCMC.MCMC at 0x1b4af8c8>"
      ]
     },
     "execution_count": 430,
     "metadata": {},
     "output_type": "execute_result"
    }
   ],
   "source": [
    "bparamrec2 = hddm.HDDMStimCoding(bsyndata2, include=['z', 'p_outlier'], depends_on={'v': 'condition', 't': 'condition', 'z': 'condition'}, stim_col='stimulus', split_param='v')\n",
    "bparamrec2.sample(7000, burn=500)"
   ]
  },
  {
   "cell_type": "code",
   "execution_count": 431,
   "metadata": {},
   "outputs": [
    {
     "name": "stdout",
     "output_type": "stream",
     "text": [
      "                  mean       std      2.5q       25q       50q       75q     97.5q    mc err\n",
      "a             1.918889  0.058289  1.809329  1.879047  1.917620  1.957634  2.035984  0.002779\n",
      "a_std         0.112995  0.051936  0.021183  0.078258  0.109206  0.143744  0.227217  0.002652\n",
      "a_subj.0      1.910543  0.102226  1.709277  1.845976  1.908383  1.975926  2.120262  0.005240\n",
      "a_subj.1      1.908083  0.075751  1.761388  1.857066  1.907121  1.958008  2.060138  0.002290\n",
      "a_subj.2      1.908426  0.086215  1.742457  1.851839  1.906695  1.964585  2.080184  0.002891\n",
      "a_subj.3      1.990605  0.095203  1.825758  1.925386  1.982486  2.047365  2.194158  0.003743\n",
      "a_subj.4      1.869841  0.091460  1.692282  1.808246  1.871850  1.928888  2.052273  0.003571\n",
      "a_subj.5      1.827884  0.094644  1.643180  1.761048  1.829503  1.894076  2.010886  0.004132\n",
      "a_subj.6      1.944541  0.094703  1.771006  1.882140  1.938142  2.002136  2.144222  0.003481\n",
      "a_subj.7      1.893704  0.074709  1.745757  1.844070  1.893360  1.944410  2.043503  0.002315\n",
      "a_subj.8      1.940141  0.091788  1.765342  1.878924  1.934552  1.995080  2.135706  0.003089\n",
      "a_subj.9      2.044272  0.113209  1.858539  1.963427  2.032370  2.113669  2.293064  0.005122\n",
      "a_subj.10     1.769240  0.108700  1.566053  1.691664  1.766285  1.847675  1.975850  0.005189\n",
      "a_subj.11     1.979576  0.095915  1.807191  1.912293  1.972962  2.038027  2.188553  0.003610\n",
      "a_subj.12     1.897279  0.092262  1.718589  1.837725  1.896070  1.956633  2.083798  0.003204\n",
      "a_subj.13     1.976730  0.096877  1.807056  1.908862  1.969401  2.034029  2.185726  0.003734\n",
      "v(c)         -0.009484  0.040595 -0.087572 -0.034337 -0.015366  0.020047  0.063621  0.003048\n",
      "v(u)          0.027839  0.038769 -0.040439 -0.001458  0.027213  0.059111  0.100494  0.002888\n",
      "v_std         0.027684  0.021780  0.001084  0.010597  0.022906  0.040572  0.080861  0.001730\n",
      "v_subj(c).0  -0.009541  0.051490 -0.112712 -0.040794 -0.014862  0.025792  0.090960  0.003059\n",
      "v_subj(c).1  -0.013379  0.050709 -0.115739 -0.042783 -0.018356  0.021947  0.081421  0.003038\n",
      "v_subj(c).2  -0.008803  0.050607 -0.107977 -0.039406 -0.014599  0.026911  0.087372  0.002980\n",
      "v_subj(c).3  -0.009045  0.050457 -0.107526 -0.038848 -0.014171  0.025700  0.088608  0.003047\n",
      "v_subj(c).4  -0.011257  0.050745 -0.110222 -0.040966 -0.016753  0.022901  0.085571  0.003022\n",
      "v_subj(c).5  -0.005450  0.052362 -0.108657 -0.037227 -0.011525  0.031998  0.099262  0.003049\n",
      "v_subj(c).6  -0.012444  0.050877 -0.114541 -0.042209 -0.017709  0.022620  0.082527  0.003000\n",
      "v_subj(c).7  -0.007533  0.049633 -0.105745 -0.037701 -0.013390  0.027346  0.089762  0.003009\n",
      "v_subj(c).8  -0.010520  0.050420 -0.112256 -0.040505 -0.015807  0.025616  0.086996  0.003029\n",
      "v_subj(c).9  -0.008439  0.050122 -0.105738 -0.039437 -0.013687  0.027673  0.086478  0.002991\n",
      "v_subj(c).10 -0.003902  0.051103 -0.102977 -0.034654 -0.009913  0.031366  0.101187  0.003082\n",
      "v_subj(c).11 -0.012193  0.051477 -0.119812 -0.042233 -0.017260  0.024266  0.081473  0.003126\n",
      "v_subj(c).12 -0.007722  0.050996 -0.109296 -0.037339 -0.013896  0.027517  0.090595  0.003094\n",
      "v_subj(c).13 -0.010669  0.049901 -0.108856 -0.041127 -0.016108  0.025054  0.082595  0.003006\n",
      "v_subj(u).0   0.026048  0.049727 -0.072509 -0.008097  0.026659  0.061687  0.119238  0.002953\n",
      "v_subj(u).1   0.027640  0.049261 -0.067150 -0.006996  0.027422  0.062893  0.123050  0.002832\n",
      "v_subj(u).2   0.027142  0.049910 -0.071890 -0.007788  0.027236  0.063555  0.121351  0.002879\n",
      "v_subj(u).3   0.026871  0.048140 -0.066952 -0.007790  0.026016  0.063050  0.118432  0.002894\n",
      "v_subj(u).4   0.026956  0.049020 -0.069433 -0.008694  0.027288  0.062953  0.122381  0.002873\n",
      "v_subj(u).5   0.026608  0.050047 -0.072033 -0.008021  0.026251  0.062955  0.121971  0.002847\n",
      "v_subj(u).6   0.024114  0.049504 -0.075759 -0.009786  0.024594  0.060859  0.115382  0.002892\n",
      "v_subj(u).7   0.030047  0.048839 -0.061188 -0.005712  0.030522  0.064253  0.125848  0.002897\n",
      "v_subj(u).8   0.030140  0.049200 -0.062978 -0.004877  0.030537  0.064156  0.127900  0.002857\n",
      "v_subj(u).9   0.026182  0.049251 -0.068460 -0.007716  0.025228  0.062295  0.121220  0.002898\n",
      "v_subj(u).10  0.032256  0.049145 -0.058984 -0.003151  0.033566  0.065071  0.131693  0.002858\n",
      "v_subj(u).11  0.026971  0.049198 -0.065957 -0.008361  0.027850  0.062228  0.124229  0.002910\n",
      "v_subj(u).12  0.027080  0.050181 -0.071663 -0.008092  0.026920  0.063382  0.123589  0.002951\n",
      "v_subj(u).13  0.028746  0.049942 -0.068816 -0.006324  0.028778  0.063750  0.124756  0.002850\n",
      "t(c)          0.255371  0.025558  0.208517  0.238121  0.254372  0.271882  0.307731  0.000437\n",
      "t(u)          0.287810  0.026498  0.236221  0.269952  0.287376  0.305032  0.342110  0.000587\n",
      "t_std         0.099798  0.017108  0.073042  0.087907  0.097702  0.109404  0.140102  0.000367\n",
      "t_subj(c).0   0.215579  0.008366  0.197810  0.211348  0.216533  0.220886  0.228095  0.000182\n",
      "t_subj(c).1   0.130367  0.007382  0.113400  0.126043  0.131112  0.135570  0.142520  0.000126\n",
      "t_subj(c).2   0.362817  0.017415  0.332751  0.348522  0.358840  0.379402  0.389542  0.000505\n",
      "t_subj(c).3   0.222300  0.007865  0.204697  0.217573  0.223229  0.227897  0.235176  0.000157\n",
      "t_subj(c).4   0.173064  0.008405  0.155044  0.168275  0.173591  0.178351  0.189480  0.000159\n",
      "t_subj(c).5   0.256491  0.012677  0.220660  0.254000  0.259271  0.263149  0.274398  0.000394\n",
      "t_subj(c).6   0.390551  0.014777  0.356254  0.385055  0.391649  0.397330  0.419843  0.000382\n",
      "t_subj(c).7   0.156171  0.007023  0.140289  0.151817  0.156765  0.161213  0.167954  0.000147\n",
      "t_subj(c).8   0.327225  0.008681  0.307394  0.322348  0.328178  0.332968  0.341740  0.000130\n",
      "t_subj(c).9   0.141510  0.029230  0.101732  0.117319  0.127251  0.173428  0.187801  0.001258\n",
      "t_subj(c).10  0.328603  0.010047  0.309616  0.322805  0.328370  0.333148  0.354892  0.000249\n",
      "t_subj(c).11  0.272113  0.025437  0.207321  0.271815  0.280625  0.286339  0.301223  0.001837\n",
      "t_subj(c).12  0.183155  0.015654  0.152393  0.167869  0.188801  0.195689  0.203717  0.000456\n",
      "t_subj(c).13  0.294984  0.020178  0.271212  0.285472  0.291867  0.297531  0.369113  0.001266\n",
      "t_subj(u).0   0.326633  0.066409  0.241096  0.254633  0.377569  0.388642  0.396419  0.006520\n",
      "t_subj(u).1   0.123248  0.008409  0.104222  0.118498  0.124115  0.129033  0.136455  0.000145\n",
      "t_subj(u).2   0.248537  0.006737  0.233093  0.244698  0.249381  0.253322  0.259369  0.000140\n",
      "t_subj(u).3   0.236166  0.009062  0.216952  0.231048  0.236625  0.241325  0.256420  0.000147\n",
      "t_subj(u).4   0.283677  0.006733  0.268437  0.279675  0.284427  0.288442  0.294732  0.000153\n",
      "t_subj(u).5   0.226652  0.006400  0.212149  0.222839  0.227372  0.231288  0.236972  0.000130\n",
      "t_subj(u).6   0.366531  0.007615  0.349214  0.362235  0.367263  0.371431  0.379442  0.000111\n",
      "t_subj(u).7   0.210906  0.013143  0.187788  0.203342  0.210005  0.216339  0.245608  0.000278\n",
      "t_subj(u).8   0.391530  0.008879  0.372007  0.386249  0.392688  0.397995  0.405763  0.000158\n",
      "t_subj(u).9   0.161815  0.009956  0.142160  0.156076  0.161607  0.166728  0.186263  0.000176\n",
      "t_subj(u).10  0.405495  0.007750  0.387633  0.401162  0.406510  0.410695  0.417700  0.000147\n",
      "t_subj(u).11  0.345963  0.007925  0.327672  0.341462  0.346737  0.351344  0.358761  0.000172\n",
      "t_subj(u).12  0.274099  0.014319  0.243624  0.265673  0.278868  0.284137  0.291801  0.000427\n",
      "t_subj(u).13  0.397508  0.017981  0.359022  0.384487  0.403906  0.410345  0.418242  0.000623\n",
      "z(c)          0.744918  0.010124  0.723832  0.738448  0.745030  0.752057  0.763604  0.000575\n",
      "z(u)          0.750353  0.009616  0.731253  0.743641  0.750580  0.757128  0.768678  0.000596\n",
      "z_std         0.069144  0.033124  0.005800  0.044855  0.068575  0.092957  0.136299  0.002394\n",
      "z_subj(c).0   0.744176  0.014585  0.713369  0.735617  0.744172  0.753614  0.772289  0.000572\n",
      "z_subj(c).1   0.745574  0.014178  0.716350  0.736968  0.745561  0.755084  0.772717  0.000534\n",
      "z_subj(c).2   0.739535  0.015399  0.705830  0.730214  0.740592  0.749775  0.767602  0.000616\n",
      "z_subj(c).3   0.749788  0.014410  0.721161  0.740468  0.749565  0.759302  0.778742  0.000611\n",
      "z_subj(c).4   0.740945  0.014963  0.709511  0.731668  0.741527  0.751045  0.768694  0.000601\n",
      "z_subj(c).5   0.757525  0.016356  0.728370  0.745555  0.756522  0.768008  0.792191  0.000834\n",
      "z_subj(c).6   0.742563  0.015889  0.708924  0.732924  0.743184  0.752767  0.773288  0.000645\n",
      "z_subj(c).7   0.750346  0.014448  0.722334  0.740733  0.749906  0.759710  0.779695  0.000568\n",
      "z_subj(c).8   0.740121  0.015377  0.706623  0.730829  0.741244  0.750401  0.768020  0.000598\n",
      "z_subj(c).9   0.741204  0.015366  0.706527  0.732640  0.742104  0.751245  0.769012  0.000607\n",
      "z_subj(c).10  0.745647  0.017080  0.710877  0.735530  0.744890  0.756363  0.780985  0.000799\n",
      "z_subj(c).11  0.739341  0.015718  0.705158  0.730086  0.740609  0.750030  0.767413  0.000690\n",
      "z_subj(c).12  0.752569  0.015462  0.722773  0.742246  0.752011  0.762549  0.784232  0.000689\n",
      "z_subj(c).13  0.741275  0.016002  0.707698  0.731764  0.741886  0.751615  0.772378  0.000712\n",
      "z_subj(u).0   0.761681  0.020651  0.727265  0.746268  0.759204  0.775802  0.805477  0.001570\n",
      "z_subj(u).1   0.739924  0.014871  0.707819  0.730929  0.741152  0.749931  0.766160  0.000553\n",
      "z_subj(u).2   0.753498  0.013943  0.726872  0.744181  0.753065  0.762581  0.781799  0.000637\n",
      "z_subj(u).3   0.746222  0.014196  0.716125  0.737886  0.746775  0.755683  0.773517  0.000532\n",
      "z_subj(u).4   0.759266  0.015052  0.732719  0.748671  0.758516  0.768953  0.791235  0.000784\n",
      "z_subj(u).5   0.756751  0.014733  0.730106  0.746603  0.756060  0.766274  0.787656  0.000752\n",
      "z_subj(u).6   0.751259  0.013941  0.724279  0.741694  0.751075  0.760313  0.779786  0.000579\n",
      "z_subj(u).7   0.729765  0.018513  0.686772  0.718706  0.732186  0.742821  0.759207  0.000892\n",
      "z_subj(u).8   0.750397  0.014655  0.721068  0.741063  0.750520  0.759758  0.779853  0.000579\n",
      "z_subj(u).9   0.746201  0.014229  0.716189  0.737644  0.746704  0.755736  0.773175  0.000563\n",
      "z_subj(u).10  0.744628  0.014887  0.712588  0.735786  0.745274  0.754357  0.772753  0.000602\n",
      "z_subj(u).11  0.756562  0.014379  0.730586  0.746633  0.755722  0.765784  0.786640  0.000692\n",
      "z_subj(u).12  0.754993  0.014516  0.727778  0.745070  0.754494  0.764167  0.785071  0.000682\n",
      "z_subj(u).13  0.752623  0.014418  0.725292  0.742871  0.752089  0.761782  0.782157  0.000647\n",
      "p_outlier     0.018068  0.003718  0.011468  0.015403  0.017860  0.020463  0.025864  0.000195\n",
      "DIC: 3861.971588\n",
      "deviance: 3830.260988\n",
      "pD: 31.710599\n"
     ]
    }
   ],
   "source": [
    "# changed stimulus col values\n",
    "bparamrec2.print_stats()"
   ]
  },
  {
   "cell_type": "code",
   "execution_count": 377,
   "metadata": {},
   "outputs": [
    {
     "name": "stdout",
     "output_type": "stream",
     "text": [
      "                  mean       std      2.5q       25q       50q       75q     97.5q    mc err\n",
      "a             1.971003  0.056574  1.870131  1.930806  1.966965  2.007862  2.092463  0.004120\n",
      "a_std         0.071588  0.043907  0.007989  0.038360  0.066313  0.097718  0.171581  0.002560\n",
      "a_subj.0      1.990401  0.082885  1.843039  1.932243  1.984154  2.040477  2.177404  0.004648\n",
      "a_subj.1      2.019223  0.088512  1.875108  1.953722  2.011114  2.073517  2.220378  0.005186\n",
      "a_subj.2      1.934579  0.080928  1.769308  1.886019  1.934395  1.987161  2.093554  0.004228\n",
      "a_subj.3      1.972655  0.082126  1.818662  1.917737  1.967289  2.023792  2.149434  0.004657\n",
      "a_subj.4      1.991783  0.076764  1.859070  1.935279  1.986827  2.039029  2.155930  0.004228\n",
      "a_subj.5      1.989158  0.080371  1.846913  1.932499  1.982138  2.038221  2.168310  0.004522\n",
      "a_subj.6      1.968627  0.072155  1.836920  1.919107  1.964664  2.013758  2.122232  0.003871\n",
      "a_subj.7      1.996741  0.080873  1.855432  1.938399  1.989973  2.046375  2.177035  0.004571\n",
      "a_subj.8      1.907418  0.086391  1.723708  1.854359  1.913591  1.965502  2.067934  0.004342\n",
      "a_subj.9      1.988135  0.078229  1.850305  1.931924  1.982126  2.036796  2.160188  0.004264\n",
      "a_subj.10     1.956779  0.075906  1.811134  1.907579  1.952682  2.005136  2.110466  0.004049\n",
      "a_subj.11     1.994784  0.084301  1.851444  1.934019  1.988119  2.046822  2.184652  0.004860\n",
      "a_subj.12     1.895704  0.083764  1.718670  1.841739  1.901809  1.951354  2.051595  0.004325\n",
      "a_subj.13     1.981578  0.077705  1.841635  1.926826  1.977360  2.029611  2.151160  0.004279\n",
      "v(c)         -0.005858  0.042638 -0.093907 -0.034404 -0.004842  0.020690  0.079039  0.003352\n",
      "v(u)         -0.003917  0.039221 -0.074780 -0.029693 -0.005597  0.020486  0.078524  0.002970\n",
      "v_std         0.025770  0.018703  0.002983  0.011429  0.021687  0.035482  0.071608  0.001434\n",
      "v_subj(c).0  -0.006339  0.051234 -0.110678 -0.040894 -0.004839  0.026168  0.091037  0.003343\n",
      "v_subj(c).1  -0.006560  0.050290 -0.109001 -0.040188 -0.004705  0.025050  0.089289  0.003345\n",
      "v_subj(c).2  -0.006659  0.051401 -0.112285 -0.042221 -0.004249  0.025530  0.090042  0.003322\n",
      "v_subj(c).3  -0.007328  0.050333 -0.109033 -0.041370 -0.005614  0.025080  0.086107  0.003305\n",
      "v_subj(c).4  -0.009644  0.051125 -0.111659 -0.044388 -0.007856  0.023004  0.086163  0.003324\n",
      "v_subj(c).5  -0.007022  0.050837 -0.110537 -0.041398 -0.005124  0.025451  0.088196  0.003353\n",
      "v_subj(c).6  -0.000603  0.050973 -0.105189 -0.035296 -0.000243  0.032174  0.098205  0.003364\n",
      "v_subj(c).7  -0.006812  0.050389 -0.110358 -0.042129 -0.005426  0.025651  0.086672  0.003341\n",
      "v_subj(c).8  -0.004484  0.052297 -0.109524 -0.039979 -0.002689  0.028157  0.094053  0.003352\n",
      "v_subj(c).9  -0.005069  0.050882 -0.108224 -0.040111 -0.003717  0.027470  0.091721  0.003319\n",
      "v_subj(c).10 -0.005760  0.051110 -0.109100 -0.040193 -0.004239  0.026575  0.090937  0.003336\n",
      "v_subj(c).11 -0.006501  0.050900 -0.110867 -0.040530 -0.004252  0.024559  0.089881  0.003330\n",
      "v_subj(c).12 -0.004760  0.051745 -0.109338 -0.040650 -0.003014  0.027746  0.093635  0.003340\n",
      "v_subj(c).13 -0.006443  0.049864 -0.108510 -0.040818 -0.005156  0.024803  0.087810  0.003340\n",
      "v_subj(u).0  -0.004458  0.047796 -0.096465 -0.033600 -0.006205  0.023548  0.096939  0.002940\n",
      "v_subj(u).1  -0.003202  0.047936 -0.094028 -0.033841 -0.005340  0.025159  0.101677  0.002963\n",
      "v_subj(u).2  -0.004034  0.048153 -0.096145 -0.034154 -0.005681  0.024072  0.096856  0.002961\n",
      "v_subj(u).3  -0.004833  0.048696 -0.096922 -0.035021 -0.006284  0.023361  0.099266  0.002989\n",
      "v_subj(u).4  -0.004451  0.047671 -0.094619 -0.034541 -0.005851  0.023446  0.096585  0.002922\n",
      "v_subj(u).5  -0.003573  0.047954 -0.091002 -0.033379 -0.005937  0.023482  0.100440  0.002934\n",
      "v_subj(u).6  -0.001714  0.047767 -0.088969 -0.031967 -0.004748  0.025709  0.101862  0.002964\n",
      "v_subj(u).7  -0.003674  0.046917 -0.094151 -0.033016 -0.005501  0.023006  0.098155  0.002912\n",
      "v_subj(u).8  -0.003890  0.048217 -0.096251 -0.034703 -0.005104  0.024786  0.100441  0.002937\n",
      "v_subj(u).9  -0.004871  0.046846 -0.097655 -0.034504 -0.005139  0.023165  0.093291  0.002881\n",
      "v_subj(u).10 -0.003640  0.047723 -0.093439 -0.034181 -0.005075  0.023561  0.097323  0.002928\n",
      "v_subj(u).11 -0.004448  0.048326 -0.098805 -0.034601 -0.006498  0.023612  0.098582  0.002975\n",
      "v_subj(u).12 -0.003710  0.049359 -0.100171 -0.034195 -0.005542  0.025002  0.100488  0.002950\n",
      "v_subj(u).13 -0.005503  0.048767 -0.104308 -0.035225 -0.006781  0.023172  0.096068  0.002954\n",
      "t(c)          0.250700  0.025524  0.204224  0.232999  0.249575  0.267311  0.302413  0.000416\n",
      "t(u)          0.333185  0.026467  0.282446  0.315446  0.333158  0.350076  0.386817  0.000411\n",
      "t_std         0.101362  0.016746  0.075151  0.089597  0.099348  0.110566  0.138676  0.000311\n",
      "t_subj(c).0   0.348693  0.008309  0.329490  0.344091  0.350015  0.354531  0.361642  0.000172\n",
      "t_subj(c).1   0.290264  0.009664  0.272010  0.284640  0.290027  0.294777  0.315976  0.000176\n",
      "t_subj(c).2   0.179381  0.006966  0.163580  0.175190  0.180191  0.184386  0.190588  0.000172\n",
      "t_subj(c).3   0.203138  0.009524  0.185437  0.198321  0.203218  0.207504  0.228484  0.000258\n",
      "t_subj(c).4   0.305672  0.015639  0.280879  0.295354  0.301679  0.318004  0.336532  0.000446\n",
      "t_subj(c).5   0.081961  0.006864  0.066876  0.077846  0.082669  0.086909  0.093164  0.000117\n",
      "t_subj(c).6   0.118892  0.007494  0.102216  0.114386  0.119833  0.124252  0.130847  0.000137\n",
      "t_subj(c).7   0.289241  0.008155  0.271502  0.284624  0.289790  0.294392  0.304010  0.000150\n",
      "t_subj(c).8   0.306215  0.022240  0.222150  0.305860  0.311732  0.316317  0.323189  0.002104\n",
      "t_subj(c).9   0.153169  0.007452  0.137460  0.148987  0.153997  0.158346  0.164748  0.000140\n",
      "t_subj(c).10  0.437409  0.006907  0.421732  0.433291  0.438156  0.442297  0.448697  0.000148\n",
      "t_subj(c).11  0.286957  0.010532  0.261743  0.282742  0.287983  0.292432  0.307682  0.000242\n",
      "t_subj(c).12  0.236665  0.006412  0.222730  0.232857  0.237310  0.241164  0.247210  0.000145\n",
      "t_subj(c).13  0.268223  0.008440  0.248500  0.263291  0.269321  0.274378  0.281522  0.000176\n",
      "t_subj(u).0   0.459231  0.011339  0.440624  0.452674  0.457979  0.462973  0.486615  0.000211\n",
      "t_subj(u).1   0.344615  0.017103  0.317555  0.330992  0.338919  0.361446  0.372774  0.000513\n",
      "t_subj(u).2   0.244552  0.011310  0.212297  0.242165  0.247527  0.251637  0.257466  0.000307\n",
      "t_subj(u).3   0.366639  0.007379  0.349709  0.362296  0.367499  0.371799  0.378801  0.000133\n",
      "t_subj(u).4   0.363490  0.008015  0.346690  0.358966  0.364283  0.368737  0.375647  0.000154\n",
      "t_subj(u).5   0.199665  0.008760  0.183431  0.194635  0.199246  0.203404  0.221744  0.000165\n",
      "t_subj(u).6   0.224760  0.015665  0.200146  0.212730  0.219615  0.239886  0.250826  0.000425\n",
      "t_subj(u).7   0.393715  0.012184  0.373532  0.386209  0.391754  0.397507  0.421215  0.000240\n",
      "t_subj(u).8   0.369222  0.021308  0.325338  0.355473  0.378880  0.386346  0.393730  0.000740\n",
      "t_subj(u).9   0.209280  0.008061  0.190942  0.204418  0.210095  0.215040  0.222598  0.000132\n",
      "t_subj(u).10  0.436462  0.007202  0.419893  0.432162  0.437345  0.441630  0.448149  0.000111\n",
      "t_subj(u).11  0.342370  0.025946  0.309996  0.322593  0.329361  0.373164  0.385971  0.001589\n",
      "t_subj(u).12  0.302592  0.008545  0.286297  0.297818  0.302465  0.306438  0.325323  0.000210\n",
      "t_subj(u).13  0.301151  0.008131  0.284666  0.296451  0.301496  0.306010  0.318750  0.000126\n",
      "z(c)          0.754600  0.009961  0.734447  0.748571  0.753550  0.761876  0.772661  0.000827\n",
      "z(u)          0.752299  0.007933  0.737421  0.747282  0.752249  0.757147  0.768763  0.000608\n",
      "z_std         0.030682  0.024415  0.001014  0.009474  0.025888  0.046324  0.087130  0.002013\n",
      "z_subj(c).0   0.753901  0.011819  0.728734  0.747124  0.753201  0.762086  0.775387  0.000836\n",
      "z_subj(c).1   0.753142  0.011771  0.728963  0.746104  0.752454  0.761548  0.773719  0.000845\n",
      "z_subj(c).2   0.756221  0.011536  0.733714  0.749187  0.755873  0.764345  0.777942  0.000817\n",
      "z_subj(c).3   0.752560  0.011970  0.726978  0.745247  0.752206  0.761396  0.773379  0.000865\n",
      "z_subj(c).4   0.752058  0.012060  0.726382  0.744626  0.751945  0.760774  0.773386  0.000868\n",
      "z_subj(c).5   0.754157  0.011634  0.729751  0.747355  0.753439  0.762220  0.775285  0.000834\n",
      "z_subj(c).6   0.754658  0.011379  0.730847  0.747710  0.754087  0.762564  0.774760  0.000814\n",
      "z_subj(c).7   0.753396  0.011503  0.729691  0.746445  0.752620  0.761603  0.773925  0.000834\n",
      "z_subj(c).8   0.758691  0.012691  0.733601  0.750851  0.758986  0.767051  0.783581  0.000933\n",
      "z_subj(c).9   0.754175  0.011528  0.730324  0.747300  0.753505  0.762463  0.774653  0.000820\n",
      "z_subj(c).10  0.758659  0.011954  0.736166  0.750871  0.758687  0.766573  0.782732  0.000837\n",
      "z_subj(c).11  0.754062  0.011642  0.729743  0.747365  0.753368  0.762201  0.774714  0.000829\n",
      "z_subj(c).12  0.755980  0.011557  0.732430  0.749066  0.755569  0.764190  0.777501  0.000803\n",
      "z_subj(c).13  0.753045  0.011951  0.727265  0.745905  0.752523  0.761572  0.774028  0.000855\n",
      "z_subj(u).0   0.753721  0.009891  0.735010  0.747682  0.752747  0.759514  0.774583  0.000624\n",
      "z_subj(u).1   0.751778  0.010257  0.730245  0.745903  0.752144  0.757896  0.771559  0.000623\n",
      "z_subj(u).2   0.753464  0.009754  0.734580  0.747401  0.752658  0.759227  0.773644  0.000610\n",
      "z_subj(u).3   0.753124  0.010344  0.732566  0.747250  0.752521  0.759117  0.774489  0.000651\n",
      "z_subj(u).4   0.750358  0.010315  0.727585  0.744410  0.751423  0.756510  0.769634  0.000630\n",
      "z_subj(u).5   0.753257  0.010010  0.733542  0.747360  0.752575  0.759036  0.773603  0.000620\n",
      "z_subj(u).6   0.750778  0.010258  0.728335  0.745131  0.751545  0.756924  0.770381  0.000632\n",
      "z_subj(u).7   0.751728  0.010109  0.730613  0.745870  0.752072  0.757685  0.771329  0.000635\n",
      "z_subj(u).8   0.753978  0.009937  0.735374  0.747886  0.752894  0.759649  0.774951  0.000609\n",
      "z_subj(u).9   0.750647  0.010265  0.728041  0.744534  0.751496  0.756684  0.770009  0.000629\n",
      "z_subj(u).10  0.751370  0.009996  0.730266  0.745550  0.751934  0.757427  0.770802  0.000613\n",
      "z_subj(u).11  0.753263  0.010131  0.733470  0.747316  0.752538  0.759126  0.774625  0.000638\n",
      "z_subj(u).12  0.754995  0.010009  0.736729  0.748903  0.753858  0.760806  0.776245  0.000630\n",
      "z_subj(u).13  0.750430  0.010469  0.727779  0.744356  0.751399  0.756830  0.769972  0.000629\n",
      "p_outlier     0.010692  0.002466  0.006343  0.008965  0.010545  0.012281  0.015889  0.000077\n",
      "DIC: 3672.045895\n",
      "deviance: 3647.336149\n",
      "pD: 24.709746\n"
     ]
    }
   ],
   "source": [
    "#flipped zs\n",
    "bparamrec2.print_stats()"
   ]
  },
  {
   "cell_type": "code",
   "execution_count": 361,
   "metadata": {},
   "outputs": [
    {
     "name": "stdout",
     "output_type": "stream",
     "text": [
      "                  mean       std      2.5q       25q       50q       75q     97.5q    mc err\n",
      "a             1.981615  0.060355  1.876202  1.936950  1.977927  2.022517  2.106869  0.004839\n",
      "a_std         0.053651  0.036044  0.005543  0.027898  0.046194  0.071609  0.144257  0.002132\n",
      "a_subj.0      1.954020  0.081620  1.783794  1.902472  1.956555  2.005417  2.111340  0.004966\n",
      "a_subj.1      1.961614  0.078988  1.802984  1.909826  1.960958  2.013671  2.113539  0.005042\n",
      "a_subj.2      2.010776  0.079829  1.874448  1.955110  2.003752  2.060781  2.184771  0.005237\n",
      "a_subj.3      2.006032  0.080278  1.868864  1.950418  1.997034  2.054811  2.180750  0.005175\n",
      "a_subj.4      1.985203  0.073215  1.850644  1.935304  1.981483  2.031173  2.138620  0.004658\n",
      "a_subj.5      1.996420  0.081203  1.851227  1.940907  1.989158  2.047908  2.167173  0.005285\n",
      "a_subj.6      1.969878  0.076316  1.824088  1.918749  1.967322  2.017795  2.121746  0.004802\n",
      "a_subj.7      1.996375  0.077813  1.858308  1.943784  1.990834  2.045113  2.160094  0.004966\n",
      "a_subj.8      1.997623  0.077889  1.861539  1.944086  1.991886  2.045263  2.162723  0.005052\n",
      "a_subj.9      1.968047  0.075797  1.819854  1.917201  1.966954  2.015545  2.117675  0.004836\n",
      "a_subj.10     1.973256  0.075787  1.826124  1.921472  1.971488  2.021010  2.121605  0.004912\n",
      "a_subj.11     1.980165  0.076211  1.839390  1.928315  1.976246  2.028400  2.136352  0.004784\n",
      "a_subj.12     1.981422  0.073894  1.844159  1.931567  1.978261  2.029061  2.132913  0.004804\n",
      "a_subj.13     1.960332  0.075295  1.812266  1.910973  1.960986  2.008149  2.111554  0.004818\n",
      "v(c)         -0.009340  0.040699 -0.091093 -0.038118 -0.010112  0.020613  0.065421  0.002980\n",
      "v(u)          0.016257  0.046276 -0.078619 -0.014196  0.017091  0.047018  0.106566  0.003715\n",
      "v_std         0.029375  0.019190  0.003383  0.015105  0.025942  0.040464  0.076551  0.001454\n",
      "v_subj(c).0  -0.009767  0.051127 -0.113467 -0.043217 -0.010052  0.025365  0.089646  0.002950\n",
      "v_subj(c).1  -0.008450  0.051609 -0.112222 -0.041805 -0.008805  0.026996  0.092101  0.002934\n",
      "v_subj(c).2  -0.009341  0.050383 -0.108335 -0.042468 -0.010110  0.025050  0.086629  0.002967\n",
      "v_subj(c).3  -0.011018  0.051246 -0.116116 -0.043464 -0.011266  0.024145  0.084300  0.002889\n",
      "v_subj(c).4  -0.009212  0.050921 -0.109818 -0.041992 -0.010000  0.024870  0.092106  0.002983\n",
      "v_subj(c).5  -0.009864  0.051209 -0.112476 -0.042290 -0.010393  0.024508  0.091182  0.003012\n",
      "v_subj(c).6  -0.007811  0.050191 -0.108927 -0.041670 -0.008193  0.026615  0.088460  0.002935\n",
      "v_subj(c).7  -0.009046  0.050064 -0.107465 -0.042190 -0.009528  0.025352  0.085974  0.002942\n",
      "v_subj(c).8  -0.011460  0.050117 -0.112806 -0.043965 -0.011751  0.023825  0.081458  0.002960\n",
      "v_subj(c).9  -0.011206  0.050491 -0.113573 -0.043504 -0.010766  0.024108  0.082438  0.002978\n",
      "v_subj(c).10 -0.009294  0.051160 -0.110455 -0.043213 -0.009661  0.026103  0.088872  0.003022\n",
      "v_subj(c).11 -0.008953  0.051600 -0.111878 -0.041833 -0.009330  0.025698  0.091642  0.002996\n",
      "v_subj(c).12 -0.004480  0.050986 -0.102801 -0.039114 -0.006245  0.030475  0.096208  0.002967\n",
      "v_subj(c).13 -0.012414  0.051175 -0.116658 -0.045074 -0.012222  0.022545  0.086609  0.003023\n",
      "v_subj(u).0   0.014789  0.056040 -0.099346 -0.020924  0.016323  0.051563  0.115568  0.003711\n",
      "v_subj(u).1   0.015198  0.055500 -0.096417 -0.020939  0.016558  0.051497  0.118841  0.003734\n",
      "v_subj(u).2   0.015602  0.055664 -0.097688 -0.020344  0.017226  0.051889  0.114952  0.003708\n",
      "v_subj(u).3   0.016229  0.055108 -0.094893 -0.019451  0.017450  0.052350  0.117079  0.003619\n",
      "v_subj(u).4   0.017818  0.054846 -0.091116 -0.017379  0.019183  0.052937  0.118191  0.003659\n",
      "v_subj(u).5   0.015901  0.055776 -0.099432 -0.020464  0.017294  0.052296  0.116432  0.003692\n",
      "v_subj(u).6   0.016778  0.055983 -0.098686 -0.019105  0.017698  0.052769  0.119908  0.003688\n",
      "v_subj(u).7   0.015926  0.055695 -0.093441 -0.020114  0.017734  0.052172  0.116945  0.003706\n",
      "v_subj(u).8   0.016644  0.054438 -0.092182 -0.019040  0.018119  0.053370  0.114009  0.003627\n",
      "v_subj(u).9   0.016332  0.056243 -0.098650 -0.019641  0.017803  0.053465  0.118381  0.003699\n",
      "v_subj(u).10  0.015778  0.056009 -0.097268 -0.020800  0.017979  0.053056  0.116909  0.003750\n",
      "v_subj(u).11  0.014126  0.055051 -0.096755 -0.022211  0.016187  0.051426  0.113167  0.003671\n",
      "v_subj(u).12  0.017751  0.054297 -0.092699 -0.017250  0.018659  0.052921  0.118964  0.003655\n",
      "v_subj(u).13  0.015757  0.055787 -0.093741 -0.020533  0.017863  0.052366  0.116515  0.003686\n",
      "t(c)          0.269341  0.019931  0.230258  0.256108  0.268951  0.282257  0.307971  0.000312\n",
      "t(u)          0.360368  0.020652  0.319875  0.346702  0.360151  0.373789  0.402003  0.000298\n",
      "t_std         0.076698  0.012135  0.057320  0.068140  0.075236  0.083540  0.104467  0.000242\n",
      "t_subj(c).0   0.338772  0.026188  0.288299  0.316613  0.336654  0.366219  0.379124  0.001430\n",
      "t_subj(c).1   0.214884  0.014413  0.187976  0.200594  0.220310  0.226994  0.233901  0.000615\n",
      "t_subj(c).2   0.231502  0.009511  0.215118  0.225905  0.230592  0.235117  0.256413  0.000189\n",
      "t_subj(c).3   0.317061  0.007584  0.299391  0.312732  0.318012  0.322355  0.328810  0.000128\n",
      "t_subj(c).4   0.442356  0.012405  0.422571  0.434868  0.440094  0.445748  0.471511  0.000281\n",
      "t_subj(c).5   0.330095  0.010497  0.310039  0.324382  0.330027  0.334928  0.356531  0.000224\n",
      "t_subj(c).6   0.230620  0.009607  0.209315  0.225249  0.231805  0.237136  0.245489  0.000201\n",
      "t_subj(c).7   0.191850  0.009616  0.175264  0.186188  0.190872  0.195545  0.215374  0.000180\n",
      "t_subj(c).8   0.242896  0.007468  0.226741  0.238620  0.243546  0.247756  0.255113  0.000131\n",
      "t_subj(c).9   0.268308  0.006551  0.253961  0.264301  0.269060  0.273007  0.278707  0.000104\n",
      "t_subj(c).10  0.315063  0.007041  0.299182  0.310884  0.315842  0.320093  0.326537  0.000149\n",
      "t_subj(c).11  0.190557  0.006459  0.176222  0.186731  0.191208  0.195089  0.201261  0.000131\n",
      "t_subj(c).12  0.184860  0.007116  0.169207  0.180654  0.185559  0.189921  0.196750  0.000133\n",
      "t_subj(c).13  0.219143  0.008429  0.199541  0.214187  0.220270  0.225159  0.232430  0.000155\n",
      "t_subj(u).0   0.382173  0.006870  0.367077  0.378441  0.383059  0.386870  0.392493  0.000133\n",
      "t_subj(u).1   0.305918  0.008929  0.291639  0.300499  0.304591  0.308775  0.327641  0.000186\n",
      "t_subj(u).2   0.321863  0.006643  0.306209  0.318095  0.322594  0.326542  0.332456  0.000114\n",
      "t_subj(u).3   0.455217  0.006505  0.440102  0.451565  0.456000  0.459842  0.465473  0.000104\n",
      "t_subj(u).4   0.428178  0.007395  0.411215  0.423945  0.429033  0.433263  0.439898  0.000144\n",
      "t_subj(u).5   0.480520  0.006602  0.465572  0.476538  0.481190  0.485219  0.491360  0.000111\n",
      "t_subj(u).6   0.386215  0.005707  0.373490  0.382854  0.386851  0.390270  0.395429  0.000100\n",
      "t_subj(u).7   0.309094  0.007296  0.294768  0.304952  0.309135  0.313011  0.327910  0.000119\n",
      "t_subj(u).8   0.365799  0.012325  0.332087  0.363297  0.369327  0.373615  0.379698  0.000398\n",
      "t_subj(u).9   0.348889  0.006399  0.335768  0.345281  0.349096  0.352637  0.363411  0.000104\n",
      "t_subj(u).10  0.393545  0.006304  0.379473  0.389756  0.394202  0.398025  0.403981  0.000111\n",
      "t_subj(u).11  0.274526  0.022681  0.237343  0.264208  0.272975  0.280224  0.325723  0.000734\n",
      "t_subj(u).12  0.218765  0.006295  0.204311  0.215146  0.219534  0.223053  0.228717  0.000108\n",
      "t_subj(u).13  0.361909  0.007236  0.347087  0.357878  0.362062  0.365635  0.380354  0.000111\n",
      "z(c)          0.758795  0.010044  0.739510  0.751124  0.758914  0.766214  0.777847  0.000808\n",
      "z(u)          0.772122  0.008442  0.756102  0.765890  0.771875  0.778318  0.788491  0.000643\n",
      "z_std         0.047223  0.031132  0.002027  0.022562  0.044048  0.068048  0.115496  0.002442\n",
      "z_subj(c).0   0.766502  0.016643  0.739464  0.753757  0.765181  0.776425  0.803792  0.001223\n",
      "z_subj(c).1   0.766610  0.015244  0.739892  0.755161  0.766110  0.776015  0.799249  0.001115\n",
      "z_subj(c).2   0.759894  0.012441  0.737138  0.750636  0.759847  0.768607  0.784251  0.000812\n",
      "z_subj(c).3   0.756073  0.012581  0.731188  0.748043  0.755954  0.764821  0.780075  0.000770\n",
      "z_subj(c).4   0.757919  0.012730  0.733604  0.749188  0.757710  0.766842  0.783198  0.000778\n",
      "z_subj(c).5   0.753722  0.013515  0.725210  0.745575  0.753435  0.763223  0.778617  0.000796\n",
      "z_subj(c).6   0.750736  0.014559  0.717343  0.742822  0.751062  0.760603  0.775579  0.000819\n",
      "z_subj(c).7   0.758807  0.012755  0.735148  0.749739  0.758532  0.767856  0.783432  0.000808\n",
      "z_subj(c).8   0.758141  0.012829  0.734108  0.749196  0.758135  0.767063  0.783517  0.000799\n",
      "z_subj(c).9   0.759932  0.012604  0.737134  0.750541  0.759560  0.769005  0.785059  0.000827\n",
      "z_subj(c).10  0.761262  0.013186  0.737564  0.751239  0.760969  0.770263  0.788266  0.000877\n",
      "z_subj(c).11  0.761640  0.013081  0.738359  0.751440  0.761382  0.770654  0.787673  0.000878\n",
      "z_subj(c).12  0.760835  0.012838  0.736989  0.751123  0.760701  0.769638  0.786490  0.000850\n",
      "z_subj(c).13  0.752281  0.013385  0.723186  0.744065  0.752291  0.761477  0.775875  0.000786\n",
      "z_subj(u).0   0.773652  0.011473  0.752294  0.765599  0.773524  0.780839  0.797641  0.000682\n",
      "z_subj(u).1   0.772510  0.011362  0.750787  0.764655  0.772364  0.779992  0.795702  0.000646\n",
      "z_subj(u).2   0.770191  0.011448  0.746627  0.762648  0.770040  0.778334  0.791614  0.000629\n",
      "z_subj(u).3   0.770617  0.011427  0.746823  0.763244  0.770423  0.778569  0.793341  0.000635\n",
      "z_subj(u).4   0.765916  0.012436  0.738500  0.759124  0.766316  0.774661  0.787069  0.000704\n",
      "z_subj(u).5   0.773824  0.011517  0.752493  0.765647  0.773715  0.781125  0.797664  0.000688\n",
      "z_subj(u).6   0.776002  0.011616  0.755177  0.767221  0.775914  0.783372  0.800274  0.000718\n",
      "z_subj(u).7   0.771971  0.011067  0.750447  0.764335  0.771751  0.779394  0.793888  0.000647\n",
      "z_subj(u).8   0.774749  0.011812  0.753230  0.766128  0.774585  0.782152  0.799441  0.000708\n",
      "z_subj(u).9   0.775234  0.011580  0.754092  0.766538  0.775154  0.782533  0.799026  0.000709\n",
      "z_subj(u).10  0.774865  0.011749  0.754036  0.766181  0.774612  0.782329  0.799311  0.000705\n",
      "z_subj(u).11  0.770294  0.012143  0.745751  0.762744  0.769905  0.778360  0.794415  0.000670\n",
      "z_subj(u).12  0.768018  0.011657  0.742773  0.761295  0.767789  0.776556  0.789526  0.000654\n",
      "z_subj(u).13  0.772929  0.011104  0.751864  0.765192  0.772898  0.780160  0.795318  0.000651\n",
      "p_outlier     0.008629  0.002274  0.004711  0.007019  0.008426  0.010067  0.013582  0.000058\n",
      "DIC: 3213.322820\n",
      "deviance: 3172.456339\n",
      "pD: 40.866481\n"
     ]
    }
   ],
   "source": [
    "bparamrec2.print_stats()"
   ]
  },
  {
   "cell_type": "code",
   "execution_count": 121,
   "metadata": {},
   "outputs": [
    {
     "name": "stdout",
     "output_type": "stream",
     "text": [
      "                  mean       std      2.5q       25q       50q       75q     97.5q    mc err\n",
      "a             1.651596  0.030949  1.593325  1.631356  1.650774  1.670212  1.716610  0.000732\n",
      "a_std         0.086685  0.031973  0.032919  0.064426  0.083430  0.104622  0.160045  0.001215\n",
      "a_subj.0      1.763330  0.061096  1.650680  1.720465  1.761140  1.804304  1.888339  0.001935\n",
      "a_subj.1      1.622890  0.050564  1.523464  1.588981  1.623053  1.655976  1.722074  0.001067\n",
      "a_subj.2      1.654482  0.050546  1.557055  1.620207  1.654456  1.686770  1.759208  0.001002\n",
      "a_subj.3      1.660398  0.054061  1.557615  1.624040  1.658283  1.694486  1.771280  0.001074\n",
      "a_subj.4      1.692213  0.054955  1.589808  1.654915  1.688961  1.727323  1.806888  0.001183\n",
      "a_subj.5      1.701424  0.055796  1.602372  1.661902  1.697895  1.737064  1.816873  0.001273\n",
      "a_subj.6      1.653636  0.053626  1.551204  1.618404  1.652074  1.686922  1.764215  0.000985\n",
      "a_subj.7      1.671969  0.053966  1.573014  1.634391  1.669278  1.707239  1.784131  0.001186\n",
      "a_subj.8      1.617461  0.052740  1.515092  1.582705  1.617542  1.652623  1.723425  0.000909\n",
      "a_subj.9      1.530470  0.060207  1.410580  1.490412  1.530653  1.573109  1.644040  0.001813\n",
      "a_subj.10     1.576929  0.050275  1.476769  1.543569  1.577872  1.611456  1.674050  0.001018\n",
      "a_subj.11     1.719084  0.056584  1.617823  1.679314  1.715764  1.754620  1.839919  0.001487\n",
      "a_subj.12     1.591925  0.051003  1.491107  1.558211  1.592483  1.626810  1.689426  0.001118\n",
      "a_subj.13     1.642245  0.049910  1.547361  1.608938  1.641435  1.674554  1.744107  0.000835\n",
      "v(c)          1.624746  0.063262  1.508877  1.577484  1.624397  1.668488  1.747333  0.003932\n",
      "v(u)         -0.663104  0.048946 -0.758270 -0.696612 -0.662653 -0.628322 -0.573146  0.002595\n",
      "v_std         0.070001  0.041809  0.008256  0.037378  0.065092  0.096530  0.163153  0.002993\n",
      "v_subj(c).0   1.622475  0.087415  1.451367  1.564318  1.621444  1.681840  1.793197  0.003842\n",
      "v_subj(c).1   1.643336  0.091696  1.476127  1.579382  1.639529  1.701697  1.839645  0.004204\n",
      "v_subj(c).2   1.629842  0.092099  1.454163  1.567001  1.629481  1.690920  1.814000  0.004008\n",
      "v_subj(c).3   1.670756  0.104710  1.495423  1.595869  1.663094  1.729245  1.910439  0.005202\n",
      "v_subj(c).4   1.635007  0.089785  1.469461  1.571604  1.632602  1.696038  1.822182  0.004020\n",
      "v_subj(c).5   1.612138  0.092597  1.428246  1.553906  1.611631  1.672257  1.795793  0.003947\n",
      "v_subj(c).6   1.622959  0.091646  1.443851  1.562694  1.620881  1.684081  1.807716  0.004089\n",
      "v_subj(c).7   1.628901  0.088671  1.460774  1.568886  1.627047  1.687173  1.813481  0.003968\n",
      "v_subj(c).8   1.627195  0.092858  1.453526  1.564899  1.624790  1.687638  1.820165  0.004034\n",
      "v_subj(c).9   1.612259  0.089302  1.429436  1.555922  1.611753  1.673805  1.782711  0.003905\n",
      "v_subj(c).10  1.621700  0.092182  1.443659  1.560429  1.618118  1.683504  1.806108  0.004094\n",
      "v_subj(c).11  1.559009  0.100656  1.328690  1.503856  1.566178  1.627813  1.725522  0.005142\n",
      "v_subj(c).12  1.599781  0.090667  1.410538  1.544058  1.599275  1.660746  1.766611  0.004088\n",
      "v_subj(c).13  1.659547  0.098058  1.493711  1.589159  1.653595  1.718357  1.880638  0.004837\n",
      "v_subj(u).0  -0.655886  0.074666 -0.804470 -0.702649 -0.654808 -0.608886 -0.505346  0.002437\n",
      "v_subj(u).1  -0.684749  0.083847 -0.866576 -0.733676 -0.679032 -0.628745 -0.535005  0.003206\n",
      "v_subj(u).2  -0.692550  0.082400 -0.874144 -0.741420 -0.684876 -0.635223 -0.554530  0.003370\n",
      "v_subj(u).3  -0.631247  0.080525 -0.775448 -0.683265 -0.634769 -0.586796 -0.451236  0.002865\n",
      "v_subj(u).4  -0.647662  0.078959 -0.805791 -0.695687 -0.648117 -0.599817 -0.484498  0.002620\n",
      "v_subj(u).5  -0.645987  0.076618 -0.794130 -0.694184 -0.647303 -0.598055 -0.490003  0.002621\n",
      "v_subj(u).6  -0.699001  0.082927 -0.888134 -0.748736 -0.690445 -0.639870 -0.563480  0.003771\n",
      "v_subj(u).7  -0.642459  0.077360 -0.791825 -0.692275 -0.644538 -0.595322 -0.477059  0.002549\n",
      "v_subj(u).8  -0.707056  0.092248 -0.919874 -0.758019 -0.695199 -0.642630 -0.560856  0.004146\n",
      "v_subj(u).9  -0.650227  0.083267 -0.815710 -0.700710 -0.650620 -0.600511 -0.478091  0.002663\n",
      "v_subj(u).10 -0.650508  0.078281 -0.809866 -0.699005 -0.649322 -0.601881 -0.490942  0.002470\n",
      "v_subj(u).11 -0.690438  0.083172 -0.875375 -0.739166 -0.684205 -0.633291 -0.547280  0.003436\n",
      "v_subj(u).12 -0.635535  0.080704 -0.792559 -0.686673 -0.637763 -0.588658 -0.456904  0.002756\n",
      "v_subj(u).13 -0.650418  0.076325 -0.801191 -0.698225 -0.650377 -0.603960 -0.489102  0.002560\n",
      "t(c)          0.259078  0.024078  0.213987  0.242966  0.258581  0.274242  0.309004  0.000403\n",
      "t(u)          0.297498  0.024543  0.251100  0.281262  0.297117  0.313368  0.346546  0.000400\n",
      "t_std         0.093762  0.015813  0.069107  0.082706  0.091669  0.102518  0.131478  0.000306\n",
      "t_subj(c).0   0.215435  0.015022  0.183173  0.206258  0.216345  0.225611  0.241241  0.000316\n",
      "t_subj(c).1   0.245991  0.014930  0.213321  0.236741  0.247395  0.256662  0.270910  0.000338\n",
      "t_subj(c).2   0.247136  0.016117  0.211721  0.236952  0.248464  0.258802  0.274048  0.000352\n",
      "t_subj(c).3   0.186035  0.013073  0.156673  0.178103  0.187598  0.195293  0.207634  0.000365\n",
      "t_subj(c).4   0.254658  0.016048  0.219610  0.244725  0.256045  0.266411  0.281702  0.000274\n",
      "t_subj(c).5   0.291597  0.015530  0.257539  0.282004  0.293025  0.302705  0.317392  0.000425\n",
      "t_subj(c).6   0.442338  0.017087  0.404858  0.431925  0.443660  0.454614  0.471934  0.000385\n",
      "t_subj(c).7   0.275366  0.016144  0.240735  0.265303  0.276452  0.286628  0.303853  0.000312\n",
      "t_subj(c).8   0.211786  0.013380  0.181853  0.203838  0.213168  0.221410  0.233236  0.000289\n",
      "t_subj(c).9   0.127817  0.013201  0.098928  0.119570  0.128858  0.137224  0.150846  0.000365\n",
      "t_subj(c).10  0.350344  0.013905  0.318982  0.341943  0.351677  0.360288  0.373709  0.000340\n",
      "t_subj(c).11  0.291172  0.019138  0.249806  0.279601  0.292974  0.304724  0.324070  0.000494\n",
      "t_subj(c).12  0.162779  0.014970  0.130720  0.153124  0.163846  0.173256  0.189363  0.000328\n",
      "t_subj(c).13  0.194119  0.015843  0.159654  0.184013  0.194980  0.205317  0.222456  0.000348\n",
      "t_subj(u).0   0.399259  0.020835  0.353539  0.386549  0.400798  0.413896  0.433878  0.000450\n",
      "t_subj(u).1   0.191289  0.014846  0.158765  0.182198  0.192408  0.202123  0.216574  0.000232\n",
      "t_subj(u).2   0.420579  0.015955  0.385142  0.411226  0.422265  0.431985  0.446461  0.000258\n",
      "t_subj(u).3   0.161597  0.008442  0.142126  0.156798  0.162585  0.167565  0.174994  0.000157\n",
      "t_subj(u).4   0.251489  0.017876  0.212074  0.240786  0.252994  0.264283  0.281249  0.000351\n",
      "t_subj(u).5   0.281445  0.017411  0.243610  0.270799  0.282945  0.293798  0.310876  0.000320\n",
      "t_subj(u).6   0.397081  0.018225  0.357160  0.385759  0.398695  0.410091  0.428091  0.000325\n",
      "t_subj(u).7   0.328435  0.018375  0.288740  0.316844  0.329977  0.341546  0.359779  0.000313\n",
      "t_subj(u).8   0.370789  0.016749  0.334433  0.360524  0.372298  0.382784  0.399036  0.000302\n",
      "t_subj(u).9   0.273803  0.002043  0.268983  0.272663  0.274115  0.275281  0.276861  0.000051\n",
      "t_subj(u).10  0.291969  0.010451  0.268104  0.285757  0.293363  0.299555  0.308474  0.000184\n",
      "t_subj(u).11  0.168272  0.017853  0.131041  0.156702  0.169211  0.181021  0.199668  0.000395\n",
      "t_subj(u).12  0.226672  0.015289  0.193283  0.216810  0.227638  0.237533  0.253467  0.000272\n",
      "t_subj(u).13  0.395150  0.014311  0.362217  0.386485  0.396517  0.405435  0.418722  0.000244\n",
      "z(c)          0.508606  0.022891  0.463928  0.493410  0.508384  0.523802  0.554265  0.000793\n",
      "z(u)          0.381355  0.020192  0.342035  0.367929  0.381142  0.394870  0.421719  0.000431\n",
      "z_std         0.284942  0.024138  0.240215  0.268178  0.284351  0.300600  0.334427  0.000417\n",
      "z_subj(c).0   0.392478  0.029535  0.336844  0.372257  0.392376  0.412035  0.451688  0.000671\n",
      "z_subj(c).1   0.517096  0.034452  0.448755  0.493223  0.517340  0.540741  0.582383  0.000986\n",
      "z_subj(c).2   0.539098  0.037015  0.466317  0.514058  0.539744  0.564086  0.610993  0.000954\n",
      "z_subj(c).3   0.587138  0.035001  0.516147  0.563516  0.588317  0.611938  0.651777  0.001167\n",
      "z_subj(c).4   0.474897  0.032115  0.410087  0.453534  0.475683  0.496751  0.537120  0.000739\n",
      "z_subj(c).5   0.581252  0.036562  0.505836  0.557080  0.581976  0.606487  0.649940  0.001146\n",
      "z_subj(c).6   0.482052  0.036259  0.408181  0.458076  0.482819  0.506555  0.551275  0.000968\n",
      "z_subj(c).7   0.479003  0.032580  0.414648  0.457256  0.478780  0.501517  0.541368  0.000762\n",
      "z_subj(c).8   0.531089  0.034339  0.461706  0.508530  0.531508  0.554563  0.595731  0.000937\n",
      "z_subj(c).9   0.549909  0.033286  0.484876  0.527623  0.550652  0.572605  0.614193  0.000954\n",
      "z_subj(c).10  0.539871  0.034461  0.470071  0.517247  0.540976  0.563211  0.605239  0.001026\n",
      "z_subj(c).11  0.477507  0.035795  0.406426  0.453529  0.477902  0.502021  0.546074  0.001021\n",
      "z_subj(c).12  0.504451  0.035326  0.435142  0.480478  0.505054  0.528081  0.574410  0.000990\n",
      "z_subj(c).13  0.463575  0.033043  0.397837  0.440959  0.463694  0.486570  0.527129  0.000945\n",
      "z_subj(u).0   0.423402  0.028145  0.368156  0.403943  0.423393  0.442410  0.477697  0.000482\n",
      "z_subj(u).1   0.397999  0.027286  0.345021  0.379522  0.397366  0.416358  0.452336  0.000484\n",
      "z_subj(u).2   0.363140  0.026241  0.312964  0.345025  0.363026  0.380774  0.415722  0.000524\n",
      "z_subj(u).3   0.258850  0.023072  0.215434  0.242880  0.258392  0.274071  0.305902  0.000480\n",
      "z_subj(u).4   0.540159  0.033203  0.471360  0.518281  0.541013  0.562600  0.603256  0.000735\n",
      "z_subj(u).5   0.401700  0.026920  0.350349  0.383222  0.401466  0.419961  0.454351  0.000480\n",
      "z_subj(u).6   0.395772  0.026617  0.344561  0.377726  0.395265  0.413911  0.447592  0.000593\n",
      "z_subj(u).7   0.384682  0.025826  0.335720  0.367258  0.384265  0.401562  0.437425  0.000466\n",
      "z_subj(u).8   0.517382  0.033061  0.451211  0.495381  0.517725  0.539612  0.580911  0.000826\n",
      "z_subj(u).9   0.127755  0.013039  0.104082  0.118600  0.126954  0.136393  0.154833  0.000348\n",
      "z_subj(u).10  0.315245  0.024517  0.268648  0.298630  0.314508  0.332072  0.365660  0.000459\n",
      "z_subj(u).11  0.533802  0.032731  0.467776  0.512164  0.534746  0.555666  0.596625  0.000775\n",
      "z_subj(u).12  0.404381  0.026238  0.352625  0.386771  0.404028  0.421715  0.456725  0.000457\n",
      "z_subj(u).13  0.359771  0.026004  0.310310  0.342077  0.359271  0.377350  0.412835  0.000504\n",
      "p_outlier     0.001271  0.001195  0.000035  0.000386  0.000929  0.001802  0.004327  0.000026\n",
      "DIC: 3132.364214\n",
      "deviance: 3067.523927\n",
      "pD: 64.840286\n"
     ]
    }
   ],
   "source": [
    "bparamrec2.print_stats()"
   ]
  },
  {
   "cell_type": "markdown",
   "metadata": {},
   "source": [
    "a: 2.1% diff\n",
    "\n",
    "v(c): 5.6% diff\n",
    "\n",
    "v(u): 5.7% diff\n",
    "\n",
    "t(c): 13% diff\n",
    "\n",
    "t(u): 0.1% diff\n",
    "\n",
    "z(c): 0.2% diff\n",
    "\n",
    "z(u): 11.2% diff"
   ]
  },
  {
   "cell_type": "markdown",
   "metadata": {},
   "source": [
    "# Old models"
   ]
  },
  {
   "cell_type": "markdown",
   "metadata": {},
   "source": [
    "## Vary by unisensory/congruent and 2/3 flashes"
   ]
  },
  {
   "cell_type": "code",
   "execution_count": 79,
   "metadata": {},
   "outputs": [
    {
     "name": "stdout",
     "output_type": "stream",
     "text": [
      " [-----------------100%-----------------] 7000 of 7000 complete in 637.8 sec"
     ]
    },
    {
     "data": {
      "text/plain": [
       "<pymc.MCMC.MCMC at 0xf292508>"
      ]
     },
     "execution_count": 79,
     "metadata": {},
     "output_type": "execute_result"
    }
   ],
   "source": [
    "flash_acc2 = hddm.HDDM(model_f, include=['a', 'v', 't', 'p_outlier'], depends_on={'v': ['type', 'stimName'], 't': ['type', 'stimName']})\n",
    "flash_acc2.sample(7000, burn=500)"
   ]
  },
  {
   "cell_type": "code",
   "execution_count": 80,
   "metadata": {
    "scrolled": true
   },
   "outputs": [
    {
     "name": "stdout",
     "output_type": "stream",
     "text": [
      "                         mean       std      2.5q       25q       50q       75q     97.5q    mc err\n",
      "a                    1.703131  0.094190  1.530280  1.639464  1.697672  1.761284  1.901385  0.001469\n",
      "a_std                0.332672  0.083625  0.210828  0.274489  0.318305  0.375153  0.528948  0.001774\n",
      "a_subj.1.0           2.126073  0.111639  1.921076  2.047733  2.119805  2.197454  2.366489  0.002548\n",
      "a_subj.2.0           1.929853  0.083002  1.773527  1.872145  1.926948  1.984221  2.102571  0.001499\n",
      "a_subj.3.0           1.370059  0.080798  1.217519  1.313481  1.367761  1.423700  1.535422  0.002702\n",
      "a_subj.4.0           1.762512  0.076686  1.618694  1.710062  1.759930  1.812207  1.921942  0.001561\n",
      "a_subj.5.0           2.014737  0.100214  1.826708  1.946206  2.011284  2.079095  2.220786  0.002287\n",
      "a_subj.6.0           1.897676  0.090718  1.726116  1.833759  1.895433  1.957566  2.081776  0.002217\n",
      "a_subj.7.0           1.797476  0.076027  1.651538  1.745684  1.796250  1.846571  1.949046  0.001456\n",
      "a_subj.8.0           1.767115  0.087504  1.607313  1.707641  1.762420  1.822363  1.951339  0.002069\n",
      "a_subj.9.0           1.669924  0.083466  1.517118  1.613791  1.665925  1.722909  1.847919  0.001895\n",
      "a_subj.10.0          1.457410  0.061149  1.339764  1.415938  1.456000  1.497789  1.582080  0.001066\n",
      "a_subj.11.0          1.479797  0.069802  1.347976  1.431515  1.476716  1.526695  1.620347  0.001739\n",
      "a_subj.12.0          1.885744  0.084993  1.722940  1.825896  1.883773  1.942518  2.056429  0.001884\n",
      "a_subj.13.0          1.195035  0.057542  1.087805  1.155540  1.193101  1.231286  1.315027  0.001449\n",
      "a_subj.14.0          1.353144  0.057489  1.245363  1.313928  1.351000  1.391348  1.467483  0.001237\n",
      "v(F2.u)              1.494937  0.222454  1.062617  1.346450  1.492322  1.643884  1.934029  0.003159\n",
      "v(F2B2.c)            1.688371  0.224197  1.253256  1.539682  1.691136  1.841905  2.115356  0.003095\n",
      "v(F3.u)              0.045267  0.218616 -0.377797 -0.098900  0.046728  0.190628  0.473211  0.003131\n",
      "v(F3B3.c)            1.381033  0.219836  0.952557  1.233932  1.379925  1.529210  1.815185  0.003384\n",
      "v_std                0.785695  0.091018  0.631182  0.720355  0.778062  0.841808  0.985722  0.001652\n",
      "v_subj(F2.u).1.0     1.791088  0.245952  1.323929  1.622795  1.787030  1.953186  2.284822  0.003876\n",
      "v_subj(F2.u).2.0     1.415907  0.324740  0.886194  1.190557  1.382394  1.600796  2.165621  0.006107\n",
      "v_subj(F2.u).3.0     2.454285  0.382551  1.779885  2.180782  2.431272  2.696799  3.285285  0.012826\n",
      "v_subj(F2.u).4.0     1.680079  0.257754  1.202198  1.506614  1.671116  1.846410  2.226233  0.004111\n",
      "v_subj(F2.u).5.0     1.679786  0.270738  1.172990  1.491413  1.667890  1.858646  2.228154  0.004343\n",
      "v_subj(F2.u).6.0     1.900964  0.274231  1.365483  1.717105  1.895940  2.084607  2.457578  0.004021\n",
      "v_subj(F2.u).7.0     0.374583  0.176664  0.028313  0.253202  0.373266  0.490902  0.725659  0.002248\n",
      "v_subj(F2.u).8.0     1.910819  0.242978  1.449043  1.744699  1.902148  2.068233  2.398528  0.003894\n",
      "v_subj(F2.u).9.0     0.962165  0.209249  0.558814  0.821088  0.957700  1.101137  1.389291  0.003002\n",
      "v_subj(F2.u).10.0    1.020761  0.236070  0.565951  0.861565  1.015817  1.173871  1.506485  0.002793\n",
      "v_subj(F2.u).11.0    0.987405  0.224661  0.556725  0.836058  0.984521  1.136052  1.439612  0.003114\n",
      "v_subj(F2.u).12.0    1.624489  0.245835  1.164161  1.456344  1.616962  1.782584  2.128738  0.004120\n",
      "v_subj(F2.u).13.0    1.034362  0.259785  0.532462  0.856947  1.032518  1.207058  1.547801  0.003273\n",
      "v_subj(F2.u).14.0    2.089395  0.288869  1.547844  1.892228  2.075910  2.280109  2.688023  0.003460\n",
      "v_subj(F2B2.c).1.0   1.775213  0.220152  1.355856  1.623176  1.773779  1.923284  2.216342  0.003399\n",
      "v_subj(F2B2.c).2.0   1.042014  0.176387  0.702100  0.922350  1.039170  1.159746  1.395972  0.002435\n",
      "v_subj(F2B2.c).3.0   2.408063  0.317338  1.805596  2.190204  2.403986  2.617487  3.035470  0.006062\n",
      "v_subj(F2B2.c).4.0   1.476786  0.271546  0.980598  1.291539  1.459855  1.648788  2.047625  0.004339\n",
      "v_subj(F2B2.c).5.0   0.390170  0.166736  0.072057  0.274605  0.387164  0.501703  0.720491  0.002399\n",
      "v_subj(F2B2.c).6.0   2.186184  0.259288  1.690618  2.005355  2.178081  2.363893  2.700845  0.003809\n",
      "v_subj(F2B2.c).7.0   2.372313  0.281823  1.838738  2.178951  2.366496  2.560045  2.949571  0.004506\n",
      "v_subj(F2B2.c).8.0   2.092975  0.289976  1.535654  1.896840  2.087619  2.287865  2.671945  0.004747\n",
      "v_subj(F2B2.c).9.0   2.021724  0.274009  1.493622  1.830625  2.021145  2.205974  2.575110  0.004783\n",
      "v_subj(F2B2.c).10.0  1.947925  0.261527  1.442880  1.767317  1.950288  2.124570  2.455489  0.003909\n",
      "v_subj(F2B2.c).11.0  0.603682  0.239748  0.148025  0.439399  0.598292  0.760236  1.087123  0.003289\n",
      "v_subj(F2B2.c).12.0  1.067804  0.186807  0.721934  0.938170  1.062266  1.196041  1.439117  0.002637\n",
      "v_subj(F2B2.c).13.0  3.272848  0.402126  2.487043  3.000300  3.271409  3.542469  4.065071  0.007634\n",
      "v_subj(F2B2.c).14.0  0.973261  0.257180  0.486741  0.797817  0.969059  1.143457  1.498589  0.003134\n",
      "v_subj(F3.u).1.0    -0.102106  0.149802 -0.401986 -0.200861 -0.099766  0.000542  0.189186  0.001980\n",
      "v_subj(F3.u).2.0    -0.003176  0.174626 -0.348734 -0.121748 -0.000141  0.112803  0.333824  0.002201\n",
      "v_subj(F3.u).3.0     0.097053  0.229522 -0.359107 -0.054140  0.096423  0.249324  0.546411  0.002751\n",
      "v_subj(F3.u).4.0    -1.114127  0.205494 -1.517831 -1.251091 -1.114956 -0.974541 -0.716366  0.002760\n",
      "v_subj(F3.u).5.0    -0.999000  0.230377 -1.484223 -1.147113 -0.987997 -0.837809 -0.579240  0.003141\n",
      "v_subj(F3.u).6.0    -0.176220  0.157453 -0.487297 -0.281698 -0.173802 -0.070900  0.132041  0.002151\n",
      "v_subj(F3.u).7.0     0.555704  0.181409  0.201394  0.432270  0.556236  0.677763  0.917622  0.002392\n",
      "v_subj(F3.u).8.0    -0.278334  0.179904 -0.632178 -0.400840 -0.274541 -0.157453  0.067143  0.002049\n",
      "v_subj(F3.u).9.0     0.810895  0.197845  0.419092  0.677078  0.812857  0.944731  1.193710  0.002410\n",
      "v_subj(F3.u).10.0   -0.107170  0.218972 -0.540682 -0.253848 -0.107777  0.042504  0.325927  0.002785\n",
      "v_subj(F3.u).11.0    0.489869  0.219306  0.071026  0.339730  0.483356  0.634568  0.932026  0.003036\n",
      "v_subj(F3.u).12.0   -0.064180  0.168061 -0.392793 -0.181238 -0.063934  0.050259  0.261992  0.002181\n",
      "v_subj(F3.u).13.0    0.694383  0.259479  0.191190  0.516443  0.690310  0.869516  1.205787  0.003301\n",
      "v_subj(F3.u).14.0    0.667461  0.230912  0.222327  0.508916  0.666780  0.826373  1.124936  0.002879\n",
      "v_subj(F3B3.c).1.0   0.733384  0.163135  0.422423  0.624922  0.729170  0.839174  1.066779  0.002292\n",
      "v_subj(F3B3.c).2.0   0.940209  0.175544  0.607668  0.817119  0.937060  1.057751  1.290277  0.002247\n",
      "v_subj(F3B3.c).3.0   3.488109  0.374220  2.777142  3.235404  3.489140  3.738365  4.243236  0.006441\n",
      "v_subj(F3B3.c).4.0  -0.208418  0.174685 -0.545825 -0.328337 -0.209467 -0.088100  0.129925  0.002226\n",
      "v_subj(F3B3.c).5.0   1.142618  0.192507  0.785217  1.011090  1.139473  1.267443  1.541374  0.002444\n",
      "v_subj(F3B3.c).6.0   0.497713  0.176277  0.161342  0.377653  0.494366  0.615700  0.853244  0.002311\n",
      "v_subj(F3B3.c).7.0   1.028845  0.219839  0.617169  0.878333  1.020836  1.173558  1.474706  0.002548\n",
      "v_subj(F3B3.c).8.0   1.916087  0.252424  1.435825  1.743374  1.911536  2.083141  2.428047  0.004043\n",
      "v_subj(F3B3.c).9.0   2.081718  0.263563  1.558854  1.906400  2.082221  2.258613  2.605832  0.004239\n",
      "v_subj(F3B3.c).10.0  1.207946  0.225696  0.766918  1.053596  1.204900  1.361751  1.658085  0.003068\n",
      "v_subj(F3B3.c).11.0  2.103807  0.300426  1.511541  1.896916  2.103589  2.306273  2.696354  0.004950\n",
      "v_subj(F3B3.c).12.0  1.428175  0.266866  0.932238  1.246358  1.412090  1.599932  1.982448  0.004163\n",
      "v_subj(F3B3.c).13.0  2.107665  0.328011  1.460808  1.887254  2.111360  2.330525  2.733649  0.004438\n",
      "v_subj(F3B3.c).14.0  0.793566  0.222829  0.353348  0.644043  0.792555  0.941598  1.229701  0.002922\n",
      "t(F2.u)              0.337972  0.023156  0.292001  0.322684  0.338017  0.353109  0.384080  0.000383\n",
      "t(F2B2.c)            0.272447  0.023341  0.226461  0.256909  0.272440  0.287828  0.317893  0.000396\n",
      "t(F3.u)              0.245006  0.022780  0.200019  0.230315  0.245038  0.259838  0.290513  0.000359\n",
      "t(F3B3.c)            0.253459  0.022489  0.209107  0.239077  0.253411  0.268436  0.296808  0.000359\n",
      "t_std                0.085402  0.010664  0.067358  0.077870  0.084365  0.092047  0.109070  0.000231\n",
      "t_subj(F2.u).1.0     0.354593  0.026394  0.295593  0.338205  0.356928  0.373023  0.400361  0.000453\n",
      "t_subj(F2.u).2.0     0.333169  0.035134  0.263819  0.308325  0.333434  0.359768  0.395085  0.000648\n",
      "t_subj(F2.u).3.0     0.322796  0.034637  0.274609  0.294383  0.306398  0.356609  0.389416  0.001819\n",
      "t_subj(F2.u).4.0     0.333084  0.021043  0.286823  0.320006  0.334836  0.347885  0.369259  0.000342\n",
      "t_subj(F2.u).5.0     0.352623  0.027705  0.292216  0.335131  0.354854  0.371957  0.400242  0.000488\n",
      "t_subj(F2.u).6.0     0.314943  0.020690  0.269852  0.301838  0.316558  0.329677  0.350327  0.000379\n",
      "t_subj(F2.u).7.0     0.282725  0.060164  0.194380  0.236918  0.261430  0.342270  0.392908  0.001843\n",
      "t_subj(F2.u).8.0     0.311808  0.023756  0.267889  0.297180  0.310160  0.323531  0.362682  0.000418\n",
      "t_subj(F2.u).9.0     0.290823  0.023628  0.242898  0.276565  0.291812  0.305331  0.338776  0.000415\n",
      "t_subj(F2.u).10.0    0.225067  0.016561  0.188233  0.215159  0.226606  0.236436  0.253610  0.000229\n",
      "t_subj(F2.u).11.0    0.286910  0.017338  0.247544  0.276953  0.288959  0.299132  0.315317  0.000331\n",
      "t_subj(F2.u).12.0    0.386861  0.026867  0.326645  0.370548  0.388870  0.405717  0.433085  0.000459\n",
      "t_subj(F2.u).13.0    0.359984  0.020034  0.322154  0.344861  0.358256  0.377147  0.392878  0.000390\n",
      "t_subj(F2.u).14.0    0.446764  0.012796  0.418218  0.439079  0.448155  0.455751  0.467882  0.000207\n",
      "t_subj(F2B2.c).1.0   0.345535  0.029568  0.279025  0.327800  0.348059  0.366747  0.395114  0.000577\n",
      "t_subj(F2B2.c).2.0   0.250383  0.028040  0.190338  0.232767  0.252914  0.269921  0.297956  0.000421\n",
      "t_subj(F2B2.c).3.0   0.229925  0.015381  0.203253  0.221633  0.229198  0.236364  0.278680  0.000497\n",
      "t_subj(F2B2.c).4.0   0.166115  0.029794  0.121971  0.150238  0.162745  0.174569  0.261842  0.000706\n",
      "t_subj(F2B2.c).5.0   0.290574  0.037809  0.207985  0.266136  0.293741  0.317948  0.353847  0.000654\n",
      "t_subj(F2B2.c).6.0   0.254640  0.020872  0.209831  0.241612  0.256510  0.269310  0.290359  0.000395\n",
      "t_subj(F2B2.c).7.0   0.318824  0.022972  0.275612  0.304976  0.317690  0.330752  0.370329  0.000396\n",
      "t_subj(F2B2.c).8.0   0.207649  0.019512  0.164606  0.195650  0.208884  0.221064  0.241878  0.000330\n",
      "t_subj(F2B2.c).9.0   0.187439  0.036872  0.098435  0.169266  0.199213  0.213540  0.233262  0.000871\n",
      "t_subj(F2B2.c).10.0  0.210908  0.015112  0.178105  0.201704  0.211815  0.221398  0.237171  0.000214\n",
      "t_subj(F2B2.c).11.0  0.259773  0.041019  0.142184  0.241325  0.260629  0.290725  0.321841  0.000895\n",
      "t_subj(F2B2.c).12.0  0.243574  0.026248  0.186634  0.227469  0.245691  0.261625  0.288722  0.000417\n",
      "t_subj(F2B2.c).13.0  0.312735  0.014731  0.265545  0.308875  0.315571  0.321338  0.330198  0.000457\n",
      "t_subj(F2B2.c).14.0  0.534848  0.018623  0.492796  0.523465  0.536817  0.548252  0.564953  0.000325\n",
      "t_subj(F3.u).1.0     0.395820  0.056830  0.270938  0.361192  0.402036  0.436473  0.488929  0.001073\n",
      "t_subj(F3.u).2.0     0.175648  0.029408  0.112338  0.157052  0.177870  0.196351  0.228120  0.000413\n",
      "t_subj(F3.u).3.0     0.168805  0.017903  0.128206  0.157911  0.170511  0.181664  0.198473  0.000410\n",
      "t_subj(F3.u).4.0     0.140622  0.019264  0.098876  0.128654  0.142247  0.153997  0.173702  0.000337\n",
      "t_subj(F3.u).5.0     0.287115  0.038175  0.204106  0.262323  0.291267  0.314918  0.351427  0.000743\n",
      "t_subj(F3.u).6.0     0.324130  0.037135  0.241903  0.302107  0.328030  0.350195  0.385898  0.000624\n",
      "t_subj(F3.u).7.0     0.194163  0.026710  0.140042  0.178117  0.194938  0.210150  0.247018  0.000350\n",
      "t_subj(F3.u).8.0     0.205211  0.026658  0.148366  0.188928  0.207004  0.223379  0.251855  0.000462\n",
      "t_subj(F3.u).9.0     0.158850  0.046563  0.084591  0.124160  0.151768  0.188082  0.260712  0.000932\n",
      "t_subj(F3.u).10.0    0.154043  0.018575  0.115319  0.142683  0.154886  0.165426  0.186666  0.000294\n",
      "t_subj(F3.u).11.0    0.279316  0.035260  0.204555  0.254069  0.287862  0.304566  0.335372  0.000710\n",
      "t_subj(F3.u).12.0    0.301790  0.037054  0.218477  0.279118  0.305666  0.328597  0.363699  0.000664\n",
      "t_subj(F3.u).13.0    0.305956  0.014655  0.272199  0.297073  0.307559  0.316463  0.330266  0.000269\n",
      "t_subj(F3.u).14.0    0.372483  0.019004  0.328671  0.361007  0.374158  0.386198  0.403816  0.000361\n",
      "t_subj(F3B3.c).1.0   0.405023  0.046459  0.300974  0.377574  0.409828  0.438276  0.482267  0.000815\n",
      "t_subj(F3B3.c).2.0   0.278803  0.033141  0.205689  0.258793  0.281069  0.302267  0.335837  0.000523\n",
      "t_subj(F3B3.c).3.0   0.196234  0.010368  0.173686  0.189913  0.197051  0.203524  0.214262  0.000231\n",
      "t_subj(F3B3.c).4.0   0.215115  0.027924  0.155072  0.197390  0.217436  0.234521  0.263700  0.000415\n",
      "t_subj(F3B3.c).5.0   0.273685  0.031039  0.205041  0.254553  0.276476  0.295515  0.326891  0.000534\n",
      "t_subj(F3B3.c).6.0   0.381820  0.039073  0.294870  0.357734  0.386212  0.410434  0.445758  0.000719\n",
      "t_subj(F3B3.c).7.0   0.145395  0.026904  0.098405  0.128478  0.143329  0.158523  0.206943  0.000437\n",
      "t_subj(F3B3.c).8.0   0.236793  0.019564  0.194699  0.224807  0.238467  0.250056  0.271261  0.000316\n",
      "t_subj(F3B3.c).9.0   0.198561  0.018659  0.157710  0.186804  0.200467  0.211697  0.230876  0.000352\n",
      "t_subj(F3B3.c).10.0  0.186079  0.015953  0.151188  0.176424  0.187547  0.197486  0.212982  0.000258\n",
      "t_subj(F3B3.c).11.0  0.234266  0.028027  0.166474  0.222631  0.242417  0.254108  0.270158  0.000754\n",
      "t_subj(F3B3.c).12.0  0.155514  0.022147  0.107430  0.142154  0.157099  0.170180  0.195185  0.000335\n",
      "t_subj(F3B3.c).13.0  0.227365  0.015884  0.181238  0.222142  0.230555  0.236958  0.248665  0.000392\n",
      "t_subj(F3B3.c).14.0  0.414098  0.017182  0.375782  0.403619  0.415834  0.426321  0.442461  0.000281\n",
      "p_outlier            0.061777  0.006721  0.049003  0.057137  0.061611  0.066211  0.075648  0.000121\n",
      "DIC: 4127.815383\n",
      "deviance: 4024.368381\n",
      "pD: 103.447001\n"
     ]
    }
   ],
   "source": [
    "flash_acc2.print_stats()"
   ]
  },
  {
   "cell_type": "code",
   "execution_count": 90,
   "metadata": {},
   "outputs": [
    {
     "name": "stdout",
     "output_type": "stream",
     "text": [
      " [------------------105%------------------] 59 of 56 complete in 2396.0 sec"
     ]
    }
   ],
   "source": [
    "fppc2 = hddm.utils.post_pred_gen(flash_acc2)"
   ]
  },
  {
   "cell_type": "code",
   "execution_count": 93,
   "metadata": {},
   "outputs": [
    {
     "name": "stdout",
     "output_type": "stream",
     "text": [
      "          observed      mean       std           SEM       MSE credible  \\\n",
      "stat                                                                      \n",
      "accuracy  0.778135  0.785527  0.226781  5.464787e-05  0.051484     True   \n",
      "mean_ub   0.855433  0.824403  0.255163  9.629046e-04  0.066071     True   \n",
      "std_ub    0.665953  0.400850  0.206955  7.027969e-02  0.113110     True   \n",
      "10q_ub    0.389500  0.454602  0.121276  4.238339e-03  0.018946     True   \n",
      "30q_ub    0.537021  0.571205  0.157151  1.168506e-03  0.025865     True   \n",
      "50q_ub    0.665879  0.709956  0.212699  1.942770e-03  0.047184     True   \n",
      "70q_ub    0.849032  0.913406  0.304318  4.144056e-03  0.096754     True   \n",
      "90q_ub    1.449996  1.326561  0.502026  1.523606e-02  0.267267     True   \n",
      "mean_lb  -1.085988 -0.842109  0.300749  5.947689e-02  0.149927     True   \n",
      "std_lb    0.903215  0.342147  0.269634  3.147972e-01  0.387500     True   \n",
      "10q_lb    0.444976  0.530092  0.199483  7.244650e-03  0.047038     True   \n",
      "30q_lb    0.630831  0.630779  0.218292  2.665745e-09  0.047652     True   \n",
      "50q_lb    0.812548  0.751508  0.265273  3.725880e-03  0.074095     True   \n",
      "70q_lb    1.069355  0.924992  0.359859  2.084076e-02  0.150339     True   \n",
      "90q_lb    1.941313  1.245801  0.595332  4.837368e-01  0.838157     True   \n",
      "\n",
      "           quantile  mahalanobis  \n",
      "stat                              \n",
      "accuracy  34.903572     0.032597  \n",
      "mean_ub   60.636475     0.121611  \n",
      "std_ub    88.942070     1.280973  \n",
      "10q_ub    34.077435     0.536812  \n",
      "30q_ub    45.674690     0.217520  \n",
      "50q_ub    47.117653     0.207226  \n",
      "70q_ub    47.931995     0.211536  \n",
      "90q_ub    67.558395     0.245872  \n",
      "mean_lb   19.544052     0.810904  \n",
      "std_lb    96.323120     2.080852  \n",
      "10q_lb    36.938969     0.426680  \n",
      "30q_lb    57.389378     0.000237  \n",
      "50q_lb    65.716774     0.230103  \n",
      "70q_lb    70.596848     0.401166  \n",
      "90q_lb    86.780655     1.168275  \n"
     ]
    }
   ],
   "source": [
    "fppc_compare2 = hddm.utils.post_pred_stats(model_f, fppc2)\n",
    "print(fppc_compare2)"
   ]
  },
  {
   "cell_type": "code",
   "execution_count": 25,
   "metadata": {},
   "outputs": [
    {
     "name": "stdout",
     "output_type": "stream",
     "text": [
      " [-----------------100%-----------------] 7001 of 7000 complete in 683.9 sec"
     ]
    },
    {
     "data": {
      "text/plain": [
       "<pymc.MCMC.MCMC at 0xeafab08>"
      ]
     },
     "execution_count": 25,
     "metadata": {},
     "output_type": "execute_result"
    }
   ],
   "source": [
    "beep_acc2 = hddm.HDDM(model_b, include=['a', 'v', 't', 'p_outlier'], depends_on={'v': ['type', 'stimName'], 't': ['type', 'stimName']})\n",
    "beep_acc2.sample(7000, burn=500)"
   ]
  },
  {
   "cell_type": "code",
   "execution_count": 26,
   "metadata": {},
   "outputs": [
    {
     "name": "stdout",
     "output_type": "stream",
     "text": [
      "                         mean       std      2.5q       25q       50q       75q     97.5q    mc err\n",
      "a                    2.200595  0.112022  1.995613  2.124570  2.194940  2.269042  2.445599  0.004953\n",
      "a_std                0.319009  0.093885  0.173661  0.254210  0.305648  0.369765  0.544017  0.003129\n",
      "a_subj.1.0           2.768557  0.188990  2.422729  2.636831  2.759288  2.891783  3.157849  0.007411\n",
      "a_subj.2.0           2.054795  0.105359  1.864433  1.980444  2.051144  2.123073  2.274486  0.003036\n",
      "a_subj.3.0           1.912661  0.176501  1.618852  1.787960  1.893891  2.017807  2.307200  0.008070\n",
      "a_subj.4.0           2.050665  0.085349  1.888219  1.992570  2.048839  2.105857  2.227876  0.002016\n",
      "a_subj.5.0           2.351929  0.096149  2.170049  2.285556  2.349899  2.415424  2.549821  0.002015\n",
      "a_subj.6.0           2.492803  0.221884  2.088632  2.338092  2.478854  2.635888  2.949100  0.011300\n",
      "a_subj.7.0           2.344883  0.151087  2.073811  2.240539  2.336642  2.440902  2.666535  0.005262\n",
      "a_subj.8.0           2.361951  0.188030  2.024547  2.232530  2.348641  2.480665  2.764160  0.007983\n",
      "a_subj.9.0           1.826101  0.126608  1.596566  1.737772  1.818479  1.905132  2.099215  0.004794\n",
      "a_subj.10.0          2.125233  0.135788  1.874520  2.032122  2.120963  2.212756  2.402341  0.004736\n",
      "a_subj.11.0          2.084367  0.196256  1.775346  1.944216  2.061759  2.198148  2.543063  0.009105\n",
      "a_subj.12.0          2.203708  0.146494  1.936297  2.104657  2.197142  2.294501  2.517608  0.005220\n",
      "a_subj.13.0          2.062655  0.260609  1.658989  1.878995  2.022884  2.206967  2.697036  0.016488\n",
      "a_subj.14.0          2.158433  0.247053  1.704638  1.983378  2.151203  2.322653  2.666018  0.014973\n",
      "v(B2.u)              2.379831  0.262642  1.867569  2.205030  2.379488  2.549808  2.905734  0.005582\n",
      "v(B3.u)              1.983993  0.265149  1.475744  1.808094  1.981813  2.159414  2.520455  0.005987\n",
      "v(F2B2.c)            2.124873  0.266930  1.609824  1.949547  2.120941  2.299291  2.656506  0.005970\n",
      "v(F3B3.c)            2.154142  0.261513  1.650046  1.978858  2.153054  2.324745  2.668915  0.005262\n",
      "v_std                0.914271  0.112800  0.719630  0.835719  0.907812  0.982180  1.162654  0.004064\n",
      "v_subj(B2.u).1.0     2.030476  0.234213  1.575268  1.872434  2.028293  2.184038  2.493684  0.004919\n",
      "v_subj(B2.u).2.0     1.782162  0.243705  1.320327  1.615510  1.779313  1.947215  2.266959  0.003874\n",
      "v_subj(B2.u).3.0     2.739577  0.323776  2.133150  2.524351  2.728305  2.952729  3.401709  0.008785\n",
      "v_subj(B2.u).4.0     1.515039  0.278804  1.039738  1.319098  1.493951  1.689245  2.126656  0.004600\n",
      "v_subj(B2.u).5.0     1.123937  0.175715  0.798337  1.000278  1.117748  1.240019  1.484486  0.002232\n",
      "v_subj(B2.u).6.0     2.490738  0.283802  1.911980  2.297704  2.493926  2.676725  3.050657  0.009409\n",
      "v_subj(B2.u).7.0     2.582624  0.328989  2.003159  2.345692  2.553991  2.788984  3.280092  0.006746\n",
      "v_subj(B2.u).8.0     2.751531  0.312529  2.134146  2.536596  2.749744  2.960462  3.376736  0.008131\n",
      "v_subj(B2.u).9.0     2.546271  0.285357  1.997164  2.355817  2.540418  2.727015  3.128564  0.005373\n",
      "v_subj(B2.u).10.0    1.714519  0.257181  1.237858  1.530738  1.703594  1.884156  2.240610  0.004479\n",
      "v_subj(B2.u).11.0    2.115087  0.262243  1.625271  1.936601  2.106841  2.283942  2.663003  0.007203\n",
      "v_subj(B2.u).12.0    2.616752  0.344714  1.969972  2.375995  2.613833  2.846855  3.312322  0.006469\n",
      "v_subj(B2.u).13.0    3.461610  0.448797  2.646100  3.149792  3.442959  3.747112  4.403520  0.019602\n",
      "v_subj(B2.u).14.0    3.975823  0.517707  2.981629  3.619858  3.970942  4.325807  5.010059  0.019886\n",
      "v_subj(B3.u).1.0     2.175007  0.227116  1.749529  2.018820  2.172960  2.325700  2.624856  0.004887\n",
      "v_subj(B3.u).2.0     1.307756  0.221065  0.899649  1.155614  1.299871  1.448400  1.769415  0.003074\n",
      "v_subj(B3.u).3.0     2.672389  0.371976  1.976774  2.413916  2.659249  2.919241  3.431117  0.011993\n",
      "v_subj(B3.u).4.0     0.004844  0.153343 -0.302394 -0.096066  0.006781  0.105961  0.299703  0.001917\n",
      "v_subj(B3.u).5.0     0.647708  0.156656  0.352908  0.539233  0.643596  0.750611  0.971039  0.001989\n",
      "v_subj(B3.u).6.0     2.162595  0.249926  1.692799  1.991454  2.153366  2.332797  2.664480  0.007252\n",
      "v_subj(B3.u).7.0     1.622514  0.228181  1.174192  1.465885  1.621754  1.778979  2.064666  0.004623\n",
      "v_subj(B3.u).8.0     2.551517  0.308387  1.943304  2.336643  2.553891  2.764076  3.155147  0.008526\n",
      "v_subj(B3.u).9.0     2.121450  0.352740  1.481466  1.873110  2.107375  2.347627  2.862450  0.007783\n",
      "v_subj(B3.u).10.0    2.852584  0.320739  2.221704  2.638755  2.851885  3.063423  3.495368  0.006482\n",
      "v_subj(B3.u).11.0    2.083596  0.314091  1.515466  1.871403  2.064364  2.284022  2.755957  0.010377\n",
      "v_subj(B3.u).12.0    1.537845  0.264214  1.058812  1.358699  1.526806  1.705929  2.093498  0.004320\n",
      "v_subj(B3.u).13.0    2.428884  0.520775  1.519740  2.050633  2.379678  2.767893  3.530657  0.026918\n",
      "v_subj(B3.u).14.0    3.581351  0.376775  2.854499  3.325904  3.578302  3.832204  4.327337  0.014494\n",
      "v_subj(F2B2.c).1.0   1.850736  0.292143  1.357018  1.649610  1.815564  2.020903  2.515170  0.006406\n",
      "v_subj(F2B2.c).2.0   1.434073  0.204795  1.047231  1.297815  1.430166  1.567013  1.848651  0.002827\n",
      "v_subj(F2B2.c).3.0   2.232878  0.373735  1.533997  1.972769  2.222524  2.478999  3.002347  0.011237\n",
      "v_subj(F2B2.c).4.0   1.508430  0.197730  1.130609  1.367781  1.504746  1.640711  1.908174  0.002935\n",
      "v_subj(F2B2.c).5.0   0.289978  0.140911  0.016754  0.196594  0.290390  0.386292  0.567108  0.001816\n",
      "v_subj(F2B2.c).6.0   2.833519  0.298016  2.254429  2.632028  2.828526  3.029051  3.432901  0.008677\n",
      "v_subj(F2B2.c).7.0   2.486274  0.273517  1.965223  2.300254  2.482570  2.664892  3.031858  0.005368\n",
      "v_subj(F2B2.c).8.0   2.268053  0.246393  1.793588  2.101638  2.266513  2.432229  2.755228  0.006226\n",
      "v_subj(F2B2.c).9.0   2.571722  0.318785  1.973505  2.349257  2.560357  2.776827  3.236307  0.006966\n",
      "v_subj(F2B2.c).10.0  2.060674  0.312755  1.461770  1.847112  2.057614  2.270816  2.674804  0.005827\n",
      "v_subj(F2B2.c).11.0  2.270295  0.407643  1.532494  1.981924  2.258010  2.544806  3.103610  0.012695\n",
      "v_subj(F2B2.c).12.0  1.687802  0.231273  1.244772  1.530916  1.682665  1.838431  2.147291  0.003608\n",
      "v_subj(F2B2.c).13.0  3.044084  0.393601  2.339949  2.771016  3.024547  3.292927  3.895022  0.015656\n",
      "v_subj(F2B2.c).14.0  3.167143  0.389423  2.425724  2.900643  3.156455  3.429920  3.938027  0.014527\n",
      "v_subj(F3B3.c).1.0   1.374408  0.189440  1.019564  1.245776  1.369444  1.495906  1.760639  0.003881\n",
      "v_subj(F3B3.c).2.0   1.255954  0.217379  0.848433  1.106283  1.248314  1.400611  1.697147  0.003223\n",
      "v_subj(F3B3.c).3.0   3.075878  0.355947  2.372965  2.843158  3.076543  3.311743  3.776089  0.009554\n",
      "v_subj(F3B3.c).4.0   0.281494  0.165569 -0.041643  0.170556  0.280086  0.392157  0.610694  0.001970\n",
      "v_subj(F3B3.c).5.0   1.245627  0.223756  0.850231  1.089972  1.234164  1.386179  1.725681  0.003079\n",
      "v_subj(F3B3.c).6.0   2.442472  0.279994  1.902146  2.254623  2.435455  2.622269  3.012875  0.006868\n",
      "v_subj(F3B3.c).7.0   2.255794  0.258008  1.759209  2.083691  2.251155  2.424197  2.764482  0.005173\n",
      "v_subj(F3B3.c).8.0   2.527722  0.300666  1.970213  2.319475  2.518900  2.721866  3.138426  0.007882\n",
      "v_subj(F3B3.c).9.0   2.175403  0.252776  1.685883  2.004118  2.172284  2.340761  2.681647  0.005425\n",
      "v_subj(F3B3.c).10.0  2.493809  0.277481  1.980531  2.298914  2.485918  2.685604  3.052989  0.004948\n",
      "v_subj(F3B3.c).11.0  2.976187  0.317585  2.385231  2.752057  2.967663  3.183039  3.620926  0.008202\n",
      "v_subj(F3B3.c).12.0  1.292383  0.183688  0.950033  1.163967  1.288016  1.414718  1.676597  0.002942\n",
      "v_subj(F3B3.c).13.0  3.613947  0.427880  2.808010  3.316127  3.605727  3.897426  4.476694  0.017604\n",
      "v_subj(F3B3.c).14.0  3.200944  0.361630  2.496531  2.957404  3.196316  3.443434  3.916078  0.014693\n",
      "t(B2.u)              0.237894  0.017045  0.205165  0.226399  0.237806  0.249034  0.271823  0.000541\n",
      "t(B3.u)              0.240558  0.017674  0.205994  0.228669  0.240393  0.252500  0.275718  0.000534\n",
      "t(F2B2.c)            0.159293  0.017112  0.126409  0.147717  0.158761  0.170710  0.194324  0.000576\n",
      "t(F3B3.c)            0.149293  0.017181  0.115323  0.137636  0.149508  0.160934  0.182576  0.000579\n",
      "t_std                0.054784  0.009273  0.038367  0.048344  0.054041  0.060674  0.074308  0.000347\n",
      "t_subj(B2.u).1.0     0.223710  0.032290  0.156033  0.202409  0.224743  0.246225  0.284253  0.000856\n",
      "t_subj(B2.u).2.0     0.255101  0.025516  0.202148  0.238783  0.256511  0.273679  0.300313  0.000506\n",
      "t_subj(B2.u).3.0     0.220863  0.024248  0.175697  0.205379  0.219354  0.233930  0.272824  0.000708\n",
      "t_subj(B2.u).4.0     0.284319  0.035936  0.193259  0.265172  0.288208  0.309037  0.340950  0.000748\n",
      "t_subj(B2.u).5.0     0.255602  0.034047  0.183631  0.233150  0.256919  0.279496  0.317226  0.000630\n",
      "t_subj(B2.u).6.0     0.192273  0.024625  0.141558  0.176234  0.193124  0.209818  0.237512  0.000771\n",
      "t_subj(B2.u).7.0     0.213393  0.023539  0.164906  0.198501  0.214314  0.229166  0.257118  0.000550\n",
      "t_subj(B2.u).8.0     0.222997  0.022862  0.173801  0.208273  0.224619  0.239331  0.262832  0.000606\n",
      "t_subj(B2.u).9.0     0.159497  0.017034  0.123210  0.148505  0.160870  0.171429  0.189246  0.000471\n",
      "t_subj(B2.u).10.0    0.178784  0.027187  0.127569  0.161002  0.177476  0.194563  0.239552  0.000586\n",
      "t_subj(B2.u).11.0    0.245751  0.025668  0.194190  0.229462  0.246476  0.262214  0.296482  0.000771\n",
      "t_subj(B2.u).12.0    0.287064  0.029018  0.225596  0.268328  0.288871  0.307646  0.339167  0.000781\n",
      "t_subj(B2.u).13.0    0.280882  0.022594  0.230864  0.267297  0.283179  0.296705  0.319034  0.001032\n",
      "t_subj(B2.u).14.0    0.278934  0.029079  0.226507  0.258282  0.275145  0.301597  0.335026  0.001236\n",
      "t_subj(B3.u).1.0     0.258845  0.037384  0.189201  0.234496  0.256509  0.280933  0.340508  0.000984\n",
      "t_subj(B3.u).2.0     0.212726  0.025641  0.157321  0.196276  0.214084  0.230730  0.258850  0.000511\n",
      "t_subj(B3.u).3.0     0.213438  0.019883  0.169219  0.201211  0.214834  0.227907  0.246799  0.000626\n",
      "t_subj(B3.u).4.0     0.259888  0.035590  0.185631  0.236999  0.261244  0.285285  0.324199  0.000639\n",
      "t_subj(B3.u).5.0     0.264396  0.041535  0.184686  0.236815  0.264006  0.290312  0.349499  0.000742\n",
      "t_subj(B3.u).6.0     0.291172  0.033208  0.221677  0.269031  0.293155  0.314740  0.350382  0.001122\n",
      "t_subj(B3.u).7.0     0.208521  0.027568  0.151665  0.190315  0.209790  0.227868  0.259596  0.000555\n",
      "t_subj(B3.u).8.0     0.234506  0.025875  0.181022  0.217817  0.236239  0.252858  0.280351  0.000736\n",
      "t_subj(B3.u).9.0     0.166509  0.031494  0.115109  0.143108  0.161323  0.186678  0.235722  0.000831\n",
      "t_subj(B3.u).10.0    0.170249  0.026870  0.120217  0.149801  0.170592  0.191048  0.218343  0.000626\n",
      "t_subj(B3.u).11.0    0.250698  0.026177  0.194390  0.234734  0.252740  0.269008  0.296277  0.000798\n",
      "t_subj(B3.u).12.0    0.324313  0.042698  0.234170  0.295714  0.327257  0.355896  0.400425  0.001196\n",
      "t_subj(B3.u).13.0    0.244046  0.024399  0.191844  0.227995  0.245749  0.261306  0.287536  0.000894\n",
      "t_subj(B3.u).14.0    0.247762  0.024058  0.197975  0.232037  0.249053  0.265234  0.290514  0.001158\n",
      "t_subj(F2B2.c).1.0   0.198923  0.045408  0.108885  0.167586  0.199523  0.231000  0.286976  0.001290\n",
      "t_subj(F2B2.c).2.0   0.177521  0.031099  0.112980  0.156981  0.179223  0.199087  0.233389  0.000711\n",
      "t_subj(F2B2.c).3.0   0.107145  0.022525  0.063434  0.093106  0.106671  0.120016  0.157892  0.000616\n",
      "t_subj(F2B2.c).4.0   0.163436  0.034690  0.102943  0.139489  0.158588  0.186326  0.234794  0.000638\n",
      "t_subj(F2B2.c).5.0   0.156943  0.037551  0.082087  0.131430  0.156990  0.182598  0.229316  0.000671\n",
      "t_subj(F2B2.c).6.0   0.139441  0.026630  0.085827  0.121555  0.139854  0.157622  0.190310  0.000987\n",
      "t_subj(F2B2.c).7.0   0.139227  0.025118  0.088796  0.123116  0.139728  0.155058  0.190930  0.000586\n",
      "t_subj(F2B2.c).8.0   0.107977  0.022977  0.061297  0.092632  0.108600  0.124226  0.150573  0.000631\n",
      "t_subj(F2B2.c).9.0   0.108206  0.016581  0.071980  0.097887  0.109369  0.119905  0.137492  0.000421\n",
      "t_subj(F2B2.c).10.0  0.099938  0.021706  0.056086  0.085348  0.100488  0.115391  0.139641  0.000494\n",
      "t_subj(F2B2.c).11.0  0.184374  0.028806  0.122358  0.165777  0.186263  0.204684  0.235225  0.000830\n",
      "t_subj(F2B2.c).12.0  0.206558  0.036754  0.130764  0.181884  0.208409  0.232909  0.271441  0.000943\n",
      "t_subj(F2B2.c).13.0  0.162284  0.029601  0.104811  0.142266  0.159816  0.183741  0.217074  0.001303\n",
      "t_subj(F2B2.c).14.0  0.199239  0.025883  0.143714  0.183077  0.200438  0.217905  0.244597  0.001156\n",
      "t_subj(F3B3.c).1.0   0.163480  0.042511  0.080505  0.134377  0.163832  0.192952  0.247336  0.001092\n",
      "t_subj(F3B3.c).2.0   0.161518  0.029485  0.099960  0.142090  0.163371  0.182334  0.213509  0.000610\n",
      "t_subj(F3B3.c).3.0   0.133675  0.019644  0.091329  0.121240  0.135502  0.147613  0.167406  0.000700\n",
      "t_subj(F3B3.c).4.0   0.144147  0.045359  0.067824  0.109912  0.137132  0.179084  0.235100  0.000921\n",
      "t_subj(F3B3.c).5.0   0.108790  0.026667  0.054864  0.090712  0.110096  0.127246  0.157597  0.000455\n",
      "t_subj(F3B3.c).6.0   0.280640  0.041018  0.191873  0.255179  0.283167  0.310248  0.351471  0.001571\n",
      "t_subj(F3B3.c).7.0   0.091257  0.021903  0.048923  0.076786  0.091496  0.105080  0.133423  0.000534\n",
      "t_subj(F3B3.c).8.0   0.139249  0.025318  0.085975  0.122855  0.140837  0.157103  0.183796  0.000718\n",
      "t_subj(F3B3.c).9.0   0.083598  0.017232  0.046777  0.072201  0.084789  0.096069  0.114059  0.000471\n",
      "t_subj(F3B3.c).10.0  0.092490  0.020686  0.048358  0.078985  0.093480  0.107188  0.129499  0.000525\n",
      "t_subj(F3B3.c).11.0  0.229531  0.026050  0.169833  0.214347  0.232483  0.248348  0.271678  0.000908\n",
      "t_subj(F3B3.c).12.0  0.196688  0.038899  0.116362  0.170411  0.199284  0.224917  0.266308  0.001108\n",
      "t_subj(F3B3.c).13.0  0.154018  0.022068  0.105077  0.141083  0.156381  0.169865  0.190820  0.001080\n",
      "t_subj(F3B3.c).14.0  0.125139  0.021904  0.080021  0.110674  0.126175  0.140431  0.165338  0.001021\n",
      "p_outlier            0.063786  0.006448  0.051679  0.059240  0.063724  0.068051  0.076849  0.000157\n",
      "DIC: 2491.671527\n",
      "deviance: 2391.565590\n",
      "pD: 100.105937\n"
     ]
    }
   ],
   "source": [
    "beep_acc2.print_stats()"
   ]
  },
  {
   "cell_type": "code",
   "execution_count": 27,
   "metadata": {},
   "outputs": [
    {
     "name": "stdout",
     "output_type": "stream",
     "text": [
      " [------------------105%------------------] 59 of 56 complete in 2853.8 sec"
     ]
    }
   ],
   "source": [
    "bppc2 = hddm.utils.post_pred_gen(beep_acc2)"
   ]
  },
  {
   "cell_type": "code",
   "execution_count": 29,
   "metadata": {},
   "outputs": [
    {
     "name": "stdout",
     "output_type": "stream",
     "text": [
      "          observed      mean       std       SEM       MSE credible  \\\n",
      "stat                                                                  \n",
      "accuracy  0.936003  0.958033  0.098906  0.000485  0.010268     True   \n",
      "mean_ub   0.811824  0.747368  0.257363  0.004155  0.070390     True   \n",
      "std_ub    0.705276  0.354193  0.215075  0.123259  0.169517     True   \n",
      "10q_ub    0.364230  0.409418  0.100310  0.002042  0.012104     True   \n",
      "30q_ub    0.491178  0.525384  0.142563  0.001170  0.021494     True   \n",
      "50q_ub    0.613278  0.653432  0.203826  0.001612  0.043157     True   \n",
      "70q_ub    0.787827  0.833393  0.303793  0.002076  0.094366     True   \n",
      "90q_ub    1.393924  1.197600  0.526981  0.038543  0.316252     True   \n",
      "mean_lb  -1.516434 -0.882663  0.422287  0.401666  0.579992     True   \n",
      "std_lb    1.449590  0.273431  0.354659  1.383349  1.509132    False   \n",
      "10q_lb    0.498767  0.637923  0.314918  0.019364  0.118538     True   \n",
      "30q_lb    0.745144  0.722800  0.329991  0.000499  0.109393     True   \n",
      "50q_lb    1.002491  0.820873  0.383301  0.032985  0.179905     True   \n",
      "70q_lb    1.601099  0.958393  0.494539  0.413071  0.657639     True   \n",
      "90q_lb    2.775234  1.183012  0.765211  2.535173  3.120721     True   \n",
      "\n",
      "           quantile  mahalanobis  \n",
      "stat                              \n",
      "accuracy  13.864285     0.222742  \n",
      "mean_ub   67.278572     0.250449  \n",
      "std_ub    92.471428     1.632377  \n",
      "10q_ub    34.642857     0.450480  \n",
      "30q_ub    46.939285     0.239934  \n",
      "50q_ub    51.017857     0.196997  \n",
      "70q_ub    54.457142     0.149990  \n",
      "90q_ub    73.796425     0.372545  \n",
      "mean_lb    7.665729     1.500807  \n",
      "std_lb    99.212532     3.316311  \n",
      "10q_lb    35.516273     0.441879  \n",
      "30q_lb    62.073120     0.067710  \n",
      "50q_lb    73.700279     0.473827  \n",
      "70q_lb    88.975494     1.299608  \n",
      "90q_lb    95.636803     2.080763  \n"
     ]
    }
   ],
   "source": [
    "bppc_compare2 = hddm.utils.post_pred_stats(model_b, bppc2)\n",
    "print(bppc_compare2)"
   ]
  },
  {
   "cell_type": "markdown",
   "metadata": {},
   "source": [
    "## Vary by unisensory/congruent and 2/3 flashes, add back bound sep"
   ]
  },
  {
   "cell_type": "code",
   "execution_count": 14,
   "metadata": {},
   "outputs": [
    {
     "name": "stdout",
     "output_type": "stream",
     "text": [
      " [-----------------100%-----------------] 7000 of 7000 complete in 724.6 sec"
     ]
    },
    {
     "data": {
      "text/plain": [
       "<pymc.MCMC.MCMC at 0xcfac308>"
      ]
     },
     "execution_count": 14,
     "metadata": {},
     "output_type": "execute_result"
    }
   ],
   "source": [
    "flash_acc3 = hddm.HDDM(model_f, include=['a', 'v', 't', 'p_outlier'], depends_on={'a': ['type', 'stimName'], 'v': ['type', 'stimName'], 't': ['type', 'stimName']})\n",
    "flash_acc3.sample(7000, burn=500)"
   ]
  },
  {
   "cell_type": "code",
   "execution_count": 15,
   "metadata": {},
   "outputs": [
    {
     "name": "stdout",
     "output_type": "stream",
     "text": [
      "                         mean       std      2.5q       25q       50q       75q     97.5q    mc err\n",
      "a(F2.u)              1.811840  0.111500  1.592404  1.738819  1.811359  1.884319  2.036660  0.002694\n",
      "a(F2B2.c)            2.047023  0.133524  1.795251  1.955991  2.044066  2.136802  2.317286  0.004606\n",
      "a(F3.u)              1.571487  0.098330  1.381276  1.505106  1.571307  1.635536  1.766772  0.001651\n",
      "a(F3B3.c)            1.817476  0.114147  1.595926  1.740297  1.817382  1.891872  2.049284  0.002872\n",
      "a_std                0.363458  0.053674  0.271009  0.325430  0.359145  0.396405  0.481025  0.001880\n",
      "a_subj(F2.u).1.0     2.125704  0.269858  1.697706  1.939081  2.091427  2.273391  2.754127  0.008309\n",
      "a_subj(F2.u).2.0     1.588058  0.140934  1.330326  1.488942  1.580923  1.679989  1.885886  0.003216\n",
      "a_subj(F2.u).3.0     1.993313  0.296428  1.482574  1.783737  1.966249  2.174361  2.642914  0.011429\n",
      "a_subj(F2.u).4.0     1.899771  0.202962  1.543799  1.757544  1.885581  2.026179  2.341874  0.005158\n",
      "a_subj(F2.u).5.0     1.928476  0.219483  1.561097  1.778511  1.906297  2.052814  2.423505  0.006433\n",
      "a_subj(F2.u).6.0     2.270875  0.303635  1.779842  2.056071  2.237309  2.439544  2.966361  0.009628\n",
      "a_subj(F2.u).7.0     1.741431  0.138933  1.488102  1.645600  1.736205  1.831682  2.029386  0.004057\n",
      "a_subj(F2.u).8.0     2.094501  0.290902  1.631832  1.890702  2.053983  2.260236  2.774708  0.009412\n",
      "a_subj(F2.u).9.0     1.591242  0.123013  1.359720  1.506303  1.587821  1.671914  1.843391  0.002662\n",
      "a_subj(F2.u).10.0    1.632125  0.140878  1.373153  1.534558  1.626236  1.723160  1.929562  0.002592\n",
      "a_subj(F2.u).11.0    1.530812  0.120085  1.311845  1.447047  1.526063  1.609199  1.789131  0.002201\n",
      "a_subj(F2.u).12.0    1.895002  0.211443  1.533890  1.746612  1.876749  2.023261  2.362626  0.006344\n",
      "a_subj(F2.u).13.0    1.322179  0.104102  1.134571  1.249550  1.318030  1.387516  1.543369  0.001789\n",
      "a_subj(F2.u).14.0    1.680376  0.220713  1.326399  1.525199  1.655535  1.806229  2.193771  0.006836\n",
      "a_subj(F2B2.c).1.0   2.395194  0.292561  1.892703  2.189705  2.373194  2.576234  3.051768  0.008649\n",
      "a_subj(F2B2.c).2.0   2.512026  0.243793  2.096795  2.336317  2.494638  2.664726  3.041088  0.005708\n",
      "a_subj(F2B2.c).3.0   2.067472  0.304529  1.549942  1.846526  2.043791  2.261054  2.743262  0.012148\n",
      "a_subj(F2B2.c).4.0   2.157639  0.274850  1.729692  1.958341  2.121714  2.314699  2.790202  0.009287\n",
      "a_subj(F2B2.c).5.0   1.957623  0.156144  1.663555  1.849298  1.953841  2.059006  2.282709  0.003312\n",
      "a_subj(F2B2.c).6.0   2.185877  0.289761  1.680238  1.981023  2.162826  2.370016  2.816734  0.011022\n",
      "a_subj(F2B2.c).7.0   2.251825  0.316612  1.717378  2.019323  2.223553  2.450865  2.941242  0.010226\n",
      "a_subj(F2B2.c).8.0   2.190264  0.294782  1.686542  1.981996  2.165787  2.370061  2.842787  0.009342\n",
      "a_subj(F2B2.c).9.0   2.152655  0.240920  1.698725  1.990952  2.148150  2.307164  2.640203  0.007244\n",
      "a_subj(F2B2.c).10.0  1.832496  0.256615  1.411164  1.653789  1.804374  1.982129  2.416144  0.009040\n",
      "a_subj(F2B2.c).11.0  1.554503  0.158121  1.266141  1.439492  1.547123  1.663573  1.873990  0.004815\n",
      "a_subj(F2B2.c).12.0  2.442875  0.232809  2.028489  2.279278  2.430909  2.586602  2.933538  0.005210\n",
      "a_subj(F2B2.c).13.0  2.105604  0.300913  1.550533  1.899277  2.087060  2.296889  2.754544  0.011982\n",
      "a_subj(F2B2.c).14.0  1.300094  0.113945  1.095060  1.221190  1.294762  1.371048  1.546037  0.002375\n",
      "a_subj(F3.u).1.0     1.856273  0.149471  1.580917  1.755156  1.847590  1.948177  2.176755  0.003054\n",
      "a_subj(F3.u).2.0     1.572090  0.118886  1.342072  1.491520  1.570450  1.651586  1.810376  0.002198\n",
      "a_subj(F3.u).3.0     1.209894  0.089607  1.041477  1.147399  1.205910  1.268036  1.396518  0.001502\n",
      "a_subj(F3.u).4.0     1.707909  0.133935  1.468865  1.614128  1.699816  1.793238  1.993701  0.002646\n",
      "a_subj(F3.u).5.0     1.654492  0.166630  1.361919  1.538213  1.643424  1.759692  2.011705  0.003752\n",
      "a_subj(F3.u).6.0     1.789888  0.126598  1.554995  1.701604  1.786147  1.873347  2.048783  0.002273\n",
      "a_subj(F3.u).7.0     1.660112  0.114639  1.451198  1.581639  1.654256  1.732415  1.899582  0.001875\n",
      "a_subj(F3.u).8.0     1.599852  0.110718  1.395958  1.521392  1.594349  1.671454  1.832111  0.001914\n",
      "a_subj(F3.u).9.0     1.671816  0.129317  1.422790  1.583511  1.668833  1.757776  1.930929  0.002575\n",
      "a_subj(F3.u).10.0    1.286242  0.094367  1.105060  1.223787  1.285062  1.347383  1.478978  0.002148\n",
      "a_subj(F3.u).11.0    1.401812  0.108534  1.200986  1.325446  1.396783  1.470850  1.628430  0.002225\n",
      "a_subj(F3.u).12.0    1.657091  0.120584  1.429234  1.573306  1.652719  1.735235  1.903212  0.002033\n",
      "a_subj(F3.u).13.0    1.147607  0.090483  0.980961  1.085856  1.145007  1.205170  1.336333  0.001873\n",
      "a_subj(F3.u).14.0    1.316788  0.099232  1.139392  1.247984  1.310847  1.379233  1.533364  0.002017\n",
      "a_subj(F3B3.c).1.0   2.182519  0.171289  1.882589  2.060641  2.172200  2.289423  2.546111  0.003478\n",
      "a_subj(F3B3.c).2.0   2.293562  0.202241  1.934869  2.154302  2.279668  2.420768  2.727450  0.004549\n",
      "a_subj(F3B3.c).3.0   1.527395  0.246896  1.102836  1.346296  1.505634  1.685837  2.067504  0.010729\n",
      "a_subj(F3B3.c).4.0   1.684699  0.116520  1.462451  1.604558  1.681076  1.762607  1.916548  0.002171\n",
      "a_subj(F3B3.c).5.0   2.448028  0.238328  2.025297  2.280414  2.431497  2.596735  2.960594  0.005049\n",
      "a_subj(F3B3.c).6.0   1.807240  0.138999  1.549970  1.711166  1.798123  1.895579  2.103802  0.002889\n",
      "a_subj(F3B3.c).7.0   1.973927  0.150303  1.700520  1.870644  1.967231  2.068752  2.286864  0.003050\n",
      "a_subj(F3B3.c).8.0   1.895044  0.224795  1.522398  1.733737  1.870632  2.029743  2.403558  0.006480\n",
      "a_subj(F3B3.c).9.0   1.753224  0.202945  1.412571  1.605905  1.736862  1.881673  2.181513  0.005905\n",
      "a_subj(F3B3.c).10.0  1.583944  0.130995  1.349967  1.492768  1.574213  1.668543  1.854984  0.002953\n",
      "a_subj(F3B3.c).11.0  2.068404  0.281094  1.567871  1.871380  2.047546  2.242108  2.682322  0.009770\n",
      "a_subj(F3B3.c).12.0  1.765113  0.161748  1.482792  1.653353  1.755108  1.865193  2.121972  0.003435\n",
      "a_subj(F3B3.c).13.0  1.223071  0.143507  0.990469  1.122178  1.206125  1.305877  1.551644  0.004236\n",
      "a_subj(F3B3.c).14.0  1.481960  0.116886  1.273465  1.399612  1.475415  1.556292  1.727273  0.002569\n",
      "v(F2.u)              1.607810  0.259096  1.109693  1.433049  1.605806  1.780225  2.117544  0.004332\n",
      "v(F2B2.c)            1.939921  0.267298  1.422926  1.761630  1.938284  2.118885  2.472726  0.004608\n",
      "v(F3.u)              0.039954  0.249112 -0.437526 -0.128191  0.036825  0.204764  0.540652  0.003594\n",
      "v(F3B3.c)            1.461651  0.252516  0.954812  1.296856  1.461708  1.626153  1.959012  0.003581\n",
      "v_std                0.906819  0.109813  0.718736  0.828791  0.898841  0.974811  1.150438  0.002498\n",
      "v_subj(F2.u).1.0     1.809497  0.301440  1.253536  1.602103  1.795358  2.007811  2.438602  0.007783\n",
      "v_subj(F2.u).2.0     1.306536  0.287745  0.798310  1.103761  1.289908  1.487416  1.916211  0.004707\n",
      "v_subj(F2.u).3.0     3.070924  0.432920  2.263822  2.771667  3.060189  3.346455  3.974212  0.012506\n",
      "v_subj(F2.u).4.0     1.759200  0.287619  1.225281  1.563025  1.750054  1.937198  2.368975  0.004998\n",
      "v_subj(F2.u).5.0     1.657542  0.291819  1.131951  1.458322  1.639936  1.833461  2.286985  0.005809\n",
      "v_subj(F2.u).6.0     2.184587  0.355794  1.527340  1.938880  2.173643  2.409565  2.924324  0.008550\n",
      "v_subj(F2.u).7.0     0.363128  0.175230  0.021465  0.246013  0.360398  0.482852  0.714771  0.002301\n",
      "v_subj(F2.u).8.0     2.203770  0.345578  1.593566  1.955583  2.181501  2.429402  2.942068  0.009004\n",
      "v_subj(F2.u).9.0     0.942905  0.215472  0.525737  0.799500  0.942204  1.080293  1.380341  0.002941\n",
      "v_subj(F2.u).10.0    1.033479  0.236935  0.584848  0.869267  1.030374  1.192707  1.508730  0.003115\n",
      "v_subj(F2.u).11.0    1.002862  0.229360  0.561780  0.846317  0.999592  1.156135  1.464559  0.002925\n",
      "v_subj(F2.u).12.0    1.646750  0.267985  1.154014  1.460589  1.634510  1.818994  2.205892  0.004081\n",
      "v_subj(F2.u).13.0    1.085022  0.262316  0.568841  0.909751  1.083075  1.258299  1.604056  0.003794\n",
      "v_subj(F2.u).14.0    2.434255  0.371170  1.735247  2.181487  2.421786  2.670871  3.195692  0.008072\n",
      "v_subj(F2B2.c).1.0   1.897130  0.252976  1.424473  1.724512  1.888933  2.064720  2.408578  0.005053\n",
      "v_subj(F2B2.c).2.0   1.223853  0.206182  0.832265  1.084786  1.222484  1.361140  1.636408  0.003256\n",
      "v_subj(F2B2.c).3.0   3.237680  0.457885  2.340258  2.927188  3.244245  3.547602  4.133691  0.014571\n",
      "v_subj(F2B2.c).4.0   1.810469  0.385182  1.143352  1.532741  1.786927  2.057766  2.641853  0.010935\n",
      "v_subj(F2B2.c).5.0   0.392139  0.169410  0.072189  0.277846  0.388000  0.505385  0.732939  0.001957\n",
      "v_subj(F2B2.c).6.0   2.389165  0.321969  1.792045  2.167298  2.382837  2.604375  3.054854  0.007950\n",
      "v_subj(F2B2.c).7.0   2.714728  0.340073  2.057849  2.484419  2.706495  2.943385  3.407068  0.008581\n",
      "v_subj(F2B2.c).8.0   2.444658  0.380188  1.715955  2.188937  2.433728  2.698329  3.205828  0.008752\n",
      "v_subj(F2B2.c).9.0   2.179872  0.282071  1.645601  1.987059  2.168546  2.368995  2.747800  0.005353\n",
      "v_subj(F2B2.c).10.0  2.277502  0.352965  1.610903  2.039771  2.264444  2.504579  3.022447  0.009258\n",
      "v_subj(F2B2.c).11.0  0.556345  0.235886  0.115447  0.393142  0.544692  0.708158  1.057610  0.004038\n",
      "v_subj(F2B2.c).12.0  1.243167  0.206582  0.861645  1.099129  1.238620  1.377065  1.661113  0.003402\n",
      "v_subj(F2B2.c).13.0  3.866183  0.481259  2.959947  3.532969  3.855023  4.188524  4.852989  0.014649\n",
      "v_subj(F2B2.c).14.0  0.971340  0.263730  0.464196  0.792773  0.963679  1.145741  1.521581  0.003323\n",
      "v_subj(F3.u).1.0    -0.116675  0.163591 -0.436871 -0.222941 -0.116197 -0.008002  0.203512  0.002080\n",
      "v_subj(F3.u).2.0    -0.028242  0.196154 -0.421784 -0.156016 -0.025255  0.103680  0.355163  0.002526\n",
      "v_subj(F3.u).3.0     0.108721  0.243121 -0.377315 -0.055473  0.105993  0.271341  0.583956  0.002774\n",
      "v_subj(F3.u).4.0    -1.107379  0.212548 -1.539677 -1.249698 -1.101324 -0.960480 -0.705840  0.003126\n",
      "v_subj(F3.u).5.0    -1.028660  0.243768 -1.525140 -1.195445 -1.018384 -0.855454 -0.581755  0.003064\n",
      "v_subj(F3.u).6.0    -0.176060  0.167267 -0.511825 -0.286371 -0.177327 -0.064924  0.152008  0.002084\n",
      "v_subj(F3.u).7.0     0.538378  0.185268  0.174597  0.414847  0.537790  0.661924  0.905613  0.002325\n",
      "v_subj(F3.u).8.0    -0.271679  0.185660 -0.643383 -0.396526 -0.268664 -0.144453  0.083636  0.002377\n",
      "v_subj(F3.u).9.0     0.832060  0.207097  0.441081  0.692603  0.829778  0.968470  1.248951  0.002952\n",
      "v_subj(F3.u).10.0   -0.111991  0.228450 -0.564952 -0.266011 -0.107790  0.045521  0.326487  0.003454\n",
      "v_subj(F3.u).11.0    0.502300  0.223914  0.062708  0.354296  0.500837  0.649420  0.951670  0.003100\n",
      "v_subj(F3.u).12.0   -0.078696  0.177741 -0.431054 -0.195148 -0.078982  0.036942  0.272124  0.002019\n",
      "v_subj(F3.u).13.0    0.707362  0.268211  0.197752  0.526285  0.707449  0.892040  1.241987  0.003102\n",
      "v_subj(F3.u).14.0    0.675027  0.234469  0.209884  0.514571  0.674137  0.834805  1.146353  0.002832\n",
      "v_subj(F3B3.c).1.0   0.745009  0.169661  0.436500  0.627287  0.739773  0.857989  1.090516  0.002037\n",
      "v_subj(F3B3.c).2.0   0.999750  0.180550  0.660583  0.874916  0.996768  1.118507  1.370350  0.002330\n",
      "v_subj(F3B3.c).3.0   3.789839  0.487015  2.847520  3.461970  3.780446  4.119000  4.755955  0.015555\n",
      "v_subj(F3B3.c).4.0  -0.222933  0.177152 -0.560445 -0.342905 -0.222776 -0.103894  0.127657  0.002117\n",
      "v_subj(F3B3.c).5.0   1.261784  0.208418  0.878509  1.117822  1.252826  1.397866  1.703967  0.003098\n",
      "v_subj(F3B3.c).6.0   0.490223  0.176859  0.147016  0.369731  0.488200  0.609175  0.841076  0.002349\n",
      "v_subj(F3B3.c).7.0   1.093013  0.234751  0.669246  0.933029  1.080564  1.237509  1.601134  0.003165\n",
      "v_subj(F3B3.c).8.0   2.031190  0.311426  1.460345  1.820227  2.019011  2.226233  2.686919  0.006824\n",
      "v_subj(F3B3.c).9.0   2.149143  0.299800  1.553366  1.948638  2.147273  2.345953  2.742423  0.005211\n",
      "v_subj(F3B3.c).10.0  1.271963  0.228888  0.839680  1.114806  1.266066  1.424006  1.738168  0.003534\n",
      "v_subj(F3B3.c).11.0  2.480354  0.353023  1.793971  2.239654  2.473902  2.718286  3.204529  0.008834\n",
      "v_subj(F3B3.c).12.0  1.369936  0.271362  0.865930  1.187751  1.356541  1.541114  1.946907  0.004221\n",
      "v_subj(F3B3.c).13.0  2.155722  0.360674  1.469284  1.906211  2.152254  2.395099  2.886209  0.005285\n",
      "v_subj(F3B3.c).14.0  0.802196  0.222604  0.365506  0.650409  0.796873  0.947974  1.251560  0.003025\n",
      "t(F2.u)              0.333217  0.025898  0.282260  0.316116  0.333020  0.350559  0.384360  0.000495\n",
      "t(F2B2.c)            0.225572  0.028486  0.169227  0.206810  0.225646  0.244723  0.280538  0.000765\n",
      "t(F3.u)              0.271420  0.025947  0.220505  0.254311  0.271697  0.288945  0.322524  0.000436\n",
      "t(F3B3.c)            0.239599  0.025466  0.189481  0.222428  0.239517  0.256807  0.289402  0.000494\n",
      "t_std                0.095697  0.011885  0.075301  0.087210  0.094702  0.103043  0.121646  0.000295\n",
      "t_subj(F2.u).1.0     0.355991  0.033336  0.280462  0.335927  0.359719  0.379643  0.411274  0.000804\n",
      "t_subj(F2.u).2.0     0.385839  0.035374  0.305061  0.364554  0.393971  0.411805  0.435841  0.000802\n",
      "t_subj(F2.u).3.0     0.267182  0.028218  0.212910  0.250938  0.267057  0.281522  0.343996  0.000929\n",
      "t_subj(F2.u).4.0     0.319119  0.030106  0.249386  0.301295  0.322113  0.340673  0.368934  0.000727\n",
      "t_subj(F2.u).5.0     0.363004  0.033926  0.285936  0.343416  0.366519  0.386867  0.416879  0.000922\n",
      "t_subj(F2.u).6.0     0.287166  0.032153  0.215202  0.267053  0.290472  0.310222  0.340158  0.000891\n",
      "t_subj(F2.u).7.0     0.297088  0.069675  0.190692  0.238543  0.271557  0.365352  0.413013  0.003019\n",
      "t_subj(F2.u).8.0     0.288911  0.031227  0.223712  0.269928  0.290354  0.307844  0.349930  0.000840\n",
      "t_subj(F2.u).9.0     0.299194  0.028470  0.244299  0.282519  0.298858  0.313684  0.363572  0.000615\n",
      "t_subj(F2.u).10.0    0.207040  0.023019  0.155187  0.193245  0.209399  0.222991  0.245262  0.000444\n",
      "t_subj(F2.u).11.0    0.280336  0.021555  0.230654  0.267389  0.283064  0.295741  0.315289  0.000424\n",
      "t_subj(F2.u).12.0    0.386215  0.037749  0.300179  0.364088  0.390100  0.414333  0.447911  0.001082\n",
      "t_subj(F2.u).13.0    0.345746  0.022779  0.301661  0.330419  0.344502  0.362206  0.388086  0.000397\n",
      "t_subj(F2.u).14.0    0.421028  0.024236  0.364663  0.406944  0.424398  0.438382  0.458607  0.000690\n",
      "t_subj(F2B2.c).1.0   0.312340  0.046791  0.207107  0.283699  0.316772  0.345860  0.389976  0.001256\n",
      "t_subj(F2B2.c).2.0   0.179935  0.043857  0.087898  0.150552  0.181830  0.211791  0.257862  0.000953\n",
      "t_subj(F2B2.c).3.0   0.185408  0.024775  0.131526  0.170050  0.188430  0.202795  0.226402  0.000851\n",
      "t_subj(F2B2.c).4.0   0.129516  0.029123  0.069326  0.111212  0.130961  0.148767  0.179040  0.000721\n",
      "t_subj(F2B2.c).5.0   0.295128  0.045422  0.190661  0.268010  0.299941  0.328163  0.369143  0.000907\n",
      "t_subj(F2B2.c).6.0   0.226216  0.035594  0.147843  0.203700  0.229292  0.251849  0.286900  0.001208\n",
      "t_subj(F2B2.c).7.0   0.279147  0.037349  0.188780  0.259031  0.282908  0.303464  0.341990  0.001061\n",
      "t_subj(F2B2.c).8.0   0.177004  0.030439  0.109100  0.158209  0.179530  0.199047  0.228752  0.000844\n",
      "t_subj(F2B2.c).9.0   0.100357  0.040702  0.040869  0.072754  0.091834  0.119912  0.203349  0.001197\n",
      "t_subj(F2B2.c).10.0  0.180305  0.026724  0.120220  0.163743  0.182779  0.199585  0.224002  0.000825\n",
      "t_subj(F2B2.c).11.0  0.216743  0.076057  0.057609  0.149174  0.239523  0.271584  0.323645  0.002615\n",
      "t_subj(F2B2.c).12.0  0.174116  0.041241  0.089811  0.147059  0.176268  0.202978  0.248744  0.000780\n",
      "t_subj(F2B2.c).13.0  0.213837  0.026257  0.163237  0.198276  0.213817  0.227882  0.273290  0.000922\n",
      "t_subj(F2B2.c).14.0  0.542504  0.021166  0.493505  0.530648  0.545329  0.557675  0.575482  0.000414\n",
      "t_subj(F3.u).1.0     0.463342  0.048454  0.352057  0.435830  0.469564  0.497567  0.539047  0.001001\n",
      "t_subj(F3.u).2.0     0.223696  0.030040  0.166457  0.206943  0.223842  0.238656  0.310519  0.000843\n",
      "t_subj(F3.u).3.0     0.186015  0.015046  0.152685  0.176987  0.187577  0.196998  0.210138  0.000261\n",
      "t_subj(F3.u).4.0     0.146020  0.020375  0.103069  0.133582  0.147603  0.159714  0.180714  0.000386\n",
      "t_subj(F3.u).5.0     0.347843  0.034016  0.267807  0.328945  0.352809  0.372224  0.398999  0.000760\n",
      "t_subj(F3.u).6.0     0.345153  0.035669  0.266847  0.324784  0.348496  0.370129  0.404900  0.000588\n",
      "t_subj(F3.u).7.0     0.213632  0.033198  0.154816  0.194343  0.212171  0.227597  0.301797  0.000576\n",
      "t_subj(F3.u).8.0     0.228166  0.028120  0.171032  0.212342  0.228918  0.243779  0.290001  0.000479\n",
      "t_subj(F3.u).9.0     0.169798  0.054076  0.084520  0.128918  0.158264  0.208114  0.273342  0.001177\n",
      "t_subj(F3.u).10.0    0.177415  0.029110  0.134220  0.160625  0.171640  0.183206  0.249829  0.001080\n",
      "t_subj(F3.u).11.0    0.296908  0.033548  0.215326  0.283594  0.302856  0.316839  0.353775  0.000699\n",
      "t_subj(F3.u).12.0    0.344972  0.032453  0.274278  0.326056  0.348496  0.366380  0.401282  0.000532\n",
      "t_subj(F3.u).13.0    0.311817  0.015555  0.276110  0.302998  0.313869  0.322906  0.336529  0.000318\n",
      "t_subj(F3.u).14.0    0.378094  0.021116  0.327830  0.365989  0.380864  0.393114  0.411729  0.000452\n",
      "t_subj(F3B3.c).1.0   0.396995  0.052916  0.276968  0.365247  0.403565  0.435051  0.482988  0.001109\n",
      "t_subj(F3B3.c).2.0   0.220084  0.048017  0.119671  0.187853  0.223190  0.254474  0.302686  0.001135\n",
      "t_subj(F3B3.c).3.0   0.187247  0.018500  0.146120  0.175643  0.189151  0.200547  0.217594  0.000743\n",
      "t_subj(F3B3.c).4.0   0.223558  0.030641  0.157341  0.205335  0.225729  0.244563  0.276957  0.000562\n",
      "t_subj(F3B3.c).5.0   0.219622  0.046194  0.119593  0.189696  0.223019  0.252572  0.298387  0.000904\n",
      "t_subj(F3B3.c).6.0   0.400287  0.039502  0.309820  0.377896  0.406040  0.428201  0.461163  0.000779\n",
      "t_subj(F3B3.c).7.0   0.123122  0.028760  0.065252  0.104784  0.123281  0.140849  0.183831  0.000576\n",
      "t_subj(F3B3.c).8.0   0.225292  0.027353  0.165300  0.208008  0.228368  0.245011  0.270494  0.000715\n",
      "t_subj(F3B3.c).9.0   0.189400  0.027267  0.130629  0.172541  0.191359  0.208984  0.235507  0.000778\n",
      "t_subj(F3B3.c).10.0  0.172214  0.022121  0.122425  0.158381  0.174715  0.188274  0.208505  0.000474\n",
      "t_subj(F3B3.c).11.0  0.166444  0.036650  0.098869  0.142796  0.163326  0.186069  0.245450  0.001055\n",
      "t_subj(F3B3.c).12.0  0.162948  0.024976  0.107157  0.147960  0.165158  0.179946  0.206180  0.000499\n",
      "t_subj(F3B3.c).13.0  0.222599  0.024589  0.160613  0.215884  0.229050  0.238073  0.258241  0.000780\n",
      "t_subj(F3B3.c).14.0  0.396410  0.026342  0.335996  0.381383  0.399752  0.415319  0.437578  0.000575\n",
      "p_outlier            0.063434  0.006922  0.050382  0.058582  0.063370  0.067946  0.077692  0.000130\n",
      "DIC: 4068.273330\n",
      "deviance: 3933.856793\n",
      "pD: 134.416537\n"
     ]
    }
   ],
   "source": [
    "flash_acc3.print_stats()"
   ]
  }
 ],
 "metadata": {
  "kernelspec": {
   "display_name": "Python 2",
   "language": "python",
   "name": "python2"
  },
  "language_info": {
   "codemirror_mode": {
    "name": "ipython",
    "version": 2
   },
   "file_extension": ".py",
   "mimetype": "text/x-python",
   "name": "python",
   "nbconvert_exporter": "python",
   "pygments_lexer": "ipython2",
   "version": "2.7.18"
  }
 },
 "nbformat": 4,
 "nbformat_minor": 2
}
