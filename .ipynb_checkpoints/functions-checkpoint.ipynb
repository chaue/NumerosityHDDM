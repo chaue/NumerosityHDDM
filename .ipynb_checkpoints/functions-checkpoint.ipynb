{
 "cells": [
  {
   "cell_type": "code",
   "execution_count": 6,
   "metadata": {},
   "outputs": [],
   "source": [
    "import scipy.io as sci\n",
    "import numpy as np\n",
    "import pandas as pd\n",
    "import matplotlib.pyplot as plt\n",
    "from scipy import stats"
   ]
  },
  {
   "cell_type": "code",
   "execution_count": 1,
   "metadata": {},
   "outputs": [],
   "source": [
    "def calcstderr(data, col):\n",
    "    num = float(0)\n",
    "    count = 0\n",
    "    for i, subj_data in data.groupby('subj_idx'):\n",
    "        num += subj_data[col].std()\n",
    "        count += 1\n",
    "    return(num/count)"
   ]
  },
  {
   "cell_type": "code",
   "execution_count": 2,
   "metadata": {},
   "outputs": [],
   "source": [
    "# if subject id is not given, plot the means including std\n",
    "def plotbars(flashuni, beepuni, flashcongr, beepcongr, title1, title2, width, subjid = -1):\n",
    "    if (subjid != -1):\n",
    "        flashuni = flashuni.loc[flashuni['subj_idx'] == subjid]\n",
    "        beepuni = beepuni.loc[beepuni['subj_idx'] == subjid]\n",
    "        flashcongr = flashcongr.loc[flashcongr['subj_idx'] == subjid]\n",
    "        beepcongr = beepcongr.loc[beepcongr['subj_idx'] == subjid]\n",
    "        \n",
    "    fig = plt.figure(figsize=(15,5)) \n",
    "    ## % correct plot\n",
    "    flashuniacc = flashuni['acc'].mean()\n",
    "    beepuniacc = beepuni['acc'].mean()\n",
    "    flashcongracc = flashcongr['acc'].mean()\n",
    "    beepcongracc = beepcongr['acc'].mean()\n",
    "    #allcongracc = (flashcongracc + beepcongracc) / 2\n",
    "    \n",
    "    ax = fig.add_subplot(121, xlabel='condition', ylabel='% accurate', title=title1)\n",
    "    objects = ('Flash Uni',  'Flash Congr', 'Beep Uni', 'Beep Congr')\n",
    "    y_pos = np.arange(len(objects))\n",
    "    performance = [flashuniacc, flashcongracc, beepuniacc, beepcongracc]\n",
    "\n",
    "    if(subjid == -1):\n",
    "        flashuniaccerr = calcstderr(flashuni, 'acc')\n",
    "        beepuniaccerr = calcstderr(beepuni, 'acc')\n",
    "        flashcongraccerr = calcstderr(flashcongr, 'acc')\n",
    "        beepcongraccerr = calcstderr(beepcongr, 'acc')\n",
    "        #allcongraccerr = (flashcongraccerr + beepcongraccerr) / 2\n",
    "        plt.bar(y_pos, performance, yerr=[flashuniaccerr, flashcongraccerr, beepuniaccerr, beepcongraccerr], \n",
    "                color=['#1f77b4', '#ff7f0e', '#d62728', '#9467bd'], ecolor='black', capsize=10, rwidth = width)\n",
    "    else:\n",
    "        plt.bar(y_pos, performance, color=['#1f77b4', '#ff7f0e', '#d62728', '#9467bd'], ecolor='black', capsize=10, rwidth = width)\n",
    "        \n",
    "    plt.xticks(y_pos, objects)\n",
    "    plt.ylim([0,1])\n",
    "    \n",
    "    ## mean rt plot, only want accurate trials\n",
    "    flashunirt = flashuni.loc[flashuni['acc'] == 1]['rt'].mean()\n",
    "    beepunirt = beepuni.loc[beepuni['acc'] == 1]['rt'].mean()\n",
    "    flashcongrrt = flashcongr.loc[flashcongr['acc'] == 1]['rt'].mean()\n",
    "    beepcongrrt = beepcongr.loc[beepcongr['acc'] == 1]['rt'].mean()\n",
    "    #allcongrrt = (flashcongrrt + beepcongrrt) / 2\n",
    "\n",
    "    ax = fig.add_subplot(122, xlabel='condition', ylabel='mean rt', title=title2)\n",
    "    objects = ('Flash Uni', 'Flash Congr', 'Beep Uni', 'Beep Congr')\n",
    "    y_pos = np.arange(len(objects))\n",
    "    performance = [flashunirt, flashcongrrt, beepunirt, beepcongrrt]\n",
    "\n",
    "    if (subjid == -1):\n",
    "        flashunirterr = calcstderr(flashuni, 'rt')\n",
    "        beepunirterr = calcstderr(beepuni, 'rt')\n",
    "        flashcongrrterr = calcstderr(flashcongr, 'rt')\n",
    "        beepcongrrterr = calcstderr(beepcongr, 'rt')\n",
    "        #allcongrrterr = (flashcongrrterr + beepcongrrterr) / 2\n",
    "        plt.bar(y_pos, performance, yerr=[flashunirterr, flashcongrrterr, beepunirterr, beepcongrrterr], \n",
    "                color=['#1f77b4', '#ff7f0e', '#d62728', '#9467bd'], ecolor='black', capsize=10, rwidth = width)\n",
    "    else:\n",
    "        plt.bar(y_pos, performance, color=['#1f77b4', '#ff7f0e', '#d62728', '#9467bd'], ecolor='black', capsize=10, rwidth = width)\n",
    "        \n",
    "    plt.xticks(y_pos, objects)\n",
    "    plt.ylim([0,2])"
   ]
  },
  {
   "cell_type": "code",
   "execution_count": 3,
   "metadata": {},
   "outputs": [],
   "source": [
    "def droprow(df, val, less=True):\n",
    "    if(less):\n",
    "        return(df.drop(df.index[df['rt'] < val].tolist(), axis=0))\n",
    "    else:\n",
    "        return(df.drop(df.index[df['rt'] > val].tolist(), axis=0))\n",
    "    \n",
    "def dropsubj(df, val):\n",
    "    return(df.drop(df.index[df['subj_idx'] == val].tolist(), axis=0))"
   ]
  },
  {
   "cell_type": "code",
   "execution_count": 4,
   "metadata": {},
   "outputs": [],
   "source": [
    "def formatmodeldata(df, conditions, choices):\n",
    "    dframe = df.copy()\n",
    "    dframe.columns = ['subj_idx', 'flashpres', 'beeppres', 'response', 'rt']\n",
    "    dframe['stimName'] = np.select(conditions, choices)\n",
    "    return(dframe)"
   ]
  }
 ],
 "metadata": {
  "kernelspec": {
   "display_name": "Python 2",
   "language": "python",
   "name": "python2"
  },
  "language_info": {
   "codemirror_mode": {
    "name": "ipython",
    "version": 2
   },
   "file_extension": ".py",
   "mimetype": "text/x-python",
   "name": "python",
   "nbconvert_exporter": "python",
   "pygments_lexer": "ipython2",
   "version": "2.7.18"
  }
 },
 "nbformat": 4,
 "nbformat_minor": 2
}
