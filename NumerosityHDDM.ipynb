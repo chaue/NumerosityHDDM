{
 "cells": [
  {
   "cell_type": "code",
   "execution_count": 63,
   "metadata": {},
   "outputs": [],
   "source": [
    "import scipy.io as sci\n",
    "import numpy as np\n",
    "import glob\n",
    "import pandas as pd\n",
    "import matplotlib.pyplot as plt"
   ]
  },
  {
   "cell_type": "markdown",
   "metadata": {},
   "source": [
    "### Separate based on response (flash first or beep first)"
   ]
  },
  {
   "cell_type": "code",
   "execution_count": 18,
   "metadata": {},
   "outputs": [],
   "source": [
    "resppath = 'StabilityofPCommonData/NumerosityTaskUnformatted/*.mat'\n",
    "respfiles = np.array(glob.glob(resppath))\n",
    "datapath = 'StabilityofPCommonData/NumerosityTaskData/*.mat'\n",
    "datafiles = np.array(glob.glob(datapath))"
   ]
  },
  {
   "cell_type": "code",
   "execution_count": 19,
   "metadata": {
    "collapsed": true
   },
   "outputs": [],
   "source": [
    "# filenames for f or b responses\n",
    "respf = np.empty((1, 1))\n",
    "respb = np.empty((1, 1))\n",
    "for names in respfiles:\n",
    "    mat = sci.loadmat(names)\n",
    "    resp = mat['respCode']\n",
    "    if(resp == \"f\"):\n",
    "        respf = np.append(respf, names)\n",
    "    else:\n",
    "        respb = np.append(respb, names)\n",
    "respf = respf[1:]\n",
    "respb = respb[1:]"
   ]
  },
  {
   "cell_type": "code",
   "execution_count": 20,
   "metadata": {},
   "outputs": [
    {
     "name": "stdout",
     "output_type": "stream",
     "text": [
      "[ 1  3  6  7 14 15 16 17 22 23 27 28 29 35 44 50 52 53 57 58 60 61 66 67 68\n",
      " 69 71 78 79 82 83 84 85 86 87 90 91 92 93 99]\n"
     ]
    }
   ],
   "source": [
    "# index for flash first files(1 if yes 0 if no) \n",
    "# use for TaskData to pull data for subjects that reported flash first\n",
    "indexf = list()\n",
    "c = 0\n",
    "for x in respfiles:\n",
    "    if x in respf:\n",
    "        indexf.append(c)\n",
    "    c += 1\n",
    "#respfiles[indexf]\n",
    "\n",
    "# exclude files that are incomplete\n",
    "dataf = datafiles[indexf]\n",
    "missing = np.empty((1,1), dtype = int)\n",
    "\n",
    "for i in np.arange(0, len(dataf)):\n",
    "    mat = sci.loadmat(dataf[i])\n",
    "    #print(len(mat['trialData']))\n",
    "    if len(mat['trialData']) < 360:\n",
    "        missing = np.append(missing, i)\n",
    "        #print(len(mat['trialData']), i)\n",
    "missing = missing[1:]\n",
    "indexf = np.delete(indexf, missing)\n",
    "print(indexf)"
   ]
  },
  {
   "cell_type": "markdown",
   "metadata": {},
   "source": [
    "### Extract trial data and response times for flash trials"
   ]
  },
  {
   "cell_type": "code",
   "execution_count": 21,
   "metadata": {},
   "outputs": [
    {
     "name": "stdout",
     "output_type": "stream",
     "text": [
      "14400\n",
      "[[  2.   1.   0.   3.   0.   3.]\n",
      " [  2.   1.   0.   3.   0.   2.]\n",
      " [  2.   1.   1.   1.   1.   1.]\n",
      " ..., \n",
      " [ 64.   1.   3.   4.   3.   3.]\n",
      " [ 64.   0.   4.   0.   3.   0.]\n",
      " [ 64.   0.   1.   4.   3.   3.]]\n"
     ]
    }
   ],
   "source": [
    "# further subset into flash reported and insert indices for subject id  \n",
    "dataf = datafiles[indexf]\n",
    "\n",
    "subjidf = np.array([2,5,7,7,11,11,12,12,15,15,19,20,20,23,28,31,32,32,35,36,37,37,40,\n",
    "                   40,41,41,42,50,50,53,53,54,54,57,57,60,60,61,61,64])\n",
    "trialsf = np.empty((1,5))\n",
    "for i in np.arange(0, len(dataf)):\n",
    "    mat = sci.loadmat(dataf[i])\n",
    "    arr = mat['trialData']\n",
    "    # add subject id to the first column\n",
    "    arr = np.insert(arr, 0, int(subjidf[i]), axis=1)\n",
    "    trialsf = np.vstack((trialsf, arr))\n",
    "trialsf = trialsf[1:]\n",
    "print(len(trialsf))\n",
    "\n",
    "# add a response column to second column, 1 if correct 0 if wrong\n",
    "respcol = np.empty((1,1))\n",
    "for rows in trialsf:\n",
    "    if rows[1] == rows[3]:\n",
    "        respcol = np.append(respcol, 1)\n",
    "    else:\n",
    "        respcol = np.append(respcol, 0)\n",
    "respcol = respcol[1:]\n",
    "\n",
    "trialsf = np.insert(trialsf, 1, respcol, axis=1)\n",
    "print(trialsf)"
   ]
  },
  {
   "cell_type": "code",
   "execution_count": 22,
   "metadata": {},
   "outputs": [
    {
     "name": "stdout",
     "output_type": "stream",
     "text": [
      "14400\n",
      "[ 2.          0.64134615  1.          0.          3.          0.          2.        ]\n"
     ]
    }
   ],
   "source": [
    "# extract response times from taskunformatted and merge with trialdata\n",
    "resptimes = np.empty((1,1))\n",
    "\n",
    "# only include files that correspond to complete trialData\n",
    "respf = respfiles[indexf]\n",
    "\n",
    "for i in np.arange(0, len(respf)):\n",
    "    mat = sci.loadmat(respf[i])\n",
    "    arr = mat['resptime']\n",
    "    resptimes = np.append(resptimes, arr)\n",
    "resptimes = resptimes[1:]\n",
    "print(len(resptimes))\n",
    "\n",
    "trialsf = np.insert(trialsf, 1, resptimes, axis = 1)\n",
    "print(trialsf[1])"
   ]
  },
  {
   "cell_type": "markdown",
   "metadata": {},
   "source": [
    "### Further subset into congruent, incongruent, and unimodal rows"
   ]
  },
  {
   "cell_type": "code",
   "execution_count": 23,
   "metadata": {},
   "outputs": [],
   "source": [
    "# congruent \n",
    "congf = np.empty((1,7))\n",
    "incongf = np.empty((1,7))\n",
    "unif = np.empty((1,7))\n",
    "\n",
    "for i in np.arange(0, len(trialsf)):\n",
    "    # only consider rows where flashes are presented\n",
    "    if trialsf[i][3] != 0:\n",
    "        # unisensory(beeps presented are 0)\n",
    "        if trialsf[i][4] == 0:\n",
    "            unif = np.vstack((unif, trialsf[i]))\n",
    "        # if congruent between flash and beeps presented\n",
    "        if trialsf[i][3] == trialsf[i][4]:\n",
    "            congf = np.vstack((congf, trialsf[i]))\n",
    "        else:\n",
    "            incongf = np.vstack((incongf, trialsf[i]))\n",
    "congf = congf[1:]\n",
    "incongf = incongf[1:]\n",
    "unif = unif[1:]"
   ]
  },
  {
   "cell_type": "code",
   "execution_count": 24,
   "metadata": {
    "collapsed": true
   },
   "outputs": [],
   "source": [
    "congfdata = pd.DataFrame(congf, columns=['Subj_id', 'rt', 'response', 'flashpres', 'beeppres', 'flashrep', 'beeprep'])\n",
    "incongfdata = pd.DataFrame(incongf, columns=['Subj_id', 'rt', 'response', 'flashpres', 'beeppres', 'flashrep', 'beeprep'])\n",
    "unifdata = pd.DataFrame(unif, columns=['Subj_id', 'rt', 'response', 'flashpres', 'beeppres', 'flashrep', 'beeprep'])"
   ]
  },
  {
   "cell_type": "markdown",
   "metadata": {},
   "source": [
    "##### The formatting for the data to be inputed is as follows:\n",
    "Column 1: Subject ID <br>\n",
    "Column 2: Response Time <br>\n",
    "Column 3: Response  <br>\n",
    "Column 4: Flashes presented <br>\n",
    "Column 5: Beeps presented <br>\n",
    "Column 6: Flashes reported <br>\n",
    "Column 7: Beeps reported <br>"
   ]
  },
  {
   "cell_type": "markdown",
   "metadata": {},
   "source": [
    "### Repeat for beep trials"
   ]
  },
  {
   "cell_type": "code",
   "execution_count": 40,
   "metadata": {
    "collapsed": true
   },
   "outputs": [],
   "source": [
    "# index for flash first files(1 if yes 0 if no) \n",
    "# use for TaskData to pull data for subjects that reported flash first\n",
    "indexb = list()\n",
    "c = 0\n",
    "for x in respfiles:\n",
    "    if x in respb:\n",
    "        indexb.append(c)\n",
    "    c += 1\n",
    "#respfiles[indexf]\n",
    "\n",
    "# exclude files that are incomplete\n",
    "datab = datafiles[indexb]\n",
    "missing = np.empty((1,1), dtype = int)\n",
    "\n",
    "for i in np.arange(0, len(datab)):\n",
    "    mat = sci.loadmat(datab[i])\n",
    "    #print(len(mat['trialData']))\n",
    "    if len(mat['trialData']) < 360:\n",
    "        missing = np.append(missing, i)\n",
    "        #print(len(mat['trialData']), i)\n",
    "missing = missing[1:]\n",
    "indexb = np.delete(indexb, missing)"
   ]
  },
  {
   "cell_type": "code",
   "execution_count": 41,
   "metadata": {},
   "outputs": [
    {
     "name": "stdout",
     "output_type": "stream",
     "text": [
      "14400\n",
      "[[  6.   1.   0.   3.   0.   3.]\n",
      " [  6.   1.   0.   3.   0.   3.]\n",
      " [  6.   1.   1.   1.   1.   1.]\n",
      " ..., \n",
      " [ 64.   1.   2.   0.   2.   0.]\n",
      " [ 64.   0.   4.   3.   3.   3.]\n",
      " [ 64.   0.   1.   4.   2.   3.]]\n"
     ]
    }
   ],
   "source": [
    "datab = datafiles[indexb]\n",
    "subjidb = np.array([6,6,9,10,10,13,14,14,16,16,21,21,22,25,25,26,26,\n",
    "                    29,30,30,34,36,39,39,42,44,44,47,47,48,48,51,51,59,59,62,62,63,63,64])\n",
    "trialsb = np.empty((1,5))\n",
    "for i in np.arange(0, len(datab)):\n",
    "    mat = sci.loadmat(datab[i])\n",
    "    arr = mat['trialData']\n",
    "    # add subject id to the first column\n",
    "    arr = np.insert(arr, 0, int(subjidb[i]), axis=1)\n",
    "    trialsb = np.vstack((trialsb, arr))\n",
    "trialsb = trialsb[1:]\n",
    "print(len(trialsb))\n",
    "\n",
    "# add a response column to second column, 1 if correct 0 if wrong\n",
    "respcol = np.empty((1,1))\n",
    "for rows in trialsb:\n",
    "    if rows[1] == rows[3]:\n",
    "        respcol = np.append(respcol, 1)\n",
    "    else:\n",
    "        respcol = np.append(respcol, 0)\n",
    "respcol = respcol[1:]\n",
    "\n",
    "trialsb = np.insert(trialsb, 1, respcol, axis=1)\n",
    "print(trialsb)"
   ]
  },
  {
   "cell_type": "code",
   "execution_count": 42,
   "metadata": {},
   "outputs": [
    {
     "name": "stdout",
     "output_type": "stream",
     "text": [
      "[ 6.          0.43513205  1.          0.          3.          0.          3.        ]\n"
     ]
    }
   ],
   "source": [
    "# extract response times from taskunformatted and merge with trialdata\n",
    "resptimes = np.empty((1,1))\n",
    "\n",
    "# only include files that correspond to complete trialData\n",
    "respb = respfiles[indexb]\n",
    "\n",
    "for i in np.arange(0, len(respb)):\n",
    "    mat = sci.loadmat(respb[i])\n",
    "    arr = mat['resptime']\n",
    "    resptimes = np.append(resptimes, arr)\n",
    "resptimes = resptimes[1:]\n",
    "\n",
    "trialsb = np.insert(trialsb, 1, resptimes, axis = 1)\n",
    "print(trialsb[1])"
   ]
  },
  {
   "cell_type": "code",
   "execution_count": 47,
   "metadata": {},
   "outputs": [],
   "source": [
    "# congruent \n",
    "congb = np.empty((1,7))\n",
    "incongb = np.empty((1,7))\n",
    "unib = np.empty((1,7))\n",
    "\n",
    "for i in np.arange(0, len(trialsb)):\n",
    "    # only consider rows where flashes are presented\n",
    "    if trialsb[i][3] != 0:\n",
    "        # unisensory(beeps presented are 0)\n",
    "        if trialsb[i][4] == 0:\n",
    "            unib = np.vstack((unib, trialsb[i]))\n",
    "        # if congruent between flash and beeps presented\n",
    "        if trialsb[i][3] == trialsb[i][4]:\n",
    "            congb = np.vstack((congb, trialsb[i]))\n",
    "        else:\n",
    "            incongb = np.vstack((incongb, trialsb[i]))\n",
    "congb = congb[1:]\n",
    "incongb = incongb[1:]\n",
    "unib = unib[1:]"
   ]
  },
  {
   "cell_type": "code",
   "execution_count": 48,
   "metadata": {
    "collapsed": true
   },
   "outputs": [],
   "source": [
    "congbdata = pd.DataFrame(congb, columns=['Subj_id', 'rt', 'response', 'flashpres', 'beeppres', 'flashrep', 'beeprep'])\n",
    "incongbdata = pd.DataFrame(incongb, columns=['Subj_id', 'rt', 'response', 'flashpres', 'beeppres', 'flashrep', 'beeprep'])\n",
    "unibdata = pd.DataFrame(unib, columns=['Subj_id', 'rt', 'response', 'flashpres', 'beeppres', 'flashrep', 'beeprep'])"
   ]
  },
  {
   "cell_type": "markdown",
   "metadata": {},
   "source": [
    "### Plot response times for both "
   ]
  },
  {
   "cell_type": "code",
   "execution_count": 64,
   "metadata": {},
   "outputs": [
    {
     "name": "stderr",
     "output_type": "stream",
     "text": [
      "C:\\Anaconda2\\lib\\site-packages\\matplotlib\\figure.py:403: UserWarning: matplotlib is currently using a non-GUI backend, so cannot show the figure\n",
      "  \"matplotlib is currently using a non-GUI backend, \"\n"
     ]
    },
    {
     "data": {
      "text/plain": [
       "\"\\nfig2 = plt.figure()\\nax = fig2.add_subplot(111, xlabel='RT', ylabel='count', title='Beep RT distributions Congruent')\\nfor i, subj_data in congbdata.groupby('Subj_id'):\\n    subj_data.rt.hist(bins=20, histtype='step', ax=ax)\\n    \\nfig3 = plt.figure()\\nax = fig3.add_subplot(111, xlabel='RT', ylabel='count', title='Flash RT distributions Incongruent')\\nfor i, subj_data in incongfdata.groupby('Subj_id'):\\n    subj_data.rt.hist(bins=20, histtype='step', ax=ax)\\n\\nfig4 = plt.figure()\\nax = fig4.add_subplot(111, xlabel='RT', ylabel='count', title='Beep RT distributions Incongruent')\\nfor i, subj_data in incongbdata.groupby('Subj_id'):\\n    subj_data.rt.hist(bins=20, histtype='step', ax=ax)\\n    \\nfig5 = plt.figure()\\nax = fig5.add_subplot(111, xlabel='RT', ylabel='count', title='Flash RT distributions Unisensory')\\nfor i, subj_data in unifdata.groupby('Subj_id'):\\n    subj_data.rt.hist(bins=20, histtype='step', ax=ax)\\n\\nfig6 = plt.figure()\\nax = fig6.add_subplot(111, xlabel='RT', ylabel='count', title='Beep RT distributions Unisensory')\\nfor i, subj_data in unibdata.groupby('Subj_id'):\\n    subj_data.rt.hist(bins=20, histtype='step', ax=ax)\\n\""
      ]
     },
     "execution_count": 64,
     "metadata": {},
     "output_type": "execute_result"
    },
    {
     "data": {
      "image/png": "[encoded data removed]",
      "text/plain": [
       "<matplotlib.figure.Figure at 0xf3a02e8>"
      ]
     },
     "metadata": {},
     "output_type": "display_data"
    }
   ],
   "source": [
    "\n",
    "\n",
    "fig = plt.figure()\n",
    "ax = fig.add_subplot(111, xlabel='RT', ylabel='count', title='Flash RT distributions Congruent')\n",
    "for i, subj_data in congfdata.groupby('Subj_id'):\n",
    "    subj_data.rt.hist(bins=20, histtype='step', ax=ax)\n",
    "fig.show()\n",
    "'''\n",
    "fig2 = plt.figure()\n",
    "ax = fig2.add_subplot(111, xlabel='RT', ylabel='count', title='Beep RT distributions Congruent')\n",
    "for i, subj_data in congbdata.groupby('Subj_id'):\n",
    "    subj_data.rt.hist(bins=20, histtype='step', ax=ax)\n",
    "    \n",
    "fig3 = plt.figure()\n",
    "ax = fig3.add_subplot(111, xlabel='RT', ylabel='count', title='Flash RT distributions Incongruent')\n",
    "for i, subj_data in incongfdata.groupby('Subj_id'):\n",
    "    subj_data.rt.hist(bins=20, histtype='step', ax=ax)\n",
    "\n",
    "fig4 = plt.figure()\n",
    "ax = fig4.add_subplot(111, xlabel='RT', ylabel='count', title='Beep RT distributions Incongruent')\n",
    "for i, subj_data in incongbdata.groupby('Subj_id'):\n",
    "    subj_data.rt.hist(bins=20, histtype='step', ax=ax)\n",
    "    \n",
    "fig5 = plt.figure()\n",
    "ax = fig5.add_subplot(111, xlabel='RT', ylabel='count', title='Flash RT distributions Unisensory')\n",
    "for i, subj_data in unifdata.groupby('Subj_id'):\n",
    "    subj_data.rt.hist(bins=20, histtype='step', ax=ax)\n",
    "\n",
    "fig6 = plt.figure()\n",
    "ax = fig6.add_subplot(111, xlabel='RT', ylabel='count', title='Beep RT distributions Unisensory')\n",
    "for i, subj_data in unibdata.groupby('Subj_id'):\n",
    "    subj_data.rt.hist(bins=20, histtype='step', ax=ax)\n",
    "'''"
   ]
  },
  {
   "cell_type": "code",
   "execution_count": 61,
   "metadata": {},
   "outputs": [],
   "source": [
    "congfdata['response'].value_counts().plot(kind='bar')\n",
    "plt.title(\"Response for congruent flash\")\n",
    "\n",
    "fig = plt.figure()\n",
    "ax = fig.add_subplot(111, xlabel='RT', ylabel='count', title='Flash RT distributions Congruent')\n",
    "for i, subj_data in congfdata.groupby('response'):\n",
    "    subj_data.rt.hist(bins=20, histtype='step', ax=ax)"
   ]
  },
  {
   "cell_type": "code",
   "execution_count": 26,
   "metadata": {},
   "outputs": [
    {
     "data": {
      "image/png": "[encoded data removed]",
      "text/plain": [
       "<Figure size 432x288 with 1 Axes>"
      ]
     },
     "metadata": {
      "needs_background": "light"
     },
     "output_type": "display_data"
    },
    {
     "data": {
      "image/png": "[encoded data removed]",
      "text/plain": [
       "<Figure size 432x288 with 1 Axes>"
      ]
     },
     "metadata": {
      "needs_background": "light"
     },
     "output_type": "display_data"
    }
   ],
   "source": [
    "incongfdata['response'].value_counts().plot(kind='bar')\n",
    "plt.title(\"Response for incongruent flash\")\n",
    "\n",
    "fig = plt.figure()\n",
    "ax = fig.add_subplot(111, xlabel='RT', ylabel='count', title='Flash RT distributions Incongruent')\n",
    "for i, subj_data in incongfdata.groupby('response'):\n",
    "    subj_data.rt.hist(bins=20, histtype='step', ax=ax)"
   ]
  },
  {
   "cell_type": "code",
   "execution_count": 27,
   "metadata": {},
   "outputs": [
    {
     "data": {
      "image/png": "[encoded data removed]",
      "text/plain": [
       "<Figure size 432x288 with 1 Axes>"
      ]
     },
     "metadata": {
      "needs_background": "light"
     },
     "output_type": "display_data"
    },
    {
     "data": {
      "image/png": "[encoded data removed]",
      "text/plain": [
       "<Figure size 432x288 with 1 Axes>"
      ]
     },
     "metadata": {
      "needs_background": "light"
     },
     "output_type": "display_data"
    }
   ],
   "source": [
    "unifdata['response'].value_counts().plot(kind='bar')\n",
    "plt.title(\"Response for unisensory flash\")\n",
    "\n",
    "fig = plt.figure()\n",
    "ax = fig.add_subplot(111, xlabel='RT', ylabel='count', title='Flash RT distributions Unisensory')\n",
    "for i, subj_data in unifdata.groupby('response'):\n",
    "    subj_data.rt.hist(bins=20, histtype='step', ax=ax)"
   ]
  },
  {
   "cell_type": "code",
   "execution_count": null,
   "metadata": {
    "collapsed": true
   },
   "outputs": [],
   "source": []
  }
 ],
 "metadata": {
  "kernelspec": {
   "display_name": "Python 2",
   "language": "python",
   "name": "python2"
  },
  "language_info": {
   "codemirror_mode": {
    "name": "ipython",
    "version": 2
   },
   "file_extension": ".py",
   "mimetype": "text/x-python",
   "name": "python",
   "nbconvert_exporter": "python",
   "pygments_lexer": "ipython2",
   "version": "2.7.13"
  }
 },
 "nbformat": 4,
 "nbformat_minor": 2
}
