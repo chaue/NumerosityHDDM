{
 "cells": [
  {
   "cell_type": "code",
   "execution_count": 3,
   "metadata": {},
   "outputs": [],
   "source": [
    "import scipy.io as sci\n",
    "import numpy as np\n",
    "import glob\n",
    "import pandas as pd\n",
    "import matplotlib.pyplot as plt"
   ]
  },
  {
   "cell_type": "markdown",
   "metadata": {},
   "source": [
    "### Separate based on response (flash first or beep first)"
   ]
  },
  {
   "cell_type": "code",
   "execution_count": 4,
   "metadata": {
    "collapsed": true
   },
   "outputs": [],
   "source": [
    "resppath = 'StabilityofPCommonData/NumerosityTaskUnformatted/*.mat'\n",
    "respfiles = np.array(glob.glob(resppath))\n",
    "datapath = 'StabilityofPCommonData/NumerosityTaskData/*.mat'\n",
    "datafiles = np.array(glob.glob(datapath))"
   ]
  },
  {
   "cell_type": "code",
   "execution_count": 5,
   "metadata": {
    "collapsed": true
   },
   "outputs": [],
   "source": [
    "# filenames for f or b responses\n",
    "respf = np.empty((1, 1))\n",
    "respb = np.empty((1, 1))\n",
    "for names in respfiles:\n",
    "    mat = sci.loadmat(names)\n",
    "    resp = mat['respCode']\n",
    "    if(resp == \"f\"):\n",
    "        respf = np.append(respf, names)\n",
    "    else:\n",
    "        respb = np.append(respb, names)\n",
    "respf = respf[1:]\n",
    "respb = respb[1:]"
   ]
  },
  {
   "cell_type": "code",
   "execution_count": 6,
   "metadata": {
    "collapsed": true
   },
   "outputs": [],
   "source": [
    "# index for flash first files(1 if yes 0 if no) \n",
    "# use for TaskData to pull data for subjects that reported flash first\n",
    "indexf = list()\n",
    "c = 0\n",
    "for x in respfiles:\n",
    "    if x in respf:\n",
    "        indexf.append(c)\n",
    "    c += 1\n",
    "#respfiles[indexf]\n",
    "\n",
    "# exclude files that are incomplete\n",
    "dataf = datafiles[indexf]\n",
    "missing = np.empty((1,1), dtype = int)\n",
    "\n",
    "for i in np.arange(0, len(dataf)):\n",
    "    mat = sci.loadmat(dataf[i])\n",
    "    #print(len(mat['trialData']))\n",
    "    if len(mat['trialData']) < 360:\n",
    "        missing = np.append(missing, i)\n",
    "        #print(len(mat['trialData']), i)\n",
    "missing = missing[1:]\n",
    "indexf = np.delete(indexf, missing)"
   ]
  },
  {
   "cell_type": "markdown",
   "metadata": {},
   "source": [
    "### Extract trial data and response times for flash trials"
   ]
  },
  {
   "cell_type": "code",
   "execution_count": 7,
   "metadata": {},
   "outputs": [
    {
     "name": "stdout",
     "output_type": "stream",
     "text": [
      "14400\n"
     ]
    }
   ],
   "source": [
    "# further subset into flash reported and insert indices for subject id  \n",
    "dataf = datafiles[indexf]\n",
    "\n",
    "subjidf = np.array([2,5,7,7,11,11,12,12,15,15,19,20,20,23,28,31,32,32,35,36,37,37,40,\n",
    "                   40,41,41,42,50,50,53,53,54,54,57,57,60,60,61,61,64])\n",
    "trialsf = np.empty((1,5))\n",
    "for i in np.arange(0, len(dataf)):\n",
    "    mat = sci.loadmat(dataf[i])\n",
    "    arr = mat['trialData']\n",
    "    # add subject id to the first column\n",
    "    arr = np.insert(arr, 0, int(subjidf[i]), axis=1)\n",
    "    trialsf = np.vstack((trialsf, arr))\n",
    "trialsf = trialsf[1:]\n",
    "print(len(trialsf))\n",
    "\n",
    "# add a response column to second column, 1 if correct 0 if wrong\n",
    "respcol = np.empty((1,1))\n",
    "for rows in trialsf:\n",
    "    if rows[1] == rows[3]:\n",
    "        respcol = np.append(respcol, 1)\n",
    "    else:\n",
    "        respcol = np.append(respcol, 0)\n",
    "respcol = respcol[1:]\n",
    "\n",
    "trialsf = np.insert(trialsf, 1, respcol, axis=1)"
   ]
  },
  {
   "cell_type": "code",
   "execution_count": 9,
   "metadata": {},
   "outputs": [
    {
     "name": "stdout",
     "output_type": "stream",
     "text": [
      "14400\n"
     ]
    }
   ],
   "source": [
    "# extract response times from taskunformatted and merge with trialdata\n",
    "resptimes = np.empty((1,1))\n",
    "\n",
    "# only include files that correspond to complete trialData\n",
    "respf = respfiles[indexf]\n",
    "\n",
    "for i in np.arange(0, len(respf)):\n",
    "    mat = sci.loadmat(respf[i])\n",
    "    arr = mat['resptime']\n",
    "    resptimes = np.append(resptimes, arr)\n",
    "resptimes = resptimes[1:]\n",
    "print(len(resptimes))\n",
    "\n",
    "trialsf = pd.DataFrame(np.insert(trialsf, 1, resptimes, axis = 1), \n",
    "                        columns=['Subj_id', 'rt', 'response', 'flashpres', 'beeppres', 'flashrep', 'beeprep'])\n",
    "#trialsf = np.insert(trialsf, 1, resptimes, axis = 1)"
   ]
  },
  {
   "cell_type": "markdown",
   "metadata": {},
   "source": [
    "### Further subset into congruent, incongruent, and unimodal rows"
   ]
  },
  {
   "cell_type": "code",
   "execution_count": 10,
   "metadata": {},
   "outputs": [],
   "source": [
    "congf = trialsf.loc[trialsf['flashpres'] == trialsf['beeppres']]\n",
    "\n",
    "incongf = trialsf.loc[(trialsf['flashpres'] != trialsf['beeppres']) & (trialsf['flashpres'] != 0) & (trialsf['beeppres'] != 0)]\n",
    "\n",
    "unif = trialsf.loc[(trialsf['flashpres'] != 0) & (trialsf['beeppres'] == 0)]"
   ]
  },
  {
   "cell_type": "code",
   "execution_count": 11,
   "metadata": {
    "collapsed": true
   },
   "outputs": [],
   "source": [
    "congfsd = congf['rt'].std()\n",
    "congf = congf.loc[(congf['rt'] <= congfsd*3) & (congf['rt'] > 0)]\n",
    "\n",
    "incongfsd = incongf['rt'].std()\n",
    "incongf = incongf.loc[(incongf['rt'] <= incongfsd*3) & (incongf['rt'] > 0)]\n",
    "\n",
    "unifsd = unif['rt'].std()\n",
    "unif = unif.loc[(unif['rt'] <= unifsd*3) & (unif['rt'] > 0)]"
   ]
  },
  {
   "cell_type": "markdown",
   "metadata": {},
   "source": [
    "##### The formatting for the data to be inputed is as follows:\n",
    "Column 1: Subject ID <br>\n",
    "Column 2: Response Time <br>\n",
    "Column 3: Response  <br>\n",
    "Column 4: Flashes presented <br>\n",
    "Column 5: Beeps presented <br>\n",
    "Column 6: Flashes reported <br>\n",
    "Column 7: Beeps reported <br>"
   ]
  },
  {
   "cell_type": "markdown",
   "metadata": {},
   "source": [
    "### Repeat for beep trials"
   ]
  },
  {
   "cell_type": "code",
   "execution_count": 12,
   "metadata": {
    "collapsed": true
   },
   "outputs": [],
   "source": [
    "# index for flash first files(1 if yes 0 if no) \n",
    "# use for TaskData to pull data for subjects that reported flash first\n",
    "indexb = list()\n",
    "c = 0\n",
    "for x in respfiles:\n",
    "    if x in respb:\n",
    "        indexb.append(c)\n",
    "    c += 1\n",
    "#respfiles[indexf]\n",
    "\n",
    "# exclude files that are incomplete\n",
    "datab = datafiles[indexb]\n",
    "missing = np.empty((1,1), dtype = int)\n",
    "\n",
    "for i in np.arange(0, len(datab)):\n",
    "    mat = sci.loadmat(datab[i])\n",
    "    #print(len(mat['trialData']))\n",
    "    if len(mat['trialData']) < 360:\n",
    "        missing = np.append(missing, i)\n",
    "        #print(len(mat['trialData']), i)\n",
    "missing = missing[1:]\n",
    "indexb = np.delete(indexb, missing)"
   ]
  },
  {
   "cell_type": "code",
   "execution_count": 13,
   "metadata": {},
   "outputs": [
    {
     "name": "stdout",
     "output_type": "stream",
     "text": [
      "14400\n"
     ]
    }
   ],
   "source": [
    "datab = datafiles[indexb]\n",
    "subjidb = np.array([6,6,9,10,10,13,14,14,16,16,21,21,22,25,25,26,26,\n",
    "                    29,30,30,34,36,39,39,42,44,44,47,47,48,48,51,51,59,59,62,62,63,63,64])\n",
    "trialsb = np.empty((1,5))\n",
    "for i in np.arange(0, len(datab)):\n",
    "    mat = sci.loadmat(datab[i])\n",
    "    arr = mat['trialData']\n",
    "    # add subject id to the first column\n",
    "    arr = np.insert(arr, 0, int(subjidb[i]), axis=1)\n",
    "    trialsb = np.vstack((trialsb, arr))\n",
    "trialsb = trialsb[1:]\n",
    "print(len(trialsb))\n",
    "\n",
    "# add a response column to second column, 1 if correct 0 if wrong\n",
    "respcol = np.empty((1,1))\n",
    "for rows in trialsb:\n",
    "    if rows[1] == rows[3]:\n",
    "        respcol = np.append(respcol, 1)\n",
    "    else:\n",
    "        respcol = np.append(respcol, 0)\n",
    "respcol = respcol[1:]\n",
    "\n",
    "trialsb = np.insert(trialsb, 1, respcol, axis=1)"
   ]
  },
  {
   "cell_type": "code",
   "execution_count": 14,
   "metadata": {
    "collapsed": true
   },
   "outputs": [],
   "source": [
    "# extract response times from taskunformatted and merge with trialdata\n",
    "resptimes = np.empty((1,1))\n",
    "\n",
    "# only include files that correspond to complete trialData\n",
    "respb = respfiles[indexb]\n",
    "\n",
    "for i in np.arange(0, len(respb)):\n",
    "    mat = sci.loadmat(respb[i])\n",
    "    arr = mat['resptime']\n",
    "    resptimes = np.append(resptimes, arr)\n",
    "resptimes = resptimes[1:]\n",
    "\n",
    "#trialsb = np.insert(trialsb, 1, resptimes, axis = 1)\n",
    "trialsb = pd.DataFrame(np.insert(trialsb, 1, resptimes, axis = 1), \n",
    "                        columns=['Subj_id', 'rt', 'response', 'flashpres', 'beeppres', 'flashrep', 'beeprep'])"
   ]
  },
  {
   "cell_type": "code",
   "execution_count": 15,
   "metadata": {
    "collapsed": true
   },
   "outputs": [],
   "source": [
    "congb = trialsb.loc[trialsb['flashpres'] == trialsb['beeppres']]\n",
    "\n",
    "incongb = trialsb.loc[(trialsb['flashpres'] != trialsb['beeppres']) & (trialsb['flashpres'] != 0) & (trialsb['beeppres'] != 0)]\n",
    "\n",
    "unib = trialsb.loc[(trialsb['flashpres'] != 0) & (trialsb['beeppres'] == 0)]"
   ]
  },
  {
   "cell_type": "code",
   "execution_count": 16,
   "metadata": {
    "collapsed": true
   },
   "outputs": [],
   "source": [
    "congbsd = congb['rt'].std()\n",
    "congb = congb.loc[(congb['rt'] <= (congbsd*3)) & (congb['rt'] > 0)]\n",
    "#print(congb)\n",
    "\n",
    "incongbsd = incongb['rt'].std()\n",
    "incongb = incongb.loc[(incongb['rt'] <= (incongbsd*3)) & (incongb['rt'] > 0)]\n",
    "#print(incongb)\n",
    "\n",
    "unibsd = unib['rt'].std()\n",
    "unib = unib.loc[(unib['rt'] <= (unibsd*3)) & (unib['rt'] > 0)]\n",
    "#print(unib)"
   ]
  },
  {
   "cell_type": "markdown",
   "metadata": {},
   "source": [
    "### Plot response times for both "
   ]
  },
  {
   "cell_type": "code",
   "execution_count": 17,
   "metadata": {},
   "outputs": [],
   "source": [
    "#test = hddm.utils.flip_errors(congfdata)\n",
    "\n",
    "# compare congruent \n",
    "congfig = plt.figure(figsize=(15, 5))\n",
    "ax = congfig.add_subplot(121, xlabel='RT', ylabel='count', title='Flash RT distributions Congruent')\n",
    "ax.set_xlim([0, 4.5])\n",
    "ax.set_ylim([0, 250])\n",
    "for i, subj_data in congf.groupby('Subj_id'):\n",
    "    subj_data.rt.hist(bins=20, histtype='step', ax=ax)\n",
    "# one row has -1 rt\n",
    "\n",
    "ax = congfig.add_subplot(122, xlabel='RT', ylabel='count', title='Beep RT distributions Congruent')\n",
    "ax.set_xlim([0, 4.5])\n",
    "ax.set_ylim([0, 250])\n",
    "for i, subj_data in congb.groupby('Subj_id'):\n",
    "    subj_data.rt.hist(bins=20, histtype='step', ax=ax)\n",
    "\n",
    "# compare incongruent\n",
    "incongfig = plt.figure(figsize=(15, 5))\n",
    "ax = incongfig.add_subplot(121, xlabel='RT', ylabel='count', title='Flash RT distributions Incongruent')\n",
    "ax.set_xlim([0, 4.5])\n",
    "ax.set_ylim([0, 250])\n",
    "for i, subj_data in incongf.groupby('Subj_id'):\n",
    "    subj_data.rt.hist(bins=20, histtype='step', ax=ax)\n",
    "\n",
    "ax = incongfig.add_subplot(122, xlabel='RT', ylabel='count', title='Beep RT distributions Incongruent')\n",
    "ax.set_xlim([0, 4.5])\n",
    "ax.set_ylim([0, 250])\n",
    "for i, subj_data in incongb.groupby('Subj_id'):\n",
    "    subj_data.rt.hist(bins=20, histtype='step', ax=ax)\n",
    "\n",
    "# compare unisensory \n",
    "unifig = plt.figure(figsize=(15, 5))\n",
    "ax = unifig.add_subplot(121, xlabel='RT', ylabel='count', title='Flash RT distributions Unisensory')\n",
    "ax.set_xlim([0, 4.5])\n",
    "ax.set_ylim([0, 250])\n",
    "for i, subj_data in unif.groupby('Subj_id'):\n",
    "    subj_data.rt.hist(bins=20, histtype='step', ax=ax)\n",
    "\n",
    "ax = unifig.add_subplot(122, xlabel='RT', ylabel='count', title='Beep RT distributions Unisensory')\n",
    "ax.set_xlim([0, 4.5])\n",
    "ax.set_ylim([0, 250])\n",
    "for i, subj_data in unib.groupby('Subj_id'):\n",
    "    subj_data.rt.hist(bins=20, histtype='step', ax=ax)\n"
   ]
  },
  {
   "cell_type": "code",
   "execution_count": 18,
   "metadata": {},
   "outputs": [
    {
     "name": "stdout",
     "output_type": "stream",
     "text": [
      "1.0    1355\n",
      "0.0    1007\n",
      "Name: response, dtype: int64\n"
     ]
    }
   ],
   "source": [
    "print(congf['response'].value_counts())\n",
    "sizes = [congf['response'].value_counts()[0], congf['response'].value_counts()[1]]\n",
    "labels = ['Inaccurate', 'Accurate']\n",
    "\n",
    "fig = plt.figure(figsize=(15, 5))\n",
    "ax = fig.add_subplot(121, title='Proportions of Responses (Flash Congruent)')\n",
    "ax.pie(sizes, labels = labels, autopct='%1.1f%%')\n",
    "ax.axis('equal')\n",
    "\n",
    "ax = fig.add_subplot(122, xlabel='RT', ylabel='count', title='Flash RT distributions Congruent')\n",
    "for i, subj_data in congf.groupby('response'):\n",
    "    subj_data.rt.hist(bins=20, histtype='step', ax=ax)\n",
    "    \n",
    "    \n",
    "#print(incongfdata['response'].value_counts())\n",
    "sizes = [incongf['response'].value_counts()[0], incongf['response'].value_counts()[1]]\n",
    "labels = ['Inaccurate', 'Accurate']\n",
    "\n",
    "fig2 = plt.figure(figsize=(15, 5))\n",
    "ax = fig2.add_subplot(121, title='Proportions of Responses (Flash Incongruent)')\n",
    "ax.pie(sizes, labels = labels, autopct='%1.1f%%')\n",
    "ax.axis('equal')\n",
    "\n",
    "ax = fig2.add_subplot(122, xlabel='RT', ylabel='count', title='Flash RT distributions Incongruent')\n",
    "for i, subj_data in incongf.groupby('response'):\n",
    "    subj_data.rt.hist(bins=20, histtype='step', ax=ax)\n",
    "\n",
    "    \n",
    "#print(unifdata['response'].value_counts())\n",
    "sizes = [unif['response'].value_counts()[0], unif['response'].value_counts()[1]]\n",
    "labels = ['Inaccurate', 'Accurate']\n",
    "\n",
    "fig3 = plt.figure(figsize=(15, 5))\n",
    "ax = fig3.add_subplot(121, title='Proportions of Responses (Flash Unisensory)')\n",
    "ax.pie(sizes, labels = labels, autopct='%1.1f%%')\n",
    "ax.axis('equal')\n",
    "\n",
    "ax = fig3.add_subplot(122, xlabel='RT', ylabel='count', title='Flash RT distributions Unisensory')\n",
    "for i, subj_data in unif.groupby('response'):\n",
    "    subj_data.rt.hist(bins=20, histtype='step', ax=ax)"
   ]
  },
  {
   "cell_type": "code",
   "execution_count": 292,
   "metadata": {},
   "outputs": [
    {
     "name": "stdout",
     "output_type": "stream",
     "text": [
      "1.0    1194\n",
      "0.0    1120\n",
      "Name: response, dtype: int64\n"
     ]
    },
    {
     "data": {
      "image/png": "[encoded data removed]",
      "text/plain": [
       "<Figure size 1080x360 with 2 Axes>"
      ]
     },
     "metadata": {
      "needs_background": "light"
     },
     "output_type": "display_data"
    },
    {
     "data": {
      "image/png": "[encoded data removed]",
      "text/plain": [
       "<Figure size 1080x360 with 2 Axes>"
      ]
     },
     "metadata": {
      "needs_background": "light"
     },
     "output_type": "display_data"
    },
    {
     "data": {
      "image/png": "[encoded data removed]",
      "text/plain": [
       "<Figure size 1080x360 with 2 Axes>"
      ]
     },
     "metadata": {
      "needs_background": "light"
     },
     "output_type": "display_data"
    }
   ],
   "source": [
    "print(congb['response'].value_counts())\n",
    "sizes = [congb['response'].value_counts()[0], congb['response'].value_counts()[1]]\n",
    "labels = ['Inaccurate', 'Accurate']\n",
    "\n",
    "fig4 = plt.figure(figsize=(15, 5))\n",
    "ax = fig4.add_subplot(121, title='Proportions of Responses (Beep Congruent)')\n",
    "ax.pie(sizes, labels = labels, autopct='%1.1f%%')\n",
    "ax.axis('equal')\n",
    "\n",
    "ax = fig4.add_subplot(122, xlabel='RT', ylabel='count', title='Beep RT distributions Congruent')\n",
    "for i, subj_data in congb.groupby('response'):\n",
    "    subj_data.rt.hist(bins=20, histtype='step', ax=ax)\n",
    "\n",
    "    \n",
    "#print(incongbdata['response'].value_counts())\n",
    "sizes = [incongb['response'].value_counts()[0], incongb['response'].value_counts()[1]]\n",
    "labels = ['Inaccurate', 'Accurate']\n",
    "\n",
    "fig5 = plt.figure(figsize=(15, 5))\n",
    "ax = fig5.add_subplot(121, title='Proportions of Responses (Beep Incongruent)')\n",
    "ax.pie(sizes, labels = labels, autopct='%1.1f%%')\n",
    "ax.axis('equal')\n",
    "\n",
    "ax = fig5.add_subplot(122, xlabel='RT', ylabel='count', title='Beep RT distributions Incongruent')\n",
    "for i, subj_data in incongb.groupby('response'):\n",
    "    subj_data.rt.hist(bins=20, histtype='step', ax=ax)\n",
    "    \n",
    "    \n",
    "#print(unibdata['response'].value_counts())\n",
    "sizes = [unib['response'].value_counts()[0], unib['response'].value_counts()[1]]\n",
    "labels = ['Inaccurate', 'Accurate']\n",
    "\n",
    "fig6 = plt.figure(figsize=(15, 5))\n",
    "ax = fig6.add_subplot(121, title='Proportions of Responses (Beep Unisensory)')\n",
    "ax.pie(sizes, labels = labels, autopct='%1.1f%%')\n",
    "ax.axis('equal')\n",
    "\n",
    "ax = fig6.add_subplot(122, xlabel='RT', ylabel='count', title='Beep RT distributions Unisensory')\n",
    "for i, subj_data in unib.groupby('response'):\n",
    "    subj_data.rt.hist(bins=20, histtype='step', ax=ax)"
   ]
  },
  {
   "cell_type": "markdown",
   "metadata": {},
   "source": [
    "### Compare large and small incongruencies"
   ]
  },
  {
   "cell_type": "code",
   "execution_count": 29,
   "metadata": {},
   "outputs": [
    {
     "name": "stdout",
     "output_type": "stream",
     "text": [
      "       Subj_id         rt  response  flashpres  beeppres  flashrep  beeprep\n",
      "54         6.0   0.192688       1.0        1.0       4.0       1.0      3.0\n",
      "57         6.0   0.280526       1.0        1.0       4.0       1.0      3.0\n",
      "64         6.0   0.268792       1.0        1.0       4.0       1.0      3.0\n",
      "89         6.0   0.238427       1.0        1.0       4.0       1.0      3.0\n",
      "101        6.0   0.193193       1.0        1.0       4.0       1.0      3.0\n",
      "108        6.0   0.067491       1.0        1.0       4.0       1.0      3.0\n",
      "110        6.0   0.224967       1.0        1.0       4.0       1.0      3.0\n",
      "132        6.0   0.326779       1.0        1.0       4.0       1.0      3.0\n",
      "189        6.0   0.232187       0.0        1.0       4.0       2.0      3.0\n",
      "238        6.0   0.083278       1.0        1.0       4.0       1.0      3.0\n",
      "243        6.0   0.244926       1.0        1.0       4.0       1.0      3.0\n",
      "326        6.0   0.162232       1.0        1.0       4.0       1.0      3.0\n",
      "329        6.0   0.020168       1.0        1.0       4.0       1.0      3.0\n",
      "348        6.0   0.228071       1.0        1.0       4.0       1.0      3.0\n",
      "352        6.0   0.196784       1.0        1.0       4.0       1.0      3.0\n",
      "419        6.0   1.090017       1.0        1.0       4.0       1.0      4.0\n",
      "426        6.0   0.193036       1.0        1.0       4.0       1.0      3.0\n",
      "448        6.0   0.265146       1.0        1.0       4.0       1.0      4.0\n",
      "459        6.0   0.253308       1.0        1.0       4.0       1.0      4.0\n",
      "465        6.0   0.096449       1.0        1.0       4.0       1.0      4.0\n",
      "467        6.0   0.017339       1.0        1.0       4.0       1.0      4.0\n",
      "489        6.0   0.004708       1.0        1.0       4.0       1.0      4.0\n",
      "542        6.0   0.190458       1.0        1.0       4.0       1.0      4.0\n",
      "589        6.0   0.087294       1.0        1.0       4.0       1.0      4.0\n",
      "593        6.0   0.083755       1.0        1.0       4.0       1.0      4.0\n",
      "678        6.0   0.055818       1.0        1.0       4.0       1.0      4.0\n",
      "681        6.0   0.089158       1.0        1.0       4.0       1.0      4.0\n",
      "704        6.0   0.019950       1.0        1.0       4.0       1.0      4.0\n",
      "707        6.0   0.075472       1.0        1.0       4.0       1.0      4.0\n",
      "713        6.0   0.244803       1.0        1.0       4.0       1.0      4.0\n",
      "...        ...        ...       ...        ...       ...       ...      ...\n",
      "13713     63.0   0.633927       0.0        4.0       1.0       2.0      1.0\n",
      "13725     63.0   0.318574       0.0        4.0       1.0       3.0      1.0\n",
      "13728     63.0   0.200759       0.0        4.0       1.0       3.0      1.0\n",
      "13741     63.0   0.962566       0.0        4.0       1.0       3.0      2.0\n",
      "13755     63.0   0.345220       0.0        4.0       1.0       3.0      1.0\n",
      "13775     63.0   0.245045       0.0        4.0       1.0       3.0      1.0\n",
      "13793     63.0   0.275218       0.0        4.0       1.0       3.0      1.0\n",
      "13819     63.0   0.393861       0.0        4.0       1.0       3.0      1.0\n",
      "13863     63.0   0.268059       0.0        4.0       1.0       3.0      1.0\n",
      "13890     63.0   0.184698       0.0        4.0       1.0       3.0      1.0\n",
      "13915     63.0   0.201155       0.0        4.0       1.0       3.0      1.0\n",
      "13927     63.0   0.208505       0.0        4.0       1.0       3.0      1.0\n",
      "13954     63.0   0.185615       0.0        4.0       1.0       3.0      1.0\n",
      "13981     63.0   0.090642       0.0        4.0       1.0       3.0      1.0\n",
      "14027     63.0   0.004087       0.0        4.0       1.0       3.0      1.0\n",
      "14046     64.0   0.306568       0.0        4.0       1.0       3.0      1.0\n",
      "14089     64.0   0.282843       0.0        4.0       1.0       3.0      1.0\n",
      "14150     64.0   0.260208       0.0        4.0       1.0       3.0      1.0\n",
      "14160     64.0   0.465465       0.0        4.0       1.0       3.0      1.0\n",
      "14170     64.0   0.151581       0.0        4.0       1.0       2.0      1.0\n",
      "14231     64.0   0.275818       0.0        4.0       1.0       3.0      1.0\n",
      "14253     64.0   0.315288       0.0        4.0       1.0       2.0      1.0\n",
      "14261     64.0   0.381256       0.0        4.0       1.0       2.0      2.0\n",
      "14276     64.0   0.012041       0.0        4.0       1.0       3.0      1.0\n",
      "14290     64.0   0.145873       0.0        4.0       1.0       2.0      1.0\n",
      "14303     64.0   2.749921       0.0        4.0       1.0       1.0      1.0\n",
      "14327     64.0   0.023840       0.0        4.0       1.0       3.0      1.0\n",
      "14341     64.0   0.076324       0.0        4.0       1.0       2.0      1.0\n",
      "14342     64.0   0.673639       0.0        4.0       1.0       2.0      1.0\n",
      "14344     64.0  10.193546       0.0        4.0       1.0       2.0      1.0\n",
      "\n",
      "[1200 rows x 7 columns]\n"
     ]
    }
   ],
   "source": [
    "smallincf = trialsf.loc[((trialsf['flashpres'] == 1) & (trialsf['beeppres'] == 2))]\n",
    "smallincf = smallincf.append(trialsf.loc[((trialsf['flashpres'] == 2) & (trialsf['beeppres'] == 1))])\n",
    "\n",
    "largeincf = trialsf.loc[(trialsf['flashpres'] == 1) & (trialsf['beeppres'] == 4)]\n",
    "largeincf = largeincf.append(trialsf.loc[((trialsf['flashpres'] == 4) & (trialsf['beeppres'] == 1))])\n",
    "\n",
    "smallincb = trialsb.loc[(trialsb['flashpres'] == 1) & (trialsb['beeppres'] == 2)]\n",
    "smallincb = smallincb.append(trialsb.loc[((trialsb['flashpres'] == 2) & (trialsb['beeppres'] == 1))])\n",
    "\n",
    "largeincb = trialsb.loc[(trialsf['flashpres'] == 1) & (trialsf['beeppres'] == 4)]\n",
    "largeincb = largeincb.append(trialsb.loc[((trialsb['flashpres'] == 4) & (trialsb['beeppres'] == 1))])\n",
    "# 1200 rows each"
   ]
  }
 ],
 "metadata": {
  "kernelspec": {
   "display_name": "Python 2",
   "language": "python",
   "name": "python2"
  },
  "language_info": {
   "codemirror_mode": {
    "name": "ipython",
    "version": 2
   },
   "file_extension": ".py",
   "mimetype": "text/x-python",
   "name": "python",
   "nbconvert_exporter": "python",
   "pygments_lexer": "ipython2",
   "version": "2.7.13"
  }
 },
 "nbformat": 4,
 "nbformat_minor": 2
}
