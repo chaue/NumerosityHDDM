{
 "cells": [
  {
   "cell_type": "code",
   "execution_count": 2,
   "metadata": {},
   "outputs": [],
   "source": [
    "import numpy as np\n",
    "import matplotlib.pyplot as plt"
   ]
  },
  {
   "cell_type": "code",
   "execution_count": 3,
   "metadata": {},
   "outputs": [
    {
     "data": {
      "image/png": "[encoded data removed]",
      "text/plain": [
       "<Figure size 432x288 with 1 Axes>"
      ]
     },
     "metadata": {
      "needs_background": "light"
     },
     "output_type": "display_data"
    }
   ],
   "source": [
    "np.random.seed(32)\n",
    "num1 = np.zeros(200)\n",
    "num2 = np.zeros(200)\n",
    "for i in range(1, 200):\n",
    "    if np.random.rand(1) > 0.35:\n",
    "        if num1[i-1] < 50:\n",
    "            num1[i] = num1[i-1] + 4*np.random.rand(1)\n",
    "    else:\n",
    "        if num1[i-1] < 50:\n",
    "            num1[i] = num1[i-1] - 5*np.random.rand(1)\n",
    "    if np.random.rand(1) > 0.35:\n",
    "        if num2[i-1] < 50:\n",
    "            num2[i] = num2[i-1] + 4*np.random.rand(1)\n",
    "    else:\n",
    "        if num2[i-1] < 50:\n",
    "            num2[i] = num2[i-1] - 5*np.random.rand(1)\n",
    "num1 = num1[1:]\n",
    "num2 = num2[1:]\n",
    "if 0 in num1:\n",
    "    num1 = num1[0:np.where(num1 == 0)[0][0]]\n",
    "if 0 in num2:\n",
    "    num2 = num2[0:np.where(num2 == 0)[0][0]]\n",
    "num1 = np.append(np.zeros(15), num1)\n",
    "num2 = np.append(np.zeros(15), num2)\n",
    "\n",
    "fig, ax = plt.subplots()\n",
    "ax.plot(num1)\n",
    "ax.plot(num2)\n",
    "ax.set_yticks([-50,0,50])\n",
    "ax.set_xticks([])\n",
    "ax.set_ylim([-50,50])\n",
    "labels = [item.get_text() for item in ax.get_yticklabels()]\n",
    "labels[0] = '0'\n",
    "labels[1] = 'z'\n",
    "labels[2] = 'a'\n",
    "ax.set_yticklabels(labels)\n",
    "\n",
    "plt.text(5, 5, r'$t$', fontsize=11)\n",
    "plt.text(75, 43, r'$v_1$', fontsize=11)\n",
    "plt.text(153, 43, r'$v_2$', fontsize=11)\n",
    "plt.savefig('fig1.png', dpi = 250)\n",
    "plt.show()\n"
   ]
  }
 ],
 "metadata": {
  "kernelspec": {
   "display_name": "Python 3",
   "language": "python",
   "name": "python3"
  },
  "language_info": {
   "codemirror_mode": {
    "name": "ipython",
    "version": 3
   },
   "file_extension": ".py",
   "mimetype": "text/x-python",
   "name": "python",
   "nbconvert_exporter": "python",
   "pygments_lexer": "ipython3",
   "version": "3.8.5"
  }
 },
 "nbformat": 4,
 "nbformat_minor": 2
}
